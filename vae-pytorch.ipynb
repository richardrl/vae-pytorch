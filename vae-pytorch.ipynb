{
 "cells": [
  {
   "cell_type": "code",
   "execution_count": 49,
   "metadata": {},
   "outputs": [
    {
     "name": "stdout",
     "output_type": "stream",
     "text": [
      "Populating the interactive namespace from numpy and matplotlib\n"
     ]
    }
   ],
   "source": [
    "import torch\n",
    "import inspect\n",
    "import torch.optim as optim\n",
    "import torch.utils.data\n",
    "import torch.nn as nn\n",
    "import torch.nn.functional as F\n",
    "import torch.nn.modules.activation as A\n",
    "from tqdm import tqdm\n",
    "%pylab inline\n",
    "import torchvision\n",
    "import torchvision.transforms as transforms\n",
    "from livelossplot import PlotLosses\n",
    "import os, errno\n",
    "from torch.distributions.multivariate_normal import MultivariateNormal"
   ]
  },
  {
   "cell_type": "code",
   "execution_count": 56,
   "metadata": {
    "collapsed": true
   },
   "outputs": [],
   "source": [
    "mnist_data = torchvision.datasets.MNIST('../datasets/mnist', download=True, train=True,\n",
    "                                           transform=transforms.Compose([\n",
    "                           transforms.ToTensor(),\n",
    "#                            transforms.Normalize((0.1307,), (0.3081,))\n",
    "                       ]))\n",
    "mnist_loader = torch.utils.data.DataLoader(mnist_data, batch_size=32, shuffle=True)"
   ]
  },
  {
   "cell_type": "code",
   "execution_count": 51,
   "metadata": {
    "collapsed": true
   },
   "outputs": [],
   "source": [
    "# list(mnist_loader)[0][0][0]"
   ]
  },
  {
   "cell_type": "code",
   "execution_count": 52,
   "metadata": {
    "collapsed": true
   },
   "outputs": [],
   "source": [
    "class Encoder(nn.Module): \n",
    "    def __init__(self, nz=100):\n",
    "        \"\"\"\n",
    "        Encoder(z|X) = Q(z|X) = N(z|mu(X;theta), Sigma(X;theta))\n",
    "        \"\"\"\n",
    "        super(Encoder, self).__init__()\n",
    "        self.fc1 = nn.Linear(784, 400)\n",
    "        self.fc21 = nn.Linear(400, nz)\n",
    "        self.fc22 = nn.Linear(400, nz)\n",
    "        \n",
    "    def forward(self, X):\n",
    "        \"\"\"\n",
    "        Input \n",
    "        - X: datapoint\n",
    "        \n",
    "        Output\n",
    "        - mu_z(X): means. Shape: [nz, 1]\n",
    "        - Sigma_z(X): variances. Shape: [nz, 1]\n",
    "        \"\"\"\n",
    "        X = self.fc1(X)\n",
    "        X = F.relu(X)\n",
    "        return self.fc21(X), self.fc22(X)\n",
    "     \n",
    "class Decoder(nn.Module):\n",
    "    def __init__(self, nz=100):\n",
    "        \"\"\"\n",
    "        P(X|z;theta) = N(X|f(z;theta), sigma^2 * I)\n",
    "        \"\"\"\n",
    "        super(Decoder, self).__init__()\n",
    "        self.fc1 = nn.Linear(nz, 400)\n",
    "        self.fc2 = nn.Linear(400, 784)\n",
    "        \n",
    "    def forward(self, z):\n",
    "        \"\"\"\n",
    "        Input\n",
    "        - z: noise\n",
    "        \n",
    "        Output:\n",
    "        - mu_X(z): mean of gaussian X. Shape: [flatten(X), 1]\n",
    "        \"\"\"\n",
    "        z = self.fc1(z)\n",
    "        z = F.relu(z)\n",
    "        z = self.fc2(z)\n",
    "        return F.sigmoid(z)"
   ]
  },
  {
   "cell_type": "code",
   "execution_count": 53,
   "metadata": {
    "collapsed": true
   },
   "outputs": [],
   "source": [
    "Q = Encoder(nz=20)\n",
    "D = Decoder(nz=20)\n",
    "\n",
    "# def KL_divergence_gaussians(noise_mus, variance):\n",
    "#     \"\"\"\n",
    "#     From Appendix B: https://arxiv.org/pdf/1312.6114.pdf\n",
    "#     \"\"\"    \n",
    "# #     Q_z_X = torch.distributions.multivariate_normal.MultivariateNormal(\n",
    "# #     loc, covariance_matrix=None)\n",
    "# #     P_z = torch.distributions.multivariate_normal.MultivariateNormal(\n",
    "# #     torch.zeros(), covariance_matrix=torch.eye())\n",
    "# #     Q_loss = torch.distributions.kl.kl_divergence(Q_z_X, P_z)\n",
    "\n",
    "#     return .5 * torch.sum(1 + torch.log(variance) - noise_mus**2 - variance)\n",
    "\n",
    "def KL_divergence_gaussians(mu, logvar):\n",
    "    return -.5 * torch.sum(1 + logvar - mu**2 - logvar.exp())\n",
    "\n",
    "# def sample_noise(mu, logvar):\n",
    "#     # Sample noise from Q(z|X) in a differentiable way using the reparameterization trick\n",
    "#     eps = torch.randn_like(mu)\n",
    "#     prod = logvar * eps\n",
    "#     import ipdb; ipdb.set_trace()\n",
    "#     return prod+z_mus\n",
    "\n",
    "def sample_noise(mu, logvar):\n",
    "    std = torch.exp(0.5*logvar)\n",
    "    eps = torch.randn_like(std)\n",
    "    return eps.mul(std).add_(mu)"
   ]
  },
  {
   "cell_type": "code",
   "execution_count": 59,
   "metadata": {},
   "outputs": [
    {
     "name": "stderr",
     "output_type": "stream",
     "text": [
      "\n",
      "\n",
      "\n",
      "0it [00:00, ?it/s]\u001b[A\u001b[A\u001b[A/Users/richard/anaconda3/lib/python3.6/site-packages/torch/nn/functional.py:1006: UserWarning: nn.functional.sigmoid is deprecated. Use torch.sigmoid instead.\n",
      "  warnings.warn(\"nn.functional.sigmoid is deprecated. Use torch.sigmoid instead.\")\n",
      "\n",
      "\n",
      "\n",
      "4it [00:00, 38.46it/s]\u001b[A\u001b[A\u001b[A"
     ]
    },
    {
     "name": "stdout",
     "output_type": "stream",
     "text": [
      "BCE tensor(6905.5933, grad_fn=<BinaryCrossEntropyBackward>)\n",
      "KLD tensor(0.0028, grad_fn=<MulBackward>)\n",
      "BCE tensor(6517.7612, grad_fn=<BinaryCrossEntropyBackward>)\n",
      "KLD tensor(0.0373, grad_fn=<MulBackward>)\n",
      "BCE tensor(6483.2476, grad_fn=<BinaryCrossEntropyBackward>)\n",
      "KLD tensor(0.1003, grad_fn=<MulBackward>)\n",
      "BCE tensor(6508.4346, grad_fn=<BinaryCrossEntropyBackward>)\n",
      "KLD tensor(0.1611, grad_fn=<MulBackward>)\n",
      "BCE tensor(7089.4214, grad_fn=<BinaryCrossEntropyBackward>)\n",
      "KLD tensor(0.2875, grad_fn=<MulBackward>)\n",
      "BCE tensor(6949.4487, grad_fn=<BinaryCrossEntropyBackward>)\n",
      "KLD tensor(0.3812, grad_fn=<MulBackward>)\n",
      "BCE tensor(6698.4756, grad_fn=<BinaryCrossEntropyBackward>)\n",
      "KLD tensor(0.4388, grad_fn=<MulBackward>)\n",
      "BCE tensor(6815.4224, grad_fn=<BinaryCrossEntropyBackward>)\n",
      "KLD tensor(0.6460, grad_fn=<MulBackward>)\n",
      "BCE tensor(6478.4331, grad_fn=<BinaryCrossEntropyBackward>)\n",
      "KLD tensor(0.7024, grad_fn=<MulBackward>)\n",
      "BCE tensor(6552.4458, grad_fn=<BinaryCrossEntropyBackward>)\n",
      "KLD tensor(0.8607, grad_fn=<MulBackward>)\n",
      "BCE tensor(7018.4810, grad_fn=<BinaryCrossEntropyBackward>)\n",
      "KLD tensor(1.1301, grad_fn=<MulBackward>)\n"
     ]
    },
    {
     "name": "stderr",
     "output_type": "stream",
     "text": [
      "\n",
      "\n",
      "\n",
      "11it [00:00, 50.79it/s]\u001b[A\u001b[A\u001b[A\n",
      "\n",
      "\n",
      "18it [00:00, 55.35it/s]\u001b[A\u001b[A\u001b[A"
     ]
    },
    {
     "name": "stdout",
     "output_type": "stream",
     "text": [
      "BCE tensor(6605.0298, grad_fn=<BinaryCrossEntropyBackward>)\n",
      "KLD tensor(1.3223, grad_fn=<MulBackward>)\n",
      "BCE tensor(6517.7393, grad_fn=<BinaryCrossEntropyBackward>)\n",
      "KLD tensor(1.0386, grad_fn=<MulBackward>)\n",
      "BCE tensor(6925.5898, grad_fn=<BinaryCrossEntropyBackward>)\n",
      "KLD tensor(1.5842, grad_fn=<MulBackward>)\n",
      "BCE tensor(6726.3916, grad_fn=<BinaryCrossEntropyBackward>)\n",
      "KLD tensor(1.8012, grad_fn=<MulBackward>)\n",
      "BCE tensor(6626.8843, grad_fn=<BinaryCrossEntropyBackward>)\n",
      "KLD tensor(1.7981, grad_fn=<MulBackward>)\n",
      "BCE tensor(6762.2432, grad_fn=<BinaryCrossEntropyBackward>)\n",
      "KLD tensor(1.7942, grad_fn=<MulBackward>)\n",
      "BCE tensor(6267.3882, grad_fn=<BinaryCrossEntropyBackward>)\n",
      "KLD tensor(1.5961, grad_fn=<MulBackward>)\n",
      "BCE tensor(6703.0938, grad_fn=<BinaryCrossEntropyBackward>)\n",
      "KLD tensor(2.1999, grad_fn=<MulBackward>)\n",
      "BCE tensor(6198.6675, grad_fn=<BinaryCrossEntropyBackward>)\n",
      "KLD tensor(1.9556, grad_fn=<MulBackward>)\n",
      "BCE tensor(6556.8169, grad_fn=<BinaryCrossEntropyBackward>)\n",
      "KLD tensor(1.9602, grad_fn=<MulBackward>)\n",
      "BCE tensor(6264.2368, grad_fn=<BinaryCrossEntropyBackward>)\n",
      "KLD tensor(1.8823, grad_fn=<MulBackward>)\n",
      "BCE tensor(6745.5903, grad_fn=<BinaryCrossEntropyBackward>)\n",
      "KLD tensor(2.6003, grad_fn=<MulBackward>)\n"
     ]
    },
    {
     "name": "stderr",
     "output_type": "stream",
     "text": [
      "\n",
      "\n",
      "\n",
      "23it [00:00, 53.18it/s]\u001b[A\u001b[A\u001b[A\n",
      "\n",
      "\n",
      "28it [00:00, 51.32it/s]\u001b[A\u001b[A\u001b[A"
     ]
    },
    {
     "name": "stdout",
     "output_type": "stream",
     "text": [
      "BCE tensor(6367.2529, grad_fn=<BinaryCrossEntropyBackward>)\n",
      "KLD tensor(2.2834, grad_fn=<MulBackward>)\n",
      "BCE tensor(6875.6943, grad_fn=<BinaryCrossEntropyBackward>)\n",
      "KLD tensor(3.0152, grad_fn=<MulBackward>)\n",
      "BCE tensor(6896.6606, grad_fn=<BinaryCrossEntropyBackward>)\n",
      "KLD tensor(2.9534, grad_fn=<MulBackward>)\n",
      "BCE tensor(6340.9663, grad_fn=<BinaryCrossEntropyBackward>)\n",
      "KLD tensor(2.2932, grad_fn=<MulBackward>)\n",
      "BCE tensor(6706.7256, grad_fn=<BinaryCrossEntropyBackward>)\n",
      "KLD tensor(2.9077, grad_fn=<MulBackward>)\n",
      "BCE tensor(6398.3271, grad_fn=<BinaryCrossEntropyBackward>)\n",
      "KLD tensor(2.7472, grad_fn=<MulBackward>)\n",
      "BCE tensor(6508.1797, grad_fn=<BinaryCrossEntropyBackward>)\n",
      "KLD tensor(3.0019, grad_fn=<MulBackward>)\n",
      "BCE tensor(6517.7920, grad_fn=<BinaryCrossEntropyBackward>)\n",
      "KLD tensor(2.9872, grad_fn=<MulBackward>)\n",
      "BCE tensor(6206.5176, grad_fn=<BinaryCrossEntropyBackward>)\n",
      "KLD tensor(3.1376, grad_fn=<MulBackward>)\n",
      "BCE tensor(6513.5103, grad_fn=<BinaryCrossEntropyBackward>)\n",
      "KLD tensor(3.4803, grad_fn=<MulBackward>)\n",
      "BCE tensor(6404.0405, grad_fn=<BinaryCrossEntropyBackward>)\n",
      "KLD tensor(4.0976, grad_fn=<MulBackward>)\n"
     ]
    },
    {
     "name": "stderr",
     "output_type": "stream",
     "text": [
      "\n",
      "\n",
      "\n",
      "34it [00:00, 52.19it/s]\u001b[A\u001b[A\u001b[A\n",
      "\n",
      "\n",
      "41it [00:00, 53.73it/s]\u001b[A\u001b[A\u001b[A"
     ]
    },
    {
     "name": "stdout",
     "output_type": "stream",
     "text": [
      "BCE tensor(6793.2144, grad_fn=<BinaryCrossEntropyBackward>)\n",
      "KLD tensor(4.8765, grad_fn=<MulBackward>)\n",
      "BCE tensor(6397.3608, grad_fn=<BinaryCrossEntropyBackward>)\n",
      "KLD tensor(4.5102, grad_fn=<MulBackward>)\n",
      "BCE tensor(5955.2036, grad_fn=<BinaryCrossEntropyBackward>)\n",
      "KLD tensor(3.2900, grad_fn=<MulBackward>)\n",
      "BCE tensor(6799.7393, grad_fn=<BinaryCrossEntropyBackward>)\n",
      "KLD tensor(5.8178, grad_fn=<MulBackward>)\n",
      "BCE tensor(7168.5410, grad_fn=<BinaryCrossEntropyBackward>)\n",
      "KLD tensor(8.4485, grad_fn=<MulBackward>)\n",
      "BCE tensor(6592.2437, grad_fn=<BinaryCrossEntropyBackward>)\n",
      "KLD tensor(7.2707, grad_fn=<MulBackward>)\n",
      "BCE tensor(6865.2485, grad_fn=<BinaryCrossEntropyBackward>)\n",
      "KLD tensor(7.5217, grad_fn=<MulBackward>)\n",
      "BCE tensor(6404.4834, grad_fn=<BinaryCrossEntropyBackward>)\n",
      "KLD tensor(8.3118, grad_fn=<MulBackward>)\n",
      "BCE tensor(6286.7275, grad_fn=<BinaryCrossEntropyBackward>)\n",
      "KLD tensor(7.8988, grad_fn=<MulBackward>)\n",
      "BCE tensor(6132.0430, grad_fn=<BinaryCrossEntropyBackward>)\n",
      "KLD tensor(9.5126, grad_fn=<MulBackward>)\n",
      "BCE tensor(6709.0205, grad_fn=<BinaryCrossEntropyBackward>)\n",
      "KLD tensor(11.2116, grad_fn=<MulBackward>)\n",
      "BCE tensor(6548.8555, grad_fn=<BinaryCrossEntropyBackward>)\n",
      "KLD tensor(10.8307, grad_fn=<MulBackward>)\n",
      "BCE tensor(6682.5415, grad_fn=<BinaryCrossEntropyBackward>)\n",
      "KLD tensor(12.3499, grad_fn=<MulBackward>)\n"
     ]
    },
    {
     "name": "stderr",
     "output_type": "stream",
     "text": [
      "\n",
      "\n",
      "\n",
      "48it [00:00, 55.05it/s]\u001b[A\u001b[A\u001b[A\n",
      "\n",
      "\n",
      "54it [00:00, 55.40it/s]\u001b[A\u001b[A\u001b[A"
     ]
    },
    {
     "name": "stdout",
     "output_type": "stream",
     "text": [
      "BCE tensor(6255.5356, grad_fn=<BinaryCrossEntropyBackward>)\n",
      "KLD tensor(14.4144, grad_fn=<MulBackward>)\n",
      "BCE tensor(6949.3545, grad_fn=<BinaryCrossEntropyBackward>)\n",
      "KLD tensor(18.1134, grad_fn=<MulBackward>)\n",
      "BCE tensor(6932.6865, grad_fn=<BinaryCrossEntropyBackward>)\n",
      "KLD tensor(22.9259, grad_fn=<MulBackward>)\n",
      "BCE tensor(6867.9790, grad_fn=<BinaryCrossEntropyBackward>)\n",
      "KLD tensor(22.0361, grad_fn=<MulBackward>)\n",
      "BCE tensor(6689.6992, grad_fn=<BinaryCrossEntropyBackward>)\n",
      "KLD tensor(22.9066, grad_fn=<MulBackward>)\n",
      "BCE tensor(6519.5811, grad_fn=<BinaryCrossEntropyBackward>)\n",
      "KLD tensor(27.9114, grad_fn=<MulBackward>)\n",
      "BCE tensor(6716.5615, grad_fn=<BinaryCrossEntropyBackward>)\n",
      "KLD tensor(23.3429, grad_fn=<MulBackward>)\n",
      "BCE tensor(7014.3286, grad_fn=<BinaryCrossEntropyBackward>)\n",
      "KLD tensor(35.8911, grad_fn=<MulBackward>)\n",
      "BCE tensor(6352.8789, grad_fn=<BinaryCrossEntropyBackward>)\n",
      "KLD tensor(36.4545, grad_fn=<MulBackward>)\n",
      "BCE tensor(6889.1064, grad_fn=<BinaryCrossEntropyBackward>)\n",
      "KLD tensor(28.0038, grad_fn=<MulBackward>)\n",
      "BCE tensor(6426.6816, grad_fn=<BinaryCrossEntropyBackward>)\n",
      "KLD tensor(43.5518, grad_fn=<MulBackward>)\n",
      "BCE tensor(6235.4355, grad_fn=<BinaryCrossEntropyBackward>)\n",
      "KLD tensor(46.9281, grad_fn=<MulBackward>)\n",
      "BCE tensor(6301.5522, grad_fn=<BinaryCrossEntropyBackward>)\n",
      "KLD tensor(50.7238, grad_fn=<MulBackward>)\n"
     ]
    },
    {
     "name": "stderr",
     "output_type": "stream",
     "text": [
      "\n",
      "\n",
      "\n",
      "61it [00:01, 56.01it/s]\u001b[A\u001b[A\u001b[A\n",
      "\n",
      "\n",
      "68it [00:01, 56.67it/s]\u001b[A\u001b[A\u001b[A"
     ]
    },
    {
     "name": "stdout",
     "output_type": "stream",
     "text": [
      "BCE tensor(5859.7417, grad_fn=<BinaryCrossEntropyBackward>)\n",
      "KLD tensor(56.1043, grad_fn=<MulBackward>)\n",
      "BCE tensor(6365.0024, grad_fn=<BinaryCrossEntropyBackward>)\n",
      "KLD tensor(72.5929, grad_fn=<MulBackward>)\n",
      "BCE tensor(6337.9575, grad_fn=<BinaryCrossEntropyBackward>)\n",
      "KLD tensor(75.0801, grad_fn=<MulBackward>)\n",
      "BCE tensor(6474.7754, grad_fn=<BinaryCrossEntropyBackward>)\n",
      "KLD tensor(60.5495, grad_fn=<MulBackward>)\n",
      "BCE tensor(6200.4497, grad_fn=<BinaryCrossEntropyBackward>)\n",
      "KLD tensor(95.8816, grad_fn=<MulBackward>)\n",
      "BCE tensor(6328.1274, grad_fn=<BinaryCrossEntropyBackward>)\n",
      "KLD tensor(62.0843, grad_fn=<MulBackward>)\n",
      "BCE tensor(6034.1387, grad_fn=<BinaryCrossEntropyBackward>)\n",
      "KLD tensor(73.9855, grad_fn=<MulBackward>)\n",
      "BCE tensor(6027.5215, grad_fn=<BinaryCrossEntropyBackward>)\n",
      "KLD tensor(123.5926, grad_fn=<MulBackward>)\n",
      "BCE tensor(5881.8184, grad_fn=<BinaryCrossEntropyBackward>)\n",
      "KLD tensor(114.8422, grad_fn=<MulBackward>)\n",
      "BCE tensor(6517.3638, grad_fn=<BinaryCrossEntropyBackward>)\n",
      "KLD tensor(103.3138, grad_fn=<MulBackward>)\n",
      "BCE tensor(6379.1362, grad_fn=<BinaryCrossEntropyBackward>)\n",
      "KLD tensor(87.5067, grad_fn=<MulBackward>)\n",
      "BCE tensor(6208.3501, grad_fn=<BinaryCrossEntropyBackward>)\n",
      "KLD tensor(108.8025, grad_fn=<MulBackward>)\n"
     ]
    },
    {
     "name": "stderr",
     "output_type": "stream",
     "text": [
      "\n",
      "\n",
      "\n",
      "74it [00:01, 55.84it/s]\u001b[A\u001b[A\u001b[A\n",
      "\n",
      "\n",
      "80it [00:01, 55.25it/s]\u001b[A\u001b[A\u001b[A"
     ]
    },
    {
     "name": "stdout",
     "output_type": "stream",
     "text": [
      "BCE tensor(6312.9053, grad_fn=<BinaryCrossEntropyBackward>)\n",
      "KLD tensor(80.7124, grad_fn=<MulBackward>)\n",
      "BCE tensor(6109.5903, grad_fn=<BinaryCrossEntropyBackward>)\n",
      "KLD tensor(92.9451, grad_fn=<MulBackward>)\n",
      "BCE tensor(6080.2065, grad_fn=<BinaryCrossEntropyBackward>)\n",
      "KLD tensor(138.4232, grad_fn=<MulBackward>)\n",
      "BCE tensor(6157.2461, grad_fn=<BinaryCrossEntropyBackward>)\n",
      "KLD tensor(140.7436, grad_fn=<MulBackward>)\n",
      "BCE tensor(6261.8799, grad_fn=<BinaryCrossEntropyBackward>)\n",
      "KLD tensor(96.6334, grad_fn=<MulBackward>)\n",
      "BCE tensor(6355.1401, grad_fn=<BinaryCrossEntropyBackward>)\n",
      "KLD tensor(135.1689, grad_fn=<MulBackward>)\n",
      "BCE tensor(6226.8291, grad_fn=<BinaryCrossEntropyBackward>)\n",
      "KLD tensor(123.3197, grad_fn=<MulBackward>)\n",
      "BCE tensor(6478.9072, grad_fn=<BinaryCrossEntropyBackward>)\n",
      "KLD tensor(85.5804, grad_fn=<MulBackward>)\n",
      "BCE tensor(6481.5166, grad_fn=<BinaryCrossEntropyBackward>)\n",
      "KLD tensor(108.5532, grad_fn=<MulBackward>)\n",
      "BCE tensor(6269.8125, grad_fn=<BinaryCrossEntropyBackward>)\n",
      "KLD tensor(130.5964, grad_fn=<MulBackward>)\n",
      "BCE tensor(5735.9272, grad_fn=<BinaryCrossEntropyBackward>)"
     ]
    },
    {
     "name": "stderr",
     "output_type": "stream",
     "text": [
      "\n",
      "\n",
      "\n",
      "86it [00:01, 55.48it/s]\u001b[A\u001b[A\u001b[A\n",
      "\n",
      "\n",
      "93it [00:01, 56.09it/s]\u001b[A\u001b[A\u001b[A"
     ]
    },
    {
     "name": "stdout",
     "output_type": "stream",
     "text": [
      "\n",
      "KLD tensor(143.6480, grad_fn=<MulBackward>)\n",
      "BCE tensor(6345.9717, grad_fn=<BinaryCrossEntropyBackward>)\n",
      "KLD tensor(134.5588, grad_fn=<MulBackward>)\n",
      "BCE tensor(5707.2271, grad_fn=<BinaryCrossEntropyBackward>)\n",
      "KLD tensor(135.0540, grad_fn=<MulBackward>)\n",
      "BCE tensor(6377.8740, grad_fn=<BinaryCrossEntropyBackward>)\n",
      "KLD tensor(118.4057, grad_fn=<MulBackward>)\n",
      "BCE tensor(5643.3184, grad_fn=<BinaryCrossEntropyBackward>)\n",
      "KLD tensor(104.8145, grad_fn=<MulBackward>)\n",
      "BCE tensor(6237.5854, grad_fn=<BinaryCrossEntropyBackward>)\n",
      "KLD tensor(92.8559, grad_fn=<MulBackward>)\n",
      "BCE tensor(6160.3145, grad_fn=<BinaryCrossEntropyBackward>)\n",
      "KLD tensor(105.5358, grad_fn=<MulBackward>)\n",
      "BCE tensor(5991.3740, grad_fn=<BinaryCrossEntropyBackward>)\n",
      "KLD tensor(107.6949, grad_fn=<MulBackward>)\n",
      "BCE tensor(6257.1211, grad_fn=<BinaryCrossEntropyBackward>)\n",
      "KLD tensor(105.1692, grad_fn=<MulBackward>)\n",
      "BCE tensor(6009.0103, grad_fn=<BinaryCrossEntropyBackward>)\n",
      "KLD tensor(133.5049, grad_fn=<MulBackward>)\n",
      "BCE tensor(5721.8833, grad_fn=<BinaryCrossEntropyBackward>)\n",
      "KLD tensor(156.8892, grad_fn=<MulBackward>)\n",
      "BCE tensor(6405.1172, grad_fn=<BinaryCrossEntropyBackward>)\n",
      "KLD tensor(118.3978, grad_fn=<MulBackward>)\n",
      "BCE tensor(6135.1768, grad_fn=<BinaryCrossEntropyBackward>)\n",
      "KLD tensor(116.5234, grad_fn=<MulBackward>)\n"
     ]
    },
    {
     "name": "stderr",
     "output_type": "stream",
     "text": [
      "\n",
      "\n",
      "\n",
      "100it [00:01, 56.62it/s]\u001b[A\u001b[A\u001b[A\n",
      "\n",
      "\n",
      "107it [00:01, 57.15it/s]\u001b[A\u001b[A\u001b[A"
     ]
    },
    {
     "name": "stdout",
     "output_type": "stream",
     "text": [
      "BCE tensor(6211.7061, grad_fn=<BinaryCrossEntropyBackward>)\n",
      "KLD tensor(110.8022, grad_fn=<MulBackward>)\n",
      "BCE tensor(6112.6699, grad_fn=<BinaryCrossEntropyBackward>)\n",
      "KLD tensor(130.8386, grad_fn=<MulBackward>)\n",
      "BCE tensor(5852.2632, grad_fn=<BinaryCrossEntropyBackward>)\n",
      "KLD tensor(99.9132, grad_fn=<MulBackward>)\n",
      "BCE tensor(5854.9341, grad_fn=<BinaryCrossEntropyBackward>)\n",
      "KLD tensor(132.3194, grad_fn=<MulBackward>)\n",
      "BCE tensor(5987.2324, grad_fn=<BinaryCrossEntropyBackward>)\n",
      "KLD tensor(126.3131, grad_fn=<MulBackward>)\n",
      "BCE tensor(5509.2832, grad_fn=<BinaryCrossEntropyBackward>)\n",
      "KLD tensor(119.0945, grad_fn=<MulBackward>)\n",
      "BCE tensor(6416.8843, grad_fn=<BinaryCrossEntropyBackward>)\n",
      "KLD tensor(137.7313, grad_fn=<MulBackward>)\n",
      "BCE tensor(6111.1284, grad_fn=<BinaryCrossEntropyBackward>)\n",
      "KLD tensor(132.9236, grad_fn=<MulBackward>)\n",
      "BCE tensor(6003.7388, grad_fn=<BinaryCrossEntropyBackward>)\n",
      "KLD tensor(151.6737, grad_fn=<MulBackward>)\n",
      "BCE tensor(6014.4375, grad_fn=<BinaryCrossEntropyBackward>)\n",
      "KLD tensor(102.7325, grad_fn=<MulBackward>)\n",
      "BCE tensor(5605.2197, grad_fn=<BinaryCrossEntropyBackward>)\n",
      "KLD tensor(133.8600, grad_fn=<MulBackward>)\n",
      "BCE tensor(5975.0288, grad_fn=<BinaryCrossEntropyBackward>)\n",
      "KLD tensor(128.4541, grad_fn=<MulBackward>)\n",
      "BCE tensor(5862.0811, grad_fn=<BinaryCrossEntropyBackward>)\n",
      "KLD tensor(144.4261, grad_fn=<MulBackward>)\n",
      "BCE tensor(6300.1875, grad_fn=<BinaryCrossEntropyBackward>)"
     ]
    },
    {
     "name": "stderr",
     "output_type": "stream",
     "text": [
      "\n",
      "\n",
      "\n",
      "114it [00:01, 57.32it/s]\u001b[A\u001b[A\u001b[A"
     ]
    },
    {
     "name": "stdout",
     "output_type": "stream",
     "text": [
      "\n",
      "KLD tensor(142.6669, grad_fn=<MulBackward>)\n",
      "BCE tensor(5985.3105, grad_fn=<BinaryCrossEntropyBackward>)\n",
      "KLD tensor(125.7122, grad_fn=<MulBackward>)\n",
      "BCE tensor(6116.0073, grad_fn=<BinaryCrossEntropyBackward>)\n",
      "KLD tensor(137.2624, grad_fn=<MulBackward>)\n",
      "BCE tensor(5603.1313, grad_fn=<BinaryCrossEntropyBackward>)\n",
      "KLD tensor(188.5488, grad_fn=<MulBackward>)\n",
      "BCE tensor(6202.2856, grad_fn=<BinaryCrossEntropyBackward>)\n",
      "KLD tensor(165.9851, grad_fn=<MulBackward>)\n",
      "BCE tensor(5907.4277, grad_fn=<BinaryCrossEntropyBackward>)\n",
      "KLD tensor(190.3557, grad_fn=<MulBackward>)\n",
      "BCE tensor(5785.6016, grad_fn=<BinaryCrossEntropyBackward>)\n",
      "KLD tensor(194.6615, grad_fn=<MulBackward>)\n",
      "BCE tensor(5477.9478, grad_fn=<BinaryCrossEntropyBackward>)\n",
      "KLD tensor(177.9078, grad_fn=<MulBackward>)\n",
      "BCE tensor(5393.9766, grad_fn=<BinaryCrossEntropyBackward>)\n",
      "KLD tensor(175.5232, grad_fn=<MulBackward>)\n",
      "BCE tensor(4978.8921, grad_fn=<BinaryCrossEntropyBackward>)\n",
      "KLD tensor(194.1686, grad_fn=<MulBackward>)\n",
      "BCE tensor(5452.6270, grad_fn=<BinaryCrossEntropyBackward>)\n",
      "KLD tensor(172.5050, grad_fn=<MulBackward>)\n",
      "BCE tensor(6070.7451, grad_fn=<BinaryCrossEntropyBackward>)\n",
      "KLD tensor(170.3919, grad_fn=<MulBackward>)\n",
      "BCE tensor(5407.8105, grad_fn=<BinaryCrossEntropyBackward>)\n",
      "KLD tensor(236.8536, grad_fn=<MulBackward>)\n"
     ]
    },
    {
     "name": "stderr",
     "output_type": "stream",
     "text": [
      "\n",
      "\n",
      "\n",
      "121it [00:02, 57.54it/s]\u001b[A\u001b[A\u001b[A\n",
      "\n",
      "\n",
      "128it [00:02, 57.66it/s]\u001b[A\u001b[A\u001b[A"
     ]
    },
    {
     "name": "stdout",
     "output_type": "stream",
     "text": [
      "BCE tensor(5496.3823, grad_fn=<BinaryCrossEntropyBackward>)\n",
      "KLD tensor(208.5439, grad_fn=<MulBackward>)\n",
      "BCE tensor(6204.8638, grad_fn=<BinaryCrossEntropyBackward>)\n",
      "KLD tensor(163.4150, grad_fn=<MulBackward>)\n",
      "BCE tensor(5955.1147, grad_fn=<BinaryCrossEntropyBackward>)\n",
      "KLD tensor(200.4102, grad_fn=<MulBackward>)\n",
      "BCE tensor(5532.3750, grad_fn=<BinaryCrossEntropyBackward>)\n",
      "KLD tensor(242.0737, grad_fn=<MulBackward>)\n",
      "BCE tensor(5481.3086, grad_fn=<BinaryCrossEntropyBackward>)\n",
      "KLD tensor(243.4523, grad_fn=<MulBackward>)\n",
      "BCE tensor(5014.3633, grad_fn=<BinaryCrossEntropyBackward>)\n",
      "KLD tensor(300.0059, grad_fn=<MulBackward>)\n",
      "BCE tensor(5735.8281, grad_fn=<BinaryCrossEntropyBackward>)\n",
      "KLD tensor(228.0743, grad_fn=<MulBackward>)\n",
      "BCE tensor(5107.4463, grad_fn=<BinaryCrossEntropyBackward>)\n",
      "KLD tensor(234.5737, grad_fn=<MulBackward>)\n",
      "BCE tensor(5672.6572, grad_fn=<BinaryCrossEntropyBackward>)\n",
      "KLD tensor(210.0008, grad_fn=<MulBackward>)\n",
      "BCE tensor(5550.0337, grad_fn=<BinaryCrossEntropyBackward>)\n",
      "KLD tensor(224.5880, grad_fn=<MulBackward>)\n",
      "BCE tensor(5635.0078, grad_fn=<BinaryCrossEntropyBackward>)\n",
      "KLD tensor(229.6529, grad_fn=<MulBackward>)\n",
      "BCE tensor(5633.2217, grad_fn=<BinaryCrossEntropyBackward>)\n",
      "KLD tensor(217.5570, grad_fn=<MulBackward>)\n",
      "BCE tensor(5601.1123, grad_fn=<BinaryCrossEntropyBackward>)\n"
     ]
    },
    {
     "name": "stderr",
     "output_type": "stream",
     "text": [
      "\n",
      "\n",
      "\n",
      "135it [00:02, 57.72it/s]\u001b[A\u001b[A\u001b[A\n",
      "\n",
      "\n",
      "142it [00:02, 57.85it/s]\u001b[A\u001b[A\u001b[A"
     ]
    },
    {
     "name": "stdout",
     "output_type": "stream",
     "text": [
      "KLD tensor(218.9780, grad_fn=<MulBackward>)\n",
      "BCE tensor(5957.0518, grad_fn=<BinaryCrossEntropyBackward>)\n",
      "KLD tensor(216.9411, grad_fn=<MulBackward>)\n",
      "BCE tensor(5550.1582, grad_fn=<BinaryCrossEntropyBackward>)\n",
      "KLD tensor(239.5544, grad_fn=<MulBackward>)\n",
      "BCE tensor(5783.4844, grad_fn=<BinaryCrossEntropyBackward>)\n",
      "KLD tensor(271.5523, grad_fn=<MulBackward>)\n",
      "BCE tensor(5435.4541, grad_fn=<BinaryCrossEntropyBackward>)\n",
      "KLD tensor(291.8582, grad_fn=<MulBackward>)\n",
      "BCE tensor(5631.6543, grad_fn=<BinaryCrossEntropyBackward>)\n",
      "KLD tensor(227.0467, grad_fn=<MulBackward>)\n",
      "BCE tensor(5415.6938, grad_fn=<BinaryCrossEntropyBackward>)\n",
      "KLD tensor(308.6171, grad_fn=<MulBackward>)\n",
      "BCE tensor(5399.3584, grad_fn=<BinaryCrossEntropyBackward>)\n",
      "KLD tensor(229.2804, grad_fn=<MulBackward>)\n",
      "BCE tensor(5589.9019, grad_fn=<BinaryCrossEntropyBackward>)\n",
      "KLD tensor(308.6876, grad_fn=<MulBackward>)\n",
      "BCE tensor(5541.9854, grad_fn=<BinaryCrossEntropyBackward>)\n",
      "KLD tensor(229.6929, grad_fn=<MulBackward>)\n",
      "BCE tensor(5245.2539, grad_fn=<BinaryCrossEntropyBackward>)\n",
      "KLD tensor(271.4231, grad_fn=<MulBackward>)\n"
     ]
    },
    {
     "name": "stderr",
     "output_type": "stream",
     "text": [
      "\n",
      "\n",
      "\n",
      "149it [00:02, 56.71it/s]\u001b[A\u001b[A\u001b[A\n",
      "\n",
      "\n",
      "155it [00:02, 56.78it/s]"
     ]
    },
    {
     "name": "stdout",
     "output_type": "stream",
     "text": [
      "BCE tensor(5101.0781, grad_fn=<BinaryCrossEntropyBackward>)\n",
      "KLD tensor(232.6478, grad_fn=<MulBackward>)\n",
      "BCE tensor(5194.4976, grad_fn=<BinaryCrossEntropyBackward>)\n",
      "KLD tensor(287.5084, grad_fn=<MulBackward>)\n",
      "BCE tensor(5545.0034, grad_fn=<BinaryCrossEntropyBackward>)\n",
      "KLD tensor(337.1370, grad_fn=<MulBackward>)\n",
      "BCE tensor(5318.4590, grad_fn=<BinaryCrossEntropyBackward>)\n",
      "KLD tensor(301.1756, grad_fn=<MulBackward>)\n",
      "BCE tensor(5579.6675, grad_fn=<BinaryCrossEntropyBackward>)\n",
      "KLD tensor(285.0055, grad_fn=<MulBackward>)\n",
      "BCE tensor(5286.2236, grad_fn=<BinaryCrossEntropyBackward>)\n",
      "KLD tensor(315.4226, grad_fn=<MulBackward>)\n",
      "BCE tensor(5306.9272, grad_fn=<BinaryCrossEntropyBackward>)\n",
      "KLD tensor(330.1858, grad_fn=<MulBackward>)\n",
      "BCE tensor(5243.8545, grad_fn=<BinaryCrossEntropyBackward>)\n",
      "KLD tensor(337.9233, grad_fn=<MulBackward>)\n",
      "BCE tensor(5178.9541, grad_fn=<BinaryCrossEntropyBackward>)\n",
      "KLD tensor(340.0723, grad_fn=<MulBackward>)\n",
      "BCE tensor(5325.4316, grad_fn=<BinaryCrossEntropyBackward>)\n",
      "KLD tensor(349.7099, grad_fn=<MulBackward>)\n",
      "BCE tensor(5492.7939, grad_fn=<BinaryCrossEntropyBackward>)\n",
      "KLD tensor(328.3810, grad_fn=<MulBackward>)\n"
     ]
    },
    {
     "name": "stderr",
     "output_type": "stream",
     "text": [
      "\u001b[A\u001b[A\u001b[A\n",
      "\n",
      "\n",
      "161it [00:02, 56.86it/s]\u001b[A\u001b[A\u001b[A\n",
      "\n",
      "\n",
      "167it [00:02, 56.88it/s]\u001b[A\u001b[A\u001b[A"
     ]
    },
    {
     "name": "stdout",
     "output_type": "stream",
     "text": [
      "BCE tensor(4713.9111, grad_fn=<BinaryCrossEntropyBackward>)\n",
      "KLD tensor(416.0214, grad_fn=<MulBackward>)\n",
      "BCE tensor(5296.5259, grad_fn=<BinaryCrossEntropyBackward>)\n",
      "KLD tensor(367.8513, grad_fn=<MulBackward>)\n",
      "BCE tensor(5159.8091, grad_fn=<BinaryCrossEntropyBackward>)\n",
      "KLD tensor(358.3206, grad_fn=<MulBackward>)\n",
      "BCE tensor(4691.7261, grad_fn=<BinaryCrossEntropyBackward>)\n",
      "KLD tensor(342.7657, grad_fn=<MulBackward>)\n",
      "BCE tensor(5459.8843, grad_fn=<BinaryCrossEntropyBackward>)\n",
      "KLD tensor(317.6558, grad_fn=<MulBackward>)\n",
      "BCE tensor(5460.5430, grad_fn=<BinaryCrossEntropyBackward>)\n",
      "KLD tensor(262.9073, grad_fn=<MulBackward>)\n",
      "BCE tensor(4854.4741, grad_fn=<BinaryCrossEntropyBackward>)\n",
      "KLD tensor(375.2415, grad_fn=<MulBackward>)\n",
      "BCE tensor(4842.0483, grad_fn=<BinaryCrossEntropyBackward>)\n",
      "KLD tensor(269.7597, grad_fn=<MulBackward>)\n",
      "BCE tensor(4926.1348, grad_fn=<BinaryCrossEntropyBackward>)\n",
      "KLD tensor(344.1787, grad_fn=<MulBackward>)\n",
      "BCE tensor(5112.8223, grad_fn=<BinaryCrossEntropyBackward>)\n",
      "KLD tensor(284.3808, grad_fn=<MulBackward>)\n",
      "BCE tensor(5114.5117, grad_fn=<BinaryCrossEntropyBackward>)\n",
      "KLD tensor(328.9072, grad_fn=<MulBackward>)\n",
      "BCE tensor(5650.2114, grad_fn=<BinaryCrossEntropyBackward>)\n",
      "KLD tensor(385.3538, grad_fn=<MulBackward>)\n"
     ]
    },
    {
     "name": "stderr",
     "output_type": "stream",
     "text": [
      "\n",
      "\n",
      "\n",
      "173it [00:03, 56.79it/s]\u001b[A\u001b[A\u001b[A"
     ]
    },
    {
     "name": "stdout",
     "output_type": "stream",
     "text": [
      "BCE tensor(5198.4912, grad_fn=<BinaryCrossEntropyBackward>)\n",
      "KLD tensor(328.6312, grad_fn=<MulBackward>)\n",
      "BCE tensor(5357.1396, grad_fn=<BinaryCrossEntropyBackward>)\n",
      "KLD tensor(304.8981, grad_fn=<MulBackward>)\n",
      "BCE tensor(4992.2896, grad_fn=<BinaryCrossEntropyBackward>)\n",
      "KLD tensor(369.1730, grad_fn=<MulBackward>)\n",
      "BCE tensor(4937.5903, grad_fn=<BinaryCrossEntropyBackward>)\n",
      "KLD tensor(317.1012, grad_fn=<MulBackward>)\n",
      "BCE tensor(5239.8921, grad_fn=<BinaryCrossEntropyBackward>)\n",
      "KLD tensor(319.5583, grad_fn=<MulBackward>)\n",
      "BCE tensor(4919.5049, grad_fn=<BinaryCrossEntropyBackward>)\n",
      "KLD tensor(327.5342, grad_fn=<MulBackward>)\n",
      "BCE tensor(4839.0332, grad_fn=<BinaryCrossEntropyBackward>)\n",
      "KLD tensor(402.7257, grad_fn=<MulBackward>)\n",
      "BCE tensor(5033.0635, grad_fn=<BinaryCrossEntropyBackward>)\n",
      "KLD tensor(368.0142, grad_fn=<MulBackward>)\n",
      "BCE tensor(5282.9072, grad_fn=<BinaryCrossEntropyBackward>)\n",
      "KLD tensor(351.0703, grad_fn=<MulBackward>)\n",
      "BCE tensor(5395.1514, grad_fn=<BinaryCrossEntropyBackward>)\n",
      "KLD tensor(332.1296, grad_fn=<MulBackward>)\n",
      "BCE tensor(4985.3931, grad_fn=<BinaryCrossEntropyBackward>)\n",
      "KLD tensor(342.8993, grad_fn=<MulBackward>)\n",
      "BCE tensor(5116.2217, grad_fn=<BinaryCrossEntropyBackward>)\n",
      "KLD tensor(371.1003, grad_fn=<MulBackward>)\n"
     ]
    },
    {
     "name": "stderr",
     "output_type": "stream",
     "text": [
      "\n",
      "\n",
      "\n",
      "180it [00:03, 56.90it/s]\u001b[A\u001b[A\u001b[A\n",
      "\n",
      "\n",
      "187it [00:03, 57.11it/s]\u001b[A\u001b[A\u001b[A"
     ]
    },
    {
     "name": "stdout",
     "output_type": "stream",
     "text": [
      "BCE tensor(5069.7300, grad_fn=<BinaryCrossEntropyBackward>)\n",
      "KLD tensor(374.9161, grad_fn=<MulBackward>)\n",
      "BCE tensor(4847.6748, grad_fn=<BinaryCrossEntropyBackward>)\n",
      "KLD tensor(437.8965, grad_fn=<MulBackward>)\n",
      "BCE tensor(4808.0566, grad_fn=<BinaryCrossEntropyBackward>)\n",
      "KLD tensor(355.7455, grad_fn=<MulBackward>)\n",
      "BCE tensor(4718.9482, grad_fn=<BinaryCrossEntropyBackward>)\n",
      "KLD tensor(428.8211, grad_fn=<MulBackward>)\n",
      "BCE tensor(5388.6807, grad_fn=<BinaryCrossEntropyBackward>)\n",
      "KLD tensor(350.1037, grad_fn=<MulBackward>)\n",
      "BCE tensor(5039.5698, grad_fn=<BinaryCrossEntropyBackward>)\n",
      "KLD tensor(393.5400, grad_fn=<MulBackward>)\n",
      "BCE tensor(4953.6348, grad_fn=<BinaryCrossEntropyBackward>)\n",
      "KLD tensor(300.7576, grad_fn=<MulBackward>)\n",
      "BCE tensor(4813.9653, grad_fn=<BinaryCrossEntropyBackward>)\n",
      "KLD tensor(333.0605, grad_fn=<MulBackward>)\n",
      "BCE tensor(5162.3232, grad_fn=<BinaryCrossEntropyBackward>)\n",
      "KLD tensor(383.0339, grad_fn=<MulBackward>)\n",
      "BCE tensor(5028.0571, grad_fn=<BinaryCrossEntropyBackward>)\n",
      "KLD tensor(400.9008, grad_fn=<MulBackward>)\n",
      "BCE tensor(5127.7354, grad_fn=<BinaryCrossEntropyBackward>)\n",
      "KLD tensor(332.3501, grad_fn=<MulBackward>)\n",
      "BCE tensor(5201.9600, grad_fn=<BinaryCrossEntropyBackward>)\n",
      "KLD tensor(303.4198, grad_fn=<MulBackward>)\n",
      "BCE tensor(4772.6304, grad_fn=<BinaryCrossEntropyBackward>)\n",
      "KLD tensor(407.0633, grad_fn=<MulBackward>)\n"
     ]
    },
    {
     "name": "stderr",
     "output_type": "stream",
     "text": [
      "\n",
      "\n",
      "\n",
      "193it [00:03, 57.19it/s]\u001b[A\u001b[A\u001b[A\n",
      "\n",
      "\n",
      "199it [00:03, 57.16it/s]\u001b[A\u001b[A\u001b[A"
     ]
    },
    {
     "name": "stdout",
     "output_type": "stream",
     "text": [
      "BCE tensor(5417.7554, grad_fn=<BinaryCrossEntropyBackward>)\n",
      "KLD tensor(369.2528, grad_fn=<MulBackward>)\n",
      "BCE tensor(4937.3745, grad_fn=<BinaryCrossEntropyBackward>)\n",
      "KLD tensor(363.4730, grad_fn=<MulBackward>)\n",
      "BCE tensor(5201.0972, grad_fn=<BinaryCrossEntropyBackward>)\n",
      "KLD tensor(411.4093, grad_fn=<MulBackward>)\n",
      "BCE tensor(4502.5664, grad_fn=<BinaryCrossEntropyBackward>)\n",
      "KLD tensor(396.7549, grad_fn=<MulBackward>)\n",
      "BCE tensor(4610.7266, grad_fn=<BinaryCrossEntropyBackward>)\n",
      "KLD tensor(380.1424, grad_fn=<MulBackward>)\n",
      "BCE tensor(4432.7837, grad_fn=<BinaryCrossEntropyBackward>)\n",
      "KLD tensor(420.0126, grad_fn=<MulBackward>)\n",
      "BCE tensor(4832.9883, grad_fn=<BinaryCrossEntropyBackward>)\n",
      "KLD tensor(361.1750, grad_fn=<MulBackward>)\n",
      "BCE tensor(4978.0049, grad_fn=<BinaryCrossEntropyBackward>)\n",
      "KLD tensor(384.5743, grad_fn=<MulBackward>)\n",
      "BCE tensor(4844.2407, grad_fn=<BinaryCrossEntropyBackward>)\n",
      "KLD tensor(400.5958, grad_fn=<MulBackward>)\n",
      "BCE tensor(4625.2202, grad_fn=<BinaryCrossEntropyBackward>)\n",
      "KLD tensor(349.5067, grad_fn=<MulBackward>)\n",
      "BCE tensor(4711.0557, grad_fn=<BinaryCrossEntropyBackward>)\n",
      "KLD tensor(449.7407, grad_fn=<MulBackward>)\n",
      "BCE tensor(4994.4419, grad_fn=<BinaryCrossEntropyBackward>)\n",
      "KLD tensor(375.7312, grad_fn=<MulBackward>)\n"
     ]
    },
    {
     "name": "stderr",
     "output_type": "stream",
     "text": [
      "\n",
      "\n",
      "\n",
      "205it [00:03, 57.22it/s]\u001b[A\u001b[A\u001b[A\n",
      "\n",
      "\n",
      "212it [00:03, 57.34it/s]\u001b[A\u001b[A\u001b[A"
     ]
    },
    {
     "name": "stdout",
     "output_type": "stream",
     "text": [
      "BCE tensor(5142.9507, grad_fn=<BinaryCrossEntropyBackward>)\n",
      "KLD tensor(379.7297, grad_fn=<MulBackward>)\n",
      "BCE tensor(4971.4697, grad_fn=<BinaryCrossEntropyBackward>)\n",
      "KLD tensor(367.9604, grad_fn=<MulBackward>)\n",
      "BCE tensor(4636.4395, grad_fn=<BinaryCrossEntropyBackward>)\n",
      "KLD tensor(446.7938, grad_fn=<MulBackward>)\n",
      "BCE tensor(4341.7529, grad_fn=<BinaryCrossEntropyBackward>)\n",
      "KLD tensor(372.9673, grad_fn=<MulBackward>)\n",
      "BCE tensor(4720.9146, grad_fn=<BinaryCrossEntropyBackward>)\n",
      "KLD tensor(406.8718, grad_fn=<MulBackward>)\n",
      "BCE tensor(4727.2617, grad_fn=<BinaryCrossEntropyBackward>)\n",
      "KLD tensor(426.1748, grad_fn=<MulBackward>)\n",
      "BCE tensor(4904.4473, grad_fn=<BinaryCrossEntropyBackward>)\n",
      "KLD tensor(444.9350, grad_fn=<MulBackward>)\n",
      "BCE tensor(4698.0283, grad_fn=<BinaryCrossEntropyBackward>)\n",
      "KLD tensor(378.8242, grad_fn=<MulBackward>)\n",
      "BCE tensor(4666.2837, grad_fn=<BinaryCrossEntropyBackward>)\n",
      "KLD tensor(386.4546, grad_fn=<MulBackward>)\n",
      "BCE tensor(4519.8975, grad_fn=<BinaryCrossEntropyBackward>)\n",
      "KLD tensor(434.0347, grad_fn=<MulBackward>)\n",
      "BCE tensor(5074.8501, grad_fn=<BinaryCrossEntropyBackward>)\n",
      "KLD tensor(418.2118, grad_fn=<MulBackward>)\n",
      "BCE tensor(4929.2246, grad_fn=<BinaryCrossEntropyBackward>)\n",
      "KLD tensor(395.5924, grad_fn=<MulBackward>)\n",
      "BCE tensor(4279.1313, grad_fn=<BinaryCrossEntropyBackward>)\n",
      "KLD tensor(421.5970, grad_fn=<MulBackward>)\n"
     ]
    },
    {
     "name": "stderr",
     "output_type": "stream",
     "text": [
      "\n",
      "\n",
      "\n",
      "219it [00:03, 57.48it/s]\u001b[A\u001b[A\u001b[A\n",
      "\n",
      "\n",
      "226it [00:03, 57.71it/s]\u001b[A\u001b[A\u001b[A"
     ]
    },
    {
     "name": "stdout",
     "output_type": "stream",
     "text": [
      "BCE tensor(4668.6606, grad_fn=<BinaryCrossEntropyBackward>)\n",
      "KLD tensor(394.5912, grad_fn=<MulBackward>)\n",
      "BCE tensor(5106.2212, grad_fn=<BinaryCrossEntropyBackward>)\n",
      "KLD tensor(509.9861, grad_fn=<MulBackward>)\n",
      "BCE tensor(5037.8555, grad_fn=<BinaryCrossEntropyBackward>)\n",
      "KLD tensor(418.2416, grad_fn=<MulBackward>)\n",
      "BCE tensor(4752.7368, grad_fn=<BinaryCrossEntropyBackward>)\n",
      "KLD tensor(453.3243, grad_fn=<MulBackward>)\n",
      "BCE tensor(4443.0996, grad_fn=<BinaryCrossEntropyBackward>)\n",
      "KLD tensor(460.9344, grad_fn=<MulBackward>)\n",
      "BCE tensor(5245.2734, grad_fn=<BinaryCrossEntropyBackward>)\n",
      "KLD tensor(465.9386, grad_fn=<MulBackward>)\n",
      "BCE tensor(4484.8135, grad_fn=<BinaryCrossEntropyBackward>)\n",
      "KLD tensor(470.3571, grad_fn=<MulBackward>)\n",
      "BCE tensor(4559.3564, grad_fn=<BinaryCrossEntropyBackward>)\n",
      "KLD tensor(463.6632, grad_fn=<MulBackward>)\n",
      "BCE tensor(4902.8208, grad_fn=<BinaryCrossEntropyBackward>)\n",
      "KLD tensor(528.5409, grad_fn=<MulBackward>)\n",
      "BCE tensor(4671.7573, grad_fn=<BinaryCrossEntropyBackward>)\n",
      "KLD tensor(421.2857, grad_fn=<MulBackward>)\n",
      "BCE tensor(4795.0767, grad_fn=<BinaryCrossEntropyBackward>)\n",
      "KLD tensor(463.1871, grad_fn=<MulBackward>)\n",
      "BCE tensor(4311.2505, grad_fn=<BinaryCrossEntropyBackward>)\n",
      "KLD tensor(395.4106, grad_fn=<MulBackward>)\n",
      "BCE tensor(4693.2222, grad_fn=<BinaryCrossEntropyBackward>)\n",
      "KLD tensor(465.0229, grad_fn=<MulBackward>)\n",
      "BCE tensor(4183.3687, grad_fn=<BinaryCrossEntropyBackward>)"
     ]
    },
    {
     "name": "stderr",
     "output_type": "stream",
     "text": [
      "\n",
      "\n",
      "\n",
      "233it [00:04, 57.84it/s]\u001b[A\u001b[A\u001b[A\n",
      "\n",
      "\n",
      "240it [00:04, 57.90it/s]\u001b[A\u001b[A\u001b[A"
     ]
    },
    {
     "name": "stdout",
     "output_type": "stream",
     "text": [
      "\n",
      "KLD tensor(427.4158, grad_fn=<MulBackward>)\n",
      "BCE tensor(4663.8169, grad_fn=<BinaryCrossEntropyBackward>)\n",
      "KLD tensor(468.4480, grad_fn=<MulBackward>)\n",
      "BCE tensor(4570.9082, grad_fn=<BinaryCrossEntropyBackward>)\n",
      "KLD tensor(378.2549, grad_fn=<MulBackward>)\n",
      "BCE tensor(4477.5093, grad_fn=<BinaryCrossEntropyBackward>)\n",
      "KLD tensor(431.1759, grad_fn=<MulBackward>)\n",
      "BCE tensor(4995.4009, grad_fn=<BinaryCrossEntropyBackward>)\n",
      "KLD tensor(467.1567, grad_fn=<MulBackward>)\n",
      "BCE tensor(4656.6997, grad_fn=<BinaryCrossEntropyBackward>)\n",
      "KLD tensor(444.7964, grad_fn=<MulBackward>)\n",
      "BCE tensor(4716.9629, grad_fn=<BinaryCrossEntropyBackward>)\n",
      "KLD tensor(443.3705, grad_fn=<MulBackward>)\n",
      "BCE tensor(4565.8203, grad_fn=<BinaryCrossEntropyBackward>)\n",
      "KLD tensor(441.7783, grad_fn=<MulBackward>)\n",
      "BCE tensor(4738.3511, grad_fn=<BinaryCrossEntropyBackward>)\n",
      "KLD tensor(432.8058, grad_fn=<MulBackward>)\n",
      "BCE tensor(4644.2847, grad_fn=<BinaryCrossEntropyBackward>)\n",
      "KLD tensor(425.7975, grad_fn=<MulBackward>)\n",
      "BCE tensor(4624.3369, grad_fn=<BinaryCrossEntropyBackward>)\n",
      "KLD tensor(463.0419, grad_fn=<MulBackward>)\n",
      "BCE tensor(5070.9941, grad_fn=<BinaryCrossEntropyBackward>)\n",
      "KLD tensor(446.6694, grad_fn=<MulBackward>)\n",
      "BCE tensor(4323.1475, grad_fn=<BinaryCrossEntropyBackward>)"
     ]
    },
    {
     "name": "stderr",
     "output_type": "stream",
     "text": [
      "\n",
      "\n",
      "\n",
      "247it [00:04, 57.97it/s]\u001b[A\u001b[A\u001b[A\n",
      "\n",
      "\n",
      "254it [00:04, 58.05it/s]\u001b[A\u001b[A\u001b[A"
     ]
    },
    {
     "name": "stdout",
     "output_type": "stream",
     "text": [
      "\n",
      "KLD tensor(452.9623, grad_fn=<MulBackward>)\n",
      "BCE tensor(4592.6602, grad_fn=<BinaryCrossEntropyBackward>)\n",
      "KLD tensor(416.1463, grad_fn=<MulBackward>)\n",
      "BCE tensor(4430.0928, grad_fn=<BinaryCrossEntropyBackward>)\n",
      "KLD tensor(481.7059, grad_fn=<MulBackward>)\n",
      "BCE tensor(4779.5273, grad_fn=<BinaryCrossEntropyBackward>)\n",
      "KLD tensor(462.7707, grad_fn=<MulBackward>)\n",
      "BCE tensor(4382.3008, grad_fn=<BinaryCrossEntropyBackward>)\n",
      "KLD tensor(528.4947, grad_fn=<MulBackward>)\n",
      "BCE tensor(4517.1328, grad_fn=<BinaryCrossEntropyBackward>)\n",
      "KLD tensor(440.2954, grad_fn=<MulBackward>)\n",
      "BCE tensor(4704.4258, grad_fn=<BinaryCrossEntropyBackward>)\n",
      "KLD tensor(451.8459, grad_fn=<MulBackward>)\n",
      "BCE tensor(4638.7812, grad_fn=<BinaryCrossEntropyBackward>)\n",
      "KLD tensor(503.7931, grad_fn=<MulBackward>)\n",
      "BCE tensor(4545.9668, grad_fn=<BinaryCrossEntropyBackward>)\n",
      "KLD tensor(490.9913, grad_fn=<MulBackward>)\n",
      "BCE tensor(4703.3452, grad_fn=<BinaryCrossEntropyBackward>)\n",
      "KLD tensor(438.8939, grad_fn=<MulBackward>)\n",
      "BCE tensor(4420.9014, grad_fn=<BinaryCrossEntropyBackward>)\n",
      "KLD tensor(490.3570, grad_fn=<MulBackward>)\n",
      "BCE tensor(4825.5894, grad_fn=<BinaryCrossEntropyBackward>)\n",
      "KLD tensor(448.4011, grad_fn=<MulBackward>)\n",
      "BCE tensor(4833.0322, grad_fn=<BinaryCrossEntropyBackward>)\n",
      "KLD tensor(461.9445, grad_fn=<MulBackward>)\n"
     ]
    },
    {
     "name": "stderr",
     "output_type": "stream",
     "text": [
      "\n",
      "\n",
      "\n",
      "261it [00:04, 58.05it/s]\u001b[A\u001b[A\u001b[A"
     ]
    },
    {
     "name": "stdout",
     "output_type": "stream",
     "text": [
      "BCE tensor(4615.5435, grad_fn=<BinaryCrossEntropyBackward>)\n",
      "KLD tensor(505.7115, grad_fn=<MulBackward>)\n",
      "BCE tensor(4204.0303, grad_fn=<BinaryCrossEntropyBackward>)\n",
      "KLD tensor(520.4321, grad_fn=<MulBackward>)\n",
      "BCE tensor(4195.8193, grad_fn=<BinaryCrossEntropyBackward>)\n",
      "KLD tensor(525.6407, grad_fn=<MulBackward>)\n",
      "BCE tensor(5104.0146, grad_fn=<BinaryCrossEntropyBackward>)\n",
      "KLD tensor(480.9789, grad_fn=<MulBackward>)\n",
      "BCE tensor(4386.0425, grad_fn=<BinaryCrossEntropyBackward>)\n",
      "KLD tensor(483.6240, grad_fn=<MulBackward>)\n",
      "BCE tensor(4766.1973, grad_fn=<BinaryCrossEntropyBackward>)\n",
      "KLD tensor(539.1046, grad_fn=<MulBackward>)\n",
      "BCE tensor(4586.7021, grad_fn=<BinaryCrossEntropyBackward>)\n",
      "KLD tensor(502.1323, grad_fn=<MulBackward>)\n",
      "BCE tensor(4268.2505, grad_fn=<BinaryCrossEntropyBackward>)\n",
      "KLD tensor(532.7152, grad_fn=<MulBackward>)\n",
      "BCE tensor(4621.6489, grad_fn=<BinaryCrossEntropyBackward>)\n",
      "KLD tensor(563.9493, grad_fn=<MulBackward>)\n",
      "BCE tensor(4316.3916, grad_fn=<BinaryCrossEntropyBackward>)\n",
      "KLD tensor(495.8556, grad_fn=<MulBackward>)\n",
      "BCE tensor(4387.9233, grad_fn=<BinaryCrossEntropyBackward>)\n",
      "KLD tensor(475.0764, grad_fn=<MulBackward>)\n",
      "BCE tensor(4398.7407, grad_fn=<BinaryCrossEntropyBackward>)"
     ]
    },
    {
     "name": "stderr",
     "output_type": "stream",
     "text": [
      "\n",
      "\n",
      "\n",
      "268it [00:04, 57.84it/s]\u001b[A\u001b[A\u001b[A\n",
      "\n",
      "\n",
      "274it [00:04, 57.78it/s]\u001b[A\u001b[A\u001b[A"
     ]
    },
    {
     "name": "stdout",
     "output_type": "stream",
     "text": [
      "\n",
      "KLD tensor(536.9372, grad_fn=<MulBackward>)\n",
      "BCE tensor(4396.8394, grad_fn=<BinaryCrossEntropyBackward>)\n",
      "KLD tensor(534.6574, grad_fn=<MulBackward>)\n",
      "BCE tensor(4529.4854, grad_fn=<BinaryCrossEntropyBackward>)\n",
      "KLD tensor(489.4098, grad_fn=<MulBackward>)\n",
      "BCE tensor(4234.1880, grad_fn=<BinaryCrossEntropyBackward>)\n",
      "KLD tensor(410.7393, grad_fn=<MulBackward>)\n",
      "BCE tensor(4293.1963, grad_fn=<BinaryCrossEntropyBackward>)\n",
      "KLD tensor(486.4162, grad_fn=<MulBackward>)\n",
      "BCE tensor(4376.3354, grad_fn=<BinaryCrossEntropyBackward>)\n",
      "KLD tensor(458.4233, grad_fn=<MulBackward>)\n",
      "BCE tensor(4468.0605, grad_fn=<BinaryCrossEntropyBackward>)\n",
      "KLD tensor(489.6653, grad_fn=<MulBackward>)\n",
      "BCE tensor(4204.4653, grad_fn=<BinaryCrossEntropyBackward>)\n",
      "KLD tensor(505.5370, grad_fn=<MulBackward>)\n",
      "BCE tensor(4054.2080, grad_fn=<BinaryCrossEntropyBackward>)\n",
      "KLD tensor(477.7018, grad_fn=<MulBackward>)\n",
      "BCE tensor(4234.3950, grad_fn=<BinaryCrossEntropyBackward>)\n",
      "KLD tensor(495.0013, grad_fn=<MulBackward>)\n",
      "BCE tensor(4393.4268, grad_fn=<BinaryCrossEntropyBackward>)\n",
      "KLD tensor(548.3610, grad_fn=<MulBackward>)\n",
      "BCE tensor(4851.1035, grad_fn=<BinaryCrossEntropyBackward>)\n",
      "KLD tensor(524.9962, grad_fn=<MulBackward>)\n",
      "BCE tensor(4188.6709, grad_fn=<BinaryCrossEntropyBackward>)\n",
      "KLD tensor(503.9550, grad_fn=<MulBackward>)\n"
     ]
    },
    {
     "name": "stderr",
     "output_type": "stream",
     "text": [
      "\n",
      "\n",
      "\n",
      "281it [00:04, 57.86it/s]\u001b[A\u001b[A\u001b[A\n",
      "\n",
      "\n",
      "287it [00:04, 57.86it/s]\u001b[A\u001b[A\u001b[A"
     ]
    },
    {
     "name": "stdout",
     "output_type": "stream",
     "text": [
      "BCE tensor(4274.8022, grad_fn=<BinaryCrossEntropyBackward>)\n",
      "KLD tensor(585.0376, grad_fn=<MulBackward>)\n",
      "BCE tensor(4163.6387, grad_fn=<BinaryCrossEntropyBackward>)\n",
      "KLD tensor(512.1062, grad_fn=<MulBackward>)\n",
      "BCE tensor(4136.5176, grad_fn=<BinaryCrossEntropyBackward>)\n",
      "KLD tensor(525.2188, grad_fn=<MulBackward>)\n",
      "BCE tensor(4089.0073, grad_fn=<BinaryCrossEntropyBackward>)\n",
      "KLD tensor(475.3704, grad_fn=<MulBackward>)\n",
      "BCE tensor(3885.9172, grad_fn=<BinaryCrossEntropyBackward>)\n",
      "KLD tensor(552.6786, grad_fn=<MulBackward>)\n",
      "BCE tensor(4623.2915, grad_fn=<BinaryCrossEntropyBackward>)\n",
      "KLD tensor(479.2996, grad_fn=<MulBackward>)\n",
      "BCE tensor(3841.8789, grad_fn=<BinaryCrossEntropyBackward>)\n",
      "KLD tensor(515.7794, grad_fn=<MulBackward>)\n",
      "BCE tensor(4251.9961, grad_fn=<BinaryCrossEntropyBackward>)\n",
      "KLD tensor(522.2131, grad_fn=<MulBackward>)\n",
      "BCE tensor(4431.2690, grad_fn=<BinaryCrossEntropyBackward>)\n",
      "KLD tensor(539.4297, grad_fn=<MulBackward>)\n",
      "BCE tensor(3801.7561, grad_fn=<BinaryCrossEntropyBackward>)\n",
      "KLD tensor(503.5151, grad_fn=<MulBackward>)\n",
      "BCE tensor(4646.1885, grad_fn=<BinaryCrossEntropyBackward>)\n",
      "KLD tensor(522.6313, grad_fn=<MulBackward>)\n",
      "BCE tensor(4061.9282, grad_fn=<BinaryCrossEntropyBackward>)\n",
      "KLD tensor(522.6121, grad_fn=<MulBackward>)\n"
     ]
    },
    {
     "name": "stderr",
     "output_type": "stream",
     "text": [
      "\n",
      "\n",
      "\n",
      "294it [00:05, 57.94it/s]\u001b[A\u001b[A\u001b[A\n",
      "\n",
      "\n",
      "301it [00:05, 58.07it/s]\u001b[A\u001b[A\u001b[A"
     ]
    },
    {
     "name": "stdout",
     "output_type": "stream",
     "text": [
      "BCE tensor(4359.1382, grad_fn=<BinaryCrossEntropyBackward>)\n",
      "KLD tensor(512.3083, grad_fn=<MulBackward>)\n",
      "BCE tensor(4174.9312, grad_fn=<BinaryCrossEntropyBackward>)\n",
      "KLD tensor(520.1691, grad_fn=<MulBackward>)\n",
      "BCE tensor(4107.3506, grad_fn=<BinaryCrossEntropyBackward>)\n",
      "KLD tensor(530.0641, grad_fn=<MulBackward>)\n",
      "BCE tensor(4004.0220, grad_fn=<BinaryCrossEntropyBackward>)\n",
      "KLD tensor(570.9962, grad_fn=<MulBackward>)\n",
      "BCE tensor(4403.5659, grad_fn=<BinaryCrossEntropyBackward>)\n",
      "KLD tensor(538.6627, grad_fn=<MulBackward>)\n",
      "BCE tensor(4360.8042, grad_fn=<BinaryCrossEntropyBackward>)\n",
      "KLD tensor(512.7281, grad_fn=<MulBackward>)\n",
      "BCE tensor(4566.7725, grad_fn=<BinaryCrossEntropyBackward>)\n",
      "KLD tensor(481.8496, grad_fn=<MulBackward>)\n",
      "BCE tensor(4368.2192, grad_fn=<BinaryCrossEntropyBackward>)\n",
      "KLD tensor(511.5955, grad_fn=<MulBackward>)\n",
      "BCE tensor(4205.0542, grad_fn=<BinaryCrossEntropyBackward>)\n",
      "KLD tensor(487.2556, grad_fn=<MulBackward>)\n",
      "BCE tensor(4355.6689, grad_fn=<BinaryCrossEntropyBackward>)\n",
      "KLD tensor(553.7223, grad_fn=<MulBackward>)\n",
      "BCE tensor(4400.6860, grad_fn=<BinaryCrossEntropyBackward>)\n",
      "KLD tensor(527.5957, grad_fn=<MulBackward>)\n",
      "BCE tensor(3847.0708, grad_fn=<BinaryCrossEntropyBackward>)\n",
      "KLD tensor(512.5206, grad_fn=<MulBackward>)\n",
      "BCE tensor(4243.7065, grad_fn=<BinaryCrossEntropyBackward>)\n",
      "KLD tensor(584.5264, grad_fn=<MulBackward>)\n"
     ]
    },
    {
     "name": "stderr",
     "output_type": "stream",
     "text": [
      "\n",
      "\n",
      "\n",
      "308it [00:05, 58.17it/s]\u001b[A\u001b[A\u001b[A\n",
      "\n",
      "\n",
      "315it [00:05, 58.26it/s]\u001b[A\u001b[A\u001b[A"
     ]
    },
    {
     "name": "stdout",
     "output_type": "stream",
     "text": [
      "BCE tensor(3958.8433, grad_fn=<BinaryCrossEntropyBackward>)\n",
      "KLD tensor(552.1162, grad_fn=<MulBackward>)\n",
      "BCE tensor(4097.6284, grad_fn=<BinaryCrossEntropyBackward>)\n",
      "KLD tensor(483.6051, grad_fn=<MulBackward>)\n",
      "BCE tensor(4373.6157, grad_fn=<BinaryCrossEntropyBackward>)\n",
      "KLD tensor(482.4698, grad_fn=<MulBackward>)\n",
      "BCE tensor(3989.2820, grad_fn=<BinaryCrossEntropyBackward>)\n",
      "KLD tensor(496.2340, grad_fn=<MulBackward>)\n",
      "BCE tensor(4361.4595, grad_fn=<BinaryCrossEntropyBackward>)\n",
      "KLD tensor(555.5816, grad_fn=<MulBackward>)\n",
      "BCE tensor(4151.5566, grad_fn=<BinaryCrossEntropyBackward>)\n",
      "KLD tensor(552.9364, grad_fn=<MulBackward>)\n",
      "BCE tensor(4080.6982, grad_fn=<BinaryCrossEntropyBackward>)\n",
      "KLD tensor(562.4832, grad_fn=<MulBackward>)\n",
      "BCE tensor(3888.5278, grad_fn=<BinaryCrossEntropyBackward>)\n",
      "KLD tensor(520.7935, grad_fn=<MulBackward>)\n",
      "BCE tensor(3652.9990, grad_fn=<BinaryCrossEntropyBackward>)\n",
      "KLD tensor(488.6821, grad_fn=<MulBackward>)\n",
      "BCE tensor(3842.5491, grad_fn=<BinaryCrossEntropyBackward>)\n",
      "KLD tensor(534.7294, grad_fn=<MulBackward>)\n",
      "BCE tensor(4037.7366, grad_fn=<BinaryCrossEntropyBackward>)\n",
      "KLD tensor(501.4190, grad_fn=<MulBackward>)\n",
      "BCE tensor(4198.6685, grad_fn=<BinaryCrossEntropyBackward>)\n",
      "KLD tensor(511.4355, grad_fn=<MulBackward>)\n",
      "BCE tensor(4262.3896, grad_fn=<BinaryCrossEntropyBackward>)\n",
      "KLD tensor(522.6574, grad_fn=<MulBackward>)\n"
     ]
    },
    {
     "name": "stderr",
     "output_type": "stream",
     "text": [
      "\n",
      "\n",
      "\n",
      "322it [00:05, 58.28it/s]\u001b[A\u001b[A\u001b[A\n",
      "\n",
      "\n",
      "329it [00:05, 58.36it/s]\u001b[A\u001b[A\u001b[A"
     ]
    },
    {
     "name": "stdout",
     "output_type": "stream",
     "text": [
      "BCE tensor(3794.1975, grad_fn=<BinaryCrossEntropyBackward>)\n",
      "KLD tensor(481.7903, grad_fn=<MulBackward>)\n",
      "BCE tensor(4055.0820, grad_fn=<BinaryCrossEntropyBackward>)\n",
      "KLD tensor(499.3353, grad_fn=<MulBackward>)\n",
      "BCE tensor(3921.0178, grad_fn=<BinaryCrossEntropyBackward>)\n",
      "KLD tensor(521.3336, grad_fn=<MulBackward>)\n",
      "BCE tensor(4197.8276, grad_fn=<BinaryCrossEntropyBackward>)\n",
      "KLD tensor(510.5387, grad_fn=<MulBackward>)\n",
      "BCE tensor(4080.3818, grad_fn=<BinaryCrossEntropyBackward>)\n",
      "KLD tensor(563.8402, grad_fn=<MulBackward>)\n",
      "BCE tensor(4279.3486, grad_fn=<BinaryCrossEntropyBackward>)\n",
      "KLD tensor(546.3467, grad_fn=<MulBackward>)\n",
      "BCE tensor(4276.8262, grad_fn=<BinaryCrossEntropyBackward>)\n",
      "KLD tensor(541.4623, grad_fn=<MulBackward>)\n",
      "BCE tensor(3681.6003, grad_fn=<BinaryCrossEntropyBackward>)\n",
      "KLD tensor(470.5134, grad_fn=<MulBackward>)\n",
      "BCE tensor(3793.7825, grad_fn=<BinaryCrossEntropyBackward>)\n",
      "KLD tensor(478.9532, grad_fn=<MulBackward>)\n",
      "BCE tensor(4102.3672, grad_fn=<BinaryCrossEntropyBackward>)\n",
      "KLD tensor(498.2921, grad_fn=<MulBackward>)\n",
      "BCE tensor(4068.3240, grad_fn=<BinaryCrossEntropyBackward>)\n",
      "KLD tensor(566.7935, grad_fn=<MulBackward>)\n",
      "BCE tensor(4094.0813, grad_fn=<BinaryCrossEntropyBackward>)\n",
      "KLD tensor(517.5244, grad_fn=<MulBackward>)\n",
      "BCE tensor(4240.2202, grad_fn=<BinaryCrossEntropyBackward>)\n",
      "KLD tensor(503.7961, grad_fn=<MulBackward>)\n"
     ]
    },
    {
     "name": "stderr",
     "output_type": "stream",
     "text": [
      "\n",
      "\n",
      "\n",
      "336it [00:05, 58.41it/s]\u001b[A\u001b[A\u001b[A\n",
      "\n",
      "\n",
      "343it [00:05, 58.51it/s]\u001b[A\u001b[A\u001b[A"
     ]
    },
    {
     "name": "stdout",
     "output_type": "stream",
     "text": [
      "BCE tensor(4193.9258, grad_fn=<BinaryCrossEntropyBackward>)\n",
      "KLD tensor(586.6674, grad_fn=<MulBackward>)\n",
      "BCE tensor(4032.9836, grad_fn=<BinaryCrossEntropyBackward>)\n",
      "KLD tensor(561.8708, grad_fn=<MulBackward>)\n",
      "BCE tensor(3999.8188, grad_fn=<BinaryCrossEntropyBackward>)\n",
      "KLD tensor(621.5295, grad_fn=<MulBackward>)\n",
      "BCE tensor(4254.0093, grad_fn=<BinaryCrossEntropyBackward>)\n",
      "KLD tensor(553.0737, grad_fn=<MulBackward>)\n",
      "BCE tensor(3867.4404, grad_fn=<BinaryCrossEntropyBackward>)\n",
      "KLD tensor(547.6129, grad_fn=<MulBackward>)\n",
      "BCE tensor(3993.2625, grad_fn=<BinaryCrossEntropyBackward>)\n",
      "KLD tensor(546.0408, grad_fn=<MulBackward>)\n",
      "BCE tensor(3792.3113, grad_fn=<BinaryCrossEntropyBackward>)\n",
      "KLD tensor(604.7453, grad_fn=<MulBackward>)\n",
      "BCE tensor(3696.8489, grad_fn=<BinaryCrossEntropyBackward>)\n",
      "KLD tensor(578.1092, grad_fn=<MulBackward>)\n",
      "BCE tensor(4124.1196, grad_fn=<BinaryCrossEntropyBackward>)\n",
      "KLD tensor(593.1287, grad_fn=<MulBackward>)\n",
      "BCE tensor(4172.4409, grad_fn=<BinaryCrossEntropyBackward>)\n",
      "KLD tensor(607.9267, grad_fn=<MulBackward>)\n",
      "BCE tensor(3870.4106, grad_fn=<BinaryCrossEntropyBackward>)\n",
      "KLD tensor(524.7359, grad_fn=<MulBackward>)\n",
      "BCE tensor(4016.9431, grad_fn=<BinaryCrossEntropyBackward>)\n",
      "KLD tensor(557.3992, grad_fn=<MulBackward>)\n",
      "BCE tensor(4156.5806, grad_fn=<BinaryCrossEntropyBackward>)\n",
      "KLD tensor(569.2929, grad_fn=<MulBackward>)\n"
     ]
    },
    {
     "name": "stderr",
     "output_type": "stream",
     "text": [
      "\n",
      "\n",
      "\n",
      "350it [00:05, 58.62it/s]\u001b[A\u001b[A\u001b[A"
     ]
    },
    {
     "name": "stdout",
     "output_type": "stream",
     "text": [
      "BCE tensor(4324.8203, grad_fn=<BinaryCrossEntropyBackward>)\n",
      "KLD tensor(651.0464, grad_fn=<MulBackward>)\n",
      "BCE tensor(4034.5574, grad_fn=<BinaryCrossEntropyBackward>)\n",
      "KLD tensor(637.5335, grad_fn=<MulBackward>)\n",
      "BCE tensor(3840.8882, grad_fn=<BinaryCrossEntropyBackward>)\n",
      "KLD tensor(518.6424, grad_fn=<MulBackward>)\n",
      "BCE tensor(4113.8379, grad_fn=<BinaryCrossEntropyBackward>)\n",
      "KLD tensor(513.7310, grad_fn=<MulBackward>)\n",
      "BCE tensor(4342.7710, grad_fn=<BinaryCrossEntropyBackward>)\n",
      "KLD tensor(536.4872, grad_fn=<MulBackward>)\n",
      "BCE tensor(3458.4028, grad_fn=<BinaryCrossEntropyBackward>)\n",
      "KLD tensor(529.4377, grad_fn=<MulBackward>)\n",
      "BCE tensor(3932.9841, grad_fn=<BinaryCrossEntropyBackward>)\n",
      "KLD tensor(502.7699, grad_fn=<MulBackward>)\n",
      "BCE tensor(3973.2583, grad_fn=<BinaryCrossEntropyBackward>)\n",
      "KLD tensor(621.0640, grad_fn=<MulBackward>)\n",
      "BCE tensor(4189.7075, grad_fn=<BinaryCrossEntropyBackward>)\n",
      "KLD tensor(540.1382, grad_fn=<MulBackward>)\n",
      "BCE tensor(3858.6614, grad_fn=<BinaryCrossEntropyBackward>)\n",
      "KLD tensor(565.0742, grad_fn=<MulBackward>)\n",
      "BCE tensor(3797.6829, grad_fn=<BinaryCrossEntropyBackward>)\n",
      "KLD tensor(553.2876, grad_fn=<MulBackward>)\n",
      "BCE tensor(4180.5239, grad_fn=<BinaryCrossEntropyBackward>)\n",
      "KLD tensor(606.8218, grad_fn=<MulBackward>)\n",
      "BCE tensor(3733.3970, grad_fn=<BinaryCrossEntropyBackward>)\n",
      "KLD tensor(616.2415, grad_fn=<MulBackward>)\n",
      "BCE tensor(3503.8767, grad_fn=<BinaryCrossEntropyBackward>)\n",
      "KLD tensor(598.1478, grad_fn=<MulBackward>)\n"
     ]
    },
    {
     "name": "stderr",
     "output_type": "stream",
     "text": [
      "\n",
      "\n",
      "\n",
      "357it [00:06, 58.72it/s]\u001b[A\u001b[A\u001b[A\n",
      "\n",
      "\n",
      "364it [00:06, 58.53it/s]\u001b[A\u001b[A\u001b[A"
     ]
    },
    {
     "name": "stdout",
     "output_type": "stream",
     "text": [
      "BCE tensor(3576.2107, grad_fn=<BinaryCrossEntropyBackward>)\n",
      "KLD tensor(552.4020, grad_fn=<MulBackward>)\n",
      "BCE tensor(3606.0786, grad_fn=<BinaryCrossEntropyBackward>)\n",
      "KLD tensor(581.8648, grad_fn=<MulBackward>)\n",
      "BCE tensor(3991.7358, grad_fn=<BinaryCrossEntropyBackward>)\n",
      "KLD tensor(592.1199, grad_fn=<MulBackward>)\n",
      "BCE tensor(3782.3904, grad_fn=<BinaryCrossEntropyBackward>)\n",
      "KLD tensor(606.1913, grad_fn=<MulBackward>)\n",
      "BCE tensor(4085.5725, grad_fn=<BinaryCrossEntropyBackward>)\n",
      "KLD tensor(621.3193, grad_fn=<MulBackward>)\n",
      "BCE tensor(4418.4858, grad_fn=<BinaryCrossEntropyBackward>)\n",
      "KLD tensor(645.3016, grad_fn=<MulBackward>)\n",
      "BCE tensor(3947.3616, grad_fn=<BinaryCrossEntropyBackward>)\n",
      "KLD tensor(580.7026, grad_fn=<MulBackward>)\n",
      "BCE tensor(4054.1636, grad_fn=<BinaryCrossEntropyBackward>)\n",
      "KLD tensor(572.4125, grad_fn=<MulBackward>)\n",
      "BCE tensor(4110.8696, grad_fn=<BinaryCrossEntropyBackward>)\n",
      "KLD tensor(559.6846, grad_fn=<MulBackward>)\n",
      "BCE tensor(3585.4221, grad_fn=<BinaryCrossEntropyBackward>)\n",
      "KLD tensor(581.8810, grad_fn=<MulBackward>)\n",
      "BCE tensor(3946.2400, grad_fn=<BinaryCrossEntropyBackward>)\n",
      "KLD tensor(593.9275, grad_fn=<MulBackward>)\n",
      "BCE tensor(4056.5859, grad_fn=<BinaryCrossEntropyBackward>)\n",
      "KLD tensor(594.8864, grad_fn=<MulBackward>)\n"
     ]
    },
    {
     "name": "stderr",
     "output_type": "stream",
     "text": [
      "\n",
      "\n",
      "\n",
      "371it [00:06, 58.58it/s]\u001b[A\u001b[A\u001b[A\n",
      "\n",
      "\n",
      "378it [00:06, 58.66it/s]\u001b[A\u001b[A\u001b[A"
     ]
    },
    {
     "name": "stdout",
     "output_type": "stream",
     "text": [
      "BCE tensor(4226.3687, grad_fn=<BinaryCrossEntropyBackward>)\n",
      "KLD tensor(547.7956, grad_fn=<MulBackward>)\n",
      "BCE tensor(3739.5464, grad_fn=<BinaryCrossEntropyBackward>)\n",
      "KLD tensor(562.2802, grad_fn=<MulBackward>)\n",
      "BCE tensor(3835.8359, grad_fn=<BinaryCrossEntropyBackward>)\n",
      "KLD tensor(595.9720, grad_fn=<MulBackward>)\n",
      "BCE tensor(3813.7744, grad_fn=<BinaryCrossEntropyBackward>)\n",
      "KLD tensor(598.4447, grad_fn=<MulBackward>)\n",
      "BCE tensor(3676.1792, grad_fn=<BinaryCrossEntropyBackward>)\n",
      "KLD tensor(545.5240, grad_fn=<MulBackward>)\n",
      "BCE tensor(3948.4207, grad_fn=<BinaryCrossEntropyBackward>)\n",
      "KLD tensor(616.5152, grad_fn=<MulBackward>)\n",
      "BCE tensor(3892.3855, grad_fn=<BinaryCrossEntropyBackward>)\n",
      "KLD tensor(596.6618, grad_fn=<MulBackward>)\n",
      "BCE tensor(3737.4707, grad_fn=<BinaryCrossEntropyBackward>)\n",
      "KLD tensor(571.3106, grad_fn=<MulBackward>)\n",
      "BCE tensor(3692.3289, grad_fn=<BinaryCrossEntropyBackward>)\n",
      "KLD tensor(590.3045, grad_fn=<MulBackward>)\n",
      "BCE tensor(3938.9707, grad_fn=<BinaryCrossEntropyBackward>)\n",
      "KLD tensor(545.9087, grad_fn=<MulBackward>)\n",
      "BCE tensor(3617.6692, grad_fn=<BinaryCrossEntropyBackward>)\n",
      "KLD tensor(659.6232, grad_fn=<MulBackward>)\n",
      "BCE tensor(3742.1907, grad_fn=<BinaryCrossEntropyBackward>)\n",
      "KLD tensor(566.9620, grad_fn=<MulBackward>)\n",
      "BCE tensor(3658.2246, grad_fn=<BinaryCrossEntropyBackward>)\n",
      "KLD tensor(538.4956, grad_fn=<MulBackward>)\n"
     ]
    },
    {
     "name": "stderr",
     "output_type": "stream",
     "text": [
      "\n",
      "\n",
      "\n",
      "385it [00:06, 58.68it/s]\u001b[A\u001b[A\u001b[A\n",
      "\n",
      "\n",
      "392it [00:06, 58.75it/s]\u001b[A\u001b[A\u001b[A"
     ]
    },
    {
     "name": "stdout",
     "output_type": "stream",
     "text": [
      "BCE tensor(3929.3887, grad_fn=<BinaryCrossEntropyBackward>)\n",
      "KLD tensor(587.8816, grad_fn=<MulBackward>)\n",
      "BCE tensor(3839.7356, grad_fn=<BinaryCrossEntropyBackward>)\n",
      "KLD tensor(639.1252, grad_fn=<MulBackward>)\n",
      "BCE tensor(3988.0520, grad_fn=<BinaryCrossEntropyBackward>)\n",
      "KLD tensor(545.8580, grad_fn=<MulBackward>)\n",
      "BCE tensor(3719.2256, grad_fn=<BinaryCrossEntropyBackward>)\n",
      "KLD tensor(611.5420, grad_fn=<MulBackward>)\n",
      "BCE tensor(3838.5762, grad_fn=<BinaryCrossEntropyBackward>)\n",
      "KLD tensor(620.2047, grad_fn=<MulBackward>)\n",
      "BCE tensor(3981.0427, grad_fn=<BinaryCrossEntropyBackward>)\n",
      "KLD tensor(609.3444, grad_fn=<MulBackward>)\n",
      "BCE tensor(3921.2080, grad_fn=<BinaryCrossEntropyBackward>)\n",
      "KLD tensor(560.8801, grad_fn=<MulBackward>)\n",
      "BCE tensor(3622.5774, grad_fn=<BinaryCrossEntropyBackward>)\n",
      "KLD tensor(531.5925, grad_fn=<MulBackward>)\n",
      "BCE tensor(3813.4675, grad_fn=<BinaryCrossEntropyBackward>)\n",
      "KLD tensor(656.9067, grad_fn=<MulBackward>)\n",
      "BCE tensor(3989.6865, grad_fn=<BinaryCrossEntropyBackward>)\n",
      "KLD tensor(547.8314, grad_fn=<MulBackward>)\n",
      "BCE tensor(3709.6587, grad_fn=<BinaryCrossEntropyBackward>)"
     ]
    },
    {
     "name": "stderr",
     "output_type": "stream",
     "text": [
      "\n",
      "\n",
      "\n",
      "399it [00:06, 57.95it/s]\u001b[A\u001b[A\u001b[A"
     ]
    },
    {
     "name": "stdout",
     "output_type": "stream",
     "text": [
      "\n",
      "KLD tensor(602.4984, grad_fn=<MulBackward>)\n",
      "BCE tensor(3739.4072, grad_fn=<BinaryCrossEntropyBackward>)\n",
      "KLD tensor(557.8296, grad_fn=<MulBackward>)\n",
      "BCE tensor(3792.1047, grad_fn=<BinaryCrossEntropyBackward>)\n",
      "KLD tensor(616.3063, grad_fn=<MulBackward>)\n",
      "BCE tensor(3777.7468, grad_fn=<BinaryCrossEntropyBackward>)\n",
      "KLD tensor(567.0651, grad_fn=<MulBackward>)\n",
      "BCE tensor(3417.8181, grad_fn=<BinaryCrossEntropyBackward>)\n",
      "KLD tensor(572.3991, grad_fn=<MulBackward>)\n",
      "BCE tensor(3627.5632, grad_fn=<BinaryCrossEntropyBackward>)\n",
      "KLD tensor(590.6022, grad_fn=<MulBackward>)\n",
      "BCE tensor(3953.1438, grad_fn=<BinaryCrossEntropyBackward>)\n",
      "KLD tensor(655.9329, grad_fn=<MulBackward>)\n",
      "BCE tensor(3559.1580, grad_fn=<BinaryCrossEntropyBackward>)\n",
      "KLD tensor(592.7544, grad_fn=<MulBackward>)\n",
      "BCE tensor(3743.0479, grad_fn=<BinaryCrossEntropyBackward>)\n",
      "KLD tensor(586.6450, grad_fn=<MulBackward>)\n"
     ]
    },
    {
     "name": "stderr",
     "output_type": "stream",
     "text": [
      "\n",
      "\n",
      "\n",
      "405it [00:06, 57.96it/s]\u001b[A\u001b[A\u001b[A\n",
      "\n",
      "\n",
      "412it [00:07, 58.06it/s]\u001b[A\u001b[A\u001b[A"
     ]
    },
    {
     "name": "stdout",
     "output_type": "stream",
     "text": [
      "BCE tensor(3648.2441, grad_fn=<BinaryCrossEntropyBackward>)\n",
      "KLD tensor(567.7480, grad_fn=<MulBackward>)\n",
      "BCE tensor(3871.5457, grad_fn=<BinaryCrossEntropyBackward>)\n",
      "KLD tensor(576.8731, grad_fn=<MulBackward>)\n",
      "BCE tensor(3827.8843, grad_fn=<BinaryCrossEntropyBackward>)\n",
      "KLD tensor(618.6701, grad_fn=<MulBackward>)\n",
      "BCE tensor(4009.0227, grad_fn=<BinaryCrossEntropyBackward>)\n",
      "KLD tensor(612.1533, grad_fn=<MulBackward>)\n",
      "BCE tensor(3459.6401, grad_fn=<BinaryCrossEntropyBackward>)\n",
      "KLD tensor(604.8533, grad_fn=<MulBackward>)\n",
      "BCE tensor(3742.7131, grad_fn=<BinaryCrossEntropyBackward>)\n",
      "KLD tensor(535.9084, grad_fn=<MulBackward>)\n",
      "BCE tensor(3664.8960, grad_fn=<BinaryCrossEntropyBackward>)\n",
      "KLD tensor(667.3484, grad_fn=<MulBackward>)\n",
      "BCE tensor(3774.4089, grad_fn=<BinaryCrossEntropyBackward>)\n",
      "KLD tensor(605.5756, grad_fn=<MulBackward>)\n",
      "BCE tensor(4125.3584, grad_fn=<BinaryCrossEntropyBackward>)\n",
      "KLD tensor(576.2480, grad_fn=<MulBackward>)\n",
      "BCE tensor(3357.9065, grad_fn=<BinaryCrossEntropyBackward>)\n",
      "KLD tensor(600.2731, grad_fn=<MulBackward>)\n",
      "BCE tensor(3590.5544, grad_fn=<BinaryCrossEntropyBackward>)\n",
      "KLD tensor(637.5859, grad_fn=<MulBackward>)\n",
      "BCE tensor(4083.1240, grad_fn=<BinaryCrossEntropyBackward>)\n",
      "KLD tensor(615.3737, grad_fn=<MulBackward>)\n",
      "BCE tensor(3650.8445, grad_fn=<BinaryCrossEntropyBackward>)\n",
      "KLD tensor(623.7198, grad_fn=<MulBackward>)\n"
     ]
    },
    {
     "name": "stderr",
     "output_type": "stream",
     "text": [
      "\n",
      "\n",
      "\n",
      "419it [00:07, 58.12it/s]\u001b[A\u001b[A\u001b[A\n",
      "\n",
      "\n",
      "426it [00:07, 58.20it/s]\u001b[A\u001b[A\u001b[A"
     ]
    },
    {
     "name": "stdout",
     "output_type": "stream",
     "text": [
      "BCE tensor(3981.5029, grad_fn=<BinaryCrossEntropyBackward>)\n",
      "KLD tensor(612.9825, grad_fn=<MulBackward>)\n",
      "BCE tensor(3917.9390, grad_fn=<BinaryCrossEntropyBackward>)\n",
      "KLD tensor(628.1085, grad_fn=<MulBackward>)\n",
      "BCE tensor(3373.0552, grad_fn=<BinaryCrossEntropyBackward>)\n",
      "KLD tensor(595.4366, grad_fn=<MulBackward>)\n",
      "BCE tensor(3499.7451, grad_fn=<BinaryCrossEntropyBackward>)\n",
      "KLD tensor(683.0069, grad_fn=<MulBackward>)\n",
      "BCE tensor(3401.2317, grad_fn=<BinaryCrossEntropyBackward>)\n",
      "KLD tensor(648.9650, grad_fn=<MulBackward>)\n",
      "BCE tensor(3853.0361, grad_fn=<BinaryCrossEntropyBackward>)\n",
      "KLD tensor(646.3426, grad_fn=<MulBackward>)\n",
      "BCE tensor(3884.7461, grad_fn=<BinaryCrossEntropyBackward>)\n",
      "KLD tensor(638.1161, grad_fn=<MulBackward>)\n",
      "BCE tensor(3708.4636, grad_fn=<BinaryCrossEntropyBackward>)\n",
      "KLD tensor(646.9959, grad_fn=<MulBackward>)\n",
      "BCE tensor(3894.4880, grad_fn=<BinaryCrossEntropyBackward>)\n",
      "KLD tensor(665.9860, grad_fn=<MulBackward>)\n",
      "BCE tensor(3587.1938, grad_fn=<BinaryCrossEntropyBackward>)\n",
      "KLD tensor(593.1553, grad_fn=<MulBackward>)\n",
      "BCE tensor(3811.6172, grad_fn=<BinaryCrossEntropyBackward>)\n",
      "KLD tensor(621.7780, grad_fn=<MulBackward>)\n",
      "BCE tensor(3772.8669, grad_fn=<BinaryCrossEntropyBackward>)\n",
      "KLD tensor(593.8772, grad_fn=<MulBackward>)\n",
      "BCE tensor(4021.7344, grad_fn=<BinaryCrossEntropyBackward>)\n",
      "KLD tensor(674.5755, grad_fn=<MulBackward>)\n"
     ]
    },
    {
     "name": "stderr",
     "output_type": "stream",
     "text": [
      "\n",
      "\n",
      "\n",
      "433it [00:07, 58.25it/s]\u001b[A\u001b[A\u001b[A"
     ]
    },
    {
     "name": "stdout",
     "output_type": "stream",
     "text": [
      "BCE tensor(3761.7253, grad_fn=<BinaryCrossEntropyBackward>)\n",
      "KLD tensor(592.6689, grad_fn=<MulBackward>)\n",
      "BCE tensor(4036.8494, grad_fn=<BinaryCrossEntropyBackward>)\n",
      "KLD tensor(619.1069, grad_fn=<MulBackward>)\n",
      "BCE tensor(3691.1899, grad_fn=<BinaryCrossEntropyBackward>)\n",
      "KLD tensor(521.9205, grad_fn=<MulBackward>)\n",
      "BCE tensor(3653.3918, grad_fn=<BinaryCrossEntropyBackward>)\n",
      "KLD tensor(587.3235, grad_fn=<MulBackward>)\n",
      "BCE tensor(3831.9895, grad_fn=<BinaryCrossEntropyBackward>)\n",
      "KLD tensor(615.2019, grad_fn=<MulBackward>)\n",
      "BCE tensor(4019.3064, grad_fn=<BinaryCrossEntropyBackward>)\n",
      "KLD tensor(635.0212, grad_fn=<MulBackward>)\n",
      "BCE tensor(3810.1494, grad_fn=<BinaryCrossEntropyBackward>)\n",
      "KLD tensor(686.6015, grad_fn=<MulBackward>)\n",
      "BCE tensor(3408.3284, grad_fn=<BinaryCrossEntropyBackward>)\n",
      "KLD tensor(595.9213, grad_fn=<MulBackward>)\n",
      "BCE tensor(3784.2405, grad_fn=<BinaryCrossEntropyBackward>)\n",
      "KLD tensor(624.6464, grad_fn=<MulBackward>)\n",
      "BCE tensor(3394.2595, grad_fn=<BinaryCrossEntropyBackward>)\n",
      "KLD tensor(623.3185, grad_fn=<MulBackward>)\n",
      "BCE tensor(3626.2065, grad_fn=<BinaryCrossEntropyBackward>)\n",
      "KLD tensor(683.2551, grad_fn=<MulBackward>)\n"
     ]
    },
    {
     "name": "stderr",
     "output_type": "stream",
     "text": [
      "\n",
      "\n",
      "\n",
      "440it [00:07, 57.99it/s]\u001b[A\u001b[A\u001b[A\n",
      "\n",
      "\n",
      "446it [00:07, 58.01it/s]\u001b[A\u001b[A\u001b[A"
     ]
    },
    {
     "name": "stdout",
     "output_type": "stream",
     "text": [
      "BCE tensor(3579.4587, grad_fn=<BinaryCrossEntropyBackward>)\n",
      "KLD tensor(608.4485, grad_fn=<MulBackward>)\n",
      "BCE tensor(3766.1792, grad_fn=<BinaryCrossEntropyBackward>)\n",
      "KLD tensor(657.8992, grad_fn=<MulBackward>)\n",
      "BCE tensor(3855.3262, grad_fn=<BinaryCrossEntropyBackward>)\n",
      "KLD tensor(645.1422, grad_fn=<MulBackward>)\n",
      "BCE tensor(3607.0569, grad_fn=<BinaryCrossEntropyBackward>)\n",
      "KLD tensor(644.4904, grad_fn=<MulBackward>)\n",
      "BCE tensor(3677.6057, grad_fn=<BinaryCrossEntropyBackward>)\n",
      "KLD tensor(647.9102, grad_fn=<MulBackward>)\n",
      "BCE tensor(3920.7471, grad_fn=<BinaryCrossEntropyBackward>)\n",
      "KLD tensor(590.3813, grad_fn=<MulBackward>)\n",
      "BCE tensor(3652.8079, grad_fn=<BinaryCrossEntropyBackward>)\n",
      "KLD tensor(634.1195, grad_fn=<MulBackward>)\n",
      "BCE tensor(3649.7822, grad_fn=<BinaryCrossEntropyBackward>)\n",
      "KLD tensor(604.5020, grad_fn=<MulBackward>)\n",
      "BCE tensor(3138.1926, grad_fn=<BinaryCrossEntropyBackward>)\n",
      "KLD tensor(584.1016, grad_fn=<MulBackward>)\n",
      "BCE tensor(3478.5020, grad_fn=<BinaryCrossEntropyBackward>)\n",
      "KLD tensor(690.0441, grad_fn=<MulBackward>)\n",
      "BCE tensor(3753.8796, grad_fn=<BinaryCrossEntropyBackward>)\n",
      "KLD tensor(634.3651, grad_fn=<MulBackward>)\n",
      "BCE tensor(3744.7971, grad_fn=<BinaryCrossEntropyBackward>)\n",
      "KLD tensor(603.3696, grad_fn=<MulBackward>)\n"
     ]
    },
    {
     "name": "stderr",
     "output_type": "stream",
     "text": [
      "\n",
      "\n",
      "\n",
      "452it [00:07, 58.03it/s]\u001b[A\u001b[A\u001b[A\n",
      "\n",
      "\n",
      "459it [00:07, 58.08it/s]\u001b[A\u001b[A\u001b[A"
     ]
    },
    {
     "name": "stdout",
     "output_type": "stream",
     "text": [
      "BCE tensor(3584.0347, grad_fn=<BinaryCrossEntropyBackward>)\n",
      "KLD tensor(622.3734, grad_fn=<MulBackward>)\n",
      "BCE tensor(3602.0469, grad_fn=<BinaryCrossEntropyBackward>)\n",
      "KLD tensor(641.3611, grad_fn=<MulBackward>)\n",
      "BCE tensor(3797.0320, grad_fn=<BinaryCrossEntropyBackward>)\n",
      "KLD tensor(600.4235, grad_fn=<MulBackward>)\n",
      "BCE tensor(4211.6577, grad_fn=<BinaryCrossEntropyBackward>)\n",
      "KLD tensor(647.9378, grad_fn=<MulBackward>)\n",
      "BCE tensor(3740.1062, grad_fn=<BinaryCrossEntropyBackward>)\n",
      "KLD tensor(658.6943, grad_fn=<MulBackward>)\n",
      "BCE tensor(3539.0557, grad_fn=<BinaryCrossEntropyBackward>)\n",
      "KLD tensor(627.7507, grad_fn=<MulBackward>)\n",
      "BCE tensor(3561.4534, grad_fn=<BinaryCrossEntropyBackward>)\n",
      "KLD tensor(620.5912, grad_fn=<MulBackward>)\n",
      "BCE tensor(3421.3535, grad_fn=<BinaryCrossEntropyBackward>)\n",
      "KLD tensor(656.2476, grad_fn=<MulBackward>)\n",
      "BCE tensor(3470.5596, grad_fn=<BinaryCrossEntropyBackward>)\n",
      "KLD tensor(639.1539, grad_fn=<MulBackward>)\n",
      "BCE tensor(3547.0977, grad_fn=<BinaryCrossEntropyBackward>)\n",
      "KLD tensor(620.7872, grad_fn=<MulBackward>)\n",
      "BCE tensor(3793.7124, grad_fn=<BinaryCrossEntropyBackward>)\n",
      "KLD tensor(694.6871, grad_fn=<MulBackward>)\n",
      "BCE tensor(3574.0632, grad_fn=<BinaryCrossEntropyBackward>)\n",
      "KLD tensor(657.4802, grad_fn=<MulBackward>)\n",
      "BCE tensor(3472.9714, grad_fn=<BinaryCrossEntropyBackward>)\n",
      "KLD tensor(628.2520, grad_fn=<MulBackward>)"
     ]
    },
    {
     "name": "stderr",
     "output_type": "stream",
     "text": [
      "\n",
      "\n",
      "\n",
      "465it [00:08, 58.06it/s]\u001b[A\u001b[A\u001b[A\n",
      "\n",
      "\n",
      "471it [00:08, 58.05it/s]\u001b[A\u001b[A\u001b[A"
     ]
    },
    {
     "name": "stdout",
     "output_type": "stream",
     "text": [
      "\n",
      "BCE tensor(3627.3420, grad_fn=<BinaryCrossEntropyBackward>)\n",
      "KLD tensor(677.7806, grad_fn=<MulBackward>)\n",
      "BCE tensor(3615.7351, grad_fn=<BinaryCrossEntropyBackward>)\n",
      "KLD tensor(688.3356, grad_fn=<MulBackward>)\n",
      "BCE tensor(3827.7744, grad_fn=<BinaryCrossEntropyBackward>)\n",
      "KLD tensor(663.9100, grad_fn=<MulBackward>)\n",
      "BCE tensor(3437.0244, grad_fn=<BinaryCrossEntropyBackward>)\n",
      "KLD tensor(597.5615, grad_fn=<MulBackward>)\n",
      "BCE tensor(3821.4541, grad_fn=<BinaryCrossEntropyBackward>)\n",
      "KLD tensor(645.5211, grad_fn=<MulBackward>)\n",
      "BCE tensor(3360.3918, grad_fn=<BinaryCrossEntropyBackward>)\n",
      "KLD tensor(635.6281, grad_fn=<MulBackward>)\n",
      "BCE tensor(3455.6841, grad_fn=<BinaryCrossEntropyBackward>)\n",
      "KLD tensor(588.8075, grad_fn=<MulBackward>)\n",
      "BCE tensor(3522.4604, grad_fn=<BinaryCrossEntropyBackward>)\n",
      "KLD tensor(666.4232, grad_fn=<MulBackward>)\n",
      "BCE tensor(3687.7063, grad_fn=<BinaryCrossEntropyBackward>)\n",
      "KLD tensor(568.1375, grad_fn=<MulBackward>)\n",
      "BCE tensor(3905.3247, grad_fn=<BinaryCrossEntropyBackward>)\n",
      "KLD tensor(606.7224, grad_fn=<MulBackward>)\n",
      "BCE tensor(3485.1980, grad_fn=<BinaryCrossEntropyBackward>)\n",
      "KLD tensor(582.2201, grad_fn=<MulBackward>)\n",
      "BCE tensor(3155.0090, grad_fn=<BinaryCrossEntropyBackward>)\n",
      "KLD tensor(606.4220, grad_fn=<MulBackward>)\n"
     ]
    },
    {
     "name": "stderr",
     "output_type": "stream",
     "text": [
      "\n",
      "\n",
      "\n",
      "478it [00:08, 58.09it/s]\u001b[A\u001b[A\u001b[A\n",
      "\n",
      "\n",
      "485it [00:08, 58.17it/s]\u001b[A\u001b[A\u001b[A"
     ]
    },
    {
     "name": "stdout",
     "output_type": "stream",
     "text": [
      "BCE tensor(3538.9482, grad_fn=<BinaryCrossEntropyBackward>)\n",
      "KLD tensor(705.2917, grad_fn=<MulBackward>)\n",
      "BCE tensor(4018.0649, grad_fn=<BinaryCrossEntropyBackward>)\n",
      "KLD tensor(683.2462, grad_fn=<MulBackward>)\n",
      "BCE tensor(3474.2354, grad_fn=<BinaryCrossEntropyBackward>)\n",
      "KLD tensor(661.8523, grad_fn=<MulBackward>)\n",
      "BCE tensor(3672.3887, grad_fn=<BinaryCrossEntropyBackward>)\n",
      "KLD tensor(623.6292, grad_fn=<MulBackward>)\n",
      "BCE tensor(3609.3674, grad_fn=<BinaryCrossEntropyBackward>)\n",
      "KLD tensor(639.3636, grad_fn=<MulBackward>)\n",
      "BCE tensor(3357.4885, grad_fn=<BinaryCrossEntropyBackward>)\n",
      "KLD tensor(678.1718, grad_fn=<MulBackward>)\n",
      "BCE tensor(3654.8804, grad_fn=<BinaryCrossEntropyBackward>)\n",
      "KLD tensor(638.6511, grad_fn=<MulBackward>)\n",
      "BCE tensor(4038.1814, grad_fn=<BinaryCrossEntropyBackward>)\n",
      "KLD tensor(621.1707, grad_fn=<MulBackward>)\n",
      "BCE tensor(3456.1484, grad_fn=<BinaryCrossEntropyBackward>)\n",
      "KLD tensor(612.3397, grad_fn=<MulBackward>)\n",
      "BCE tensor(3853.7874, grad_fn=<BinaryCrossEntropyBackward>)\n",
      "KLD tensor(610.7108, grad_fn=<MulBackward>)\n",
      "BCE tensor(3485.7952, grad_fn=<BinaryCrossEntropyBackward>)\n",
      "KLD tensor(632.5226, grad_fn=<MulBackward>)\n",
      "BCE tensor(3639.2993, grad_fn=<BinaryCrossEntropyBackward>)\n",
      "KLD tensor(679.2903, grad_fn=<MulBackward>)\n",
      "BCE tensor(3683.7937, grad_fn=<BinaryCrossEntropyBackward>)\n",
      "KLD tensor(644.0082, grad_fn=<MulBackward>)\n"
     ]
    },
    {
     "name": "stderr",
     "output_type": "stream",
     "text": [
      "\n",
      "\n",
      "\n",
      "492it [00:08, 58.23it/s]\u001b[A\u001b[A\u001b[A\n",
      "\n",
      "\n",
      "499it [00:08, 58.31it/s]\u001b[A\u001b[A\u001b[A"
     ]
    },
    {
     "name": "stdout",
     "output_type": "stream",
     "text": [
      "BCE tensor(3493.2603, grad_fn=<BinaryCrossEntropyBackward>)\n",
      "KLD tensor(666.1588, grad_fn=<MulBackward>)\n",
      "BCE tensor(3391.9319, grad_fn=<BinaryCrossEntropyBackward>)\n",
      "KLD tensor(635.9636, grad_fn=<MulBackward>)\n",
      "BCE tensor(4112.3037, grad_fn=<BinaryCrossEntropyBackward>)\n",
      "KLD tensor(660.9468, grad_fn=<MulBackward>)\n",
      "BCE tensor(3619.6289, grad_fn=<BinaryCrossEntropyBackward>)\n",
      "KLD tensor(589.4832, grad_fn=<MulBackward>)\n",
      "BCE tensor(3219.9739, grad_fn=<BinaryCrossEntropyBackward>)\n",
      "KLD tensor(635.2459, grad_fn=<MulBackward>)\n",
      "BCE tensor(3735.0010, grad_fn=<BinaryCrossEntropyBackward>)\n",
      "KLD tensor(672.4117, grad_fn=<MulBackward>)\n",
      "BCE tensor(3807.6619, grad_fn=<BinaryCrossEntropyBackward>)\n",
      "KLD tensor(690.6032, grad_fn=<MulBackward>)\n",
      "BCE tensor(3454.7510, grad_fn=<BinaryCrossEntropyBackward>)\n",
      "KLD tensor(662.7941, grad_fn=<MulBackward>)\n",
      "BCE tensor(3385.4478, grad_fn=<BinaryCrossEntropyBackward>)\n",
      "KLD tensor(656.7930, grad_fn=<MulBackward>)\n",
      "BCE tensor(3501.9771, grad_fn=<BinaryCrossEntropyBackward>)\n",
      "KLD tensor(660.1356, grad_fn=<MulBackward>)\n",
      "BCE tensor(3918.5200, grad_fn=<BinaryCrossEntropyBackward>)\n",
      "KLD tensor(711.1157, grad_fn=<MulBackward>)\n",
      "BCE tensor(3592.9475, grad_fn=<BinaryCrossEntropyBackward>)\n",
      "KLD tensor(647.3788, grad_fn=<MulBackward>)\n",
      "BCE tensor(3256.9817, grad_fn=<BinaryCrossEntropyBackward>)\n",
      "KLD tensor(635.4105, grad_fn=<MulBackward>)\n"
     ]
    },
    {
     "name": "stderr",
     "output_type": "stream",
     "text": [
      "\n",
      "\n",
      "\n",
      "506it [00:08, 58.15it/s]\u001b[A\u001b[A\u001b[A"
     ]
    },
    {
     "name": "stdout",
     "output_type": "stream",
     "text": [
      "BCE tensor(3473.2947, grad_fn=<BinaryCrossEntropyBackward>)\n",
      "KLD tensor(701.7446, grad_fn=<MulBackward>)\n",
      "BCE tensor(3167.5139, grad_fn=<BinaryCrossEntropyBackward>)\n",
      "KLD tensor(618.0348, grad_fn=<MulBackward>)\n",
      "BCE tensor(3373.0254, grad_fn=<BinaryCrossEntropyBackward>)\n",
      "KLD tensor(691.2518, grad_fn=<MulBackward>)\n",
      "BCE tensor(3763.9629, grad_fn=<BinaryCrossEntropyBackward>)\n",
      "KLD tensor(686.1799, grad_fn=<MulBackward>)\n",
      "BCE tensor(3871.1538, grad_fn=<BinaryCrossEntropyBackward>)\n",
      "KLD tensor(735.5430, grad_fn=<MulBackward>)\n",
      "BCE tensor(3738.4644, grad_fn=<BinaryCrossEntropyBackward>)\n",
      "KLD tensor(640.8455, grad_fn=<MulBackward>)\n",
      "BCE tensor(3636.8345, grad_fn=<BinaryCrossEntropyBackward>)\n",
      "KLD tensor(653.8636, grad_fn=<MulBackward>)\n",
      "BCE tensor(3756.7117, grad_fn=<BinaryCrossEntropyBackward>)\n",
      "KLD tensor(640.3155, grad_fn=<MulBackward>)\n",
      "BCE tensor(3765.1768, grad_fn=<BinaryCrossEntropyBackward>)\n",
      "KLD tensor(686.0615, grad_fn=<MulBackward>)\n",
      "BCE tensor(3807.3879, grad_fn=<BinaryCrossEntropyBackward>)\n",
      "KLD tensor(636.6774, grad_fn=<MulBackward>)\n"
     ]
    },
    {
     "name": "stderr",
     "output_type": "stream",
     "text": [
      "\n",
      "\n",
      "\n",
      "512it [00:08, 57.64it/s]\u001b[A\u001b[A\u001b[A\n",
      "\n",
      "\n",
      "518it [00:09, 57.55it/s]\u001b[A\u001b[A\u001b[A"
     ]
    },
    {
     "name": "stdout",
     "output_type": "stream",
     "text": [
      "BCE tensor(3542.0356, grad_fn=<BinaryCrossEntropyBackward>)\n",
      "KLD tensor(627.1050, grad_fn=<MulBackward>)\n",
      "BCE tensor(3508.7803, grad_fn=<BinaryCrossEntropyBackward>)\n",
      "KLD tensor(651.9302, grad_fn=<MulBackward>)\n",
      "BCE tensor(3754.0063, grad_fn=<BinaryCrossEntropyBackward>)\n",
      "KLD tensor(683.5314, grad_fn=<MulBackward>)\n",
      "BCE tensor(3364.4250, grad_fn=<BinaryCrossEntropyBackward>)\n",
      "KLD tensor(609.9472, grad_fn=<MulBackward>)\n",
      "BCE tensor(3689.6287, grad_fn=<BinaryCrossEntropyBackward>)\n",
      "KLD tensor(645.6761, grad_fn=<MulBackward>)\n",
      "BCE tensor(3001.1401, grad_fn=<BinaryCrossEntropyBackward>)\n",
      "KLD tensor(603.1114, grad_fn=<MulBackward>)\n",
      "BCE tensor(3771.8503, grad_fn=<BinaryCrossEntropyBackward>)\n",
      "KLD tensor(681.7180, grad_fn=<MulBackward>)\n",
      "BCE tensor(3545.5056, grad_fn=<BinaryCrossEntropyBackward>)\n",
      "KLD tensor(638.2529, grad_fn=<MulBackward>)\n",
      "BCE tensor(3510.0159, grad_fn=<BinaryCrossEntropyBackward>)\n",
      "KLD tensor(613.8813, grad_fn=<MulBackward>)\n"
     ]
    },
    {
     "name": "stderr",
     "output_type": "stream",
     "text": [
      "\n",
      "\n",
      "\n",
      "524it [00:09, 57.57it/s]\u001b[A\u001b[A\u001b[A\n",
      "\n",
      "\n",
      "530it [00:09, 57.58it/s]\u001b[A\u001b[A\u001b[A"
     ]
    },
    {
     "name": "stdout",
     "output_type": "stream",
     "text": [
      "BCE tensor(3627.1855, grad_fn=<BinaryCrossEntropyBackward>)\n",
      "KLD tensor(674.6058, grad_fn=<MulBackward>)\n",
      "BCE tensor(3370.3721, grad_fn=<BinaryCrossEntropyBackward>)\n",
      "KLD tensor(639.7011, grad_fn=<MulBackward>)\n",
      "BCE tensor(3654.6421, grad_fn=<BinaryCrossEntropyBackward>)\n",
      "KLD tensor(638.6021, grad_fn=<MulBackward>)\n",
      "BCE tensor(3355.4526, grad_fn=<BinaryCrossEntropyBackward>)\n",
      "KLD tensor(627.1719, grad_fn=<MulBackward>)\n",
      "BCE tensor(3502.8103, grad_fn=<BinaryCrossEntropyBackward>)\n",
      "KLD tensor(613.6099, grad_fn=<MulBackward>)\n",
      "BCE tensor(3734.7029, grad_fn=<BinaryCrossEntropyBackward>)\n",
      "KLD tensor(676.0340, grad_fn=<MulBackward>)\n",
      "BCE tensor(3507.2158, grad_fn=<BinaryCrossEntropyBackward>)\n",
      "KLD tensor(646.2261, grad_fn=<MulBackward>)\n",
      "BCE tensor(3104.7625, grad_fn=<BinaryCrossEntropyBackward>)\n",
      "KLD tensor(622.6088, grad_fn=<MulBackward>)\n",
      "BCE tensor(3769.8804, grad_fn=<BinaryCrossEntropyBackward>)\n",
      "KLD tensor(647.6030, grad_fn=<MulBackward>)\n",
      "BCE tensor(3427.6069, grad_fn=<BinaryCrossEntropyBackward>)\n",
      "KLD tensor(582.3163, grad_fn=<MulBackward>)\n",
      "BCE tensor(3749.0178, grad_fn=<BinaryCrossEntropyBackward>)\n",
      "KLD tensor(626.6622, grad_fn=<MulBackward>)\n",
      "BCE tensor(3335.5461, grad_fn=<BinaryCrossEntropyBackward>)\n",
      "KLD tensor(607.8797, grad_fn=<MulBackward>)\n"
     ]
    },
    {
     "name": "stderr",
     "output_type": "stream",
     "text": [
      "\n",
      "\n",
      "\n",
      "536it [00:09, 57.58it/s]\u001b[A\u001b[A\u001b[A\n",
      "\n",
      "\n",
      "543it [00:09, 57.63it/s]\u001b[A\u001b[A\u001b[A"
     ]
    },
    {
     "name": "stdout",
     "output_type": "stream",
     "text": [
      "BCE tensor(3675.5222, grad_fn=<BinaryCrossEntropyBackward>)\n",
      "KLD tensor(656.1240, grad_fn=<MulBackward>)\n",
      "BCE tensor(3941.7874, grad_fn=<BinaryCrossEntropyBackward>)\n",
      "KLD tensor(661.3674, grad_fn=<MulBackward>)\n",
      "BCE tensor(3601.0051, grad_fn=<BinaryCrossEntropyBackward>)\n",
      "KLD tensor(599.2310, grad_fn=<MulBackward>)\n",
      "BCE tensor(3588.1208, grad_fn=<BinaryCrossEntropyBackward>)\n",
      "KLD tensor(673.7982, grad_fn=<MulBackward>)\n",
      "BCE tensor(3433.8442, grad_fn=<BinaryCrossEntropyBackward>)\n",
      "KLD tensor(728.5640, grad_fn=<MulBackward>)\n",
      "BCE tensor(3994.4773, grad_fn=<BinaryCrossEntropyBackward>)\n",
      "KLD tensor(644.9094, grad_fn=<MulBackward>)\n",
      "BCE tensor(3473.5784, grad_fn=<BinaryCrossEntropyBackward>)\n",
      "KLD tensor(694.7274, grad_fn=<MulBackward>)\n",
      "BCE tensor(3350.8420, grad_fn=<BinaryCrossEntropyBackward>)\n",
      "KLD tensor(682.8445, grad_fn=<MulBackward>)\n",
      "BCE tensor(3523.0415, grad_fn=<BinaryCrossEntropyBackward>)\n",
      "KLD tensor(671.9330, grad_fn=<MulBackward>)\n",
      "BCE tensor(3391.4863, grad_fn=<BinaryCrossEntropyBackward>)\n",
      "KLD tensor(670.2634, grad_fn=<MulBackward>)\n",
      "BCE tensor(3478.8750, grad_fn=<BinaryCrossEntropyBackward>)\n",
      "KLD tensor(685.1877, grad_fn=<MulBackward>)\n",
      "BCE tensor(3546.5767, grad_fn=<BinaryCrossEntropyBackward>)\n",
      "KLD tensor(638.2774, grad_fn=<MulBackward>)\n",
      "BCE tensor(3208.2173, grad_fn=<BinaryCrossEntropyBackward>)\n",
      "KLD tensor(735.7257, grad_fn=<MulBackward>)\n"
     ]
    },
    {
     "name": "stderr",
     "output_type": "stream",
     "text": [
      "\n",
      "\n",
      "\n",
      "550it [00:09, 57.68it/s]\u001b[A\u001b[A\u001b[A\n",
      "\n",
      "\n",
      "556it [00:09, 57.70it/s]\u001b[A\u001b[A\u001b[A"
     ]
    },
    {
     "name": "stdout",
     "output_type": "stream",
     "text": [
      "BCE tensor(3267.2742, grad_fn=<BinaryCrossEntropyBackward>)\n",
      "KLD tensor(735.7858, grad_fn=<MulBackward>)\n",
      "BCE tensor(3341.6294, grad_fn=<BinaryCrossEntropyBackward>)\n",
      "KLD tensor(661.1406, grad_fn=<MulBackward>)\n",
      "BCE tensor(3726.9863, grad_fn=<BinaryCrossEntropyBackward>)\n",
      "KLD tensor(738.4257, grad_fn=<MulBackward>)\n",
      "BCE tensor(3721.3486, grad_fn=<BinaryCrossEntropyBackward>)\n",
      "KLD tensor(650.1186, grad_fn=<MulBackward>)\n",
      "BCE tensor(3495.9641, grad_fn=<BinaryCrossEntropyBackward>)\n",
      "KLD tensor(699.3130, grad_fn=<MulBackward>)\n",
      "BCE tensor(3664.6213, grad_fn=<BinaryCrossEntropyBackward>)\n",
      "KLD tensor(678.1404, grad_fn=<MulBackward>)\n",
      "BCE tensor(3631.4763, grad_fn=<BinaryCrossEntropyBackward>)\n",
      "KLD tensor(647.1460, grad_fn=<MulBackward>)\n",
      "BCE tensor(3467.1636, grad_fn=<BinaryCrossEntropyBackward>)\n",
      "KLD tensor(674.4622, grad_fn=<MulBackward>)\n",
      "BCE tensor(3294.4756, grad_fn=<BinaryCrossEntropyBackward>)\n",
      "KLD tensor(681.9008, grad_fn=<MulBackward>)\n",
      "BCE tensor(3443.3455, grad_fn=<BinaryCrossEntropyBackward>)\n",
      "KLD tensor(634.5463, grad_fn=<MulBackward>)\n",
      "BCE tensor(3587.5774, grad_fn=<BinaryCrossEntropyBackward>)\n",
      "KLD tensor(658.4523, grad_fn=<MulBackward>)\n",
      "BCE tensor(3355.7185, grad_fn=<BinaryCrossEntropyBackward>)\n",
      "KLD tensor(625.5513, grad_fn=<MulBackward>)\n",
      "BCE tensor(3257.2717, grad_fn=<BinaryCrossEntropyBackward>)\n",
      "KLD tensor(692.4697, grad_fn=<MulBackward>)\n"
     ]
    },
    {
     "name": "stderr",
     "output_type": "stream",
     "text": [
      "\n",
      "\n",
      "\n",
      "563it [00:09, 57.74it/s]\u001b[A\u001b[A\u001b[A\n",
      "\n",
      "\n",
      "569it [00:09, 57.73it/s]\u001b[A\u001b[A\u001b[A"
     ]
    },
    {
     "name": "stdout",
     "output_type": "stream",
     "text": [
      "BCE tensor(3797.8171, grad_fn=<BinaryCrossEntropyBackward>)\n",
      "KLD tensor(639.2563, grad_fn=<MulBackward>)\n",
      "BCE tensor(3686.7153, grad_fn=<BinaryCrossEntropyBackward>)\n",
      "KLD tensor(681.1913, grad_fn=<MulBackward>)\n",
      "BCE tensor(3447.4780, grad_fn=<BinaryCrossEntropyBackward>)\n",
      "KLD tensor(590.4330, grad_fn=<MulBackward>)\n",
      "BCE tensor(3685.9968, grad_fn=<BinaryCrossEntropyBackward>)\n",
      "KLD tensor(634.4368, grad_fn=<MulBackward>)\n",
      "BCE tensor(3569.9880, grad_fn=<BinaryCrossEntropyBackward>)\n",
      "KLD tensor(682.1655, grad_fn=<MulBackward>)\n",
      "BCE tensor(3804.0447, grad_fn=<BinaryCrossEntropyBackward>)\n",
      "KLD tensor(630.7180, grad_fn=<MulBackward>)\n",
      "BCE tensor(3534.0798, grad_fn=<BinaryCrossEntropyBackward>)\n",
      "KLD tensor(643.4014, grad_fn=<MulBackward>)\n",
      "BCE tensor(3617.9143, grad_fn=<BinaryCrossEntropyBackward>)\n",
      "KLD tensor(662.8356, grad_fn=<MulBackward>)\n",
      "BCE tensor(3326.5613, grad_fn=<BinaryCrossEntropyBackward>)\n",
      "KLD tensor(695.2028, grad_fn=<MulBackward>)\n",
      "BCE tensor(3566.0740, grad_fn=<BinaryCrossEntropyBackward>)\n",
      "KLD tensor(634.2029, grad_fn=<MulBackward>)\n",
      "BCE tensor(3390.9050, grad_fn=<BinaryCrossEntropyBackward>)\n",
      "KLD tensor(684.1947, grad_fn=<MulBackward>)\n",
      "BCE tensor(3356.5271, grad_fn=<BinaryCrossEntropyBackward>)\n",
      "KLD tensor(632.8445, grad_fn=<MulBackward>)\n"
     ]
    },
    {
     "name": "stderr",
     "output_type": "stream",
     "text": [
      "\n",
      "\n",
      "\n",
      "575it [00:09, 57.70it/s]\u001b[A\u001b[A\u001b[A\n",
      "\n",
      "\n",
      "581it [00:10, 57.68it/s]\u001b[A\u001b[A\u001b[A"
     ]
    },
    {
     "name": "stdout",
     "output_type": "stream",
     "text": [
      "BCE tensor(3451.0991, grad_fn=<BinaryCrossEntropyBackward>)\n",
      "KLD tensor(655.4897, grad_fn=<MulBackward>)\n",
      "BCE tensor(3596.9849, grad_fn=<BinaryCrossEntropyBackward>)\n",
      "KLD tensor(600.0241, grad_fn=<MulBackward>)\n",
      "BCE tensor(3505.2520, grad_fn=<BinaryCrossEntropyBackward>)\n",
      "KLD tensor(604.7169, grad_fn=<MulBackward>)\n",
      "BCE tensor(3562.0698, grad_fn=<BinaryCrossEntropyBackward>)\n",
      "KLD tensor(708.2476, grad_fn=<MulBackward>)\n",
      "BCE tensor(3512.7991, grad_fn=<BinaryCrossEntropyBackward>)\n",
      "KLD tensor(675.0083, grad_fn=<MulBackward>)\n",
      "BCE tensor(3466.0657, grad_fn=<BinaryCrossEntropyBackward>)\n",
      "KLD tensor(683.9356, grad_fn=<MulBackward>)\n",
      "BCE tensor(3396.1843, grad_fn=<BinaryCrossEntropyBackward>)\n",
      "KLD tensor(706.6334, grad_fn=<MulBackward>)\n",
      "BCE tensor(3755.3359, grad_fn=<BinaryCrossEntropyBackward>)\n",
      "KLD tensor(709.9373, grad_fn=<MulBackward>)\n",
      "BCE tensor(3612.4578, grad_fn=<BinaryCrossEntropyBackward>)\n",
      "KLD tensor(680.2885, grad_fn=<MulBackward>)\n",
      "BCE tensor(3421.7800, grad_fn=<BinaryCrossEntropyBackward>)\n",
      "KLD tensor(607.0930, grad_fn=<MulBackward>)\n",
      "BCE tensor(3433.5872, grad_fn=<BinaryCrossEntropyBackward>)\n",
      "KLD tensor(648.6909, grad_fn=<MulBackward>)\n",
      "BCE tensor(3376.9058, grad_fn=<BinaryCrossEntropyBackward>)\n",
      "KLD tensor(715.8051, grad_fn=<MulBackward>)\n"
     ]
    },
    {
     "name": "stderr",
     "output_type": "stream",
     "text": [
      "\n",
      "\n",
      "\n",
      "587it [00:10, 57.65it/s]\u001b[A\u001b[A\u001b[A\n",
      "\n",
      "\n",
      "593it [00:10, 57.65it/s]\u001b[A\u001b[A\u001b[A"
     ]
    },
    {
     "name": "stdout",
     "output_type": "stream",
     "text": [
      "BCE tensor(3451.3772, grad_fn=<BinaryCrossEntropyBackward>)\n",
      "KLD tensor(703.1235, grad_fn=<MulBackward>)\n",
      "BCE tensor(3415.9260, grad_fn=<BinaryCrossEntropyBackward>)\n",
      "KLD tensor(672.9898, grad_fn=<MulBackward>)\n",
      "BCE tensor(3560.8367, grad_fn=<BinaryCrossEntropyBackward>)\n",
      "KLD tensor(644.4008, grad_fn=<MulBackward>)\n",
      "BCE tensor(3494.8884, grad_fn=<BinaryCrossEntropyBackward>)\n",
      "KLD tensor(677.5375, grad_fn=<MulBackward>)\n",
      "BCE tensor(3233.4578, grad_fn=<BinaryCrossEntropyBackward>)\n",
      "KLD tensor(659.5172, grad_fn=<MulBackward>)\n",
      "BCE tensor(3600.4197, grad_fn=<BinaryCrossEntropyBackward>)\n",
      "KLD tensor(714.7588, grad_fn=<MulBackward>)\n",
      "BCE tensor(3263.3113, grad_fn=<BinaryCrossEntropyBackward>)\n",
      "KLD tensor(681.4141, grad_fn=<MulBackward>)\n",
      "BCE tensor(3377.2380, grad_fn=<BinaryCrossEntropyBackward>)\n",
      "KLD tensor(700.7500, grad_fn=<MulBackward>)\n",
      "BCE tensor(3009.7517, grad_fn=<BinaryCrossEntropyBackward>)\n",
      "KLD tensor(632.9756, grad_fn=<MulBackward>)\n",
      "BCE tensor(3067.7910, grad_fn=<BinaryCrossEntropyBackward>)\n",
      "KLD tensor(610.6153, grad_fn=<MulBackward>)\n",
      "BCE tensor(3326.2966, grad_fn=<BinaryCrossEntropyBackward>)\n",
      "KLD tensor(606.2391, grad_fn=<MulBackward>)\n",
      "BCE tensor(3487.5752, grad_fn=<BinaryCrossEntropyBackward>)\n",
      "KLD tensor(698.6801, grad_fn=<MulBackward>)\n"
     ]
    },
    {
     "name": "stderr",
     "output_type": "stream",
     "text": [
      "\n",
      "\n",
      "\n",
      "599it [00:10, 57.58it/s]\u001b[A\u001b[A\u001b[A\n",
      "\n",
      "\n",
      "606it [00:10, 57.63it/s]"
     ]
    },
    {
     "name": "stdout",
     "output_type": "stream",
     "text": [
      "BCE tensor(3413.2415, grad_fn=<BinaryCrossEntropyBackward>)\n",
      "KLD tensor(674.3586, grad_fn=<MulBackward>)\n",
      "BCE tensor(3675.9985, grad_fn=<BinaryCrossEntropyBackward>)\n",
      "KLD tensor(668.1782, grad_fn=<MulBackward>)\n",
      "BCE tensor(3114.6592, grad_fn=<BinaryCrossEntropyBackward>)\n",
      "KLD tensor(588.9728, grad_fn=<MulBackward>)\n",
      "BCE tensor(3407.9614, grad_fn=<BinaryCrossEntropyBackward>)\n",
      "KLD tensor(630.8342, grad_fn=<MulBackward>)\n",
      "BCE tensor(3504.7170, grad_fn=<BinaryCrossEntropyBackward>)\n",
      "KLD tensor(651.7471, grad_fn=<MulBackward>)\n",
      "BCE tensor(3441.2642, grad_fn=<BinaryCrossEntropyBackward>)\n",
      "KLD tensor(657.5315, grad_fn=<MulBackward>)\n",
      "BCE tensor(3444.2478, grad_fn=<BinaryCrossEntropyBackward>)\n",
      "KLD tensor(622.7390, grad_fn=<MulBackward>)\n",
      "BCE tensor(3458.9009, grad_fn=<BinaryCrossEntropyBackward>)\n",
      "KLD tensor(677.7428, grad_fn=<MulBackward>)\n",
      "BCE tensor(3481.6587, grad_fn=<BinaryCrossEntropyBackward>)\n",
      "KLD tensor(657.6991, grad_fn=<MulBackward>)\n",
      "BCE tensor(3809.5806, grad_fn=<BinaryCrossEntropyBackward>)\n",
      "KLD tensor(691.8758, grad_fn=<MulBackward>)\n",
      "BCE tensor(3397.0413, grad_fn=<BinaryCrossEntropyBackward>)\n",
      "KLD tensor(678.9209, grad_fn=<MulBackward>)\n",
      "BCE tensor(3125.8533, grad_fn=<BinaryCrossEntropyBackward>)\n",
      "KLD tensor(684.0754, grad_fn=<MulBackward>)\n"
     ]
    },
    {
     "name": "stderr",
     "output_type": "stream",
     "text": [
      "\u001b[A\u001b[A\u001b[A\n",
      "\n",
      "\n",
      "612it [00:10, 57.63it/s]\u001b[A\u001b[A\u001b[A"
     ]
    },
    {
     "name": "stdout",
     "output_type": "stream",
     "text": [
      "BCE tensor(3279.7446, grad_fn=<BinaryCrossEntropyBackward>)\n",
      "KLD tensor(661.9462, grad_fn=<MulBackward>)\n",
      "BCE tensor(3770.6165, grad_fn=<BinaryCrossEntropyBackward>)\n",
      "KLD tensor(754.0203, grad_fn=<MulBackward>)\n",
      "BCE tensor(3335.1802, grad_fn=<BinaryCrossEntropyBackward>)\n",
      "KLD tensor(639.4210, grad_fn=<MulBackward>)\n",
      "BCE tensor(3292.1089, grad_fn=<BinaryCrossEntropyBackward>)\n",
      "KLD tensor(649.3951, grad_fn=<MulBackward>)\n",
      "BCE tensor(3251.9114, grad_fn=<BinaryCrossEntropyBackward>)\n",
      "KLD tensor(692.3602, grad_fn=<MulBackward>)\n",
      "BCE tensor(3157.6880, grad_fn=<BinaryCrossEntropyBackward>)\n",
      "KLD tensor(705.1481, grad_fn=<MulBackward>)\n",
      "BCE tensor(3175.7976, grad_fn=<BinaryCrossEntropyBackward>)\n",
      "KLD tensor(683.0526, grad_fn=<MulBackward>)\n",
      "BCE tensor(2937.1411, grad_fn=<BinaryCrossEntropyBackward>)\n",
      "KLD tensor(676.2303, grad_fn=<MulBackward>)\n",
      "BCE tensor(3351.2136, grad_fn=<BinaryCrossEntropyBackward>)\n",
      "KLD tensor(669.7283, grad_fn=<MulBackward>)\n",
      "BCE tensor(3194.4221, grad_fn=<BinaryCrossEntropyBackward>)\n",
      "KLD tensor(692.6691, grad_fn=<MulBackward>)\n",
      "BCE tensor(3239.4736, grad_fn=<BinaryCrossEntropyBackward>)\n",
      "KLD tensor(729.1767, grad_fn=<MulBackward>)\n",
      "BCE tensor(3694.0208, grad_fn=<BinaryCrossEntropyBackward>)\n",
      "KLD tensor(754.5918, grad_fn=<MulBackward>)\n",
      "BCE tensor(3594.5134, grad_fn=<BinaryCrossEntropyBackward>)\n",
      "KLD tensor(696.6257, grad_fn=<MulBackward>)\n"
     ]
    },
    {
     "name": "stderr",
     "output_type": "stream",
     "text": [
      "\n",
      "\n",
      "\n",
      "619it [00:10, 57.68it/s]\u001b[A\u001b[A\u001b[A\n",
      "\n",
      "\n",
      "626it [00:10, 57.72it/s]\u001b[A\u001b[A\u001b[A"
     ]
    },
    {
     "name": "stdout",
     "output_type": "stream",
     "text": [
      "BCE tensor(3393.0195, grad_fn=<BinaryCrossEntropyBackward>)\n",
      "KLD tensor(658.3061, grad_fn=<MulBackward>)\n",
      "BCE tensor(3398.8616, grad_fn=<BinaryCrossEntropyBackward>)\n",
      "KLD tensor(640.3199, grad_fn=<MulBackward>)\n",
      "BCE tensor(3528.1064, grad_fn=<BinaryCrossEntropyBackward>)\n",
      "KLD tensor(600.2654, grad_fn=<MulBackward>)\n",
      "BCE tensor(3296.6057, grad_fn=<BinaryCrossEntropyBackward>)\n",
      "KLD tensor(672.9541, grad_fn=<MulBackward>)\n",
      "BCE tensor(3333.6875, grad_fn=<BinaryCrossEntropyBackward>)\n",
      "KLD tensor(687.2756, grad_fn=<MulBackward>)\n",
      "BCE tensor(3070.2878, grad_fn=<BinaryCrossEntropyBackward>)\n",
      "KLD tensor(677.3582, grad_fn=<MulBackward>)\n",
      "BCE tensor(3249.6477, grad_fn=<BinaryCrossEntropyBackward>)\n",
      "KLD tensor(683.1470, grad_fn=<MulBackward>)\n",
      "BCE tensor(3563.6887, grad_fn=<BinaryCrossEntropyBackward>)\n",
      "KLD tensor(662.4089, grad_fn=<MulBackward>)\n",
      "BCE tensor(3490.4724, grad_fn=<BinaryCrossEntropyBackward>)\n",
      "KLD tensor(719.8253, grad_fn=<MulBackward>)\n",
      "BCE tensor(3158.1807, grad_fn=<BinaryCrossEntropyBackward>)\n",
      "KLD tensor(712.6829, grad_fn=<MulBackward>)\n",
      "BCE tensor(3393.9980, grad_fn=<BinaryCrossEntropyBackward>)\n",
      "KLD tensor(708.1268, grad_fn=<MulBackward>)\n"
     ]
    },
    {
     "name": "stderr",
     "output_type": "stream",
     "text": [
      "\n",
      "\n",
      "\n",
      "632it [00:10, 57.51it/s]\u001b[A\u001b[A\u001b[A\n",
      "\n",
      "\n",
      "638it [00:11, 57.52it/s]\u001b[A\u001b[A\u001b[A"
     ]
    },
    {
     "name": "stdout",
     "output_type": "stream",
     "text": [
      "BCE tensor(3254.1858, grad_fn=<BinaryCrossEntropyBackward>)\n",
      "KLD tensor(675.9606, grad_fn=<MulBackward>)\n",
      "BCE tensor(3263.0593, grad_fn=<BinaryCrossEntropyBackward>)\n",
      "KLD tensor(654.2500, grad_fn=<MulBackward>)\n",
      "BCE tensor(3470.1475, grad_fn=<BinaryCrossEntropyBackward>)\n",
      "KLD tensor(709.2424, grad_fn=<MulBackward>)\n",
      "BCE tensor(3334.5742, grad_fn=<BinaryCrossEntropyBackward>)\n",
      "KLD tensor(648.9234, grad_fn=<MulBackward>)\n",
      "BCE tensor(3653.9775, grad_fn=<BinaryCrossEntropyBackward>)\n",
      "KLD tensor(686.2028, grad_fn=<MulBackward>)\n",
      "BCE tensor(3326.9604, grad_fn=<BinaryCrossEntropyBackward>)\n",
      "KLD tensor(695.6417, grad_fn=<MulBackward>)\n",
      "BCE tensor(3247.3850, grad_fn=<BinaryCrossEntropyBackward>)\n",
      "KLD tensor(662.5298, grad_fn=<MulBackward>)\n",
      "BCE tensor(3247.4619, grad_fn=<BinaryCrossEntropyBackward>)\n",
      "KLD tensor(704.8856, grad_fn=<MulBackward>)\n",
      "BCE tensor(3425.7991, grad_fn=<BinaryCrossEntropyBackward>)\n",
      "KLD tensor(703.3400, grad_fn=<MulBackward>)\n",
      "BCE tensor(3166.6270, grad_fn=<BinaryCrossEntropyBackward>)\n",
      "KLD tensor(632.1912, grad_fn=<MulBackward>)\n",
      "BCE tensor(3016.6182, grad_fn=<BinaryCrossEntropyBackward>)\n",
      "KLD tensor(708.8447, grad_fn=<MulBackward>)\n",
      "BCE tensor(2957.7024, grad_fn=<BinaryCrossEntropyBackward>)\n",
      "KLD tensor(653.9291, grad_fn=<MulBackward>)\n"
     ]
    },
    {
     "name": "stderr",
     "output_type": "stream",
     "text": [
      "\n",
      "\n",
      "\n",
      "645it [00:11, 57.54it/s]\u001b[A\u001b[A\u001b[A\n",
      "\n",
      "\n",
      "651it [00:11, 57.54it/s]\u001b[A\u001b[A\u001b[A"
     ]
    },
    {
     "name": "stdout",
     "output_type": "stream",
     "text": [
      "BCE tensor(3759.7642, grad_fn=<BinaryCrossEntropyBackward>)\n",
      "KLD tensor(615.4260, grad_fn=<MulBackward>)\n",
      "BCE tensor(3300.1211, grad_fn=<BinaryCrossEntropyBackward>)\n",
      "KLD tensor(647.7192, grad_fn=<MulBackward>)\n",
      "BCE tensor(3389.7961, grad_fn=<BinaryCrossEntropyBackward>)\n",
      "KLD tensor(653.2597, grad_fn=<MulBackward>)\n",
      "BCE tensor(3260.1697, grad_fn=<BinaryCrossEntropyBackward>)\n",
      "KLD tensor(658.6190, grad_fn=<MulBackward>)\n",
      "BCE tensor(3463.9834, grad_fn=<BinaryCrossEntropyBackward>)\n",
      "KLD tensor(648.5284, grad_fn=<MulBackward>)\n",
      "BCE tensor(3191.8186, grad_fn=<BinaryCrossEntropyBackward>)\n",
      "KLD tensor(632.7300, grad_fn=<MulBackward>)\n",
      "BCE tensor(3407.1736, grad_fn=<BinaryCrossEntropyBackward>)\n",
      "KLD tensor(647.1824, grad_fn=<MulBackward>)\n",
      "BCE tensor(3155.8567, grad_fn=<BinaryCrossEntropyBackward>)\n",
      "KLD tensor(689.4720, grad_fn=<MulBackward>)\n",
      "BCE tensor(3551.5027, grad_fn=<BinaryCrossEntropyBackward>)\n",
      "KLD tensor(677.5563, grad_fn=<MulBackward>)\n",
      "BCE tensor(3433.9163, grad_fn=<BinaryCrossEntropyBackward>)\n",
      "KLD tensor(636.2467, grad_fn=<MulBackward>)\n",
      "BCE tensor(3295.8062, grad_fn=<BinaryCrossEntropyBackward>)\n",
      "KLD tensor(651.4208, grad_fn=<MulBackward>)\n",
      "BCE tensor(3454.0505, grad_fn=<BinaryCrossEntropyBackward>)\n",
      "KLD tensor(678.2172, grad_fn=<MulBackward>)\n"
     ]
    },
    {
     "name": "stderr",
     "output_type": "stream",
     "text": [
      "\n",
      "\n",
      "\n",
      "657it [00:11, 57.53it/s]\u001b[A\u001b[A\u001b[A\n",
      "\n",
      "\n",
      "663it [00:11, 57.45it/s]\u001b[A\u001b[A\u001b[A"
     ]
    },
    {
     "name": "stdout",
     "output_type": "stream",
     "text": [
      "BCE tensor(3158.0103, grad_fn=<BinaryCrossEntropyBackward>)\n",
      "KLD tensor(690.8674, grad_fn=<MulBackward>)\n",
      "BCE tensor(3310.9004, grad_fn=<BinaryCrossEntropyBackward>)\n",
      "KLD tensor(742.2606, grad_fn=<MulBackward>)\n",
      "BCE tensor(3085.8711, grad_fn=<BinaryCrossEntropyBackward>)\n",
      "KLD tensor(731.2598, grad_fn=<MulBackward>)\n",
      "BCE tensor(3454.7734, grad_fn=<BinaryCrossEntropyBackward>)\n",
      "KLD tensor(737.6758, grad_fn=<MulBackward>)\n",
      "BCE tensor(3161.6704, grad_fn=<BinaryCrossEntropyBackward>)\n",
      "KLD tensor(681.8140, grad_fn=<MulBackward>)\n",
      "BCE tensor(3255.5027, grad_fn=<BinaryCrossEntropyBackward>)\n",
      "KLD tensor(714.5174, grad_fn=<MulBackward>)\n",
      "BCE tensor(3247.5117, grad_fn=<BinaryCrossEntropyBackward>)\n",
      "KLD tensor(699.6144, grad_fn=<MulBackward>)\n",
      "BCE tensor(3452.9822, grad_fn=<BinaryCrossEntropyBackward>)\n",
      "KLD tensor(715.0541, grad_fn=<MulBackward>)\n",
      "BCE tensor(3301.8889, grad_fn=<BinaryCrossEntropyBackward>)\n",
      "KLD tensor(699.7137, grad_fn=<MulBackward>)\n",
      "BCE tensor(3576.9668, grad_fn=<BinaryCrossEntropyBackward>)\n",
      "KLD tensor(728.2586, grad_fn=<MulBackward>)\n",
      "BCE tensor(3399.8066, grad_fn=<BinaryCrossEntropyBackward>)\n",
      "KLD tensor(703.5883, grad_fn=<MulBackward>)\n"
     ]
    },
    {
     "name": "stderr",
     "output_type": "stream",
     "text": [
      "\n",
      "\n",
      "\n",
      "669it [00:11, 57.42it/s]\u001b[A\u001b[A\u001b[A\n",
      "\n",
      "\n",
      "675it [00:11, 57.41it/s]\u001b[A\u001b[A\u001b[A"
     ]
    },
    {
     "name": "stdout",
     "output_type": "stream",
     "text": [
      "BCE tensor(2993.0295, grad_fn=<BinaryCrossEntropyBackward>)\n",
      "KLD tensor(714.7100, grad_fn=<MulBackward>)\n",
      "BCE tensor(3484.5220, grad_fn=<BinaryCrossEntropyBackward>)\n",
      "KLD tensor(723.3384, grad_fn=<MulBackward>)\n",
      "BCE tensor(3218.2646, grad_fn=<BinaryCrossEntropyBackward>)\n",
      "KLD tensor(652.6309, grad_fn=<MulBackward>)\n",
      "BCE tensor(3276.5818, grad_fn=<BinaryCrossEntropyBackward>)\n",
      "KLD tensor(677.4105, grad_fn=<MulBackward>)\n",
      "BCE tensor(3476.2490, grad_fn=<BinaryCrossEntropyBackward>)\n",
      "KLD tensor(684.9944, grad_fn=<MulBackward>)\n",
      "BCE tensor(3511.4915, grad_fn=<BinaryCrossEntropyBackward>)\n",
      "KLD tensor(675.1379, grad_fn=<MulBackward>)\n",
      "BCE tensor(3315.9775, grad_fn=<BinaryCrossEntropyBackward>)\n",
      "KLD tensor(680.2312, grad_fn=<MulBackward>)\n",
      "BCE tensor(3147.7029, grad_fn=<BinaryCrossEntropyBackward>)\n",
      "KLD tensor(685.2399, grad_fn=<MulBackward>)\n",
      "BCE tensor(3416.0295, grad_fn=<BinaryCrossEntropyBackward>)\n",
      "KLD tensor(730.7067, grad_fn=<MulBackward>)\n",
      "BCE tensor(2903.2466, grad_fn=<BinaryCrossEntropyBackward>)\n",
      "KLD tensor(602.0050, grad_fn=<MulBackward>)\n",
      "BCE tensor(3323.8518, grad_fn=<BinaryCrossEntropyBackward>)\n",
      "KLD tensor(691.6644, grad_fn=<MulBackward>)\n",
      "BCE tensor(3695.7378, grad_fn=<BinaryCrossEntropyBackward>)\n",
      "KLD tensor(693.5817, grad_fn=<MulBackward>)\n"
     ]
    },
    {
     "name": "stderr",
     "output_type": "stream",
     "text": [
      "\n",
      "\n",
      "\n",
      "681it [00:11, 57.43it/s]\u001b[A\u001b[A\u001b[A\n",
      "\n",
      "\n",
      "688it [00:11, 57.48it/s]\u001b[A\u001b[A\u001b[A"
     ]
    },
    {
     "name": "stdout",
     "output_type": "stream",
     "text": [
      "BCE tensor(3479.3997, grad_fn=<BinaryCrossEntropyBackward>)\n",
      "KLD tensor(690.1887, grad_fn=<MulBackward>)\n",
      "BCE tensor(3261.4243, grad_fn=<BinaryCrossEntropyBackward>)\n",
      "KLD tensor(689.4306, grad_fn=<MulBackward>)\n",
      "BCE tensor(3190.5303, grad_fn=<BinaryCrossEntropyBackward>)\n",
      "KLD tensor(682.3918, grad_fn=<MulBackward>)\n",
      "BCE tensor(3203.0708, grad_fn=<BinaryCrossEntropyBackward>)\n",
      "KLD tensor(709.8135, grad_fn=<MulBackward>)\n",
      "BCE tensor(3318.8611, grad_fn=<BinaryCrossEntropyBackward>)\n",
      "KLD tensor(654.1761, grad_fn=<MulBackward>)\n",
      "BCE tensor(3243.6299, grad_fn=<BinaryCrossEntropyBackward>)\n",
      "KLD tensor(672.6512, grad_fn=<MulBackward>)\n",
      "BCE tensor(3251.4338, grad_fn=<BinaryCrossEntropyBackward>)\n",
      "KLD tensor(690.3068, grad_fn=<MulBackward>)\n",
      "BCE tensor(3525.6316, grad_fn=<BinaryCrossEntropyBackward>)\n",
      "KLD tensor(715.1447, grad_fn=<MulBackward>)\n",
      "BCE tensor(3483.0859, grad_fn=<BinaryCrossEntropyBackward>)\n",
      "KLD tensor(700.4579, grad_fn=<MulBackward>)\n",
      "BCE tensor(3452.9036, grad_fn=<BinaryCrossEntropyBackward>)\n",
      "KLD tensor(700.7769, grad_fn=<MulBackward>)\n",
      "BCE tensor(3211.6853, grad_fn=<BinaryCrossEntropyBackward>)\n",
      "KLD tensor(713.1454, grad_fn=<MulBackward>)\n",
      "BCE tensor(3342.0781, grad_fn=<BinaryCrossEntropyBackward>)\n",
      "KLD tensor(666.8976, grad_fn=<MulBackward>)\n",
      "BCE tensor(3411.0422, grad_fn=<BinaryCrossEntropyBackward>)\n",
      "KLD tensor(699.2941, grad_fn=<MulBackward>)\n"
     ]
    },
    {
     "name": "stderr",
     "output_type": "stream",
     "text": [
      "\n",
      "\n",
      "\n",
      "694it [00:12, 57.47it/s]\u001b[A\u001b[A\u001b[A\n",
      "\n",
      "\n",
      "700it [00:12, 57.49it/s]\u001b[A\u001b[A\u001b[A"
     ]
    },
    {
     "name": "stdout",
     "output_type": "stream",
     "text": [
      "BCE tensor(3006.5964, grad_fn=<BinaryCrossEntropyBackward>)\n",
      "KLD tensor(691.9969, grad_fn=<MulBackward>)\n",
      "BCE tensor(3341.4124, grad_fn=<BinaryCrossEntropyBackward>)\n",
      "KLD tensor(739.2114, grad_fn=<MulBackward>)\n",
      "BCE tensor(3738.8264, grad_fn=<BinaryCrossEntropyBackward>)\n",
      "KLD tensor(702.3098, grad_fn=<MulBackward>)\n",
      "BCE tensor(3690.1265, grad_fn=<BinaryCrossEntropyBackward>)\n",
      "KLD tensor(733.6165, grad_fn=<MulBackward>)\n",
      "BCE tensor(3288.6548, grad_fn=<BinaryCrossEntropyBackward>)\n",
      "KLD tensor(709.7864, grad_fn=<MulBackward>)\n",
      "BCE tensor(3365.2349, grad_fn=<BinaryCrossEntropyBackward>)\n",
      "KLD tensor(752.5827, grad_fn=<MulBackward>)\n",
      "BCE tensor(3163.7739, grad_fn=<BinaryCrossEntropyBackward>)\n",
      "KLD tensor(693.6424, grad_fn=<MulBackward>)\n",
      "BCE tensor(2973.9846, grad_fn=<BinaryCrossEntropyBackward>)\n",
      "KLD tensor(713.3978, grad_fn=<MulBackward>)\n",
      "BCE tensor(3408.4856, grad_fn=<BinaryCrossEntropyBackward>)\n",
      "KLD tensor(744.3256, grad_fn=<MulBackward>)\n",
      "BCE tensor(3546.3838, grad_fn=<BinaryCrossEntropyBackward>)\n",
      "KLD tensor(691.4915, grad_fn=<MulBackward>)\n",
      "BCE tensor(3046.0544, grad_fn=<BinaryCrossEntropyBackward>)\n",
      "KLD tensor(601.5479, grad_fn=<MulBackward>)\n",
      "BCE tensor(3249.1970, grad_fn=<BinaryCrossEntropyBackward>)\n",
      "KLD tensor(718.3835, grad_fn=<MulBackward>)\n"
     ]
    },
    {
     "name": "stderr",
     "output_type": "stream",
     "text": [
      "\n",
      "\n",
      "\n",
      "706it [00:12, 57.51it/s]\u001b[A\u001b[A\u001b[A\n",
      "\n",
      "\n",
      "712it [00:12, 57.50it/s]\u001b[A\u001b[A\u001b[A"
     ]
    },
    {
     "name": "stdout",
     "output_type": "stream",
     "text": [
      "BCE tensor(3154.7703, grad_fn=<BinaryCrossEntropyBackward>)\n",
      "KLD tensor(709.3723, grad_fn=<MulBackward>)\n",
      "BCE tensor(3323.6287, grad_fn=<BinaryCrossEntropyBackward>)\n",
      "KLD tensor(679.5189, grad_fn=<MulBackward>)\n",
      "BCE tensor(3392.6260, grad_fn=<BinaryCrossEntropyBackward>)\n",
      "KLD tensor(692.7479, grad_fn=<MulBackward>)\n",
      "BCE tensor(3281.5012, grad_fn=<BinaryCrossEntropyBackward>)\n",
      "KLD tensor(714.4946, grad_fn=<MulBackward>)\n",
      "BCE tensor(3348.8557, grad_fn=<BinaryCrossEntropyBackward>)\n",
      "KLD tensor(724.6846, grad_fn=<MulBackward>)\n",
      "BCE tensor(3279.7073, grad_fn=<BinaryCrossEntropyBackward>)\n",
      "KLD tensor(667.1653, grad_fn=<MulBackward>)\n",
      "BCE tensor(3297.5503, grad_fn=<BinaryCrossEntropyBackward>)\n",
      "KLD tensor(652.7828, grad_fn=<MulBackward>)\n",
      "BCE tensor(3220.7239, grad_fn=<BinaryCrossEntropyBackward>)\n",
      "KLD tensor(694.2765, grad_fn=<MulBackward>)\n",
      "BCE tensor(3297.7659, grad_fn=<BinaryCrossEntropyBackward>)\n",
      "KLD tensor(676.1182, grad_fn=<MulBackward>)\n",
      "BCE tensor(3207.3030, grad_fn=<BinaryCrossEntropyBackward>)\n",
      "KLD tensor(677.5546, grad_fn=<MulBackward>)\n",
      "BCE tensor(3175.6013, grad_fn=<BinaryCrossEntropyBackward>)\n",
      "KLD tensor(736.3170, grad_fn=<MulBackward>)\n",
      "BCE tensor(2987.0437, grad_fn=<BinaryCrossEntropyBackward>)\n",
      "KLD tensor(656.1623, grad_fn=<MulBackward>)\n"
     ]
    },
    {
     "name": "stderr",
     "output_type": "stream",
     "text": [
      "\n",
      "\n",
      "\n",
      "718it [00:12, 57.47it/s]\u001b[A\u001b[A\u001b[A\n",
      "\n",
      "\n",
      "724it [00:12, 57.46it/s]\u001b[A\u001b[A\u001b[A"
     ]
    },
    {
     "name": "stdout",
     "output_type": "stream",
     "text": [
      "BCE tensor(3222.5728, grad_fn=<BinaryCrossEntropyBackward>)\n",
      "KLD tensor(692.5767, grad_fn=<MulBackward>)\n",
      "BCE tensor(3265.4019, grad_fn=<BinaryCrossEntropyBackward>)\n",
      "KLD tensor(686.8758, grad_fn=<MulBackward>)\n",
      "BCE tensor(3428.0032, grad_fn=<BinaryCrossEntropyBackward>)\n",
      "KLD tensor(705.0266, grad_fn=<MulBackward>)\n",
      "BCE tensor(3145.6748, grad_fn=<BinaryCrossEntropyBackward>)\n",
      "KLD tensor(708.3008, grad_fn=<MulBackward>)\n",
      "BCE tensor(3483.0605, grad_fn=<BinaryCrossEntropyBackward>)\n",
      "KLD tensor(700.1721, grad_fn=<MulBackward>)\n",
      "BCE tensor(3491.3330, grad_fn=<BinaryCrossEntropyBackward>)\n",
      "KLD tensor(721.8749, grad_fn=<MulBackward>)\n",
      "BCE tensor(3183.3826, grad_fn=<BinaryCrossEntropyBackward>)\n",
      "KLD tensor(711.1650, grad_fn=<MulBackward>)\n",
      "BCE tensor(3228.6543, grad_fn=<BinaryCrossEntropyBackward>)\n",
      "KLD tensor(729.0846, grad_fn=<MulBackward>)\n",
      "BCE tensor(3076.1672, grad_fn=<BinaryCrossEntropyBackward>)\n",
      "KLD tensor(720.4349, grad_fn=<MulBackward>)\n",
      "BCE tensor(3447.9155, grad_fn=<BinaryCrossEntropyBackward>)\n",
      "KLD tensor(767.6747, grad_fn=<MulBackward>)\n",
      "BCE tensor(3303.5649, grad_fn=<BinaryCrossEntropyBackward>)\n",
      "KLD tensor(715.0754, grad_fn=<MulBackward>)\n",
      "BCE tensor(3231.1807, grad_fn=<BinaryCrossEntropyBackward>)\n",
      "KLD tensor(682.6564, grad_fn=<MulBackward>)\n"
     ]
    },
    {
     "name": "stderr",
     "output_type": "stream",
     "text": [
      "\n",
      "\n",
      "\n",
      "730it [00:12, 57.41it/s]\u001b[A\u001b[A\u001b[A\n",
      "\n",
      "\n",
      "736it [00:12, 57.40it/s]\u001b[A\u001b[A\u001b[A"
     ]
    },
    {
     "name": "stdout",
     "output_type": "stream",
     "text": [
      "BCE tensor(3335.2097, grad_fn=<BinaryCrossEntropyBackward>)\n",
      "KLD tensor(668.5378, grad_fn=<MulBackward>)\n",
      "BCE tensor(3238.5217, grad_fn=<BinaryCrossEntropyBackward>)\n",
      "KLD tensor(617.3849, grad_fn=<MulBackward>)\n",
      "BCE tensor(3488.2812, grad_fn=<BinaryCrossEntropyBackward>)\n",
      "KLD tensor(665.1092, grad_fn=<MulBackward>)\n",
      "BCE tensor(3335.5115, grad_fn=<BinaryCrossEntropyBackward>)\n",
      "KLD tensor(700.7446, grad_fn=<MulBackward>)\n",
      "BCE tensor(3303.8223, grad_fn=<BinaryCrossEntropyBackward>)\n",
      "KLD tensor(663.4509, grad_fn=<MulBackward>)\n",
      "BCE tensor(3026.3271, grad_fn=<BinaryCrossEntropyBackward>)\n",
      "KLD tensor(687.5713, grad_fn=<MulBackward>)\n",
      "BCE tensor(3093.9932, grad_fn=<BinaryCrossEntropyBackward>)\n",
      "KLD tensor(715.7921, grad_fn=<MulBackward>)\n",
      "BCE tensor(3477.5776, grad_fn=<BinaryCrossEntropyBackward>)\n",
      "KLD tensor(737.7223, grad_fn=<MulBackward>)\n",
      "BCE tensor(3525.1812, grad_fn=<BinaryCrossEntropyBackward>)\n",
      "KLD tensor(694.0139, grad_fn=<MulBackward>)\n",
      "BCE tensor(3588.3120, grad_fn=<BinaryCrossEntropyBackward>)\n",
      "KLD tensor(756.7952, grad_fn=<MulBackward>)\n",
      "BCE tensor(3322.4180, grad_fn=<BinaryCrossEntropyBackward>)\n",
      "KLD tensor(753.1078, grad_fn=<MulBackward>)\n"
     ]
    },
    {
     "name": "stderr",
     "output_type": "stream",
     "text": [
      "\n",
      "\n",
      "\n",
      "742it [00:12, 57.38it/s]\u001b[A\u001b[A\u001b[A\n",
      "\n",
      "\n",
      "748it [00:13, 57.38it/s]\u001b[A\u001b[A\u001b[A"
     ]
    },
    {
     "name": "stdout",
     "output_type": "stream",
     "text": [
      "BCE tensor(3229.1873, grad_fn=<BinaryCrossEntropyBackward>)\n",
      "KLD tensor(683.3654, grad_fn=<MulBackward>)\n",
      "BCE tensor(3291.2178, grad_fn=<BinaryCrossEntropyBackward>)\n",
      "KLD tensor(727.0485, grad_fn=<MulBackward>)\n",
      "BCE tensor(3203.8657, grad_fn=<BinaryCrossEntropyBackward>)\n",
      "KLD tensor(704.7766, grad_fn=<MulBackward>)\n",
      "BCE tensor(3290.8848, grad_fn=<BinaryCrossEntropyBackward>)\n",
      "KLD tensor(705.6661, grad_fn=<MulBackward>)\n",
      "BCE tensor(3356.3083, grad_fn=<BinaryCrossEntropyBackward>)\n",
      "KLD tensor(684.6282, grad_fn=<MulBackward>)\n",
      "BCE tensor(3231.5237, grad_fn=<BinaryCrossEntropyBackward>)\n",
      "KLD tensor(690.4494, grad_fn=<MulBackward>)\n",
      "BCE tensor(3398.1025, grad_fn=<BinaryCrossEntropyBackward>)\n",
      "KLD tensor(771.0947, grad_fn=<MulBackward>)\n",
      "BCE tensor(3130.0964, grad_fn=<BinaryCrossEntropyBackward>)\n",
      "KLD tensor(760.2400, grad_fn=<MulBackward>)\n",
      "BCE tensor(3135.3774, grad_fn=<BinaryCrossEntropyBackward>)\n",
      "KLD tensor(678.9236, grad_fn=<MulBackward>)\n",
      "BCE tensor(3109.6040, grad_fn=<BinaryCrossEntropyBackward>)\n",
      "KLD tensor(668.3922, grad_fn=<MulBackward>)\n",
      "BCE tensor(3071.9507, grad_fn=<BinaryCrossEntropyBackward>)\n",
      "KLD tensor(694.6545, grad_fn=<MulBackward>)\n",
      "BCE tensor(3221.1748, grad_fn=<BinaryCrossEntropyBackward>)"
     ]
    },
    {
     "name": "stderr",
     "output_type": "stream",
     "text": [
      "\n",
      "\n",
      "\n",
      "754it [00:13, 57.26it/s]\u001b[A\u001b[A\u001b[A\n",
      "\n",
      "\n",
      "760it [00:13, 57.27it/s]\u001b[A\u001b[A\u001b[A"
     ]
    },
    {
     "name": "stdout",
     "output_type": "stream",
     "text": [
      "\n",
      "KLD tensor(717.9098, grad_fn=<MulBackward>)\n",
      "BCE tensor(3401.2205, grad_fn=<BinaryCrossEntropyBackward>)\n",
      "KLD tensor(720.1077, grad_fn=<MulBackward>)\n",
      "BCE tensor(3214.5947, grad_fn=<BinaryCrossEntropyBackward>)\n",
      "KLD tensor(711.3348, grad_fn=<MulBackward>)\n",
      "BCE tensor(3058.9194, grad_fn=<BinaryCrossEntropyBackward>)\n",
      "KLD tensor(635.1863, grad_fn=<MulBackward>)\n",
      "BCE tensor(3182.6726, grad_fn=<BinaryCrossEntropyBackward>)\n",
      "KLD tensor(705.2722, grad_fn=<MulBackward>)\n",
      "BCE tensor(3338.4727, grad_fn=<BinaryCrossEntropyBackward>)\n",
      "KLD tensor(677.7589, grad_fn=<MulBackward>)\n",
      "BCE tensor(3255.4062, grad_fn=<BinaryCrossEntropyBackward>)\n",
      "KLD tensor(683.8143, grad_fn=<MulBackward>)\n",
      "BCE tensor(3049.5269, grad_fn=<BinaryCrossEntropyBackward>)\n",
      "KLD tensor(654.2474, grad_fn=<MulBackward>)\n",
      "BCE tensor(2999.8103, grad_fn=<BinaryCrossEntropyBackward>)\n",
      "KLD tensor(663.6087, grad_fn=<MulBackward>)\n",
      "BCE tensor(3554.8887, grad_fn=<BinaryCrossEntropyBackward>)\n",
      "KLD tensor(755.8054, grad_fn=<MulBackward>)\n",
      "BCE tensor(3087.6804, grad_fn=<BinaryCrossEntropyBackward>)\n",
      "KLD tensor(738.4201, grad_fn=<MulBackward>)\n",
      "BCE tensor(3215.2578, grad_fn=<BinaryCrossEntropyBackward>)\n",
      "KLD tensor(694.6154, grad_fn=<MulBackward>)\n"
     ]
    },
    {
     "name": "stderr",
     "output_type": "stream",
     "text": [
      "\n",
      "\n",
      "\n",
      "766it [00:13, 57.26it/s]\u001b[A\u001b[A\u001b[A"
     ]
    },
    {
     "name": "stdout",
     "output_type": "stream",
     "text": [
      "BCE tensor(3121.9475, grad_fn=<BinaryCrossEntropyBackward>)\n",
      "KLD tensor(653.4376, grad_fn=<MulBackward>)\n",
      "BCE tensor(3170.9468, grad_fn=<BinaryCrossEntropyBackward>)\n",
      "KLD tensor(726.7072, grad_fn=<MulBackward>)\n",
      "BCE tensor(2967.0576, grad_fn=<BinaryCrossEntropyBackward>)\n",
      "KLD tensor(661.0858, grad_fn=<MulBackward>)\n",
      "BCE tensor(3049.1648, grad_fn=<BinaryCrossEntropyBackward>)\n",
      "KLD tensor(660.9257, grad_fn=<MulBackward>)\n",
      "BCE tensor(3232.2803, grad_fn=<BinaryCrossEntropyBackward>)\n",
      "KLD tensor(702.8556, grad_fn=<MulBackward>)\n",
      "BCE tensor(3294.1479, grad_fn=<BinaryCrossEntropyBackward>)\n",
      "KLD tensor(691.9419, grad_fn=<MulBackward>)\n",
      "BCE tensor(3367.4685, grad_fn=<BinaryCrossEntropyBackward>)\n",
      "KLD tensor(696.9744, grad_fn=<MulBackward>)\n",
      "BCE tensor(3359.2896, grad_fn=<BinaryCrossEntropyBackward>)\n",
      "KLD tensor(763.0039, grad_fn=<MulBackward>)\n",
      "BCE tensor(3104.7874, grad_fn=<BinaryCrossEntropyBackward>)\n",
      "KLD tensor(698.2813, grad_fn=<MulBackward>)\n",
      "BCE tensor(3322.5369, grad_fn=<BinaryCrossEntropyBackward>)\n",
      "KLD tensor(690.7594, grad_fn=<MulBackward>)\n",
      "BCE tensor(3268.2490, grad_fn=<BinaryCrossEntropyBackward>)\n",
      "KLD tensor(672.8583, grad_fn=<MulBackward>)\n",
      "BCE tensor(3329.9600, grad_fn=<BinaryCrossEntropyBackward>)\n",
      "KLD tensor(663.5571, grad_fn=<MulBackward>)\n"
     ]
    },
    {
     "name": "stderr",
     "output_type": "stream",
     "text": [
      "\n",
      "\n",
      "\n",
      "772it [00:13, 57.23it/s]\u001b[A\u001b[A\u001b[A\n",
      "\n",
      "\n",
      "778it [00:13, 57.19it/s]\u001b[A\u001b[A\u001b[A"
     ]
    },
    {
     "name": "stdout",
     "output_type": "stream",
     "text": [
      "BCE tensor(3227.4531, grad_fn=<BinaryCrossEntropyBackward>)\n",
      "KLD tensor(686.7534, grad_fn=<MulBackward>)\n",
      "BCE tensor(3540.4414, grad_fn=<BinaryCrossEntropyBackward>)\n",
      "KLD tensor(761.1010, grad_fn=<MulBackward>)\n",
      "BCE tensor(2897.5403, grad_fn=<BinaryCrossEntropyBackward>)\n",
      "KLD tensor(670.7156, grad_fn=<MulBackward>)\n",
      "BCE tensor(3466.0493, grad_fn=<BinaryCrossEntropyBackward>)\n",
      "KLD tensor(714.0392, grad_fn=<MulBackward>)\n",
      "BCE tensor(3251.1807, grad_fn=<BinaryCrossEntropyBackward>)\n",
      "KLD tensor(678.7776, grad_fn=<MulBackward>)\n",
      "BCE tensor(3139.5178, grad_fn=<BinaryCrossEntropyBackward>)\n",
      "KLD tensor(708.9073, grad_fn=<MulBackward>)\n",
      "BCE tensor(3286.6707, grad_fn=<BinaryCrossEntropyBackward>)\n",
      "KLD tensor(741.4026, grad_fn=<MulBackward>)\n",
      "BCE tensor(3526.4712, grad_fn=<BinaryCrossEntropyBackward>)\n",
      "KLD tensor(715.5841, grad_fn=<MulBackward>)\n",
      "BCE tensor(3217.5232, grad_fn=<BinaryCrossEntropyBackward>)\n",
      "KLD tensor(710.8351, grad_fn=<MulBackward>)\n",
      "BCE tensor(3371.3140, grad_fn=<BinaryCrossEntropyBackward>)\n",
      "KLD tensor(715.5892, grad_fn=<MulBackward>)\n",
      "BCE tensor(3269.3809, grad_fn=<BinaryCrossEntropyBackward>)\n",
      "KLD tensor(721.0604, grad_fn=<MulBackward>)\n"
     ]
    },
    {
     "name": "stderr",
     "output_type": "stream",
     "text": [
      "\n",
      "\n",
      "\n",
      "784it [00:13, 57.17it/s]\u001b[A\u001b[A\u001b[A\n",
      "\n",
      "\n",
      "790it [00:13, 57.15it/s]\u001b[A\u001b[A\u001b[A"
     ]
    },
    {
     "name": "stdout",
     "output_type": "stream",
     "text": [
      "BCE tensor(3143.4458, grad_fn=<BinaryCrossEntropyBackward>)\n",
      "KLD tensor(693.1671, grad_fn=<MulBackward>)\n",
      "BCE tensor(2952.4539, grad_fn=<BinaryCrossEntropyBackward>)\n",
      "KLD tensor(706.8800, grad_fn=<MulBackward>)\n",
      "BCE tensor(3037.5764, grad_fn=<BinaryCrossEntropyBackward>)\n",
      "KLD tensor(665.3005, grad_fn=<MulBackward>)\n",
      "BCE tensor(3123.2236, grad_fn=<BinaryCrossEntropyBackward>)\n",
      "KLD tensor(710.0203, grad_fn=<MulBackward>)\n",
      "BCE tensor(3438.1694, grad_fn=<BinaryCrossEntropyBackward>)\n",
      "KLD tensor(736.3460, grad_fn=<MulBackward>)\n",
      "BCE tensor(3103.7185, grad_fn=<BinaryCrossEntropyBackward>)\n",
      "KLD tensor(731.0546, grad_fn=<MulBackward>)\n",
      "BCE tensor(3200.1875, grad_fn=<BinaryCrossEntropyBackward>)\n",
      "KLD tensor(680.6765, grad_fn=<MulBackward>)\n",
      "BCE tensor(3420.1345, grad_fn=<BinaryCrossEntropyBackward>)\n",
      "KLD tensor(753.8541, grad_fn=<MulBackward>)\n",
      "BCE tensor(3563.4111, grad_fn=<BinaryCrossEntropyBackward>)\n",
      "KLD tensor(732.7526, grad_fn=<MulBackward>)\n",
      "BCE tensor(3653.9971, grad_fn=<BinaryCrossEntropyBackward>)\n",
      "KLD tensor(679.7533, grad_fn=<MulBackward>)\n",
      "BCE tensor(3371.0005, grad_fn=<BinaryCrossEntropyBackward>)\n",
      "KLD tensor(725.7221, grad_fn=<MulBackward>)\n",
      "BCE tensor(3188.9211, grad_fn=<BinaryCrossEntropyBackward>)\n",
      "KLD tensor(684.4961, grad_fn=<MulBackward>)\n"
     ]
    },
    {
     "name": "stderr",
     "output_type": "stream",
     "text": [
      "\n",
      "\n",
      "\n",
      "796it [00:13, 57.14it/s]\u001b[A\u001b[A\u001b[A\n",
      "\n",
      "\n",
      "802it [00:14, 57.10it/s]\u001b[A\u001b[A\u001b[A"
     ]
    },
    {
     "name": "stdout",
     "output_type": "stream",
     "text": [
      "BCE tensor(3327.8132, grad_fn=<BinaryCrossEntropyBackward>)\n",
      "KLD tensor(769.1910, grad_fn=<MulBackward>)\n",
      "BCE tensor(3086.1360, grad_fn=<BinaryCrossEntropyBackward>)\n",
      "KLD tensor(703.4926, grad_fn=<MulBackward>)\n",
      "BCE tensor(3171.0852, grad_fn=<BinaryCrossEntropyBackward>)\n",
      "KLD tensor(688.6008, grad_fn=<MulBackward>)\n",
      "BCE tensor(3540.6414, grad_fn=<BinaryCrossEntropyBackward>)\n",
      "KLD tensor(685.9558, grad_fn=<MulBackward>)\n",
      "BCE tensor(3280.1819, grad_fn=<BinaryCrossEntropyBackward>)\n",
      "KLD tensor(724.1188, grad_fn=<MulBackward>)\n",
      "BCE tensor(3126.9224, grad_fn=<BinaryCrossEntropyBackward>)\n",
      "KLD tensor(686.1046, grad_fn=<MulBackward>)\n",
      "BCE tensor(3508.5735, grad_fn=<BinaryCrossEntropyBackward>)\n",
      "KLD tensor(700.7366, grad_fn=<MulBackward>)\n",
      "BCE tensor(3207.2683, grad_fn=<BinaryCrossEntropyBackward>)\n",
      "KLD tensor(710.4598, grad_fn=<MulBackward>)\n",
      "BCE tensor(3114.4956, grad_fn=<BinaryCrossEntropyBackward>)\n",
      "KLD tensor(696.9943, grad_fn=<MulBackward>)\n",
      "BCE tensor(3305.1477, grad_fn=<BinaryCrossEntropyBackward>)\n",
      "KLD tensor(727.5968, grad_fn=<MulBackward>)\n",
      "BCE tensor(3228.5293, grad_fn=<BinaryCrossEntropyBackward>)\n",
      "KLD tensor(733.1667, grad_fn=<MulBackward>)\n"
     ]
    },
    {
     "name": "stderr",
     "output_type": "stream",
     "text": [
      "\n",
      "\n",
      "\n",
      "808it [00:14, 57.06it/s]\u001b[A\u001b[A\u001b[A\n",
      "\n",
      "\n",
      "814it [00:14, 57.04it/s]\u001b[A\u001b[A\u001b[A"
     ]
    },
    {
     "name": "stdout",
     "output_type": "stream",
     "text": [
      "BCE tensor(3045.1719, grad_fn=<BinaryCrossEntropyBackward>)\n",
      "KLD tensor(706.3455, grad_fn=<MulBackward>)\n",
      "BCE tensor(2772.0759, grad_fn=<BinaryCrossEntropyBackward>)\n",
      "KLD tensor(686.5027, grad_fn=<MulBackward>)\n",
      "BCE tensor(3162.8184, grad_fn=<BinaryCrossEntropyBackward>)\n",
      "KLD tensor(699.3113, grad_fn=<MulBackward>)\n",
      "BCE tensor(3463.3015, grad_fn=<BinaryCrossEntropyBackward>)\n",
      "KLD tensor(699.3700, grad_fn=<MulBackward>)\n",
      "BCE tensor(3183.0291, grad_fn=<BinaryCrossEntropyBackward>)\n",
      "KLD tensor(663.8560, grad_fn=<MulBackward>)\n",
      "BCE tensor(3111.3772, grad_fn=<BinaryCrossEntropyBackward>)\n",
      "KLD tensor(684.1002, grad_fn=<MulBackward>)\n",
      "BCE tensor(3338.0818, grad_fn=<BinaryCrossEntropyBackward>)\n",
      "KLD tensor(735.3409, grad_fn=<MulBackward>)\n",
      "BCE tensor(3034.4597, grad_fn=<BinaryCrossEntropyBackward>)\n",
      "KLD tensor(667.4620, grad_fn=<MulBackward>)\n",
      "BCE tensor(3142.0032, grad_fn=<BinaryCrossEntropyBackward>)\n",
      "KLD tensor(695.8323, grad_fn=<MulBackward>)\n",
      "BCE tensor(3246.0725, grad_fn=<BinaryCrossEntropyBackward>)\n",
      "KLD tensor(695.6093, grad_fn=<MulBackward>)\n",
      "BCE tensor(3064.8308, grad_fn=<BinaryCrossEntropyBackward>)\n",
      "KLD tensor(717.7175, grad_fn=<MulBackward>)\n",
      "BCE tensor(3090.2029, grad_fn=<BinaryCrossEntropyBackward>)\n",
      "KLD tensor(713.5426, grad_fn=<MulBackward>)\n"
     ]
    },
    {
     "name": "stderr",
     "output_type": "stream",
     "text": [
      "\n",
      "\n",
      "\n",
      "820it [00:14, 57.04it/s]\u001b[A\u001b[A\u001b[A\n",
      "\n",
      "\n",
      "826it [00:14, 57.04it/s]\u001b[A\u001b[A\u001b[A"
     ]
    },
    {
     "name": "stdout",
     "output_type": "stream",
     "text": [
      "BCE tensor(3073.4551, grad_fn=<BinaryCrossEntropyBackward>)\n",
      "KLD tensor(745.4796, grad_fn=<MulBackward>)\n",
      "BCE tensor(3241.6235, grad_fn=<BinaryCrossEntropyBackward>)\n",
      "KLD tensor(716.3631, grad_fn=<MulBackward>)\n",
      "BCE tensor(3275.2039, grad_fn=<BinaryCrossEntropyBackward>)\n",
      "KLD tensor(725.7402, grad_fn=<MulBackward>)\n",
      "BCE tensor(3572.1570, grad_fn=<BinaryCrossEntropyBackward>)\n",
      "KLD tensor(727.8184, grad_fn=<MulBackward>)\n",
      "BCE tensor(3166.0364, grad_fn=<BinaryCrossEntropyBackward>)\n",
      "KLD tensor(690.2429, grad_fn=<MulBackward>)\n",
      "BCE tensor(3226.5127, grad_fn=<BinaryCrossEntropyBackward>)\n",
      "KLD tensor(738.4135, grad_fn=<MulBackward>)\n",
      "BCE tensor(3373.1653, grad_fn=<BinaryCrossEntropyBackward>)\n",
      "KLD tensor(749.2243, grad_fn=<MulBackward>)\n",
      "BCE tensor(3357.1736, grad_fn=<BinaryCrossEntropyBackward>)\n",
      "KLD tensor(696.1890, grad_fn=<MulBackward>)\n",
      "BCE tensor(3031.7002, grad_fn=<BinaryCrossEntropyBackward>)\n",
      "KLD tensor(714.2171, grad_fn=<MulBackward>)\n",
      "BCE tensor(3249.6863, grad_fn=<BinaryCrossEntropyBackward>)\n",
      "KLD tensor(742.4302, grad_fn=<MulBackward>)\n",
      "BCE tensor(3136.7646, grad_fn=<BinaryCrossEntropyBackward>)\n",
      "KLD tensor(691.6530, grad_fn=<MulBackward>)\n",
      "BCE tensor(2970.7234, grad_fn=<BinaryCrossEntropyBackward>)\n",
      "KLD tensor(704.2637, grad_fn=<MulBackward>)\n"
     ]
    },
    {
     "name": "stderr",
     "output_type": "stream",
     "text": [
      "\n",
      "\n",
      "\n",
      "832it [00:14, 57.02it/s]\u001b[A\u001b[A\u001b[A\n",
      "\n",
      "\n",
      "838it [00:14, 56.99it/s]\u001b[A\u001b[A\u001b[A"
     ]
    },
    {
     "name": "stdout",
     "output_type": "stream",
     "text": [
      "BCE tensor(3341.6499, grad_fn=<BinaryCrossEntropyBackward>)\n",
      "KLD tensor(779.4932, grad_fn=<MulBackward>)\n",
      "BCE tensor(3434.6782, grad_fn=<BinaryCrossEntropyBackward>)\n",
      "KLD tensor(729.6421, grad_fn=<MulBackward>)\n",
      "BCE tensor(3422.1069, grad_fn=<BinaryCrossEntropyBackward>)\n",
      "KLD tensor(780.9990, grad_fn=<MulBackward>)\n",
      "BCE tensor(3080.7017, grad_fn=<BinaryCrossEntropyBackward>)\n",
      "KLD tensor(691.1186, grad_fn=<MulBackward>)\n",
      "BCE tensor(3211.6301, grad_fn=<BinaryCrossEntropyBackward>)\n",
      "KLD tensor(710.4805, grad_fn=<MulBackward>)\n",
      "BCE tensor(3117.6650, grad_fn=<BinaryCrossEntropyBackward>)\n",
      "KLD tensor(704.2760, grad_fn=<MulBackward>)\n",
      "BCE tensor(3264.7566, grad_fn=<BinaryCrossEntropyBackward>)\n",
      "KLD tensor(728.3113, grad_fn=<MulBackward>)\n",
      "BCE tensor(3191.0681, grad_fn=<BinaryCrossEntropyBackward>)\n",
      "KLD tensor(707.6369, grad_fn=<MulBackward>)\n",
      "BCE tensor(3163.0723, grad_fn=<BinaryCrossEntropyBackward>)\n",
      "KLD tensor(762.7877, grad_fn=<MulBackward>)\n",
      "BCE tensor(2907.9868, grad_fn=<BinaryCrossEntropyBackward>)\n",
      "KLD tensor(652.4200, grad_fn=<MulBackward>)\n",
      "BCE tensor(2907.6108, grad_fn=<BinaryCrossEntropyBackward>)\n",
      "KLD tensor(694.3214, grad_fn=<MulBackward>)\n"
     ]
    },
    {
     "name": "stderr",
     "output_type": "stream",
     "text": [
      "\n",
      "\n",
      "\n",
      "844it [00:14, 56.95it/s]\u001b[A\u001b[A\u001b[A\n",
      "\n",
      "\n",
      "850it [00:14, 56.94it/s]\u001b[A\u001b[A\u001b[A"
     ]
    },
    {
     "name": "stdout",
     "output_type": "stream",
     "text": [
      "BCE tensor(3426.6501, grad_fn=<BinaryCrossEntropyBackward>)\n",
      "KLD tensor(681.0253, grad_fn=<MulBackward>)\n",
      "BCE tensor(3216.1597, grad_fn=<BinaryCrossEntropyBackward>)\n",
      "KLD tensor(681.4581, grad_fn=<MulBackward>)\n",
      "BCE tensor(3346.0549, grad_fn=<BinaryCrossEntropyBackward>)\n",
      "KLD tensor(703.6760, grad_fn=<MulBackward>)\n",
      "BCE tensor(3580.8889, grad_fn=<BinaryCrossEntropyBackward>)\n",
      "KLD tensor(672.3082, grad_fn=<MulBackward>)\n",
      "BCE tensor(3275.6970, grad_fn=<BinaryCrossEntropyBackward>)\n",
      "KLD tensor(645.4808, grad_fn=<MulBackward>)\n",
      "BCE tensor(3055.0674, grad_fn=<BinaryCrossEntropyBackward>)\n",
      "KLD tensor(737.2043, grad_fn=<MulBackward>)\n",
      "BCE tensor(3391.5598, grad_fn=<BinaryCrossEntropyBackward>)\n",
      "KLD tensor(735.1222, grad_fn=<MulBackward>)\n",
      "BCE tensor(3328.2090, grad_fn=<BinaryCrossEntropyBackward>)\n",
      "KLD tensor(755.4492, grad_fn=<MulBackward>)\n",
      "BCE tensor(3040.1035, grad_fn=<BinaryCrossEntropyBackward>)\n",
      "KLD tensor(732.7557, grad_fn=<MulBackward>)\n",
      "BCE tensor(3320.5051, grad_fn=<BinaryCrossEntropyBackward>)\n",
      "KLD tensor(735.5089, grad_fn=<MulBackward>)\n",
      "BCE tensor(3158.4727, grad_fn=<BinaryCrossEntropyBackward>)\n",
      "KLD tensor(717.7953, grad_fn=<MulBackward>)\n"
     ]
    },
    {
     "name": "stderr",
     "output_type": "stream",
     "text": [
      "\n",
      "\n",
      "\n",
      "856it [00:15, 56.85it/s]\u001b[A\u001b[A\u001b[A"
     ]
    },
    {
     "name": "stdout",
     "output_type": "stream",
     "text": [
      "BCE tensor(3185.7827, grad_fn=<BinaryCrossEntropyBackward>)\n",
      "KLD tensor(673.4376, grad_fn=<MulBackward>)\n",
      "BCE tensor(3095.0942, grad_fn=<BinaryCrossEntropyBackward>)\n",
      "KLD tensor(690.7216, grad_fn=<MulBackward>)\n",
      "BCE tensor(3418.8262, grad_fn=<BinaryCrossEntropyBackward>)\n",
      "KLD tensor(763.1535, grad_fn=<MulBackward>)\n",
      "BCE tensor(2920.8450, grad_fn=<BinaryCrossEntropyBackward>)\n",
      "KLD tensor(701.9744, grad_fn=<MulBackward>)\n",
      "BCE tensor(3417.3757, grad_fn=<BinaryCrossEntropyBackward>)\n",
      "KLD tensor(725.4341, grad_fn=<MulBackward>)\n",
      "BCE tensor(3110.9026, grad_fn=<BinaryCrossEntropyBackward>)\n",
      "KLD tensor(715.4356, grad_fn=<MulBackward>)\n",
      "BCE tensor(3116.9370, grad_fn=<BinaryCrossEntropyBackward>)\n",
      "KLD tensor(680.9299, grad_fn=<MulBackward>)\n"
     ]
    },
    {
     "name": "stderr",
     "output_type": "stream",
     "text": [
      "\n",
      "\n",
      "\n",
      "862it [00:15, 56.50it/s]\u001b[A\u001b[A\u001b[A\n",
      "\n",
      "\n",
      "868it [00:15, 56.48it/s]\u001b[A\u001b[A\u001b[A"
     ]
    },
    {
     "name": "stdout",
     "output_type": "stream",
     "text": [
      "BCE tensor(3107.5618, grad_fn=<BinaryCrossEntropyBackward>)\n",
      "KLD tensor(701.0035, grad_fn=<MulBackward>)\n",
      "BCE tensor(3163.4971, grad_fn=<BinaryCrossEntropyBackward>)\n",
      "KLD tensor(740.4883, grad_fn=<MulBackward>)\n",
      "BCE tensor(2940.8152, grad_fn=<BinaryCrossEntropyBackward>)\n",
      "KLD tensor(704.8478, grad_fn=<MulBackward>)\n",
      "BCE tensor(3260.3127, grad_fn=<BinaryCrossEntropyBackward>)\n",
      "KLD tensor(742.0869, grad_fn=<MulBackward>)\n",
      "BCE tensor(3500.5447, grad_fn=<BinaryCrossEntropyBackward>)\n",
      "KLD tensor(704.4470, grad_fn=<MulBackward>)\n",
      "BCE tensor(3138.6353, grad_fn=<BinaryCrossEntropyBackward>)\n",
      "KLD tensor(748.4481, grad_fn=<MulBackward>)\n",
      "BCE tensor(3002.7371, grad_fn=<BinaryCrossEntropyBackward>)\n",
      "KLD tensor(779.9318, grad_fn=<MulBackward>)\n",
      "BCE tensor(3199.7676, grad_fn=<BinaryCrossEntropyBackward>)\n",
      "KLD tensor(759.1583, grad_fn=<MulBackward>)\n",
      "BCE tensor(2772.5588, grad_fn=<BinaryCrossEntropyBackward>)\n",
      "KLD tensor(642.6668, grad_fn=<MulBackward>)\n",
      "BCE tensor(3301.2979, grad_fn=<BinaryCrossEntropyBackward>)\n",
      "KLD tensor(705.7999, grad_fn=<MulBackward>)\n",
      "BCE tensor(3400.6633, grad_fn=<BinaryCrossEntropyBackward>)\n",
      "KLD tensor(761.4001, grad_fn=<MulBackward>)\n"
     ]
    },
    {
     "name": "stderr",
     "output_type": "stream",
     "text": [
      "\n",
      "\n",
      "\n",
      "874it [00:15, 56.44it/s]\u001b[A\u001b[A\u001b[A\n",
      "\n",
      "\n",
      "879it [00:15, 56.38it/s]\u001b[A\u001b[A\u001b[A"
     ]
    },
    {
     "name": "stdout",
     "output_type": "stream",
     "text": [
      "BCE tensor(3250.5635, grad_fn=<BinaryCrossEntropyBackward>)\n",
      "KLD tensor(724.9375, grad_fn=<MulBackward>)\n",
      "BCE tensor(3089.9866, grad_fn=<BinaryCrossEntropyBackward>)\n",
      "KLD tensor(698.8402, grad_fn=<MulBackward>)\n",
      "BCE tensor(2892.9832, grad_fn=<BinaryCrossEntropyBackward>)\n",
      "KLD tensor(725.8472, grad_fn=<MulBackward>)\n",
      "BCE tensor(3063.6086, grad_fn=<BinaryCrossEntropyBackward>)\n",
      "KLD tensor(704.9899, grad_fn=<MulBackward>)\n",
      "BCE tensor(3222.8457, grad_fn=<BinaryCrossEntropyBackward>)\n",
      "KLD tensor(692.7046, grad_fn=<MulBackward>)\n",
      "BCE tensor(3251.0657, grad_fn=<BinaryCrossEntropyBackward>)\n",
      "KLD tensor(736.5623, grad_fn=<MulBackward>)\n",
      "BCE tensor(3265.1292, grad_fn=<BinaryCrossEntropyBackward>)\n",
      "KLD tensor(765.3036, grad_fn=<MulBackward>)\n",
      "BCE tensor(3203.1582, grad_fn=<BinaryCrossEntropyBackward>)\n",
      "KLD tensor(755.2386, grad_fn=<MulBackward>)\n",
      "BCE tensor(3150.0874, grad_fn=<BinaryCrossEntropyBackward>)\n",
      "KLD tensor(694.0803, grad_fn=<MulBackward>)\n",
      "BCE tensor(3219.7358, grad_fn=<BinaryCrossEntropyBackward>)\n",
      "KLD tensor(660.5810, grad_fn=<MulBackward>)\n"
     ]
    },
    {
     "name": "stderr",
     "output_type": "stream",
     "text": [
      "\n",
      "\n",
      "\n",
      "884it [00:15, 56.33it/s]\u001b[A\u001b[A\u001b[A\n",
      "\n",
      "\n",
      "890it [00:15, 56.30it/s]\u001b[A\u001b[A\u001b[A"
     ]
    },
    {
     "name": "stdout",
     "output_type": "stream",
     "text": [
      "BCE tensor(3212.5420, grad_fn=<BinaryCrossEntropyBackward>)\n",
      "KLD tensor(699.4271, grad_fn=<MulBackward>)\n",
      "BCE tensor(2851.2964, grad_fn=<BinaryCrossEntropyBackward>)\n",
      "KLD tensor(736.9027, grad_fn=<MulBackward>)\n",
      "BCE tensor(3303.1389, grad_fn=<BinaryCrossEntropyBackward>)\n",
      "KLD tensor(722.3068, grad_fn=<MulBackward>)\n",
      "BCE tensor(2931.0718, grad_fn=<BinaryCrossEntropyBackward>)\n",
      "KLD tensor(697.7416, grad_fn=<MulBackward>)\n",
      "BCE tensor(3102.9983, grad_fn=<BinaryCrossEntropyBackward>)\n",
      "KLD tensor(722.3111, grad_fn=<MulBackward>)\n",
      "BCE tensor(3221.4126, grad_fn=<BinaryCrossEntropyBackward>)\n",
      "KLD tensor(770.8989, grad_fn=<MulBackward>)\n",
      "BCE tensor(3064.0122, grad_fn=<BinaryCrossEntropyBackward>)\n",
      "KLD tensor(706.1948, grad_fn=<MulBackward>)\n",
      "BCE tensor(3166.5112, grad_fn=<BinaryCrossEntropyBackward>)\n",
      "KLD tensor(738.0613, grad_fn=<MulBackward>)\n",
      "BCE tensor(2972.2256, grad_fn=<BinaryCrossEntropyBackward>)\n",
      "KLD tensor(743.6411, grad_fn=<MulBackward>)\n",
      "BCE tensor(3090.4451, grad_fn=<BinaryCrossEntropyBackward>)\n",
      "KLD tensor(743.9832, grad_fn=<MulBackward>)\n",
      "BCE tensor(2902.1104, grad_fn=<BinaryCrossEntropyBackward>)\n",
      "KLD tensor(777.8475, grad_fn=<MulBackward>)\n"
     ]
    },
    {
     "name": "stderr",
     "output_type": "stream",
     "text": [
      "\n",
      "\n",
      "\n",
      "895it [00:15, 56.25it/s]\u001b[A\u001b[A\u001b[A\n",
      "\n",
      "\n",
      "901it [00:16, 56.24it/s]\u001b[A\u001b[A\u001b[A"
     ]
    },
    {
     "name": "stdout",
     "output_type": "stream",
     "text": [
      "BCE tensor(2927.7932, grad_fn=<BinaryCrossEntropyBackward>)\n",
      "KLD tensor(635.4916, grad_fn=<MulBackward>)\n",
      "BCE tensor(3298.6333, grad_fn=<BinaryCrossEntropyBackward>)\n",
      "KLD tensor(706.1460, grad_fn=<MulBackward>)\n",
      "BCE tensor(3195.6028, grad_fn=<BinaryCrossEntropyBackward>)\n",
      "KLD tensor(731.8609, grad_fn=<MulBackward>)\n",
      "BCE tensor(2972.5515, grad_fn=<BinaryCrossEntropyBackward>)\n",
      "KLD tensor(724.4921, grad_fn=<MulBackward>)\n",
      "BCE tensor(3291.2532, grad_fn=<BinaryCrossEntropyBackward>)\n",
      "KLD tensor(688.6036, grad_fn=<MulBackward>)\n",
      "BCE tensor(2929.8149, grad_fn=<BinaryCrossEntropyBackward>)\n",
      "KLD tensor(678.5811, grad_fn=<MulBackward>)\n",
      "BCE tensor(3326.1877, grad_fn=<BinaryCrossEntropyBackward>)\n",
      "KLD tensor(750.3759, grad_fn=<MulBackward>)\n",
      "BCE tensor(2855.0520, grad_fn=<BinaryCrossEntropyBackward>)\n",
      "KLD tensor(697.1296, grad_fn=<MulBackward>)\n",
      "BCE tensor(2914.9993, grad_fn=<BinaryCrossEntropyBackward>)\n",
      "KLD tensor(691.6567, grad_fn=<MulBackward>)\n",
      "BCE tensor(3345.4419, grad_fn=<BinaryCrossEntropyBackward>)\n",
      "KLD tensor(744.4788, grad_fn=<MulBackward>)\n",
      "BCE tensor(3316.8445, grad_fn=<BinaryCrossEntropyBackward>)\n",
      "KLD tensor(721.8659, grad_fn=<MulBackward>)\n"
     ]
    },
    {
     "name": "stderr",
     "output_type": "stream",
     "text": [
      "\n",
      "\n",
      "\n",
      "907it [00:16, 56.18it/s]\u001b[A\u001b[A\u001b[A"
     ]
    },
    {
     "name": "stdout",
     "output_type": "stream",
     "text": [
      "BCE tensor(3350.8418, grad_fn=<BinaryCrossEntropyBackward>)\n",
      "KLD tensor(685.7249, grad_fn=<MulBackward>)\n",
      "BCE tensor(2837.1736, grad_fn=<BinaryCrossEntropyBackward>)\n",
      "KLD tensor(666.0812, grad_fn=<MulBackward>)\n",
      "BCE tensor(3068.9392, grad_fn=<BinaryCrossEntropyBackward>)\n",
      "KLD tensor(702.4647, grad_fn=<MulBackward>)\n",
      "BCE tensor(2967.2791, grad_fn=<BinaryCrossEntropyBackward>)\n",
      "KLD tensor(717.6019, grad_fn=<MulBackward>)\n",
      "BCE tensor(3245.4521, grad_fn=<BinaryCrossEntropyBackward>)\n",
      "KLD tensor(817.3198, grad_fn=<MulBackward>)\n",
      "BCE tensor(3297.6167, grad_fn=<BinaryCrossEntropyBackward>)\n",
      "KLD tensor(736.0242, grad_fn=<MulBackward>)\n",
      "BCE tensor(3274.8188, grad_fn=<BinaryCrossEntropyBackward>)\n",
      "KLD tensor(773.8743, grad_fn=<MulBackward>)\n",
      "BCE tensor(3359.7876, grad_fn=<BinaryCrossEntropyBackward>)\n",
      "KLD tensor(760.0485, grad_fn=<MulBackward>)\n",
      "BCE tensor(3101.0347, grad_fn=<BinaryCrossEntropyBackward>)\n",
      "KLD tensor(690.6402, grad_fn=<MulBackward>)\n",
      "BCE tensor(3355.8137, grad_fn=<BinaryCrossEntropyBackward>)\n",
      "KLD tensor(716.5607, grad_fn=<MulBackward>)\n"
     ]
    },
    {
     "name": "stderr",
     "output_type": "stream",
     "text": [
      "\n",
      "\n",
      "\n",
      "913it [00:16, 56.11it/s]\u001b[A\u001b[A\u001b[A\n",
      "\n",
      "\n",
      "918it [00:16, 56.06it/s]\u001b[A\u001b[A\u001b[A"
     ]
    },
    {
     "name": "stdout",
     "output_type": "stream",
     "text": [
      "BCE tensor(3268.1235, grad_fn=<BinaryCrossEntropyBackward>)\n",
      "KLD tensor(707.6539, grad_fn=<MulBackward>)\n",
      "BCE tensor(3171.0107, grad_fn=<BinaryCrossEntropyBackward>)\n",
      "KLD tensor(697.5864, grad_fn=<MulBackward>)\n",
      "BCE tensor(3048.7864, grad_fn=<BinaryCrossEntropyBackward>)\n",
      "KLD tensor(691.2840, grad_fn=<MulBackward>)\n",
      "BCE tensor(2894.8350, grad_fn=<BinaryCrossEntropyBackward>)\n",
      "KLD tensor(681.0037, grad_fn=<MulBackward>)\n",
      "BCE tensor(3139.0283, grad_fn=<BinaryCrossEntropyBackward>)\n",
      "KLD tensor(764.0165, grad_fn=<MulBackward>)\n",
      "BCE tensor(3175.3120, grad_fn=<BinaryCrossEntropyBackward>)\n",
      "KLD tensor(778.8447, grad_fn=<MulBackward>)\n",
      "BCE tensor(3205.5862, grad_fn=<BinaryCrossEntropyBackward>)\n",
      "KLD tensor(724.5690, grad_fn=<MulBackward>)\n",
      "BCE tensor(3250.3074, grad_fn=<BinaryCrossEntropyBackward>)\n",
      "KLD tensor(751.6520, grad_fn=<MulBackward>)\n",
      "BCE tensor(3160.3823, grad_fn=<BinaryCrossEntropyBackward>)\n",
      "KLD tensor(733.3928, grad_fn=<MulBackward>)\n",
      "BCE tensor(2927.8521, grad_fn=<BinaryCrossEntropyBackward>)\n",
      "KLD tensor(696.3673, grad_fn=<MulBackward>)\n",
      "BCE tensor(3187.7517, grad_fn=<BinaryCrossEntropyBackward>)\n",
      "KLD tensor(717.5506, grad_fn=<MulBackward>)\n"
     ]
    },
    {
     "name": "stderr",
     "output_type": "stream",
     "text": [
      "\n",
      "\n",
      "\n",
      "924it [00:16, 56.06it/s]\u001b[A\u001b[A\u001b[A\n",
      "\n",
      "\n",
      "930it [00:16, 56.02it/s]\u001b[A\u001b[A\u001b[A"
     ]
    },
    {
     "name": "stdout",
     "output_type": "stream",
     "text": [
      "BCE tensor(3186.9556, grad_fn=<BinaryCrossEntropyBackward>)\n",
      "KLD tensor(685.8054, grad_fn=<MulBackward>)\n",
      "BCE tensor(3044.4761, grad_fn=<BinaryCrossEntropyBackward>)\n",
      "KLD tensor(667.6076, grad_fn=<MulBackward>)\n",
      "BCE tensor(3177.6050, grad_fn=<BinaryCrossEntropyBackward>)\n",
      "KLD tensor(696.1078, grad_fn=<MulBackward>)\n",
      "BCE tensor(3264.7822, grad_fn=<BinaryCrossEntropyBackward>)\n",
      "KLD tensor(729.7421, grad_fn=<MulBackward>)\n",
      "BCE tensor(3117.4548, grad_fn=<BinaryCrossEntropyBackward>)\n",
      "KLD tensor(714.5040, grad_fn=<MulBackward>)\n",
      "BCE tensor(3451.9473, grad_fn=<BinaryCrossEntropyBackward>)\n",
      "KLD tensor(712.1368, grad_fn=<MulBackward>)\n",
      "BCE tensor(3199.2805, grad_fn=<BinaryCrossEntropyBackward>)\n",
      "KLD tensor(704.7095, grad_fn=<MulBackward>)\n",
      "BCE tensor(3016.7739, grad_fn=<BinaryCrossEntropyBackward>)\n",
      "KLD tensor(718.3762, grad_fn=<MulBackward>)\n",
      "BCE tensor(3575.5896, grad_fn=<BinaryCrossEntropyBackward>)\n",
      "KLD tensor(790.3770, grad_fn=<MulBackward>)\n",
      "BCE tensor(3067.9419, grad_fn=<BinaryCrossEntropyBackward>)\n",
      "KLD tensor(712.4668, grad_fn=<MulBackward>)\n",
      "BCE tensor(3046.3220, grad_fn=<BinaryCrossEntropyBackward>)"
     ]
    },
    {
     "name": "stderr",
     "output_type": "stream",
     "text": [
      "\n",
      "\n",
      "\n",
      "936it [00:16, 55.97it/s]\u001b[A\u001b[A\u001b[A\n",
      "\n",
      "\n",
      "942it [00:16, 55.96it/s]\u001b[A\u001b[A\u001b[A"
     ]
    },
    {
     "name": "stdout",
     "output_type": "stream",
     "text": [
      "\n",
      "KLD tensor(689.0475, grad_fn=<MulBackward>)\n",
      "BCE tensor(3021.4993, grad_fn=<BinaryCrossEntropyBackward>)\n",
      "KLD tensor(694.6294, grad_fn=<MulBackward>)\n",
      "BCE tensor(3064.9651, grad_fn=<BinaryCrossEntropyBackward>)\n",
      "KLD tensor(724.1881, grad_fn=<MulBackward>)\n",
      "BCE tensor(2939.9895, grad_fn=<BinaryCrossEntropyBackward>)\n",
      "KLD tensor(733.6475, grad_fn=<MulBackward>)\n",
      "BCE tensor(2889.9558, grad_fn=<BinaryCrossEntropyBackward>)\n",
      "KLD tensor(693.8524, grad_fn=<MulBackward>)\n",
      "BCE tensor(2950.0483, grad_fn=<BinaryCrossEntropyBackward>)\n",
      "KLD tensor(703.0411, grad_fn=<MulBackward>)\n",
      "BCE tensor(3167.7151, grad_fn=<BinaryCrossEntropyBackward>)\n",
      "KLD tensor(729.3526, grad_fn=<MulBackward>)\n",
      "BCE tensor(3342.5891, grad_fn=<BinaryCrossEntropyBackward>)\n",
      "KLD tensor(711.7065, grad_fn=<MulBackward>)\n",
      "BCE tensor(3241.7253, grad_fn=<BinaryCrossEntropyBackward>)\n",
      "KLD tensor(773.8691, grad_fn=<MulBackward>)\n",
      "BCE tensor(3083.7075, grad_fn=<BinaryCrossEntropyBackward>)\n",
      "KLD tensor(782.3484, grad_fn=<MulBackward>)\n",
      "BCE tensor(2870.1584, grad_fn=<BinaryCrossEntropyBackward>)\n",
      "KLD tensor(732.6566, grad_fn=<MulBackward>)\n"
     ]
    },
    {
     "name": "stderr",
     "output_type": "stream",
     "text": [
      "\n",
      "\n",
      "\n",
      "948it [00:16, 55.90it/s]\u001b[A\u001b[A\u001b[A\n",
      "\n",
      "\n",
      "954it [00:17, 55.88it/s]\u001b[A\u001b[A\u001b[A"
     ]
    },
    {
     "name": "stdout",
     "output_type": "stream",
     "text": [
      "BCE tensor(2913.9597, grad_fn=<BinaryCrossEntropyBackward>)\n",
      "KLD tensor(684.3137, grad_fn=<MulBackward>)\n",
      "BCE tensor(3283.6189, grad_fn=<BinaryCrossEntropyBackward>)\n",
      "KLD tensor(699.8500, grad_fn=<MulBackward>)\n",
      "BCE tensor(2981.3616, grad_fn=<BinaryCrossEntropyBackward>)\n",
      "KLD tensor(634.2186, grad_fn=<MulBackward>)\n",
      "BCE tensor(2991.3225, grad_fn=<BinaryCrossEntropyBackward>)\n",
      "KLD tensor(707.7335, grad_fn=<MulBackward>)\n",
      "BCE tensor(2885.1914, grad_fn=<BinaryCrossEntropyBackward>)\n",
      "KLD tensor(684.7890, grad_fn=<MulBackward>)\n",
      "BCE tensor(3040.7058, grad_fn=<BinaryCrossEntropyBackward>)\n",
      "KLD tensor(688.8435, grad_fn=<MulBackward>)\n",
      "BCE tensor(2911.7307, grad_fn=<BinaryCrossEntropyBackward>)\n",
      "KLD tensor(703.3494, grad_fn=<MulBackward>)\n",
      "BCE tensor(3105.4502, grad_fn=<BinaryCrossEntropyBackward>)\n",
      "KLD tensor(697.3644, grad_fn=<MulBackward>)\n",
      "BCE tensor(2960.7974, grad_fn=<BinaryCrossEntropyBackward>)\n",
      "KLD tensor(732.8475, grad_fn=<MulBackward>)\n",
      "BCE tensor(3145.7456, grad_fn=<BinaryCrossEntropyBackward>)\n",
      "KLD tensor(735.7620, grad_fn=<MulBackward>)\n",
      "BCE tensor(3040.7922, grad_fn=<BinaryCrossEntropyBackward>)\n",
      "KLD tensor(665.1683, grad_fn=<MulBackward>)\n",
      "BCE tensor(3293.3098, grad_fn=<BinaryCrossEntropyBackward>)\n",
      "KLD tensor(718.1813, grad_fn=<MulBackward>)\n",
      "BCE tensor(3083.5684, grad_fn=<BinaryCrossEntropyBackward>)\n",
      "KLD tensor(705.9407, grad_fn=<MulBackward>)\n",
      "BCE tensor(3020.7988, grad_fn=<BinaryCrossEntropyBackward>)\n",
      "KLD tensor(697.8673, grad_fn=<MulBackward>)\n",
      "BCE tensor(3147.8657, grad_fn=<BinaryCrossEntropyBackward>)\n",
      "KLD tensor(776.1604, grad_fn=<MulBackward>)\n",
      "BCE tensor(2761.2627, grad_fn=<BinaryCrossEntropyBackward>)\n",
      "KLD tensor(678.4343, grad_fn=<MulBackward>)\n"
     ]
    },
    {
     "name": "stderr",
     "output_type": "stream",
     "text": [
      "\n",
      "\n",
      "\n",
      "960it [00:17, 55.52it/s]\u001b[A\u001b[A\u001b[A\n",
      "\n",
      "\n",
      "965it [00:17, 55.43it/s]\u001b[A\u001b[A\u001b[A"
     ]
    },
    {
     "name": "stdout",
     "output_type": "stream",
     "text": [
      "BCE tensor(3222.2749, grad_fn=<BinaryCrossEntropyBackward>)\n",
      "KLD tensor(743.8633, grad_fn=<MulBackward>)\n",
      "BCE tensor(3353.1248, grad_fn=<BinaryCrossEntropyBackward>)\n",
      "KLD tensor(730.4124, grad_fn=<MulBackward>)\n",
      "BCE tensor(3076.0801, grad_fn=<BinaryCrossEntropyBackward>)\n",
      "KLD tensor(696.4573, grad_fn=<MulBackward>)\n",
      "BCE tensor(3182.2832, grad_fn=<BinaryCrossEntropyBackward>)\n",
      "KLD tensor(653.0696, grad_fn=<MulBackward>)\n",
      "BCE tensor(3349.7615, grad_fn=<BinaryCrossEntropyBackward>)\n",
      "KLD tensor(709.1758, grad_fn=<MulBackward>)\n",
      "BCE tensor(3295.6746, grad_fn=<BinaryCrossEntropyBackward>)\n",
      "KLD tensor(745.8951, grad_fn=<MulBackward>)\n",
      "BCE tensor(3014.5430, grad_fn=<BinaryCrossEntropyBackward>)\n",
      "KLD tensor(741.1138, grad_fn=<MulBackward>)\n",
      "BCE tensor(2859.8752, grad_fn=<BinaryCrossEntropyBackward>)\n",
      "KLD tensor(713.6942, grad_fn=<MulBackward>)\n",
      "BCE tensor(3005.2522, grad_fn=<BinaryCrossEntropyBackward>)\n",
      "KLD tensor(723.8309, grad_fn=<MulBackward>)\n",
      "BCE tensor(3099.9937, grad_fn=<BinaryCrossEntropyBackward>)"
     ]
    },
    {
     "name": "stderr",
     "output_type": "stream",
     "text": [
      "\n",
      "\n",
      "\n",
      "970it [00:17, 55.32it/s]\u001b[A\u001b[A\u001b[A\n",
      "\n",
      "\n",
      "975it [00:17, 55.20it/s]\u001b[A\u001b[A\u001b[A"
     ]
    },
    {
     "name": "stdout",
     "output_type": "stream",
     "text": [
      "\n",
      "KLD tensor(694.4968, grad_fn=<MulBackward>)\n",
      "BCE tensor(2844.0310, grad_fn=<BinaryCrossEntropyBackward>)\n",
      "KLD tensor(752.4941, grad_fn=<MulBackward>)\n",
      "BCE tensor(3156.6260, grad_fn=<BinaryCrossEntropyBackward>)\n",
      "KLD tensor(793.3607, grad_fn=<MulBackward>)\n",
      "BCE tensor(3169.9949, grad_fn=<BinaryCrossEntropyBackward>)\n",
      "KLD tensor(753.3745, grad_fn=<MulBackward>)\n",
      "BCE tensor(3101.7197, grad_fn=<BinaryCrossEntropyBackward>)\n",
      "KLD tensor(747.5363, grad_fn=<MulBackward>)\n",
      "BCE tensor(3220.7712, grad_fn=<BinaryCrossEntropyBackward>)\n",
      "KLD tensor(751.9885, grad_fn=<MulBackward>)\n",
      "BCE tensor(2925.2742, grad_fn=<BinaryCrossEntropyBackward>)\n",
      "KLD tensor(714.2339, grad_fn=<MulBackward>)\n",
      "BCE tensor(3228.2336, grad_fn=<BinaryCrossEntropyBackward>)\n",
      "KLD tensor(715.4265, grad_fn=<MulBackward>)\n"
     ]
    },
    {
     "name": "stderr",
     "output_type": "stream",
     "text": [
      "\n",
      "\n",
      "\n",
      "980it [00:17, 55.10it/s]\u001b[A\u001b[A\u001b[A\n",
      "\n",
      "\n",
      "985it [00:17, 55.06it/s]\u001b[A\u001b[A\u001b[A"
     ]
    },
    {
     "name": "stdout",
     "output_type": "stream",
     "text": [
      "BCE tensor(2971.8394, grad_fn=<BinaryCrossEntropyBackward>)\n",
      "KLD tensor(711.7571, grad_fn=<MulBackward>)\n",
      "BCE tensor(3092.9392, grad_fn=<BinaryCrossEntropyBackward>)\n",
      "KLD tensor(736.4531, grad_fn=<MulBackward>)\n",
      "BCE tensor(3033.5256, grad_fn=<BinaryCrossEntropyBackward>)\n",
      "KLD tensor(696.8278, grad_fn=<MulBackward>)\n",
      "BCE tensor(3136.6006, grad_fn=<BinaryCrossEntropyBackward>)\n",
      "KLD tensor(719.6116, grad_fn=<MulBackward>)\n",
      "BCE tensor(3151.8303, grad_fn=<BinaryCrossEntropyBackward>)\n",
      "KLD tensor(740.3375, grad_fn=<MulBackward>)\n",
      "BCE tensor(3014.4138, grad_fn=<BinaryCrossEntropyBackward>)\n",
      "KLD tensor(765.6019, grad_fn=<MulBackward>)\n",
      "BCE tensor(2974.4448, grad_fn=<BinaryCrossEntropyBackward>)\n",
      "KLD tensor(801.5574, grad_fn=<MulBackward>)\n",
      "BCE tensor(3222.1731, grad_fn=<BinaryCrossEntropyBackward>)\n",
      "KLD tensor(776.5688, grad_fn=<MulBackward>)\n",
      "BCE tensor(3242.4702, grad_fn=<BinaryCrossEntropyBackward>)\n",
      "KLD tensor(773.8379, grad_fn=<MulBackward>)\n",
      "BCE tensor(2806.4424, grad_fn=<BinaryCrossEntropyBackward>)\n",
      "KLD tensor(775.5183, grad_fn=<MulBackward>)\n"
     ]
    },
    {
     "name": "stderr",
     "output_type": "stream",
     "text": [
      "\n",
      "\n",
      "\n",
      "990it [00:17, 55.01it/s]\u001b[A\u001b[A\u001b[A\n",
      "\n",
      "\n",
      "995it [00:18, 54.95it/s]\u001b[A\u001b[A\u001b[A"
     ]
    },
    {
     "name": "stdout",
     "output_type": "stream",
     "text": [
      "BCE tensor(3089.8972, grad_fn=<BinaryCrossEntropyBackward>)\n",
      "KLD tensor(774.0945, grad_fn=<MulBackward>)\n",
      "BCE tensor(3291.3018, grad_fn=<BinaryCrossEntropyBackward>)\n",
      "KLD tensor(744.5810, grad_fn=<MulBackward>)\n",
      "BCE tensor(3065.4062, grad_fn=<BinaryCrossEntropyBackward>)\n",
      "KLD tensor(695.6764, grad_fn=<MulBackward>)\n",
      "BCE tensor(3048.6650, grad_fn=<BinaryCrossEntropyBackward>)\n",
      "KLD tensor(702.4469, grad_fn=<MulBackward>)\n",
      "BCE tensor(3017.0762, grad_fn=<BinaryCrossEntropyBackward>)\n",
      "KLD tensor(700.2213, grad_fn=<MulBackward>)\n",
      "BCE tensor(2890.1501, grad_fn=<BinaryCrossEntropyBackward>)\n",
      "KLD tensor(679.0431, grad_fn=<MulBackward>)\n",
      "BCE tensor(2937.6663, grad_fn=<BinaryCrossEntropyBackward>)\n",
      "KLD tensor(696.8749, grad_fn=<MulBackward>)\n",
      "BCE tensor(2859.7715, grad_fn=<BinaryCrossEntropyBackward>)\n",
      "KLD tensor(672.8721, grad_fn=<MulBackward>)\n",
      "BCE tensor(3019.2180, grad_fn=<BinaryCrossEntropyBackward>)\n",
      "KLD tensor(731.1819, grad_fn=<MulBackward>)\n",
      "BCE tensor(3218.3491, grad_fn=<BinaryCrossEntropyBackward>)\n",
      "KLD tensor(736.2802, grad_fn=<MulBackward>)\n"
     ]
    },
    {
     "name": "stderr",
     "output_type": "stream",
     "text": [
      "\n",
      "\n",
      "\n",
      "1000it [00:18, 54.89it/s]\u001b[A\u001b[A\u001b[A\n",
      "\n",
      "\n",
      "1005it [00:18, 54.79it/s]\u001b[A\u001b[A\u001b[A"
     ]
    },
    {
     "name": "stdout",
     "output_type": "stream",
     "text": [
      "BCE tensor(2944.0315, grad_fn=<BinaryCrossEntropyBackward>)\n",
      "KLD tensor(741.6290, grad_fn=<MulBackward>)\n",
      "BCE tensor(2936.5161, grad_fn=<BinaryCrossEntropyBackward>)\n",
      "KLD tensor(674.5745, grad_fn=<MulBackward>)\n",
      "BCE tensor(3521.5400, grad_fn=<BinaryCrossEntropyBackward>)\n",
      "KLD tensor(721.2344, grad_fn=<MulBackward>)\n",
      "BCE tensor(3152.8667, grad_fn=<BinaryCrossEntropyBackward>)\n",
      "KLD tensor(701.0396, grad_fn=<MulBackward>)\n",
      "BCE tensor(2993.2559, grad_fn=<BinaryCrossEntropyBackward>)\n",
      "KLD tensor(676.2496, grad_fn=<MulBackward>)\n",
      "BCE tensor(3219.4727, grad_fn=<BinaryCrossEntropyBackward>)\n",
      "KLD tensor(762.4844, grad_fn=<MulBackward>)\n",
      "BCE tensor(3047.9226, grad_fn=<BinaryCrossEntropyBackward>)\n",
      "KLD tensor(753.6971, grad_fn=<MulBackward>)\n",
      "BCE tensor(3162.5513, grad_fn=<BinaryCrossEntropyBackward>)\n",
      "KLD tensor(790.3994, grad_fn=<MulBackward>)\n",
      "BCE tensor(3108.5366, grad_fn=<BinaryCrossEntropyBackward>)\n",
      "KLD tensor(765.6013, grad_fn=<MulBackward>)\n"
     ]
    },
    {
     "name": "stderr",
     "output_type": "stream",
     "text": [
      "\n",
      "\n",
      "\n",
      "1010it [00:18, 54.72it/s]\u001b[A\u001b[A\u001b[A\n",
      "\n",
      "\n",
      "1015it [00:18, 54.67it/s]\u001b[A\u001b[A\u001b[A"
     ]
    },
    {
     "name": "stdout",
     "output_type": "stream",
     "text": [
      "BCE tensor(2978.7620, grad_fn=<BinaryCrossEntropyBackward>)\n",
      "KLD tensor(748.6490, grad_fn=<MulBackward>)\n",
      "BCE tensor(3184.6895, grad_fn=<BinaryCrossEntropyBackward>)\n",
      "KLD tensor(708.8476, grad_fn=<MulBackward>)\n",
      "BCE tensor(2967.5933, grad_fn=<BinaryCrossEntropyBackward>)\n",
      "KLD tensor(698.4932, grad_fn=<MulBackward>)\n",
      "BCE tensor(3267.4050, grad_fn=<BinaryCrossEntropyBackward>)\n",
      "KLD tensor(733.6522, grad_fn=<MulBackward>)\n",
      "BCE tensor(3212.2163, grad_fn=<BinaryCrossEntropyBackward>)\n",
      "KLD tensor(733.9304, grad_fn=<MulBackward>)\n",
      "BCE tensor(3159.9382, grad_fn=<BinaryCrossEntropyBackward>)\n",
      "KLD tensor(694.9340, grad_fn=<MulBackward>)\n",
      "BCE tensor(3196.8711, grad_fn=<BinaryCrossEntropyBackward>)\n",
      "KLD tensor(769.9272, grad_fn=<MulBackward>)\n",
      "BCE tensor(2872.1580, grad_fn=<BinaryCrossEntropyBackward>)\n",
      "KLD tensor(706.3877, grad_fn=<MulBackward>)\n",
      "BCE tensor(2990.1904, grad_fn=<BinaryCrossEntropyBackward>)\n",
      "KLD tensor(701.2783, grad_fn=<MulBackward>)\n"
     ]
    },
    {
     "name": "stderr",
     "output_type": "stream",
     "text": [
      "\n",
      "\n",
      "\n",
      "1020it [00:18, 54.60it/s]\u001b[A\u001b[A\u001b[A"
     ]
    },
    {
     "name": "stdout",
     "output_type": "stream",
     "text": [
      "BCE tensor(3069.0051, grad_fn=<BinaryCrossEntropyBackward>)\n",
      "KLD tensor(730.3796, grad_fn=<MulBackward>)\n",
      "BCE tensor(2674.9185, grad_fn=<BinaryCrossEntropyBackward>)\n",
      "KLD tensor(753.2820, grad_fn=<MulBackward>)\n",
      "BCE tensor(3212.9919, grad_fn=<BinaryCrossEntropyBackward>)\n",
      "KLD tensor(715.5256, grad_fn=<MulBackward>)\n",
      "BCE tensor(3143.7703, grad_fn=<BinaryCrossEntropyBackward>)\n",
      "KLD tensor(681.0190, grad_fn=<MulBackward>)\n",
      "BCE tensor(3006.6814, grad_fn=<BinaryCrossEntropyBackward>)\n",
      "KLD tensor(676.9792, grad_fn=<MulBackward>)\n",
      "BCE tensor(3353.2837, grad_fn=<BinaryCrossEntropyBackward>)\n",
      "KLD tensor(732.4559, grad_fn=<MulBackward>)\n",
      "BCE tensor(3280.4512, grad_fn=<BinaryCrossEntropyBackward>)\n",
      "KLD tensor(807.7410, grad_fn=<MulBackward>)\n",
      "BCE tensor(3007.1248, grad_fn=<BinaryCrossEntropyBackward>)\n",
      "KLD tensor(727.9763, grad_fn=<MulBackward>)\n",
      "BCE tensor(3136.5713, grad_fn=<BinaryCrossEntropyBackward>)\n",
      "KLD tensor(698.3445, grad_fn=<MulBackward>)\n",
      "BCE tensor(3062.3186, grad_fn=<BinaryCrossEntropyBackward>)\n",
      "KLD tensor(706.8722, grad_fn=<MulBackward>)\n"
     ]
    },
    {
     "name": "stderr",
     "output_type": "stream",
     "text": [
      "\n",
      "\n",
      "\n",
      "1025it [00:18, 54.54it/s]\u001b[A\u001b[A\u001b[A\n",
      "\n",
      "\n",
      "1030it [00:18, 54.47it/s]\u001b[A\u001b[A\u001b[A"
     ]
    },
    {
     "name": "stdout",
     "output_type": "stream",
     "text": [
      "BCE tensor(2745.4758, grad_fn=<BinaryCrossEntropyBackward>)\n",
      "KLD tensor(693.3165, grad_fn=<MulBackward>)\n",
      "BCE tensor(2863.8557, grad_fn=<BinaryCrossEntropyBackward>)\n",
      "KLD tensor(743.9996, grad_fn=<MulBackward>)\n",
      "BCE tensor(3313.5464, grad_fn=<BinaryCrossEntropyBackward>)\n",
      "KLD tensor(720.0671, grad_fn=<MulBackward>)\n",
      "BCE tensor(2801.6450, grad_fn=<BinaryCrossEntropyBackward>)\n",
      "KLD tensor(664.4877, grad_fn=<MulBackward>)\n",
      "BCE tensor(3158.3210, grad_fn=<BinaryCrossEntropyBackward>)\n",
      "KLD tensor(729.1675, grad_fn=<MulBackward>)\n",
      "BCE tensor(3274.2944, grad_fn=<BinaryCrossEntropyBackward>)\n",
      "KLD tensor(695.4055, grad_fn=<MulBackward>)\n",
      "BCE tensor(2976.6399, grad_fn=<BinaryCrossEntropyBackward>)\n",
      "KLD tensor(703.1427, grad_fn=<MulBackward>)\n",
      "BCE tensor(3077.6909, grad_fn=<BinaryCrossEntropyBackward>)\n",
      "KLD tensor(801.9141, grad_fn=<MulBackward>)\n",
      "BCE tensor(3135.5879, grad_fn=<BinaryCrossEntropyBackward>)\n",
      "KLD tensor(763.5702, grad_fn=<MulBackward>)\n",
      "BCE tensor(3314.6113, grad_fn=<BinaryCrossEntropyBackward>)"
     ]
    },
    {
     "name": "stderr",
     "output_type": "stream",
     "text": [
      "\n",
      "\n",
      "\n",
      "1035it [00:19, 54.40it/s]\u001b[A\u001b[A\u001b[A\n",
      "\n",
      "\n",
      "1040it [00:19, 54.37it/s]\u001b[A\u001b[A\u001b[A"
     ]
    },
    {
     "name": "stdout",
     "output_type": "stream",
     "text": [
      "\n",
      "KLD tensor(734.0511, grad_fn=<MulBackward>)\n",
      "BCE tensor(3064.2634, grad_fn=<BinaryCrossEntropyBackward>)\n",
      "KLD tensor(705.0670, grad_fn=<MulBackward>)\n",
      "BCE tensor(3217.6016, grad_fn=<BinaryCrossEntropyBackward>)\n",
      "KLD tensor(724.7605, grad_fn=<MulBackward>)\n",
      "BCE tensor(3265.7329, grad_fn=<BinaryCrossEntropyBackward>)\n",
      "KLD tensor(730.7594, grad_fn=<MulBackward>)\n",
      "BCE tensor(3066.8027, grad_fn=<BinaryCrossEntropyBackward>)\n",
      "KLD tensor(684.8386, grad_fn=<MulBackward>)\n",
      "BCE tensor(3097.7559, grad_fn=<BinaryCrossEntropyBackward>)\n",
      "KLD tensor(739.1219, grad_fn=<MulBackward>)\n",
      "BCE tensor(3350.6213, grad_fn=<BinaryCrossEntropyBackward>)\n",
      "KLD tensor(779.6884, grad_fn=<MulBackward>)\n",
      "BCE tensor(3231.9421, grad_fn=<BinaryCrossEntropyBackward>)\n",
      "KLD tensor(717.0706, grad_fn=<MulBackward>)\n",
      "BCE tensor(3396.3821, grad_fn=<BinaryCrossEntropyBackward>)\n",
      "KLD tensor(711.7657, grad_fn=<MulBackward>)\n"
     ]
    },
    {
     "name": "stderr",
     "output_type": "stream",
     "text": [
      "\n",
      "\n",
      "\n",
      "1045it [00:19, 54.10it/s]\u001b[A\u001b[A\u001b[A\n",
      "\n",
      "\n",
      "1049it [00:19, 54.00it/s]\u001b[A\u001b[A\u001b[A"
     ]
    },
    {
     "name": "stdout",
     "output_type": "stream",
     "text": [
      "BCE tensor(3148.5388, grad_fn=<BinaryCrossEntropyBackward>)\n",
      "KLD tensor(721.5789, grad_fn=<MulBackward>)\n",
      "BCE tensor(3108.4709, grad_fn=<BinaryCrossEntropyBackward>)\n",
      "KLD tensor(791.7106, grad_fn=<MulBackward>)\n",
      "BCE tensor(2927.3042, grad_fn=<BinaryCrossEntropyBackward>)\n",
      "KLD tensor(711.9254, grad_fn=<MulBackward>)\n",
      "BCE tensor(3038.4468, grad_fn=<BinaryCrossEntropyBackward>)\n",
      "KLD tensor(697.1259, grad_fn=<MulBackward>)\n",
      "BCE tensor(3003.9031, grad_fn=<BinaryCrossEntropyBackward>)\n",
      "KLD tensor(766.9852, grad_fn=<MulBackward>)\n",
      "BCE tensor(3180.6323, grad_fn=<BinaryCrossEntropyBackward>)\n",
      "KLD tensor(682.2192, grad_fn=<MulBackward>)\n"
     ]
    },
    {
     "name": "stderr",
     "output_type": "stream",
     "text": [
      "\n",
      "\n",
      "\n",
      "1054it [00:19, 53.91it/s]\u001b[A\u001b[A\u001b[A"
     ]
    },
    {
     "name": "stdout",
     "output_type": "stream",
     "text": [
      "BCE tensor(2718.5989, grad_fn=<BinaryCrossEntropyBackward>)\n",
      "KLD tensor(694.5534, grad_fn=<MulBackward>)\n",
      "BCE tensor(2771.5701, grad_fn=<BinaryCrossEntropyBackward>)\n",
      "KLD tensor(701.5739, grad_fn=<MulBackward>)\n",
      "BCE tensor(2950.5044, grad_fn=<BinaryCrossEntropyBackward>)\n",
      "KLD tensor(710.9365, grad_fn=<MulBackward>)\n",
      "BCE tensor(3288.7937, grad_fn=<BinaryCrossEntropyBackward>)\n",
      "KLD tensor(785.8487, grad_fn=<MulBackward>)\n",
      "BCE tensor(2782.3186, grad_fn=<BinaryCrossEntropyBackward>)\n",
      "KLD tensor(695.7176, grad_fn=<MulBackward>)\n",
      "BCE tensor(2808.6829, grad_fn=<BinaryCrossEntropyBackward>)\n",
      "KLD tensor(669.7250, grad_fn=<MulBackward>)\n",
      "BCE tensor(3329.2375, grad_fn=<BinaryCrossEntropyBackward>)\n",
      "KLD tensor(690.4172, grad_fn=<MulBackward>)\n",
      "BCE tensor(3361.5466, grad_fn=<BinaryCrossEntropyBackward>)\n",
      "KLD tensor(758.3714, grad_fn=<MulBackward>)\n",
      "BCE tensor(3437.0417, grad_fn=<BinaryCrossEntropyBackward>)\n",
      "KLD tensor(693.4596, grad_fn=<MulBackward>)\n"
     ]
    },
    {
     "name": "stderr",
     "output_type": "stream",
     "text": [
      "\n",
      "\n",
      "\n",
      "1059it [00:19, 53.86it/s]\u001b[A\u001b[A\u001b[A\n",
      "\n",
      "\n",
      "1064it [00:19, 53.74it/s]\u001b[A\u001b[A\u001b[A"
     ]
    },
    {
     "name": "stdout",
     "output_type": "stream",
     "text": [
      "BCE tensor(2933.0061, grad_fn=<BinaryCrossEntropyBackward>)\n",
      "KLD tensor(718.8632, grad_fn=<MulBackward>)\n",
      "BCE tensor(3067.7224, grad_fn=<BinaryCrossEntropyBackward>)\n",
      "KLD tensor(711.2079, grad_fn=<MulBackward>)\n",
      "BCE tensor(2927.0466, grad_fn=<BinaryCrossEntropyBackward>)\n",
      "KLD tensor(716.0701, grad_fn=<MulBackward>)\n",
      "BCE tensor(3353.6318, grad_fn=<BinaryCrossEntropyBackward>)\n",
      "KLD tensor(756.9921, grad_fn=<MulBackward>)\n",
      "BCE tensor(2965.9165, grad_fn=<BinaryCrossEntropyBackward>)\n",
      "KLD tensor(730.5995, grad_fn=<MulBackward>)\n",
      "BCE tensor(3172.5405, grad_fn=<BinaryCrossEntropyBackward>)\n",
      "KLD tensor(757.7224, grad_fn=<MulBackward>)\n",
      "BCE tensor(3078.6887, grad_fn=<BinaryCrossEntropyBackward>)\n",
      "KLD tensor(720.4578, grad_fn=<MulBackward>)\n",
      "BCE tensor(3135.9478, grad_fn=<BinaryCrossEntropyBackward>)\n",
      "KLD tensor(780.0480, grad_fn=<MulBackward>)\n"
     ]
    },
    {
     "name": "stderr",
     "output_type": "stream",
     "text": [
      "\n",
      "\n",
      "\n",
      "1069it [00:19, 53.70it/s]\u001b[A\u001b[A\u001b[A\n",
      "\n",
      "\n",
      "1074it [00:20, 53.68it/s]\u001b[A\u001b[A\u001b[A"
     ]
    },
    {
     "name": "stdout",
     "output_type": "stream",
     "text": [
      "BCE tensor(3094.5969, grad_fn=<BinaryCrossEntropyBackward>)\n",
      "KLD tensor(750.2386, grad_fn=<MulBackward>)\n",
      "BCE tensor(3469.5708, grad_fn=<BinaryCrossEntropyBackward>)\n",
      "KLD tensor(753.3562, grad_fn=<MulBackward>)\n",
      "BCE tensor(3228.2327, grad_fn=<BinaryCrossEntropyBackward>)\n",
      "KLD tensor(806.1324, grad_fn=<MulBackward>)\n",
      "BCE tensor(2963.7900, grad_fn=<BinaryCrossEntropyBackward>)\n",
      "KLD tensor(700.6284, grad_fn=<MulBackward>)\n",
      "BCE tensor(3073.4746, grad_fn=<BinaryCrossEntropyBackward>)\n",
      "KLD tensor(741.6030, grad_fn=<MulBackward>)\n",
      "BCE tensor(3327.2336, grad_fn=<BinaryCrossEntropyBackward>)\n",
      "KLD tensor(784.8023, grad_fn=<MulBackward>)\n",
      "BCE tensor(2925.9207, grad_fn=<BinaryCrossEntropyBackward>)\n",
      "KLD tensor(745.2982, grad_fn=<MulBackward>)\n",
      "BCE tensor(3250.9817, grad_fn=<BinaryCrossEntropyBackward>)\n",
      "KLD tensor(713.1951, grad_fn=<MulBackward>)\n",
      "BCE tensor(2841.2483, grad_fn=<BinaryCrossEntropyBackward>)\n",
      "KLD tensor(733.8480, grad_fn=<MulBackward>)\n",
      "BCE tensor(3264.4177, grad_fn=<BinaryCrossEntropyBackward>)\n",
      "KLD tensor(722.5678, grad_fn=<MulBackward>)\n",
      "BCE tensor(3258.0669, grad_fn=<BinaryCrossEntropyBackward>)"
     ]
    },
    {
     "name": "stderr",
     "output_type": "stream",
     "text": [
      "\n",
      "\n",
      "\n",
      "1080it [00:20, 53.65it/s]\u001b[A\u001b[A\u001b[A\n",
      "\n",
      "\n",
      "1086it [00:20, 53.65it/s]\u001b[A\u001b[A\u001b[A"
     ]
    },
    {
     "name": "stdout",
     "output_type": "stream",
     "text": [
      "\n",
      "KLD tensor(754.7582, grad_fn=<MulBackward>)\n",
      "BCE tensor(3075.7737, grad_fn=<BinaryCrossEntropyBackward>)\n",
      "KLD tensor(668.6860, grad_fn=<MulBackward>)\n",
      "BCE tensor(2951.8672, grad_fn=<BinaryCrossEntropyBackward>)\n",
      "KLD tensor(657.8317, grad_fn=<MulBackward>)\n",
      "BCE tensor(2971.2559, grad_fn=<BinaryCrossEntropyBackward>)\n",
      "KLD tensor(698.1596, grad_fn=<MulBackward>)\n",
      "BCE tensor(2908.4895, grad_fn=<BinaryCrossEntropyBackward>)\n",
      "KLD tensor(695.1468, grad_fn=<MulBackward>)\n",
      "BCE tensor(3084.1245, grad_fn=<BinaryCrossEntropyBackward>)\n",
      "KLD tensor(725.8906, grad_fn=<MulBackward>)\n",
      "BCE tensor(3138.3799, grad_fn=<BinaryCrossEntropyBackward>)\n",
      "KLD tensor(743.7663, grad_fn=<MulBackward>)\n",
      "BCE tensor(2946.6995, grad_fn=<BinaryCrossEntropyBackward>)\n",
      "KLD tensor(704.6691, grad_fn=<MulBackward>)\n",
      "BCE tensor(3045.8384, grad_fn=<BinaryCrossEntropyBackward>)\n",
      "KLD tensor(759.8156, grad_fn=<MulBackward>)\n",
      "BCE tensor(3333.0549, grad_fn=<BinaryCrossEntropyBackward>)\n",
      "KLD tensor(698.2382, grad_fn=<MulBackward>)\n",
      "BCE tensor(3005.1643, grad_fn=<BinaryCrossEntropyBackward>)\n",
      "KLD tensor(718.3611, grad_fn=<MulBackward>)\n"
     ]
    },
    {
     "name": "stderr",
     "output_type": "stream",
     "text": [
      "\n",
      "\n",
      "\n",
      "1092it [00:20, 53.65it/s]\u001b[A\u001b[A\u001b[A\n",
      "\n",
      "\n",
      "1098it [00:20, 53.65it/s]\u001b[A\u001b[A\u001b[A"
     ]
    },
    {
     "name": "stdout",
     "output_type": "stream",
     "text": [
      "BCE tensor(2853.9595, grad_fn=<BinaryCrossEntropyBackward>)\n",
      "KLD tensor(714.6702, grad_fn=<MulBackward>)\n",
      "BCE tensor(3083.9380, grad_fn=<BinaryCrossEntropyBackward>)\n",
      "KLD tensor(737.2604, grad_fn=<MulBackward>)\n",
      "BCE tensor(3154.1501, grad_fn=<BinaryCrossEntropyBackward>)\n",
      "KLD tensor(751.4114, grad_fn=<MulBackward>)\n",
      "BCE tensor(3309.7654, grad_fn=<BinaryCrossEntropyBackward>)\n",
      "KLD tensor(742.9258, grad_fn=<MulBackward>)\n",
      "BCE tensor(3136.0979, grad_fn=<BinaryCrossEntropyBackward>)\n",
      "KLD tensor(776.8503, grad_fn=<MulBackward>)\n",
      "BCE tensor(2783.2441, grad_fn=<BinaryCrossEntropyBackward>)\n",
      "KLD tensor(711.3234, grad_fn=<MulBackward>)\n",
      "BCE tensor(3001.0952, grad_fn=<BinaryCrossEntropyBackward>)\n",
      "KLD tensor(715.6013, grad_fn=<MulBackward>)\n",
      "BCE tensor(3177.0049, grad_fn=<BinaryCrossEntropyBackward>)\n",
      "KLD tensor(719.6011, grad_fn=<MulBackward>)\n",
      "BCE tensor(2823.3269, grad_fn=<BinaryCrossEntropyBackward>)\n",
      "KLD tensor(713.0082, grad_fn=<MulBackward>)\n",
      "BCE tensor(2924.2656, grad_fn=<BinaryCrossEntropyBackward>)\n",
      "KLD tensor(700.9567, grad_fn=<MulBackward>)\n",
      "BCE tensor(2967.5513, grad_fn=<BinaryCrossEntropyBackward>)\n",
      "KLD tensor(720.1105, grad_fn=<MulBackward>)\n"
     ]
    },
    {
     "name": "stderr",
     "output_type": "stream",
     "text": [
      "\n",
      "\n",
      "\n",
      "1104it [00:20, 53.65it/s]\u001b[A\u001b[A\u001b[A"
     ]
    },
    {
     "name": "stdout",
     "output_type": "stream",
     "text": [
      "BCE tensor(3425.9700, grad_fn=<BinaryCrossEntropyBackward>)\n",
      "KLD tensor(805.0912, grad_fn=<MulBackward>)\n",
      "BCE tensor(3065.4526, grad_fn=<BinaryCrossEntropyBackward>)\n",
      "KLD tensor(698.4877, grad_fn=<MulBackward>)\n",
      "BCE tensor(3029.9775, grad_fn=<BinaryCrossEntropyBackward>)\n",
      "KLD tensor(779.7316, grad_fn=<MulBackward>)\n",
      "BCE tensor(3289.1621, grad_fn=<BinaryCrossEntropyBackward>)\n",
      "KLD tensor(776.4356, grad_fn=<MulBackward>)\n",
      "BCE tensor(3011.5452, grad_fn=<BinaryCrossEntropyBackward>)\n",
      "KLD tensor(757.1191, grad_fn=<MulBackward>)\n",
      "BCE tensor(2983.9866, grad_fn=<BinaryCrossEntropyBackward>)\n",
      "KLD tensor(725.1121, grad_fn=<MulBackward>)\n",
      "BCE tensor(3212.6028, grad_fn=<BinaryCrossEntropyBackward>)\n",
      "KLD tensor(738.5566, grad_fn=<MulBackward>)\n",
      "BCE tensor(2915.3394, grad_fn=<BinaryCrossEntropyBackward>)\n",
      "KLD tensor(746.5825, grad_fn=<MulBackward>)\n",
      "BCE tensor(2990.6843, grad_fn=<BinaryCrossEntropyBackward>)\n",
      "KLD tensor(728.4581, grad_fn=<MulBackward>)\n",
      "BCE tensor(2905.8875, grad_fn=<BinaryCrossEntropyBackward>)\n",
      "KLD tensor(675.4307, grad_fn=<MulBackward>)\n",
      "BCE tensor(2941.2454, grad_fn=<BinaryCrossEntropyBackward>)\n",
      "KLD tensor(695.9704, grad_fn=<MulBackward>)\n",
      "BCE tensor(2978.3479, grad_fn=<BinaryCrossEntropyBackward>)\n",
      "KLD tensor(749.0378, grad_fn=<MulBackward>)\n"
     ]
    },
    {
     "name": "stderr",
     "output_type": "stream",
     "text": [
      "\n",
      "\n",
      "\n",
      "1110it [00:20, 53.66it/s]\u001b[A\u001b[A\u001b[A\n",
      "\n",
      "\n",
      "1116it [00:20, 53.66it/s]\u001b[A\u001b[A\u001b[A"
     ]
    },
    {
     "name": "stdout",
     "output_type": "stream",
     "text": [
      "BCE tensor(3103.7478, grad_fn=<BinaryCrossEntropyBackward>)\n",
      "KLD tensor(726.3387, grad_fn=<MulBackward>)\n",
      "BCE tensor(2926.1604, grad_fn=<BinaryCrossEntropyBackward>)\n",
      "KLD tensor(741.7653, grad_fn=<MulBackward>)\n",
      "BCE tensor(2808.4243, grad_fn=<BinaryCrossEntropyBackward>)\n",
      "KLD tensor(713.4650, grad_fn=<MulBackward>)\n",
      "BCE tensor(3238.1255, grad_fn=<BinaryCrossEntropyBackward>)\n",
      "KLD tensor(723.9430, grad_fn=<MulBackward>)\n",
      "BCE tensor(3122.0156, grad_fn=<BinaryCrossEntropyBackward>)\n",
      "KLD tensor(746.5247, grad_fn=<MulBackward>)\n",
      "BCE tensor(3034.9573, grad_fn=<BinaryCrossEntropyBackward>)\n",
      "KLD tensor(706.3865, grad_fn=<MulBackward>)\n",
      "BCE tensor(3193.1558, grad_fn=<BinaryCrossEntropyBackward>)\n",
      "KLD tensor(738.1076, grad_fn=<MulBackward>)\n",
      "BCE tensor(3064.7148, grad_fn=<BinaryCrossEntropyBackward>)\n",
      "KLD tensor(741.9150, grad_fn=<MulBackward>)\n",
      "BCE tensor(2932.2195, grad_fn=<BinaryCrossEntropyBackward>)\n",
      "KLD tensor(707.4474, grad_fn=<MulBackward>)\n",
      "BCE tensor(3150.5649, grad_fn=<BinaryCrossEntropyBackward>)\n",
      "KLD tensor(759.1245, grad_fn=<MulBackward>)\n",
      "BCE tensor(3056.8894, grad_fn=<BinaryCrossEntropyBackward>)\n",
      "KLD tensor(732.5923, grad_fn=<MulBackward>)\n",
      "BCE tensor(3187.0288, grad_fn=<BinaryCrossEntropyBackward>)\n",
      "KLD tensor(753.5980, grad_fn=<MulBackward>)\n"
     ]
    },
    {
     "name": "stderr",
     "output_type": "stream",
     "text": [
      "\n",
      "\n",
      "\n",
      "1122it [00:20, 53.66it/s]\u001b[A\u001b[A\u001b[A\n",
      "\n",
      "\n",
      "1128it [00:21, 53.66it/s]\u001b[A\u001b[A\u001b[A"
     ]
    },
    {
     "name": "stdout",
     "output_type": "stream",
     "text": [
      "BCE tensor(3079.5657, grad_fn=<BinaryCrossEntropyBackward>)\n",
      "KLD tensor(739.9432, grad_fn=<MulBackward>)\n",
      "BCE tensor(3017.7944, grad_fn=<BinaryCrossEntropyBackward>)\n",
      "KLD tensor(748.4887, grad_fn=<MulBackward>)\n",
      "BCE tensor(3098.5667, grad_fn=<BinaryCrossEntropyBackward>)\n",
      "KLD tensor(716.1187, grad_fn=<MulBackward>)\n",
      "BCE tensor(2888.2717, grad_fn=<BinaryCrossEntropyBackward>)\n",
      "KLD tensor(719.5656, grad_fn=<MulBackward>)\n",
      "BCE tensor(2926.1218, grad_fn=<BinaryCrossEntropyBackward>)\n",
      "KLD tensor(755.1622, grad_fn=<MulBackward>)\n",
      "BCE tensor(2902.3413, grad_fn=<BinaryCrossEntropyBackward>)\n",
      "KLD tensor(734.0844, grad_fn=<MulBackward>)\n",
      "BCE tensor(3004.4189, grad_fn=<BinaryCrossEntropyBackward>)\n",
      "KLD tensor(749.0558, grad_fn=<MulBackward>)\n",
      "BCE tensor(2994.9097, grad_fn=<BinaryCrossEntropyBackward>)\n",
      "KLD tensor(756.8561, grad_fn=<MulBackward>)\n",
      "BCE tensor(2841.8933, grad_fn=<BinaryCrossEntropyBackward>)\n",
      "KLD tensor(689.0682, grad_fn=<MulBackward>)\n",
      "BCE tensor(2903.0640, grad_fn=<BinaryCrossEntropyBackward>)\n",
      "KLD tensor(728.9575, grad_fn=<MulBackward>)\n",
      "BCE tensor(3246.5972, grad_fn=<BinaryCrossEntropyBackward>)\n",
      "KLD tensor(744.6924, grad_fn=<MulBackward>)\n"
     ]
    },
    {
     "name": "stderr",
     "output_type": "stream",
     "text": [
      "\n",
      "\n",
      "\n",
      "1134it [00:21, 53.66it/s]\u001b[A\u001b[A\u001b[A\n",
      "\n",
      "\n",
      "1140it [00:21, 53.64it/s]\u001b[A\u001b[A\u001b[A"
     ]
    },
    {
     "name": "stdout",
     "output_type": "stream",
     "text": [
      "BCE tensor(3004.3374, grad_fn=<BinaryCrossEntropyBackward>)\n",
      "KLD tensor(724.1938, grad_fn=<MulBackward>)\n",
      "BCE tensor(2832.7551, grad_fn=<BinaryCrossEntropyBackward>)\n",
      "KLD tensor(754.1902, grad_fn=<MulBackward>)\n",
      "BCE tensor(2904.6106, grad_fn=<BinaryCrossEntropyBackward>)\n",
      "KLD tensor(680.3323, grad_fn=<MulBackward>)\n",
      "BCE tensor(3187.0425, grad_fn=<BinaryCrossEntropyBackward>)\n",
      "KLD tensor(736.8141, grad_fn=<MulBackward>)\n",
      "BCE tensor(3085.9229, grad_fn=<BinaryCrossEntropyBackward>)\n",
      "KLD tensor(719.9028, grad_fn=<MulBackward>)\n",
      "BCE tensor(3145.0869, grad_fn=<BinaryCrossEntropyBackward>)\n",
      "KLD tensor(701.8033, grad_fn=<MulBackward>)\n",
      "BCE tensor(3007.7983, grad_fn=<BinaryCrossEntropyBackward>)\n",
      "KLD tensor(707.0577, grad_fn=<MulBackward>)\n",
      "BCE tensor(2881.3145, grad_fn=<BinaryCrossEntropyBackward>)\n",
      "KLD tensor(754.5453, grad_fn=<MulBackward>)\n",
      "BCE tensor(3124.3884, grad_fn=<BinaryCrossEntropyBackward>)\n",
      "KLD tensor(715.8801, grad_fn=<MulBackward>)\n",
      "BCE tensor(2999.4812, grad_fn=<BinaryCrossEntropyBackward>)\n",
      "KLD tensor(723.3897, grad_fn=<MulBackward>)\n"
     ]
    },
    {
     "name": "stderr",
     "output_type": "stream",
     "text": [
      "\n",
      "\n",
      "\n",
      "1146it [00:21, 53.48it/s]\u001b[A\u001b[A\u001b[A\n",
      "\n",
      "\n",
      "1151it [00:21, 53.46it/s]\u001b[A\u001b[A\u001b[A"
     ]
    },
    {
     "name": "stdout",
     "output_type": "stream",
     "text": [
      "BCE tensor(3181.1919, grad_fn=<BinaryCrossEntropyBackward>)\n",
      "KLD tensor(773.2223, grad_fn=<MulBackward>)\n",
      "BCE tensor(2991.5496, grad_fn=<BinaryCrossEntropyBackward>)\n",
      "KLD tensor(722.7476, grad_fn=<MulBackward>)\n",
      "BCE tensor(3344.3428, grad_fn=<BinaryCrossEntropyBackward>)\n",
      "KLD tensor(736.8250, grad_fn=<MulBackward>)\n",
      "BCE tensor(2875.9753, grad_fn=<BinaryCrossEntropyBackward>)\n",
      "KLD tensor(710.7397, grad_fn=<MulBackward>)\n",
      "BCE tensor(3019.1616, grad_fn=<BinaryCrossEntropyBackward>)\n",
      "KLD tensor(783.1940, grad_fn=<MulBackward>)\n",
      "BCE tensor(3121.3845, grad_fn=<BinaryCrossEntropyBackward>)\n",
      "KLD tensor(760.7026, grad_fn=<MulBackward>)\n",
      "BCE tensor(3248.8376, grad_fn=<BinaryCrossEntropyBackward>)\n",
      "KLD tensor(772.5618, grad_fn=<MulBackward>)\n",
      "BCE tensor(3101.6589, grad_fn=<BinaryCrossEntropyBackward>)\n",
      "KLD tensor(744.0850, grad_fn=<MulBackward>)\n",
      "BCE tensor(3055.9033, grad_fn=<BinaryCrossEntropyBackward>)\n",
      "KLD tensor(721.5532, grad_fn=<MulBackward>)\n",
      "BCE tensor(3011.1379, grad_fn=<BinaryCrossEntropyBackward>)\n",
      "KLD tensor(784.3262, grad_fn=<MulBackward>)\n"
     ]
    },
    {
     "name": "stderr",
     "output_type": "stream",
     "text": [
      "\n",
      "\n",
      "\n",
      "1156it [00:21, 53.43it/s]\u001b[A\u001b[A\u001b[A\n",
      "\n",
      "\n",
      "1162it [00:21, 53.42it/s]\u001b[A\u001b[A\u001b[A"
     ]
    },
    {
     "name": "stdout",
     "output_type": "stream",
     "text": [
      "BCE tensor(3157.4888, grad_fn=<BinaryCrossEntropyBackward>)\n",
      "KLD tensor(754.6141, grad_fn=<MulBackward>)\n",
      "BCE tensor(3000.1560, grad_fn=<BinaryCrossEntropyBackward>)\n",
      "KLD tensor(737.8431, grad_fn=<MulBackward>)\n",
      "BCE tensor(2892.7283, grad_fn=<BinaryCrossEntropyBackward>)\n",
      "KLD tensor(782.8796, grad_fn=<MulBackward>)\n",
      "BCE tensor(3300.8958, grad_fn=<BinaryCrossEntropyBackward>)\n",
      "KLD tensor(776.6015, grad_fn=<MulBackward>)\n",
      "BCE tensor(3008.3455, grad_fn=<BinaryCrossEntropyBackward>)\n",
      "KLD tensor(716.1127, grad_fn=<MulBackward>)\n",
      "BCE tensor(3187.8062, grad_fn=<BinaryCrossEntropyBackward>)\n",
      "KLD tensor(726.5959, grad_fn=<MulBackward>)\n",
      "BCE tensor(3296.4431, grad_fn=<BinaryCrossEntropyBackward>)\n",
      "KLD tensor(752.6882, grad_fn=<MulBackward>)\n",
      "BCE tensor(2953.2266, grad_fn=<BinaryCrossEntropyBackward>)\n",
      "KLD tensor(728.9232, grad_fn=<MulBackward>)\n",
      "BCE tensor(2909.0891, grad_fn=<BinaryCrossEntropyBackward>)\n",
      "KLD tensor(746.5876, grad_fn=<MulBackward>)\n",
      "BCE tensor(2969.5286, grad_fn=<BinaryCrossEntropyBackward>)\n",
      "KLD tensor(734.9694, grad_fn=<MulBackward>)\n",
      "BCE tensor(3351.9214, grad_fn=<BinaryCrossEntropyBackward>)\n",
      "KLD tensor(765.0906, grad_fn=<MulBackward>)\n"
     ]
    },
    {
     "name": "stderr",
     "output_type": "stream",
     "text": [
      "\n",
      "\n",
      "\n",
      "1168it [00:21, 53.42it/s]\u001b[A\u001b[A\u001b[A\n",
      "\n",
      "\n",
      "1174it [00:21, 53.39it/s]\u001b[A\u001b[A\u001b[A"
     ]
    },
    {
     "name": "stdout",
     "output_type": "stream",
     "text": [
      "BCE tensor(3233.3032, grad_fn=<BinaryCrossEntropyBackward>)\n",
      "KLD tensor(776.2261, grad_fn=<MulBackward>)\n",
      "BCE tensor(2891.8362, grad_fn=<BinaryCrossEntropyBackward>)\n",
      "KLD tensor(718.2825, grad_fn=<MulBackward>)\n",
      "BCE tensor(3063.7856, grad_fn=<BinaryCrossEntropyBackward>)\n",
      "KLD tensor(749.9401, grad_fn=<MulBackward>)\n",
      "BCE tensor(2848.5066, grad_fn=<BinaryCrossEntropyBackward>)\n",
      "KLD tensor(762.5072, grad_fn=<MulBackward>)\n",
      "BCE tensor(2983.8606, grad_fn=<BinaryCrossEntropyBackward>)\n",
      "KLD tensor(714.9933, grad_fn=<MulBackward>)\n",
      "BCE tensor(3315.3669, grad_fn=<BinaryCrossEntropyBackward>)\n",
      "KLD tensor(813.5690, grad_fn=<MulBackward>)\n",
      "BCE tensor(2950.7930, grad_fn=<BinaryCrossEntropyBackward>)\n",
      "KLD tensor(744.0646, grad_fn=<MulBackward>)\n",
      "BCE tensor(2739.6191, grad_fn=<BinaryCrossEntropyBackward>)\n",
      "KLD tensor(718.2158, grad_fn=<MulBackward>)\n",
      "BCE tensor(2858.6790, grad_fn=<BinaryCrossEntropyBackward>)\n",
      "KLD tensor(705.2612, grad_fn=<MulBackward>)\n",
      "BCE tensor(3086.3628, grad_fn=<BinaryCrossEntropyBackward>)\n",
      "KLD tensor(726.9356, grad_fn=<MulBackward>)\n"
     ]
    },
    {
     "name": "stderr",
     "output_type": "stream",
     "text": [
      "\n",
      "\n",
      "\n",
      "1179it [00:22, 53.36it/s]\u001b[A\u001b[A\u001b[A"
     ]
    },
    {
     "name": "stdout",
     "output_type": "stream",
     "text": [
      "BCE tensor(3188.4470, grad_fn=<BinaryCrossEntropyBackward>)\n",
      "KLD tensor(739.0641, grad_fn=<MulBackward>)\n",
      "BCE tensor(3096.3982, grad_fn=<BinaryCrossEntropyBackward>)\n",
      "KLD tensor(775.1887, grad_fn=<MulBackward>)\n",
      "BCE tensor(2760.0862, grad_fn=<BinaryCrossEntropyBackward>)\n",
      "KLD tensor(744.6458, grad_fn=<MulBackward>)\n",
      "BCE tensor(2725.4216, grad_fn=<BinaryCrossEntropyBackward>)\n",
      "KLD tensor(744.8217, grad_fn=<MulBackward>)\n",
      "BCE tensor(2956.5076, grad_fn=<BinaryCrossEntropyBackward>)\n",
      "KLD tensor(793.8062, grad_fn=<MulBackward>)\n",
      "BCE tensor(2792.3264, grad_fn=<BinaryCrossEntropyBackward>)\n",
      "KLD tensor(741.9205, grad_fn=<MulBackward>)\n",
      "BCE tensor(2945.2219, grad_fn=<BinaryCrossEntropyBackward>)\n",
      "KLD tensor(728.3045, grad_fn=<MulBackward>)\n",
      "BCE tensor(3001.7339, grad_fn=<BinaryCrossEntropyBackward>)\n",
      "KLD tensor(735.7307, grad_fn=<MulBackward>)\n",
      "BCE tensor(3104.2688, grad_fn=<BinaryCrossEntropyBackward>)\n",
      "KLD tensor(732.1744, grad_fn=<MulBackward>)\n",
      "BCE tensor(3050.1619, grad_fn=<BinaryCrossEntropyBackward>)\n",
      "KLD tensor(719.1771, grad_fn=<MulBackward>)\n",
      "BCE tensor(3148.3467, grad_fn=<BinaryCrossEntropyBackward>)\n",
      "KLD tensor(766.9209, grad_fn=<MulBackward>)\n"
     ]
    },
    {
     "name": "stderr",
     "output_type": "stream",
     "text": [
      "\n",
      "\n",
      "\n",
      "1185it [00:22, 53.35it/s]\u001b[A\u001b[A\u001b[A\n",
      "\n",
      "\n",
      "1191it [00:22, 53.36it/s]\u001b[A\u001b[A\u001b[A"
     ]
    },
    {
     "name": "stdout",
     "output_type": "stream",
     "text": [
      "BCE tensor(3471.9875, grad_fn=<BinaryCrossEntropyBackward>)\n",
      "KLD tensor(712.7731, grad_fn=<MulBackward>)\n",
      "BCE tensor(3108.2549, grad_fn=<BinaryCrossEntropyBackward>)\n",
      "KLD tensor(722.6981, grad_fn=<MulBackward>)\n",
      "BCE tensor(2870.8787, grad_fn=<BinaryCrossEntropyBackward>)\n",
      "KLD tensor(739.2421, grad_fn=<MulBackward>)\n",
      "BCE tensor(3265.7021, grad_fn=<BinaryCrossEntropyBackward>)\n",
      "KLD tensor(753.8993, grad_fn=<MulBackward>)\n",
      "BCE tensor(3270.1245, grad_fn=<BinaryCrossEntropyBackward>)\n",
      "KLD tensor(724.0461, grad_fn=<MulBackward>)\n",
      "BCE tensor(3031.1479, grad_fn=<BinaryCrossEntropyBackward>)\n",
      "KLD tensor(718.6575, grad_fn=<MulBackward>)\n",
      "BCE tensor(3028.6934, grad_fn=<BinaryCrossEntropyBackward>)\n",
      "KLD tensor(737.0172, grad_fn=<MulBackward>)\n",
      "BCE tensor(2788.5291, grad_fn=<BinaryCrossEntropyBackward>)\n",
      "KLD tensor(717.3940, grad_fn=<MulBackward>)\n",
      "BCE tensor(3029.8691, grad_fn=<BinaryCrossEntropyBackward>)\n",
      "KLD tensor(694.0482, grad_fn=<MulBackward>)\n",
      "BCE tensor(2959.8521, grad_fn=<BinaryCrossEntropyBackward>)\n",
      "KLD tensor(750.1449, grad_fn=<MulBackward>)\n",
      "BCE tensor(3385.4746, grad_fn=<BinaryCrossEntropyBackward>)\n",
      "KLD tensor(755.1863, grad_fn=<MulBackward>)\n",
      "BCE tensor(2863.4490, grad_fn=<BinaryCrossEntropyBackward>)\n",
      "KLD tensor(712.0737, grad_fn=<MulBackward>)"
     ]
    },
    {
     "name": "stderr",
     "output_type": "stream",
     "text": [
      "\n",
      "\n",
      "\n",
      "1197it [00:22, 53.36it/s]\u001b[A\u001b[A\u001b[A\n",
      "\n",
      "\n",
      "1203it [00:22, 53.37it/s]\u001b[A\u001b[A\u001b[A"
     ]
    },
    {
     "name": "stdout",
     "output_type": "stream",
     "text": [
      "\n",
      "BCE tensor(3275.9585, grad_fn=<BinaryCrossEntropyBackward>)\n",
      "KLD tensor(773.5701, grad_fn=<MulBackward>)\n",
      "BCE tensor(3297.6936, grad_fn=<BinaryCrossEntropyBackward>)\n",
      "KLD tensor(762.8472, grad_fn=<MulBackward>)\n",
      "BCE tensor(3201.5823, grad_fn=<BinaryCrossEntropyBackward>)\n",
      "KLD tensor(773.8091, grad_fn=<MulBackward>)\n",
      "BCE tensor(3030.2717, grad_fn=<BinaryCrossEntropyBackward>)\n",
      "KLD tensor(717.8404, grad_fn=<MulBackward>)\n",
      "BCE tensor(3025.8132, grad_fn=<BinaryCrossEntropyBackward>)\n",
      "KLD tensor(789.2271, grad_fn=<MulBackward>)\n",
      "BCE tensor(3155.6836, grad_fn=<BinaryCrossEntropyBackward>)\n",
      "KLD tensor(764.9328, grad_fn=<MulBackward>)\n",
      "BCE tensor(2943.0647, grad_fn=<BinaryCrossEntropyBackward>)\n",
      "KLD tensor(716.2267, grad_fn=<MulBackward>)\n",
      "BCE tensor(3043.9958, grad_fn=<BinaryCrossEntropyBackward>)\n",
      "KLD tensor(757.2970, grad_fn=<MulBackward>)\n",
      "BCE tensor(3146.6892, grad_fn=<BinaryCrossEntropyBackward>)\n",
      "KLD tensor(744.0904, grad_fn=<MulBackward>)\n",
      "BCE tensor(3085.5015, grad_fn=<BinaryCrossEntropyBackward>)\n",
      "KLD tensor(780.1422, grad_fn=<MulBackward>)\n",
      "BCE tensor(3018.6982, grad_fn=<BinaryCrossEntropyBackward>)\n",
      "KLD tensor(797.3837, grad_fn=<MulBackward>)\n",
      "BCE tensor(2708.0808, grad_fn=<BinaryCrossEntropyBackward>)\n",
      "KLD tensor(708.6662, grad_fn=<MulBackward>)\n"
     ]
    },
    {
     "name": "stderr",
     "output_type": "stream",
     "text": [
      "\n",
      "\n",
      "\n",
      "1209it [00:22, 53.38it/s]\u001b[A\u001b[A\u001b[A\n",
      "\n",
      "\n",
      "1215it [00:22, 53.38it/s]\u001b[A\u001b[A\u001b[A"
     ]
    },
    {
     "name": "stdout",
     "output_type": "stream",
     "text": [
      "BCE tensor(3273.7312, grad_fn=<BinaryCrossEntropyBackward>)\n",
      "KLD tensor(774.9772, grad_fn=<MulBackward>)\n",
      "BCE tensor(2962.8774, grad_fn=<BinaryCrossEntropyBackward>)\n",
      "KLD tensor(699.2827, grad_fn=<MulBackward>)\n",
      "BCE tensor(3131.5234, grad_fn=<BinaryCrossEntropyBackward>)\n",
      "KLD tensor(760.2123, grad_fn=<MulBackward>)\n",
      "BCE tensor(3282.3792, grad_fn=<BinaryCrossEntropyBackward>)\n",
      "KLD tensor(753.9991, grad_fn=<MulBackward>)\n",
      "BCE tensor(2957.8147, grad_fn=<BinaryCrossEntropyBackward>)\n",
      "KLD tensor(731.0608, grad_fn=<MulBackward>)\n",
      "BCE tensor(3041.3242, grad_fn=<BinaryCrossEntropyBackward>)\n",
      "KLD tensor(734.6877, grad_fn=<MulBackward>)\n",
      "BCE tensor(2881.7744, grad_fn=<BinaryCrossEntropyBackward>)\n",
      "KLD tensor(718.7386, grad_fn=<MulBackward>)\n",
      "BCE tensor(3022.7073, grad_fn=<BinaryCrossEntropyBackward>)\n",
      "KLD tensor(780.4351, grad_fn=<MulBackward>)\n",
      "BCE tensor(3027.1643, grad_fn=<BinaryCrossEntropyBackward>)\n",
      "KLD tensor(752.3371, grad_fn=<MulBackward>)\n",
      "BCE tensor(2991.0500, grad_fn=<BinaryCrossEntropyBackward>)\n",
      "KLD tensor(781.5900, grad_fn=<MulBackward>)\n",
      "BCE tensor(3061.9592, grad_fn=<BinaryCrossEntropyBackward>)\n",
      "KLD tensor(715.2516, grad_fn=<MulBackward>)\n",
      "BCE tensor(3067.6531, grad_fn=<BinaryCrossEntropyBackward>)\n",
      "KLD tensor(747.2418, grad_fn=<MulBackward>)\n"
     ]
    },
    {
     "name": "stderr",
     "output_type": "stream",
     "text": [
      "\n",
      "\n",
      "\n",
      "1221it [00:22, 53.39it/s]\u001b[A\u001b[A\u001b[A\n",
      "\n",
      "\n",
      "1227it [00:22, 53.39it/s]\u001b[A\u001b[A\u001b[A"
     ]
    },
    {
     "name": "stdout",
     "output_type": "stream",
     "text": [
      "BCE tensor(3043.3420, grad_fn=<BinaryCrossEntropyBackward>)\n",
      "KLD tensor(774.5687, grad_fn=<MulBackward>)\n",
      "BCE tensor(2781.0527, grad_fn=<BinaryCrossEntropyBackward>)\n",
      "KLD tensor(679.4647, grad_fn=<MulBackward>)\n",
      "BCE tensor(3062.3076, grad_fn=<BinaryCrossEntropyBackward>)\n",
      "KLD tensor(734.6068, grad_fn=<MulBackward>)\n",
      "BCE tensor(2902.8149, grad_fn=<BinaryCrossEntropyBackward>)\n",
      "KLD tensor(741.2097, grad_fn=<MulBackward>)\n",
      "BCE tensor(2815.5149, grad_fn=<BinaryCrossEntropyBackward>)\n",
      "KLD tensor(751.3466, grad_fn=<MulBackward>)\n",
      "BCE tensor(3121.7979, grad_fn=<BinaryCrossEntropyBackward>)\n",
      "KLD tensor(762.0923, grad_fn=<MulBackward>)\n",
      "BCE tensor(2881.3772, grad_fn=<BinaryCrossEntropyBackward>)\n",
      "KLD tensor(781.1636, grad_fn=<MulBackward>)\n",
      "BCE tensor(3191.6101, grad_fn=<BinaryCrossEntropyBackward>)\n",
      "KLD tensor(767.8898, grad_fn=<MulBackward>)\n",
      "BCE tensor(2984.1025, grad_fn=<BinaryCrossEntropyBackward>)\n",
      "KLD tensor(708.1985, grad_fn=<MulBackward>)\n",
      "BCE tensor(3087.8997, grad_fn=<BinaryCrossEntropyBackward>)\n",
      "KLD tensor(740.0457, grad_fn=<MulBackward>)\n",
      "BCE tensor(2916.8745, grad_fn=<BinaryCrossEntropyBackward>)\n",
      "KLD tensor(716.8165, grad_fn=<MulBackward>)\n",
      "BCE tensor(3233.8093, grad_fn=<BinaryCrossEntropyBackward>)\n",
      "KLD tensor(788.1480, grad_fn=<MulBackward>)"
     ]
    },
    {
     "name": "stderr",
     "output_type": "stream",
     "text": [
      "\n",
      "\n",
      "\n",
      "1233it [00:23, 53.39it/s]\u001b[A\u001b[A\u001b[A\n",
      "\n",
      "\n",
      "1239it [00:23, 53.40it/s]\u001b[A\u001b[A\u001b[A"
     ]
    },
    {
     "name": "stdout",
     "output_type": "stream",
     "text": [
      "\n",
      "BCE tensor(3193.8914, grad_fn=<BinaryCrossEntropyBackward>)\n",
      "KLD tensor(712.4709, grad_fn=<MulBackward>)\n",
      "BCE tensor(2744.0842, grad_fn=<BinaryCrossEntropyBackward>)\n",
      "KLD tensor(697.7880, grad_fn=<MulBackward>)\n",
      "BCE tensor(3308.0344, grad_fn=<BinaryCrossEntropyBackward>)\n",
      "KLD tensor(753.3102, grad_fn=<MulBackward>)\n",
      "BCE tensor(2959.8464, grad_fn=<BinaryCrossEntropyBackward>)\n",
      "KLD tensor(688.5101, grad_fn=<MulBackward>)\n",
      "BCE tensor(3233.3623, grad_fn=<BinaryCrossEntropyBackward>)\n",
      "KLD tensor(699.9024, grad_fn=<MulBackward>)\n",
      "BCE tensor(2798.6528, grad_fn=<BinaryCrossEntropyBackward>)\n",
      "KLD tensor(745.6885, grad_fn=<MulBackward>)\n",
      "BCE tensor(3282.9092, grad_fn=<BinaryCrossEntropyBackward>)\n",
      "KLD tensor(734.3071, grad_fn=<MulBackward>)\n",
      "BCE tensor(2997.4585, grad_fn=<BinaryCrossEntropyBackward>)\n",
      "KLD tensor(745.7818, grad_fn=<MulBackward>)\n",
      "BCE tensor(3086.9580, grad_fn=<BinaryCrossEntropyBackward>)\n",
      "KLD tensor(731.4767, grad_fn=<MulBackward>)\n",
      "BCE tensor(2874.2883, grad_fn=<BinaryCrossEntropyBackward>)\n",
      "KLD tensor(762.3599, grad_fn=<MulBackward>)\n",
      "BCE tensor(2713.2458, grad_fn=<BinaryCrossEntropyBackward>)\n",
      "KLD tensor(737.0148, grad_fn=<MulBackward>)\n",
      "BCE tensor(3021.1682, grad_fn=<BinaryCrossEntropyBackward>)\n",
      "KLD tensor(772.8251, grad_fn=<MulBackward>)\n"
     ]
    },
    {
     "name": "stderr",
     "output_type": "stream",
     "text": [
      "\n",
      "\n",
      "\n",
      "1245it [00:23, 53.40it/s]\u001b[A\u001b[A\u001b[A\n",
      "\n",
      "\n",
      "1251it [00:23, 53.41it/s]\u001b[A\u001b[A\u001b[A"
     ]
    },
    {
     "name": "stdout",
     "output_type": "stream",
     "text": [
      "BCE tensor(3076.2195, grad_fn=<BinaryCrossEntropyBackward>)\n",
      "KLD tensor(789.3228, grad_fn=<MulBackward>)\n",
      "BCE tensor(3093.0552, grad_fn=<BinaryCrossEntropyBackward>)\n",
      "KLD tensor(741.0786, grad_fn=<MulBackward>)\n",
      "BCE tensor(3061.5229, grad_fn=<BinaryCrossEntropyBackward>)\n",
      "KLD tensor(763.0770, grad_fn=<MulBackward>)\n",
      "BCE tensor(3037.3845, grad_fn=<BinaryCrossEntropyBackward>)\n",
      "KLD tensor(709.8171, grad_fn=<MulBackward>)\n",
      "BCE tensor(2884.8762, grad_fn=<BinaryCrossEntropyBackward>)\n",
      "KLD tensor(765.4228, grad_fn=<MulBackward>)\n",
      "BCE tensor(2777.2063, grad_fn=<BinaryCrossEntropyBackward>)\n",
      "KLD tensor(771.0430, grad_fn=<MulBackward>)\n",
      "BCE tensor(3050.5566, grad_fn=<BinaryCrossEntropyBackward>)\n",
      "KLD tensor(792.5798, grad_fn=<MulBackward>)\n",
      "BCE tensor(3067.2195, grad_fn=<BinaryCrossEntropyBackward>)\n",
      "KLD tensor(704.8741, grad_fn=<MulBackward>)\n",
      "BCE tensor(3049.9656, grad_fn=<BinaryCrossEntropyBackward>)\n",
      "KLD tensor(757.5583, grad_fn=<MulBackward>)\n",
      "BCE tensor(3140.0830, grad_fn=<BinaryCrossEntropyBackward>)\n",
      "KLD tensor(763.5398, grad_fn=<MulBackward>)\n",
      "BCE tensor(3029.0137, grad_fn=<BinaryCrossEntropyBackward>)\n",
      "KLD tensor(742.5995, grad_fn=<MulBackward>)\n"
     ]
    },
    {
     "name": "stderr",
     "output_type": "stream",
     "text": [
      "\n",
      "\n",
      "\n",
      "1257it [00:23, 53.34it/s]\u001b[A\u001b[A\u001b[A\n",
      "\n",
      "\n",
      "1263it [00:23, 53.33it/s]\u001b[A\u001b[A\u001b[A"
     ]
    },
    {
     "name": "stdout",
     "output_type": "stream",
     "text": [
      "BCE tensor(3141.1445, grad_fn=<BinaryCrossEntropyBackward>)\n",
      "KLD tensor(711.0022, grad_fn=<MulBackward>)\n",
      "BCE tensor(3049.6885, grad_fn=<BinaryCrossEntropyBackward>)\n",
      "KLD tensor(753.0146, grad_fn=<MulBackward>)\n",
      "BCE tensor(2944.1831, grad_fn=<BinaryCrossEntropyBackward>)\n",
      "KLD tensor(706.3422, grad_fn=<MulBackward>)\n",
      "BCE tensor(3234.2642, grad_fn=<BinaryCrossEntropyBackward>)\n",
      "KLD tensor(714.0321, grad_fn=<MulBackward>)\n",
      "BCE tensor(2920.6580, grad_fn=<BinaryCrossEntropyBackward>)\n",
      "KLD tensor(748.2344, grad_fn=<MulBackward>)\n",
      "BCE tensor(2663.9380, grad_fn=<BinaryCrossEntropyBackward>)\n",
      "KLD tensor(761.5095, grad_fn=<MulBackward>)\n",
      "BCE tensor(3034.4021, grad_fn=<BinaryCrossEntropyBackward>)\n",
      "KLD tensor(765.9171, grad_fn=<MulBackward>)\n",
      "BCE tensor(2757.5815, grad_fn=<BinaryCrossEntropyBackward>)\n",
      "KLD tensor(752.9620, grad_fn=<MulBackward>)\n",
      "BCE tensor(3062.0698, grad_fn=<BinaryCrossEntropyBackward>)\n",
      "KLD tensor(769.1566, grad_fn=<MulBackward>)\n",
      "BCE tensor(2884.7874, grad_fn=<BinaryCrossEntropyBackward>)\n",
      "KLD tensor(791.5532, grad_fn=<MulBackward>)\n"
     ]
    },
    {
     "name": "stderr",
     "output_type": "stream",
     "text": [
      "\n",
      "\n",
      "\n",
      "1269it [00:23, 53.31it/s]\u001b[A\u001b[A\u001b[A\n",
      "\n",
      "\n",
      "1275it [00:23, 53.32it/s]\u001b[A\u001b[A\u001b[A"
     ]
    },
    {
     "name": "stdout",
     "output_type": "stream",
     "text": [
      "BCE tensor(2976.1370, grad_fn=<BinaryCrossEntropyBackward>)\n",
      "KLD tensor(761.0568, grad_fn=<MulBackward>)\n",
      "BCE tensor(2822.5237, grad_fn=<BinaryCrossEntropyBackward>)\n",
      "KLD tensor(734.8599, grad_fn=<MulBackward>)\n",
      "BCE tensor(2633.3621, grad_fn=<BinaryCrossEntropyBackward>)\n",
      "KLD tensor(696.8936, grad_fn=<MulBackward>)\n",
      "BCE tensor(3323.2097, grad_fn=<BinaryCrossEntropyBackward>)\n",
      "KLD tensor(767.4131, grad_fn=<MulBackward>)\n",
      "BCE tensor(3120.6550, grad_fn=<BinaryCrossEntropyBackward>)\n",
      "KLD tensor(759.8989, grad_fn=<MulBackward>)\n",
      "BCE tensor(2768.4363, grad_fn=<BinaryCrossEntropyBackward>)\n",
      "KLD tensor(748.5345, grad_fn=<MulBackward>)\n",
      "BCE tensor(2947.4260, grad_fn=<BinaryCrossEntropyBackward>)\n",
      "KLD tensor(717.6884, grad_fn=<MulBackward>)\n",
      "BCE tensor(3235.4207, grad_fn=<BinaryCrossEntropyBackward>)\n",
      "KLD tensor(771.4417, grad_fn=<MulBackward>)\n",
      "BCE tensor(3263.9788, grad_fn=<BinaryCrossEntropyBackward>)\n",
      "KLD tensor(761.9632, grad_fn=<MulBackward>)\n",
      "BCE tensor(3091.8206, grad_fn=<BinaryCrossEntropyBackward>)\n",
      "KLD tensor(759.6994, grad_fn=<MulBackward>)\n",
      "BCE tensor(3011.3943, grad_fn=<BinaryCrossEntropyBackward>)\n",
      "KLD tensor(727.9819, grad_fn=<MulBackward>)\n"
     ]
    },
    {
     "name": "stderr",
     "output_type": "stream",
     "text": [
      "\n",
      "\n",
      "\n",
      "1281it [00:24, 53.31it/s]\u001b[A\u001b[A\u001b[A\n",
      "\n",
      "\n",
      "1287it [00:24, 53.31it/s]\u001b[A\u001b[A\u001b[A"
     ]
    },
    {
     "name": "stdout",
     "output_type": "stream",
     "text": [
      "BCE tensor(3269.8496, grad_fn=<BinaryCrossEntropyBackward>)\n",
      "KLD tensor(744.2479, grad_fn=<MulBackward>)\n",
      "BCE tensor(3005.4153, grad_fn=<BinaryCrossEntropyBackward>)\n",
      "KLD tensor(747.3022, grad_fn=<MulBackward>)\n",
      "BCE tensor(3132.1404, grad_fn=<BinaryCrossEntropyBackward>)\n",
      "KLD tensor(717.4982, grad_fn=<MulBackward>)\n",
      "BCE tensor(2996.3584, grad_fn=<BinaryCrossEntropyBackward>)\n",
      "KLD tensor(724.4044, grad_fn=<MulBackward>)\n",
      "BCE tensor(3006.4609, grad_fn=<BinaryCrossEntropyBackward>)\n",
      "KLD tensor(806.3577, grad_fn=<MulBackward>)\n",
      "BCE tensor(3037.7439, grad_fn=<BinaryCrossEntropyBackward>)\n",
      "KLD tensor(782.4340, grad_fn=<MulBackward>)\n",
      "BCE tensor(3206.0078, grad_fn=<BinaryCrossEntropyBackward>)\n",
      "KLD tensor(806.9392, grad_fn=<MulBackward>)\n",
      "BCE tensor(2848.0071, grad_fn=<BinaryCrossEntropyBackward>)\n",
      "KLD tensor(760.9899, grad_fn=<MulBackward>)\n",
      "BCE tensor(2818.4377, grad_fn=<BinaryCrossEntropyBackward>)\n",
      "KLD tensor(736.9512, grad_fn=<MulBackward>)\n",
      "BCE tensor(2870.6333, grad_fn=<BinaryCrossEntropyBackward>)\n",
      "KLD tensor(761.4886, grad_fn=<MulBackward>)\n",
      "BCE tensor(3042.7144, grad_fn=<BinaryCrossEntropyBackward>)\n",
      "KLD tensor(740.6497, grad_fn=<MulBackward>)\n"
     ]
    },
    {
     "name": "stderr",
     "output_type": "stream",
     "text": [
      "\n",
      "\n",
      "\n",
      "1293it [00:24, 53.31it/s]\u001b[A\u001b[A\u001b[A\n",
      "\n",
      "\n",
      "1299it [00:24, 53.31it/s]\u001b[A\u001b[A\u001b[A"
     ]
    },
    {
     "name": "stdout",
     "output_type": "stream",
     "text": [
      "BCE tensor(3217.0010, grad_fn=<BinaryCrossEntropyBackward>)\n",
      "KLD tensor(826.3709, grad_fn=<MulBackward>)\n",
      "BCE tensor(3128.0432, grad_fn=<BinaryCrossEntropyBackward>)\n",
      "KLD tensor(714.4022, grad_fn=<MulBackward>)\n",
      "BCE tensor(2984.6775, grad_fn=<BinaryCrossEntropyBackward>)\n",
      "KLD tensor(748.1332, grad_fn=<MulBackward>)\n",
      "BCE tensor(2917.2917, grad_fn=<BinaryCrossEntropyBackward>)\n",
      "KLD tensor(739.3092, grad_fn=<MulBackward>)\n",
      "BCE tensor(3120.4146, grad_fn=<BinaryCrossEntropyBackward>)\n",
      "KLD tensor(753.1220, grad_fn=<MulBackward>)\n",
      "BCE tensor(3082.9041, grad_fn=<BinaryCrossEntropyBackward>)\n",
      "KLD tensor(749.9360, grad_fn=<MulBackward>)\n",
      "BCE tensor(2983.6562, grad_fn=<BinaryCrossEntropyBackward>)\n",
      "KLD tensor(753.2472, grad_fn=<MulBackward>)\n",
      "BCE tensor(2997.4626, grad_fn=<BinaryCrossEntropyBackward>)\n",
      "KLD tensor(758.9216, grad_fn=<MulBackward>)\n",
      "BCE tensor(2741.7979, grad_fn=<BinaryCrossEntropyBackward>)\n",
      "KLD tensor(652.0553, grad_fn=<MulBackward>)\n",
      "BCE tensor(3209.4761, grad_fn=<BinaryCrossEntropyBackward>)\n",
      "KLD tensor(708.0347, grad_fn=<MulBackward>)\n",
      "BCE tensor(3117.0979, grad_fn=<BinaryCrossEntropyBackward>)\n",
      "KLD tensor(730.9777, grad_fn=<MulBackward>)\n"
     ]
    },
    {
     "name": "stderr",
     "output_type": "stream",
     "text": [
      "\n",
      "\n",
      "\n",
      "1305it [00:24, 53.31it/s]\u001b[A\u001b[A\u001b[A"
     ]
    },
    {
     "name": "stdout",
     "output_type": "stream",
     "text": [
      "BCE tensor(3205.6460, grad_fn=<BinaryCrossEntropyBackward>)\n",
      "KLD tensor(736.9186, grad_fn=<MulBackward>)\n",
      "BCE tensor(2855.6462, grad_fn=<BinaryCrossEntropyBackward>)\n",
      "KLD tensor(773.0004, grad_fn=<MulBackward>)\n",
      "BCE tensor(3197.1475, grad_fn=<BinaryCrossEntropyBackward>)\n",
      "KLD tensor(772.6093, grad_fn=<MulBackward>)\n",
      "BCE tensor(2842.1760, grad_fn=<BinaryCrossEntropyBackward>)\n",
      "KLD tensor(736.1884, grad_fn=<MulBackward>)\n",
      "BCE tensor(2995.6633, grad_fn=<BinaryCrossEntropyBackward>)\n",
      "KLD tensor(746.8247, grad_fn=<MulBackward>)\n",
      "BCE tensor(3135.4868, grad_fn=<BinaryCrossEntropyBackward>)\n",
      "KLD tensor(745.3224, grad_fn=<MulBackward>)\n",
      "BCE tensor(2970.3643, grad_fn=<BinaryCrossEntropyBackward>)\n",
      "KLD tensor(787.2797, grad_fn=<MulBackward>)\n",
      "BCE tensor(2801.7437, grad_fn=<BinaryCrossEntropyBackward>)\n",
      "KLD tensor(758.1279, grad_fn=<MulBackward>)\n",
      "BCE tensor(2934.6582, grad_fn=<BinaryCrossEntropyBackward>)\n",
      "KLD tensor(756.2266, grad_fn=<MulBackward>)\n",
      "BCE tensor(2967.3813, grad_fn=<BinaryCrossEntropyBackward>)\n",
      "KLD tensor(728.4931, grad_fn=<MulBackward>)\n",
      "BCE tensor(3064.5117, grad_fn=<BinaryCrossEntropyBackward>)\n",
      "KLD tensor(723.8138, grad_fn=<MulBackward>)\n",
      "BCE tensor(3171.9783, grad_fn=<BinaryCrossEntropyBackward>)\n",
      "KLD tensor(777.2093, grad_fn=<MulBackward>)\n"
     ]
    },
    {
     "name": "stderr",
     "output_type": "stream",
     "text": [
      "\n",
      "\n",
      "\n",
      "1311it [00:24, 53.31it/s]\u001b[A\u001b[A\u001b[A\n",
      "\n",
      "\n",
      "1317it [00:24, 53.32it/s]\u001b[A\u001b[A\u001b[A"
     ]
    },
    {
     "name": "stdout",
     "output_type": "stream",
     "text": [
      "BCE tensor(3022.9663, grad_fn=<BinaryCrossEntropyBackward>)\n",
      "KLD tensor(726.6587, grad_fn=<MulBackward>)\n",
      "BCE tensor(3069.3296, grad_fn=<BinaryCrossEntropyBackward>)\n",
      "KLD tensor(786.4987, grad_fn=<MulBackward>)\n",
      "BCE tensor(2688.6707, grad_fn=<BinaryCrossEntropyBackward>)\n",
      "KLD tensor(761.5668, grad_fn=<MulBackward>)\n",
      "BCE tensor(3041.6787, grad_fn=<BinaryCrossEntropyBackward>)\n",
      "KLD tensor(722.9832, grad_fn=<MulBackward>)\n",
      "BCE tensor(2750.0193, grad_fn=<BinaryCrossEntropyBackward>)\n",
      "KLD tensor(776.9191, grad_fn=<MulBackward>)\n",
      "BCE tensor(2846.8867, grad_fn=<BinaryCrossEntropyBackward>)\n",
      "KLD tensor(713.5760, grad_fn=<MulBackward>)\n",
      "BCE tensor(3125.3054, grad_fn=<BinaryCrossEntropyBackward>)\n",
      "KLD tensor(742.7913, grad_fn=<MulBackward>)\n",
      "BCE tensor(3217.5581, grad_fn=<BinaryCrossEntropyBackward>)\n",
      "KLD tensor(758.8550, grad_fn=<MulBackward>)\n",
      "BCE tensor(2820.6538, grad_fn=<BinaryCrossEntropyBackward>)\n",
      "KLD tensor(781.9042, grad_fn=<MulBackward>)\n",
      "BCE tensor(2972.9307, grad_fn=<BinaryCrossEntropyBackward>)\n",
      "KLD tensor(749.3539, grad_fn=<MulBackward>)\n",
      "BCE tensor(2738.8442, grad_fn=<BinaryCrossEntropyBackward>)\n",
      "KLD tensor(704.5814, grad_fn=<MulBackward>)\n"
     ]
    },
    {
     "name": "stderr",
     "output_type": "stream",
     "text": [
      "\n",
      "\n",
      "\n",
      "1323it [00:24, 53.32it/s]\u001b[A\u001b[A\u001b[A\n",
      "\n",
      "\n",
      "1329it [00:24, 53.32it/s]\u001b[A\u001b[A\u001b[A"
     ]
    },
    {
     "name": "stdout",
     "output_type": "stream",
     "text": [
      "BCE tensor(2721.5110, grad_fn=<BinaryCrossEntropyBackward>)\n",
      "KLD tensor(732.6860, grad_fn=<MulBackward>)\n",
      "BCE tensor(3177.4341, grad_fn=<BinaryCrossEntropyBackward>)\n",
      "KLD tensor(754.9556, grad_fn=<MulBackward>)\n",
      "BCE tensor(2889.9280, grad_fn=<BinaryCrossEntropyBackward>)\n",
      "KLD tensor(757.2312, grad_fn=<MulBackward>)\n",
      "BCE tensor(3136.1018, grad_fn=<BinaryCrossEntropyBackward>)\n",
      "KLD tensor(789.3646, grad_fn=<MulBackward>)\n",
      "BCE tensor(2964.4229, grad_fn=<BinaryCrossEntropyBackward>)\n",
      "KLD tensor(762.0052, grad_fn=<MulBackward>)\n",
      "BCE tensor(3119.0391, grad_fn=<BinaryCrossEntropyBackward>)\n",
      "KLD tensor(746.3199, grad_fn=<MulBackward>)\n",
      "BCE tensor(2707.3030, grad_fn=<BinaryCrossEntropyBackward>)\n",
      "KLD tensor(711.8832, grad_fn=<MulBackward>)\n",
      "BCE tensor(3217.8469, grad_fn=<BinaryCrossEntropyBackward>)\n",
      "KLD tensor(791.7059, grad_fn=<MulBackward>)\n",
      "BCE tensor(3161.7063, grad_fn=<BinaryCrossEntropyBackward>)\n",
      "KLD tensor(825.5138, grad_fn=<MulBackward>)\n",
      "BCE tensor(2993.9841, grad_fn=<BinaryCrossEntropyBackward>)\n",
      "KLD tensor(759.8518, grad_fn=<MulBackward>)\n",
      "BCE tensor(2933.6455, grad_fn=<BinaryCrossEntropyBackward>)\n",
      "KLD tensor(719.9258, grad_fn=<MulBackward>)\n"
     ]
    },
    {
     "name": "stderr",
     "output_type": "stream",
     "text": [
      "\n",
      "\n",
      "\n",
      "1335it [00:25, 53.32it/s]\u001b[A\u001b[A\u001b[A\n",
      "\n",
      "\n",
      "1341it [00:25, 53.33it/s]\u001b[A\u001b[A\u001b[A"
     ]
    },
    {
     "name": "stdout",
     "output_type": "stream",
     "text": [
      "BCE tensor(3373.5046, grad_fn=<BinaryCrossEntropyBackward>)\n",
      "KLD tensor(800.3488, grad_fn=<MulBackward>)\n",
      "BCE tensor(3031.9404, grad_fn=<BinaryCrossEntropyBackward>)\n",
      "KLD tensor(761.9545, grad_fn=<MulBackward>)\n",
      "BCE tensor(3000.3396, grad_fn=<BinaryCrossEntropyBackward>)\n",
      "KLD tensor(744.5588, grad_fn=<MulBackward>)\n",
      "BCE tensor(2953.9773, grad_fn=<BinaryCrossEntropyBackward>)\n",
      "KLD tensor(771.4610, grad_fn=<MulBackward>)\n",
      "BCE tensor(2953.8157, grad_fn=<BinaryCrossEntropyBackward>)\n",
      "KLD tensor(722.2191, grad_fn=<MulBackward>)\n",
      "BCE tensor(3025.5720, grad_fn=<BinaryCrossEntropyBackward>)\n",
      "KLD tensor(708.2651, grad_fn=<MulBackward>)\n",
      "BCE tensor(2933.4729, grad_fn=<BinaryCrossEntropyBackward>)\n",
      "KLD tensor(687.9160, grad_fn=<MulBackward>)\n",
      "BCE tensor(3104.1436, grad_fn=<BinaryCrossEntropyBackward>)\n",
      "KLD tensor(742.3162, grad_fn=<MulBackward>)\n",
      "BCE tensor(2909.1072, grad_fn=<BinaryCrossEntropyBackward>)\n",
      "KLD tensor(726.5822, grad_fn=<MulBackward>)\n",
      "BCE tensor(3013.9570, grad_fn=<BinaryCrossEntropyBackward>)\n",
      "KLD tensor(736.9837, grad_fn=<MulBackward>)\n",
      "BCE tensor(2965.9983, grad_fn=<BinaryCrossEntropyBackward>)\n",
      "KLD tensor(785.1204, grad_fn=<MulBackward>)\n"
     ]
    },
    {
     "name": "stderr",
     "output_type": "stream",
     "text": [
      "\n",
      "\n",
      "\n",
      "1347it [00:25, 53.32it/s]\u001b[A\u001b[A\u001b[A\n",
      "\n",
      "\n",
      "1353it [00:25, 53.33it/s]\u001b[A\u001b[A\u001b[A"
     ]
    },
    {
     "name": "stdout",
     "output_type": "stream",
     "text": [
      "BCE tensor(3116.1335, grad_fn=<BinaryCrossEntropyBackward>)\n",
      "KLD tensor(812.9088, grad_fn=<MulBackward>)\n",
      "BCE tensor(2922.6582, grad_fn=<BinaryCrossEntropyBackward>)\n",
      "KLD tensor(750.0963, grad_fn=<MulBackward>)\n",
      "BCE tensor(3115.2061, grad_fn=<BinaryCrossEntropyBackward>)\n",
      "KLD tensor(755.7904, grad_fn=<MulBackward>)\n",
      "BCE tensor(3077.0122, grad_fn=<BinaryCrossEntropyBackward>)\n",
      "KLD tensor(733.0073, grad_fn=<MulBackward>)\n",
      "BCE tensor(3043.0544, grad_fn=<BinaryCrossEntropyBackward>)\n",
      "KLD tensor(740.1304, grad_fn=<MulBackward>)\n",
      "BCE tensor(3212.7041, grad_fn=<BinaryCrossEntropyBackward>)\n",
      "KLD tensor(720.6548, grad_fn=<MulBackward>)\n",
      "BCE tensor(2919.9048, grad_fn=<BinaryCrossEntropyBackward>)\n",
      "KLD tensor(723.1777, grad_fn=<MulBackward>)\n",
      "BCE tensor(2935.3159, grad_fn=<BinaryCrossEntropyBackward>)\n",
      "KLD tensor(708.3499, grad_fn=<MulBackward>)\n",
      "BCE tensor(2997.5642, grad_fn=<BinaryCrossEntropyBackward>)\n",
      "KLD tensor(750.4191, grad_fn=<MulBackward>)\n",
      "BCE tensor(3169.5623, grad_fn=<BinaryCrossEntropyBackward>)\n",
      "KLD tensor(781.9258, grad_fn=<MulBackward>)\n",
      "BCE tensor(2440.5779, grad_fn=<BinaryCrossEntropyBackward>)\n",
      "KLD tensor(709.0520, grad_fn=<MulBackward>)\n"
     ]
    },
    {
     "name": "stderr",
     "output_type": "stream",
     "text": [
      "\n",
      "\n",
      "\n",
      "1359it [00:25, 53.33it/s]\u001b[A\u001b[A\u001b[A\n",
      "\n",
      "\n",
      "1365it [00:25, 53.32it/s]\u001b[A\u001b[A\u001b[A"
     ]
    },
    {
     "name": "stdout",
     "output_type": "stream",
     "text": [
      "BCE tensor(3030.4128, grad_fn=<BinaryCrossEntropyBackward>)\n",
      "KLD tensor(809.1312, grad_fn=<MulBackward>)\n",
      "BCE tensor(2825.4807, grad_fn=<BinaryCrossEntropyBackward>)\n",
      "KLD tensor(742.4591, grad_fn=<MulBackward>)\n",
      "BCE tensor(2977.3667, grad_fn=<BinaryCrossEntropyBackward>)\n",
      "KLD tensor(740.3763, grad_fn=<MulBackward>)\n",
      "BCE tensor(3118.0178, grad_fn=<BinaryCrossEntropyBackward>)\n",
      "KLD tensor(765.0638, grad_fn=<MulBackward>)\n",
      "BCE tensor(3169.5212, grad_fn=<BinaryCrossEntropyBackward>)\n",
      "KLD tensor(806.9291, grad_fn=<MulBackward>)\n",
      "BCE tensor(3024.0151, grad_fn=<BinaryCrossEntropyBackward>)\n",
      "KLD tensor(734.5300, grad_fn=<MulBackward>)\n",
      "BCE tensor(3152.7021, grad_fn=<BinaryCrossEntropyBackward>)\n",
      "KLD tensor(791.2323, grad_fn=<MulBackward>)\n",
      "BCE tensor(2912.8835, grad_fn=<BinaryCrossEntropyBackward>)\n",
      "KLD tensor(782.0100, grad_fn=<MulBackward>)\n",
      "BCE tensor(3147.7253, grad_fn=<BinaryCrossEntropyBackward>)\n",
      "KLD tensor(785.8879, grad_fn=<MulBackward>)\n",
      "BCE tensor(3022.4011, grad_fn=<BinaryCrossEntropyBackward>)\n",
      "KLD tensor(771.2407, grad_fn=<MulBackward>)\n",
      "BCE tensor(2932.5491, grad_fn=<BinaryCrossEntropyBackward>)\n",
      "KLD tensor(758.1010, grad_fn=<MulBackward>)\n"
     ]
    },
    {
     "name": "stderr",
     "output_type": "stream",
     "text": [
      "\n",
      "\n",
      "\n",
      "1371it [00:25, 53.28it/s]\u001b[A\u001b[A\u001b[A"
     ]
    },
    {
     "name": "stdout",
     "output_type": "stream",
     "text": [
      "BCE tensor(3022.6621, grad_fn=<BinaryCrossEntropyBackward>)\n",
      "KLD tensor(763.0757, grad_fn=<MulBackward>)\n",
      "BCE tensor(2763.2976, grad_fn=<BinaryCrossEntropyBackward>)\n",
      "KLD tensor(724.9990, grad_fn=<MulBackward>)\n",
      "BCE tensor(3192.7959, grad_fn=<BinaryCrossEntropyBackward>)\n",
      "KLD tensor(732.8757, grad_fn=<MulBackward>)\n",
      "BCE tensor(3206.8047, grad_fn=<BinaryCrossEntropyBackward>)\n",
      "KLD tensor(743.5831, grad_fn=<MulBackward>)\n",
      "BCE tensor(2812.7236, grad_fn=<BinaryCrossEntropyBackward>)\n",
      "KLD tensor(742.2372, grad_fn=<MulBackward>)\n",
      "BCE tensor(3025.8740, grad_fn=<BinaryCrossEntropyBackward>)\n",
      "KLD tensor(801.5842, grad_fn=<MulBackward>)\n",
      "BCE tensor(2879.0881, grad_fn=<BinaryCrossEntropyBackward>)\n",
      "KLD tensor(788.1403, grad_fn=<MulBackward>)\n",
      "BCE tensor(2878.2781, grad_fn=<BinaryCrossEntropyBackward>)\n",
      "KLD tensor(761.4384, grad_fn=<MulBackward>)\n",
      "BCE tensor(3129.6829, grad_fn=<BinaryCrossEntropyBackward>)\n",
      "KLD tensor(757.1002, grad_fn=<MulBackward>)\n",
      "BCE tensor(3187.3933, grad_fn=<BinaryCrossEntropyBackward>)\n",
      "KLD tensor(779.1378, grad_fn=<MulBackward>)\n",
      "BCE tensor(2918.3081, grad_fn=<BinaryCrossEntropyBackward>)\n",
      "KLD tensor(754.4359, grad_fn=<MulBackward>)\n"
     ]
    },
    {
     "name": "stderr",
     "output_type": "stream",
     "text": [
      "\n",
      "\n",
      "\n",
      "1377it [00:25, 53.29it/s]\u001b[A\u001b[A\u001b[A\n",
      "\n",
      "\n",
      "1383it [00:25, 53.30it/s]\u001b[A\u001b[A\u001b[A"
     ]
    },
    {
     "name": "stdout",
     "output_type": "stream",
     "text": [
      "BCE tensor(2676.7124, grad_fn=<BinaryCrossEntropyBackward>)\n",
      "KLD tensor(733.0460, grad_fn=<MulBackward>)\n",
      "BCE tensor(2910.6838, grad_fn=<BinaryCrossEntropyBackward>)\n",
      "KLD tensor(778.3853, grad_fn=<MulBackward>)\n",
      "BCE tensor(2833.0181, grad_fn=<BinaryCrossEntropyBackward>)\n",
      "KLD tensor(748.4229, grad_fn=<MulBackward>)\n",
      "BCE tensor(2943.5925, grad_fn=<BinaryCrossEntropyBackward>)\n",
      "KLD tensor(750.2729, grad_fn=<MulBackward>)\n",
      "BCE tensor(3038.0925, grad_fn=<BinaryCrossEntropyBackward>)\n",
      "KLD tensor(690.8301, grad_fn=<MulBackward>)\n",
      "BCE tensor(2750.5034, grad_fn=<BinaryCrossEntropyBackward>)\n",
      "KLD tensor(764.1010, grad_fn=<MulBackward>)\n",
      "BCE tensor(3010.1836, grad_fn=<BinaryCrossEntropyBackward>)\n",
      "KLD tensor(745.0364, grad_fn=<MulBackward>)\n",
      "BCE tensor(2828.4148, grad_fn=<BinaryCrossEntropyBackward>)\n",
      "KLD tensor(714.4485, grad_fn=<MulBackward>)\n",
      "BCE tensor(3311.4146, grad_fn=<BinaryCrossEntropyBackward>)\n",
      "KLD tensor(744.8169, grad_fn=<MulBackward>)\n",
      "BCE tensor(3153.8677, grad_fn=<BinaryCrossEntropyBackward>)\n",
      "KLD tensor(772.5637, grad_fn=<MulBackward>)\n",
      "BCE tensor(3100.4304, grad_fn=<BinaryCrossEntropyBackward>)\n",
      "KLD tensor(742.5461, grad_fn=<MulBackward>)\n",
      "BCE tensor(2980.1458, grad_fn=<BinaryCrossEntropyBackward>)\n",
      "KLD tensor(772.2357, grad_fn=<MulBackward>)\n"
     ]
    },
    {
     "name": "stderr",
     "output_type": "stream",
     "text": [
      "\n",
      "\n",
      "\n",
      "1389it [00:26, 53.30it/s]\u001b[A\u001b[A\u001b[A\n",
      "\n",
      "\n",
      "1395it [00:26, 53.31it/s]\u001b[A\u001b[A\u001b[A"
     ]
    },
    {
     "name": "stdout",
     "output_type": "stream",
     "text": [
      "BCE tensor(3017.9553, grad_fn=<BinaryCrossEntropyBackward>)\n",
      "KLD tensor(791.0696, grad_fn=<MulBackward>)\n",
      "BCE tensor(3151.3940, grad_fn=<BinaryCrossEntropyBackward>)\n",
      "KLD tensor(733.6924, grad_fn=<MulBackward>)\n",
      "BCE tensor(2938.5156, grad_fn=<BinaryCrossEntropyBackward>)\n",
      "KLD tensor(751.2225, grad_fn=<MulBackward>)\n",
      "BCE tensor(3206.6672, grad_fn=<BinaryCrossEntropyBackward>)\n",
      "KLD tensor(766.0443, grad_fn=<MulBackward>)\n",
      "BCE tensor(2868.0974, grad_fn=<BinaryCrossEntropyBackward>)\n",
      "KLD tensor(730.3937, grad_fn=<MulBackward>)\n",
      "BCE tensor(3008.0500, grad_fn=<BinaryCrossEntropyBackward>)\n",
      "KLD tensor(714.8700, grad_fn=<MulBackward>)\n",
      "BCE tensor(3093.0623, grad_fn=<BinaryCrossEntropyBackward>)\n",
      "KLD tensor(741.9563, grad_fn=<MulBackward>)\n",
      "BCE tensor(3145.6514, grad_fn=<BinaryCrossEntropyBackward>)\n",
      "KLD tensor(736.4074, grad_fn=<MulBackward>)\n",
      "BCE tensor(3088.3054, grad_fn=<BinaryCrossEntropyBackward>)\n",
      "KLD tensor(811.6967, grad_fn=<MulBackward>)\n",
      "BCE tensor(2951.5764, grad_fn=<BinaryCrossEntropyBackward>)\n",
      "KLD tensor(731.7006, grad_fn=<MulBackward>)\n",
      "BCE tensor(2919.5212, grad_fn=<BinaryCrossEntropyBackward>)\n",
      "KLD tensor(726.8881, grad_fn=<MulBackward>)\n",
      "BCE tensor(3065.5728, grad_fn=<BinaryCrossEntropyBackward>)\n",
      "KLD tensor(772.3327, grad_fn=<MulBackward>)\n"
     ]
    },
    {
     "name": "stderr",
     "output_type": "stream",
     "text": [
      "\n",
      "\n",
      "\n",
      "1401it [00:26, 53.32it/s]\u001b[A\u001b[A\u001b[A\n",
      "\n",
      "\n",
      "1407it [00:26, 53.32it/s]\u001b[A\u001b[A\u001b[A"
     ]
    },
    {
     "name": "stdout",
     "output_type": "stream",
     "text": [
      "BCE tensor(2901.1711, grad_fn=<BinaryCrossEntropyBackward>)\n",
      "KLD tensor(782.3127, grad_fn=<MulBackward>)\n",
      "BCE tensor(3067.7534, grad_fn=<BinaryCrossEntropyBackward>)\n",
      "KLD tensor(743.0833, grad_fn=<MulBackward>)\n",
      "BCE tensor(2867.4163, grad_fn=<BinaryCrossEntropyBackward>)\n",
      "KLD tensor(774.2754, grad_fn=<MulBackward>)\n",
      "BCE tensor(3065.5024, grad_fn=<BinaryCrossEntropyBackward>)\n",
      "KLD tensor(700.8454, grad_fn=<MulBackward>)\n",
      "BCE tensor(2937.1733, grad_fn=<BinaryCrossEntropyBackward>)\n",
      "KLD tensor(709.8695, grad_fn=<MulBackward>)\n",
      "BCE tensor(3194.1548, grad_fn=<BinaryCrossEntropyBackward>)\n",
      "KLD tensor(726.1501, grad_fn=<MulBackward>)\n",
      "BCE tensor(2972.3018, grad_fn=<BinaryCrossEntropyBackward>)\n",
      "KLD tensor(732.0823, grad_fn=<MulBackward>)\n",
      "BCE tensor(2945.1726, grad_fn=<BinaryCrossEntropyBackward>)\n",
      "KLD tensor(737.3763, grad_fn=<MulBackward>)\n",
      "BCE tensor(2993.7649, grad_fn=<BinaryCrossEntropyBackward>)\n",
      "KLD tensor(757.0118, grad_fn=<MulBackward>)\n",
      "BCE tensor(2834.4678, grad_fn=<BinaryCrossEntropyBackward>)\n",
      "KLD tensor(748.8356, grad_fn=<MulBackward>)\n",
      "BCE tensor(2980.9995, grad_fn=<BinaryCrossEntropyBackward>)\n",
      "KLD tensor(793.6583, grad_fn=<MulBackward>)\n",
      "BCE tensor(3010.6987, grad_fn=<BinaryCrossEntropyBackward>)"
     ]
    },
    {
     "name": "stderr",
     "output_type": "stream",
     "text": [
      "\n",
      "\n",
      "\n",
      "1413it [00:26, 53.32it/s]\u001b[A\u001b[A\u001b[A\n",
      "\n",
      "\n",
      "1419it [00:26, 53.32it/s]\u001b[A\u001b[A\u001b[A"
     ]
    },
    {
     "name": "stdout",
     "output_type": "stream",
     "text": [
      "\n",
      "KLD tensor(832.1779, grad_fn=<MulBackward>)\n",
      "BCE tensor(2799.7620, grad_fn=<BinaryCrossEntropyBackward>)\n",
      "KLD tensor(709.4985, grad_fn=<MulBackward>)\n",
      "BCE tensor(2818.8066, grad_fn=<BinaryCrossEntropyBackward>)\n",
      "KLD tensor(732.7549, grad_fn=<MulBackward>)\n",
      "BCE tensor(3015.8428, grad_fn=<BinaryCrossEntropyBackward>)\n",
      "KLD tensor(791.9009, grad_fn=<MulBackward>)\n",
      "BCE tensor(3036.7239, grad_fn=<BinaryCrossEntropyBackward>)\n",
      "KLD tensor(758.5295, grad_fn=<MulBackward>)\n",
      "BCE tensor(2852.5112, grad_fn=<BinaryCrossEntropyBackward>)\n",
      "KLD tensor(744.7121, grad_fn=<MulBackward>)\n",
      "BCE tensor(3114.2014, grad_fn=<BinaryCrossEntropyBackward>)\n",
      "KLD tensor(803.4565, grad_fn=<MulBackward>)\n",
      "BCE tensor(2966.0940, grad_fn=<BinaryCrossEntropyBackward>)\n",
      "KLD tensor(792.4585, grad_fn=<MulBackward>)\n",
      "BCE tensor(2896.7380, grad_fn=<BinaryCrossEntropyBackward>)\n",
      "KLD tensor(737.9395, grad_fn=<MulBackward>)\n",
      "BCE tensor(2599.9841, grad_fn=<BinaryCrossEntropyBackward>)\n",
      "KLD tensor(671.2890, grad_fn=<MulBackward>)\n",
      "BCE tensor(3020.9485, grad_fn=<BinaryCrossEntropyBackward>)\n",
      "KLD tensor(792.1953, grad_fn=<MulBackward>)\n"
     ]
    },
    {
     "name": "stderr",
     "output_type": "stream",
     "text": [
      "\n",
      "\n",
      "\n",
      "1425it [00:26, 53.32it/s]\u001b[A\u001b[A\u001b[A\n",
      "\n",
      "\n",
      "1431it [00:26, 53.33it/s]\u001b[A\u001b[A\u001b[A"
     ]
    },
    {
     "name": "stdout",
     "output_type": "stream",
     "text": [
      "BCE tensor(3114.2847, grad_fn=<BinaryCrossEntropyBackward>)\n",
      "KLD tensor(787.0871, grad_fn=<MulBackward>)\n",
      "BCE tensor(2874.9319, grad_fn=<BinaryCrossEntropyBackward>)\n",
      "KLD tensor(762.8933, grad_fn=<MulBackward>)\n",
      "BCE tensor(3103.9392, grad_fn=<BinaryCrossEntropyBackward>)\n",
      "KLD tensor(767.5470, grad_fn=<MulBackward>)\n",
      "BCE tensor(3003.1973, grad_fn=<BinaryCrossEntropyBackward>)\n",
      "KLD tensor(758.7652, grad_fn=<MulBackward>)\n",
      "BCE tensor(2944.8613, grad_fn=<BinaryCrossEntropyBackward>)\n",
      "KLD tensor(715.3807, grad_fn=<MulBackward>)\n",
      "BCE tensor(3140.8923, grad_fn=<BinaryCrossEntropyBackward>)\n",
      "KLD tensor(776.9087, grad_fn=<MulBackward>)\n",
      "BCE tensor(2735.6819, grad_fn=<BinaryCrossEntropyBackward>)\n",
      "KLD tensor(705.6003, grad_fn=<MulBackward>)\n",
      "BCE tensor(2782.2168, grad_fn=<BinaryCrossEntropyBackward>)\n",
      "KLD tensor(751.9905, grad_fn=<MulBackward>)\n",
      "BCE tensor(3189.7632, grad_fn=<BinaryCrossEntropyBackward>)\n",
      "KLD tensor(785.6027, grad_fn=<MulBackward>)\n",
      "BCE tensor(2901.0325, grad_fn=<BinaryCrossEntropyBackward>)\n",
      "KLD tensor(777.2260, grad_fn=<MulBackward>)\n",
      "BCE tensor(2866.7212, grad_fn=<BinaryCrossEntropyBackward>)\n",
      "KLD tensor(727.2023, grad_fn=<MulBackward>)\n"
     ]
    },
    {
     "name": "stderr",
     "output_type": "stream",
     "text": [
      "\n",
      "\n",
      "\n",
      "1437it [00:26, 53.32it/s]\u001b[A\u001b[A\u001b[A\n",
      "\n",
      "\n",
      "1443it [00:27, 53.33it/s]\u001b[A\u001b[A\u001b[A"
     ]
    },
    {
     "name": "stdout",
     "output_type": "stream",
     "text": [
      "BCE tensor(3077.1392, grad_fn=<BinaryCrossEntropyBackward>)\n",
      "KLD tensor(768.4693, grad_fn=<MulBackward>)\n",
      "BCE tensor(2725.9932, grad_fn=<BinaryCrossEntropyBackward>)\n",
      "KLD tensor(718.7535, grad_fn=<MulBackward>)\n",
      "BCE tensor(3005.0950, grad_fn=<BinaryCrossEntropyBackward>)\n",
      "KLD tensor(758.8815, grad_fn=<MulBackward>)\n",
      "BCE tensor(2886.5303, grad_fn=<BinaryCrossEntropyBackward>)\n",
      "KLD tensor(750.3265, grad_fn=<MulBackward>)\n",
      "BCE tensor(3043.8923, grad_fn=<BinaryCrossEntropyBackward>)\n",
      "KLD tensor(775.7913, grad_fn=<MulBackward>)\n",
      "BCE tensor(2936.2419, grad_fn=<BinaryCrossEntropyBackward>)\n",
      "KLD tensor(704.5224, grad_fn=<MulBackward>)\n",
      "BCE tensor(2978.5127, grad_fn=<BinaryCrossEntropyBackward>)\n",
      "KLD tensor(746.9004, grad_fn=<MulBackward>)\n",
      "BCE tensor(2766.5688, grad_fn=<BinaryCrossEntropyBackward>)\n",
      "KLD tensor(781.6334, grad_fn=<MulBackward>)\n",
      "BCE tensor(3067.9458, grad_fn=<BinaryCrossEntropyBackward>)\n",
      "KLD tensor(755.9180, grad_fn=<MulBackward>)\n",
      "BCE tensor(2891.4146, grad_fn=<BinaryCrossEntropyBackward>)\n",
      "KLD tensor(751.8041, grad_fn=<MulBackward>)\n",
      "BCE tensor(3040.4360, grad_fn=<BinaryCrossEntropyBackward>)\n",
      "KLD tensor(744.2502, grad_fn=<MulBackward>)\n"
     ]
    },
    {
     "name": "stderr",
     "output_type": "stream",
     "text": [
      "\n",
      "\n",
      "\n",
      "1449it [00:27, 53.32it/s]\u001b[A\u001b[A\u001b[A\n",
      "\n",
      "\n",
      "1455it [00:27, 53.33it/s]\u001b[A\u001b[A\u001b[A"
     ]
    },
    {
     "name": "stdout",
     "output_type": "stream",
     "text": [
      "BCE tensor(3120.7307, grad_fn=<BinaryCrossEntropyBackward>)\n",
      "KLD tensor(746.2229, grad_fn=<MulBackward>)\n",
      "BCE tensor(2967.3423, grad_fn=<BinaryCrossEntropyBackward>)\n",
      "KLD tensor(757.7042, grad_fn=<MulBackward>)\n",
      "BCE tensor(2664.7661, grad_fn=<BinaryCrossEntropyBackward>)\n",
      "KLD tensor(728.8148, grad_fn=<MulBackward>)\n",
      "BCE tensor(2928.3958, grad_fn=<BinaryCrossEntropyBackward>)\n",
      "KLD tensor(803.8353, grad_fn=<MulBackward>)\n",
      "BCE tensor(3149.4893, grad_fn=<BinaryCrossEntropyBackward>)\n",
      "KLD tensor(832.3176, grad_fn=<MulBackward>)\n",
      "BCE tensor(3032.3638, grad_fn=<BinaryCrossEntropyBackward>)\n",
      "KLD tensor(806.1542, grad_fn=<MulBackward>)\n",
      "BCE tensor(2905.6584, grad_fn=<BinaryCrossEntropyBackward>)\n",
      "KLD tensor(738.8439, grad_fn=<MulBackward>)\n",
      "BCE tensor(3358.6106, grad_fn=<BinaryCrossEntropyBackward>)\n",
      "KLD tensor(796.1926, grad_fn=<MulBackward>)\n",
      "BCE tensor(3094.6453, grad_fn=<BinaryCrossEntropyBackward>)\n",
      "KLD tensor(746.0624, grad_fn=<MulBackward>)\n",
      "BCE tensor(2981.5566, grad_fn=<BinaryCrossEntropyBackward>)\n",
      "KLD tensor(782.5856, grad_fn=<MulBackward>)\n",
      "BCE tensor(3209.5195, grad_fn=<BinaryCrossEntropyBackward>)\n",
      "KLD tensor(747.4549, grad_fn=<MulBackward>)\n",
      "BCE tensor(2943.5691, grad_fn=<BinaryCrossEntropyBackward>)"
     ]
    },
    {
     "name": "stderr",
     "output_type": "stream",
     "text": [
      "\n",
      "\n",
      "\n",
      "1461it [00:27, 53.34it/s]\u001b[A\u001b[A\u001b[A\n",
      "\n",
      "\n",
      "1467it [00:27, 53.34it/s]\u001b[A\u001b[A\u001b[A"
     ]
    },
    {
     "name": "stdout",
     "output_type": "stream",
     "text": [
      "\n",
      "KLD tensor(725.7273, grad_fn=<MulBackward>)\n",
      "BCE tensor(3051.2637, grad_fn=<BinaryCrossEntropyBackward>)\n",
      "KLD tensor(783.7368, grad_fn=<MulBackward>)\n",
      "BCE tensor(3085.2883, grad_fn=<BinaryCrossEntropyBackward>)\n",
      "KLD tensor(815.4939, grad_fn=<MulBackward>)\n",
      "BCE tensor(3113.1680, grad_fn=<BinaryCrossEntropyBackward>)\n",
      "KLD tensor(778.6202, grad_fn=<MulBackward>)\n",
      "BCE tensor(3003.8157, grad_fn=<BinaryCrossEntropyBackward>)\n",
      "KLD tensor(712.9661, grad_fn=<MulBackward>)\n",
      "BCE tensor(2815.6978, grad_fn=<BinaryCrossEntropyBackward>)\n",
      "KLD tensor(724.9006, grad_fn=<MulBackward>)\n",
      "BCE tensor(2885.7751, grad_fn=<BinaryCrossEntropyBackward>)\n",
      "KLD tensor(726.3079, grad_fn=<MulBackward>)\n",
      "BCE tensor(3035.1782, grad_fn=<BinaryCrossEntropyBackward>)\n",
      "KLD tensor(759.6901, grad_fn=<MulBackward>)\n",
      "BCE tensor(2880.7605, grad_fn=<BinaryCrossEntropyBackward>)\n",
      "KLD tensor(731.4125, grad_fn=<MulBackward>)\n",
      "BCE tensor(2961.7239, grad_fn=<BinaryCrossEntropyBackward>)\n",
      "KLD tensor(772.7225, grad_fn=<MulBackward>)\n",
      "BCE tensor(2765.1836, grad_fn=<BinaryCrossEntropyBackward>)\n",
      "KLD tensor(732.0381, grad_fn=<MulBackward>)\n"
     ]
    },
    {
     "name": "stderr",
     "output_type": "stream",
     "text": [
      "\n",
      "\n",
      "\n",
      "1473it [00:27, 53.31it/s]\u001b[A\u001b[A\u001b[A"
     ]
    },
    {
     "name": "stdout",
     "output_type": "stream",
     "text": [
      "BCE tensor(3052.1311, grad_fn=<BinaryCrossEntropyBackward>)\n",
      "KLD tensor(776.7820, grad_fn=<MulBackward>)\n",
      "BCE tensor(2766.5884, grad_fn=<BinaryCrossEntropyBackward>)\n",
      "KLD tensor(739.0127, grad_fn=<MulBackward>)\n",
      "BCE tensor(2792.3594, grad_fn=<BinaryCrossEntropyBackward>)\n",
      "KLD tensor(717.8151, grad_fn=<MulBackward>)\n",
      "BCE tensor(2936.7366, grad_fn=<BinaryCrossEntropyBackward>)\n",
      "KLD tensor(737.7712, grad_fn=<MulBackward>)\n",
      "BCE tensor(2977.6848, grad_fn=<BinaryCrossEntropyBackward>)\n",
      "KLD tensor(739.9157, grad_fn=<MulBackward>)\n",
      "BCE tensor(3041.7239, grad_fn=<BinaryCrossEntropyBackward>)\n",
      "KLD tensor(738.9877, grad_fn=<MulBackward>)\n",
      "BCE tensor(3072.2478, grad_fn=<BinaryCrossEntropyBackward>)\n",
      "KLD tensor(763.8068, grad_fn=<MulBackward>)\n",
      "BCE tensor(2882.3650, grad_fn=<BinaryCrossEntropyBackward>)\n",
      "KLD tensor(768.1590, grad_fn=<MulBackward>)\n"
     ]
    },
    {
     "name": "stderr",
     "output_type": "stream",
     "text": [
      "\n",
      "\n",
      "\n",
      "1479it [00:27, 53.19it/s]\u001b[A\u001b[A\u001b[A\n",
      "\n",
      "\n",
      "1485it [00:27, 53.20it/s]\u001b[A\u001b[A\u001b[A"
     ]
    },
    {
     "name": "stdout",
     "output_type": "stream",
     "text": [
      "BCE tensor(2931.9651, grad_fn=<BinaryCrossEntropyBackward>)\n",
      "KLD tensor(736.6918, grad_fn=<MulBackward>)\n",
      "BCE tensor(2905.3340, grad_fn=<BinaryCrossEntropyBackward>)\n",
      "KLD tensor(776.4803, grad_fn=<MulBackward>)\n",
      "BCE tensor(2984.2209, grad_fn=<BinaryCrossEntropyBackward>)\n",
      "KLD tensor(778.9542, grad_fn=<MulBackward>)\n",
      "BCE tensor(2852.2373, grad_fn=<BinaryCrossEntropyBackward>)\n",
      "KLD tensor(742.7886, grad_fn=<MulBackward>)\n",
      "BCE tensor(3081.7505, grad_fn=<BinaryCrossEntropyBackward>)\n",
      "KLD tensor(806.0234, grad_fn=<MulBackward>)\n",
      "BCE tensor(2763.4307, grad_fn=<BinaryCrossEntropyBackward>)\n",
      "KLD tensor(710.7560, grad_fn=<MulBackward>)\n",
      "BCE tensor(2968.6892, grad_fn=<BinaryCrossEntropyBackward>)\n",
      "KLD tensor(731.6401, grad_fn=<MulBackward>)\n",
      "BCE tensor(2947.8748, grad_fn=<BinaryCrossEntropyBackward>)\n",
      "KLD tensor(740.3788, grad_fn=<MulBackward>)\n",
      "BCE tensor(2999.5334, grad_fn=<BinaryCrossEntropyBackward>)\n",
      "KLD tensor(771.3715, grad_fn=<MulBackward>)\n",
      "BCE tensor(3039.5234, grad_fn=<BinaryCrossEntropyBackward>)\n",
      "KLD tensor(744.1104, grad_fn=<MulBackward>)\n",
      "BCE tensor(2994.3008, grad_fn=<BinaryCrossEntropyBackward>)\n",
      "KLD tensor(768.6219, grad_fn=<MulBackward>)\n"
     ]
    },
    {
     "name": "stderr",
     "output_type": "stream",
     "text": [
      "\n",
      "\n",
      "\n",
      "1491it [00:28, 53.20it/s]\u001b[A\u001b[A\u001b[A"
     ]
    },
    {
     "name": "stdout",
     "output_type": "stream",
     "text": [
      "BCE tensor(3045.6470, grad_fn=<BinaryCrossEntropyBackward>)\n",
      "KLD tensor(770.6278, grad_fn=<MulBackward>)\n",
      "BCE tensor(3319.3210, grad_fn=<BinaryCrossEntropyBackward>)\n",
      "KLD tensor(834.1121, grad_fn=<MulBackward>)\n",
      "BCE tensor(3089.7029, grad_fn=<BinaryCrossEntropyBackward>)\n",
      "KLD tensor(799.4125, grad_fn=<MulBackward>)\n",
      "BCE tensor(2886.5239, grad_fn=<BinaryCrossEntropyBackward>)\n",
      "KLD tensor(759.3279, grad_fn=<MulBackward>)\n",
      "BCE tensor(3104.4761, grad_fn=<BinaryCrossEntropyBackward>)\n",
      "KLD tensor(808.9255, grad_fn=<MulBackward>)\n",
      "BCE tensor(2855.0557, grad_fn=<BinaryCrossEntropyBackward>)\n",
      "KLD tensor(759.1020, grad_fn=<MulBackward>)\n",
      "BCE tensor(2979.7073, grad_fn=<BinaryCrossEntropyBackward>)\n",
      "KLD tensor(747.5919, grad_fn=<MulBackward>)\n",
      "BCE tensor(2913.0312, grad_fn=<BinaryCrossEntropyBackward>)\n",
      "KLD tensor(769.7416, grad_fn=<MulBackward>)\n",
      "BCE tensor(2831.1211, grad_fn=<BinaryCrossEntropyBackward>)\n",
      "KLD tensor(722.1402, grad_fn=<MulBackward>)\n",
      "BCE tensor(2706.8904, grad_fn=<BinaryCrossEntropyBackward>)\n",
      "KLD tensor(770.0001, grad_fn=<MulBackward>)\n",
      "BCE tensor(2966.5388, grad_fn=<BinaryCrossEntropyBackward>)\n",
      "KLD tensor(784.2891, grad_fn=<MulBackward>)\n"
     ]
    },
    {
     "name": "stderr",
     "output_type": "stream",
     "text": [
      "\n",
      "\n",
      "\n",
      "1497it [00:28, 53.18it/s]\u001b[A\u001b[A\u001b[A\n",
      "\n",
      "\n",
      "1503it [00:28, 53.11it/s]\u001b[A\u001b[A\u001b[A"
     ]
    },
    {
     "name": "stdout",
     "output_type": "stream",
     "text": [
      "BCE tensor(2767.3394, grad_fn=<BinaryCrossEntropyBackward>)\n",
      "KLD tensor(697.3829, grad_fn=<MulBackward>)\n",
      "BCE tensor(2877.8101, grad_fn=<BinaryCrossEntropyBackward>)\n",
      "KLD tensor(795.5775, grad_fn=<MulBackward>)\n",
      "BCE tensor(2705.2966, grad_fn=<BinaryCrossEntropyBackward>)\n",
      "KLD tensor(699.2222, grad_fn=<MulBackward>)\n",
      "BCE tensor(2905.9949, grad_fn=<BinaryCrossEntropyBackward>)\n",
      "KLD tensor(743.1979, grad_fn=<MulBackward>)\n",
      "BCE tensor(3088.3923, grad_fn=<BinaryCrossEntropyBackward>)\n",
      "KLD tensor(715.3145, grad_fn=<MulBackward>)\n",
      "BCE tensor(3014.7927, grad_fn=<BinaryCrossEntropyBackward>)\n",
      "KLD tensor(750.9890, grad_fn=<MulBackward>)\n",
      "BCE tensor(2836.9290, grad_fn=<BinaryCrossEntropyBackward>)\n",
      "KLD tensor(681.6755, grad_fn=<MulBackward>)\n",
      "BCE tensor(2857.7964, grad_fn=<BinaryCrossEntropyBackward>)\n",
      "KLD tensor(722.3013, grad_fn=<MulBackward>)\n",
      "BCE tensor(2957.2800, grad_fn=<BinaryCrossEntropyBackward>)\n",
      "KLD tensor(758.3043, grad_fn=<MulBackward>)\n"
     ]
    },
    {
     "name": "stderr",
     "output_type": "stream",
     "text": [
      "\n",
      "\n",
      "\n",
      "1509it [00:28, 53.10it/s]\u001b[A\u001b[A\u001b[A\n",
      "\n",
      "\n",
      "1515it [00:28, 53.10it/s]\u001b[A\u001b[A\u001b[A"
     ]
    },
    {
     "name": "stdout",
     "output_type": "stream",
     "text": [
      "BCE tensor(3029.5532, grad_fn=<BinaryCrossEntropyBackward>)\n",
      "KLD tensor(771.7521, grad_fn=<MulBackward>)\n",
      "BCE tensor(3045.0554, grad_fn=<BinaryCrossEntropyBackward>)\n",
      "KLD tensor(761.4172, grad_fn=<MulBackward>)\n",
      "BCE tensor(2849.1824, grad_fn=<BinaryCrossEntropyBackward>)\n",
      "KLD tensor(732.9421, grad_fn=<MulBackward>)\n",
      "BCE tensor(3052.3972, grad_fn=<BinaryCrossEntropyBackward>)\n",
      "KLD tensor(719.9916, grad_fn=<MulBackward>)\n",
      "BCE tensor(3094.2898, grad_fn=<BinaryCrossEntropyBackward>)\n",
      "KLD tensor(777.2106, grad_fn=<MulBackward>)\n",
      "BCE tensor(3107.9626, grad_fn=<BinaryCrossEntropyBackward>)\n",
      "KLD tensor(764.6047, grad_fn=<MulBackward>)\n",
      "BCE tensor(3082.7949, grad_fn=<BinaryCrossEntropyBackward>)\n",
      "KLD tensor(747.3085, grad_fn=<MulBackward>)\n",
      "BCE tensor(2915.7395, grad_fn=<BinaryCrossEntropyBackward>)\n",
      "KLD tensor(752.9893, grad_fn=<MulBackward>)\n",
      "BCE tensor(2991.6584, grad_fn=<BinaryCrossEntropyBackward>)\n",
      "KLD tensor(857.8099, grad_fn=<MulBackward>)\n",
      "BCE tensor(2936.0168, grad_fn=<BinaryCrossEntropyBackward>)\n",
      "KLD tensor(817.8962, grad_fn=<MulBackward>)\n",
      "BCE tensor(3139.6707, grad_fn=<BinaryCrossEntropyBackward>)\n",
      "KLD tensor(737.9161, grad_fn=<MulBackward>)\n"
     ]
    },
    {
     "name": "stderr",
     "output_type": "stream",
     "text": [
      "\n",
      "\n",
      "\n",
      "1521it [00:28, 53.10it/s]\u001b[A\u001b[A\u001b[A\n",
      "\n",
      "\n",
      "1527it [00:28, 53.10it/s]\u001b[A\u001b[A\u001b[A"
     ]
    },
    {
     "name": "stdout",
     "output_type": "stream",
     "text": [
      "BCE tensor(3010.8440, grad_fn=<BinaryCrossEntropyBackward>)\n",
      "KLD tensor(740.8660, grad_fn=<MulBackward>)\n",
      "BCE tensor(3011.7581, grad_fn=<BinaryCrossEntropyBackward>)\n",
      "KLD tensor(765.3297, grad_fn=<MulBackward>)\n",
      "BCE tensor(2865.2227, grad_fn=<BinaryCrossEntropyBackward>)\n",
      "KLD tensor(754.6450, grad_fn=<MulBackward>)\n",
      "BCE tensor(3071.9885, grad_fn=<BinaryCrossEntropyBackward>)\n",
      "KLD tensor(829.4151, grad_fn=<MulBackward>)\n",
      "BCE tensor(2870.3359, grad_fn=<BinaryCrossEntropyBackward>)\n",
      "KLD tensor(729.4370, grad_fn=<MulBackward>)\n",
      "BCE tensor(2679.7251, grad_fn=<BinaryCrossEntropyBackward>)\n",
      "KLD tensor(774.1647, grad_fn=<MulBackward>)\n",
      "BCE tensor(3129.2903, grad_fn=<BinaryCrossEntropyBackward>)\n",
      "KLD tensor(720.0449, grad_fn=<MulBackward>)\n",
      "BCE tensor(3167.5825, grad_fn=<BinaryCrossEntropyBackward>)\n",
      "KLD tensor(760.6667, grad_fn=<MulBackward>)\n",
      "BCE tensor(2793.9539, grad_fn=<BinaryCrossEntropyBackward>)\n",
      "KLD tensor(747.9888, grad_fn=<MulBackward>)\n",
      "BCE tensor(3190.9409, grad_fn=<BinaryCrossEntropyBackward>)\n",
      "KLD tensor(742.5999, grad_fn=<MulBackward>)\n",
      "BCE tensor(3082.8425, grad_fn=<BinaryCrossEntropyBackward>)\n",
      "KLD tensor(748.0026, grad_fn=<MulBackward>)\n"
     ]
    },
    {
     "name": "stderr",
     "output_type": "stream",
     "text": [
      "\n",
      "\n",
      "\n",
      "1533it [00:28, 53.10it/s]\u001b[A\u001b[A\u001b[A\n",
      "\n",
      "\n",
      "1539it [00:28, 53.10it/s]"
     ]
    },
    {
     "name": "stdout",
     "output_type": "stream",
     "text": [
      "BCE tensor(2989.0144, grad_fn=<BinaryCrossEntropyBackward>)\n",
      "KLD tensor(743.5876, grad_fn=<MulBackward>)\n",
      "BCE tensor(3002.3267, grad_fn=<BinaryCrossEntropyBackward>)\n",
      "KLD tensor(810.9655, grad_fn=<MulBackward>)\n",
      "BCE tensor(3126.2271, grad_fn=<BinaryCrossEntropyBackward>)\n",
      "KLD tensor(755.6931, grad_fn=<MulBackward>)\n",
      "BCE tensor(2804.7317, grad_fn=<BinaryCrossEntropyBackward>)\n",
      "KLD tensor(751.2704, grad_fn=<MulBackward>)\n",
      "BCE tensor(2803.8696, grad_fn=<BinaryCrossEntropyBackward>)\n",
      "KLD tensor(727.3827, grad_fn=<MulBackward>)\n",
      "BCE tensor(2990.0933, grad_fn=<BinaryCrossEntropyBackward>)\n",
      "KLD tensor(713.6606, grad_fn=<MulBackward>)\n",
      "BCE tensor(2950.8530, grad_fn=<BinaryCrossEntropyBackward>)\n",
      "KLD tensor(771.9699, grad_fn=<MulBackward>)\n",
      "BCE tensor(2829.2498, grad_fn=<BinaryCrossEntropyBackward>)\n",
      "KLD tensor(740.3380, grad_fn=<MulBackward>)\n",
      "BCE tensor(2809.1802, grad_fn=<BinaryCrossEntropyBackward>)\n",
      "KLD tensor(738.4658, grad_fn=<MulBackward>)\n",
      "BCE tensor(2882.7175, grad_fn=<BinaryCrossEntropyBackward>)\n",
      "KLD tensor(729.8829, grad_fn=<MulBackward>)\n",
      "BCE tensor(2945.2979, grad_fn=<BinaryCrossEntropyBackward>)\n",
      "KLD tensor(728.1141, grad_fn=<MulBackward>)\n"
     ]
    },
    {
     "name": "stderr",
     "output_type": "stream",
     "text": [
      "\u001b[A\u001b[A\u001b[A\n",
      "\n",
      "\n",
      "1545it [00:29, 53.10it/s]\u001b[A\u001b[A\u001b[A"
     ]
    },
    {
     "name": "stdout",
     "output_type": "stream",
     "text": [
      "BCE tensor(2857.7156, grad_fn=<BinaryCrossEntropyBackward>)\n",
      "KLD tensor(750.1089, grad_fn=<MulBackward>)\n",
      "BCE tensor(3196.3408, grad_fn=<BinaryCrossEntropyBackward>)\n",
      "KLD tensor(755.0126, grad_fn=<MulBackward>)\n",
      "BCE tensor(3127.1860, grad_fn=<BinaryCrossEntropyBackward>)\n",
      "KLD tensor(780.7648, grad_fn=<MulBackward>)\n",
      "BCE tensor(2895.7800, grad_fn=<BinaryCrossEntropyBackward>)\n",
      "KLD tensor(725.4993, grad_fn=<MulBackward>)\n",
      "BCE tensor(2896.4141, grad_fn=<BinaryCrossEntropyBackward>)\n",
      "KLD tensor(730.1851, grad_fn=<MulBackward>)\n",
      "BCE tensor(2973.0735, grad_fn=<BinaryCrossEntropyBackward>)\n",
      "KLD tensor(718.6398, grad_fn=<MulBackward>)\n",
      "BCE tensor(2628.4678, grad_fn=<BinaryCrossEntropyBackward>)\n",
      "KLD tensor(719.3483, grad_fn=<MulBackward>)\n",
      "BCE tensor(2949.4758, grad_fn=<BinaryCrossEntropyBackward>)\n",
      "KLD tensor(747.5330, grad_fn=<MulBackward>)\n",
      "BCE tensor(3094.0889, grad_fn=<BinaryCrossEntropyBackward>)\n",
      "KLD tensor(774.9294, grad_fn=<MulBackward>)\n",
      "BCE tensor(2882.0830, grad_fn=<BinaryCrossEntropyBackward>)\n",
      "KLD tensor(774.2468, grad_fn=<MulBackward>)\n",
      "BCE tensor(3003.7014, grad_fn=<BinaryCrossEntropyBackward>)\n",
      "KLD tensor(771.8058, grad_fn=<MulBackward>)\n"
     ]
    },
    {
     "name": "stderr",
     "output_type": "stream",
     "text": [
      "\n",
      "\n",
      "\n",
      "1551it [00:29, 53.09it/s]\u001b[A\u001b[A\u001b[A\n",
      "\n",
      "\n",
      "1557it [00:29, 53.09it/s]\u001b[A\u001b[A\u001b[A"
     ]
    },
    {
     "name": "stdout",
     "output_type": "stream",
     "text": [
      "BCE tensor(2776.1392, grad_fn=<BinaryCrossEntropyBackward>)\n",
      "KLD tensor(759.8530, grad_fn=<MulBackward>)\n",
      "BCE tensor(2909.8921, grad_fn=<BinaryCrossEntropyBackward>)\n",
      "KLD tensor(783.7654, grad_fn=<MulBackward>)\n",
      "BCE tensor(2843.5925, grad_fn=<BinaryCrossEntropyBackward>)\n",
      "KLD tensor(753.8510, grad_fn=<MulBackward>)\n",
      "BCE tensor(2889.0312, grad_fn=<BinaryCrossEntropyBackward>)\n",
      "KLD tensor(761.8519, grad_fn=<MulBackward>)\n",
      "BCE tensor(2964.5906, grad_fn=<BinaryCrossEntropyBackward>)\n",
      "KLD tensor(739.4572, grad_fn=<MulBackward>)\n",
      "BCE tensor(2846.2725, grad_fn=<BinaryCrossEntropyBackward>)\n",
      "KLD tensor(766.3771, grad_fn=<MulBackward>)\n",
      "BCE tensor(2951.4265, grad_fn=<BinaryCrossEntropyBackward>)\n",
      "KLD tensor(742.4445, grad_fn=<MulBackward>)\n",
      "BCE tensor(3098.6633, grad_fn=<BinaryCrossEntropyBackward>)\n",
      "KLD tensor(790.2936, grad_fn=<MulBackward>)\n",
      "BCE tensor(3167.2380, grad_fn=<BinaryCrossEntropyBackward>)\n",
      "KLD tensor(783.6145, grad_fn=<MulBackward>)\n",
      "BCE tensor(2865.2207, grad_fn=<BinaryCrossEntropyBackward>)\n",
      "KLD tensor(793.6946, grad_fn=<MulBackward>)\n",
      "BCE tensor(2917.9229, grad_fn=<BinaryCrossEntropyBackward>)\n",
      "KLD tensor(771.0723, grad_fn=<MulBackward>)\n"
     ]
    },
    {
     "name": "stderr",
     "output_type": "stream",
     "text": [
      "\n",
      "\n",
      "\n",
      "1563it [00:29, 53.07it/s]\u001b[A\u001b[A\u001b[A\n",
      "\n",
      "\n",
      "1569it [00:29, 53.06it/s]\u001b[A\u001b[A\u001b[A"
     ]
    },
    {
     "name": "stdout",
     "output_type": "stream",
     "text": [
      "BCE tensor(2780.4629, grad_fn=<BinaryCrossEntropyBackward>)\n",
      "KLD tensor(726.5616, grad_fn=<MulBackward>)\n",
      "BCE tensor(2845.6013, grad_fn=<BinaryCrossEntropyBackward>)\n",
      "KLD tensor(759.6912, grad_fn=<MulBackward>)\n",
      "BCE tensor(3002.2700, grad_fn=<BinaryCrossEntropyBackward>)\n",
      "KLD tensor(804.9009, grad_fn=<MulBackward>)\n",
      "BCE tensor(2931.6240, grad_fn=<BinaryCrossEntropyBackward>)\n",
      "KLD tensor(763.5699, grad_fn=<MulBackward>)\n",
      "BCE tensor(2776.5991, grad_fn=<BinaryCrossEntropyBackward>)\n",
      "KLD tensor(763.8569, grad_fn=<MulBackward>)\n",
      "BCE tensor(2936.1501, grad_fn=<BinaryCrossEntropyBackward>)\n",
      "KLD tensor(799.6185, grad_fn=<MulBackward>)\n",
      "BCE tensor(2782.5093, grad_fn=<BinaryCrossEntropyBackward>)\n",
      "KLD tensor(745.4055, grad_fn=<MulBackward>)\n",
      "BCE tensor(2862.8577, grad_fn=<BinaryCrossEntropyBackward>)\n",
      "KLD tensor(728.4313, grad_fn=<MulBackward>)\n",
      "BCE tensor(2951.4189, grad_fn=<BinaryCrossEntropyBackward>)\n",
      "KLD tensor(740.6751, grad_fn=<MulBackward>)\n",
      "BCE tensor(2778.1306, grad_fn=<BinaryCrossEntropyBackward>)\n",
      "KLD tensor(743.1411, grad_fn=<MulBackward>)\n",
      "BCE tensor(2886.2468, grad_fn=<BinaryCrossEntropyBackward>)"
     ]
    },
    {
     "name": "stderr",
     "output_type": "stream",
     "text": [
      "\n",
      "\n",
      "\n",
      "1575it [00:29, 53.04it/s]\u001b[A\u001b[A\u001b[A\n",
      "\n",
      "\n"
     ]
    },
    {
     "name": "stdout",
     "output_type": "stream",
     "text": [
      "\n",
      "KLD tensor(735.8461, grad_fn=<MulBackward>)\n",
      "BCE tensor(3119.8132, grad_fn=<BinaryCrossEntropyBackward>)\n",
      "KLD tensor(748.9750, grad_fn=<MulBackward>)\n",
      "BCE tensor(2867.1074, grad_fn=<BinaryCrossEntropyBackward>)\n",
      "KLD tensor(733.9070, grad_fn=<MulBackward>)\n",
      "BCE tensor(3022.3152, grad_fn=<BinaryCrossEntropyBackward>)\n",
      "KLD tensor(750.7508, grad_fn=<MulBackward>)\n",
      "BCE tensor(3167.5466, grad_fn=<BinaryCrossEntropyBackward>)\n",
      "KLD tensor(742.1528, grad_fn=<MulBackward>)\n",
      "BCE tensor(3053.1438, grad_fn=<BinaryCrossEntropyBackward>)\n",
      "KLD tensor(759.1756, grad_fn=<MulBackward>)\n",
      "BCE tensor(2754.8757, grad_fn=<BinaryCrossEntropyBackward>)\n",
      "KLD tensor(730.9762, grad_fn=<MulBackward>)\n",
      "BCE tensor(3077.8892, grad_fn=<BinaryCrossEntropyBackward>)\n",
      "KLD tensor(763.7618, grad_fn=<MulBackward>)\n",
      "BCE tensor(2818.9001, grad_fn=<BinaryCrossEntropyBackward>)\n",
      "KLD tensor(744.5671, grad_fn=<MulBackward>)\n",
      "BCE tensor(3029.0149, grad_fn=<BinaryCrossEntropyBackward>)\n",
      "KLD tensor(753.6225, grad_fn=<MulBackward>)\n"
     ]
    },
    {
     "name": "stderr",
     "output_type": "stream",
     "text": [
      "1581it [00:29, 53.01it/s]\u001b[A\u001b[A\u001b[A\n",
      "\n",
      "\n",
      "1586it [00:29, 52.96it/s]\u001b[A\u001b[A\u001b[A"
     ]
    },
    {
     "name": "stdout",
     "output_type": "stream",
     "text": [
      "BCE tensor(2849.0447, grad_fn=<BinaryCrossEntropyBackward>)\n",
      "KLD tensor(703.7342, grad_fn=<MulBackward>)\n",
      "BCE tensor(3118.5278, grad_fn=<BinaryCrossEntropyBackward>)\n",
      "KLD tensor(772.4923, grad_fn=<MulBackward>)\n",
      "BCE tensor(3260.9387, grad_fn=<BinaryCrossEntropyBackward>)\n",
      "KLD tensor(801.6445, grad_fn=<MulBackward>)\n",
      "BCE tensor(2889.7073, grad_fn=<BinaryCrossEntropyBackward>)\n",
      "KLD tensor(680.2335, grad_fn=<MulBackward>)\n",
      "BCE tensor(3108.4912, grad_fn=<BinaryCrossEntropyBackward>)\n",
      "KLD tensor(783.2643, grad_fn=<MulBackward>)\n",
      "BCE tensor(2904.5066, grad_fn=<BinaryCrossEntropyBackward>)\n",
      "KLD tensor(792.5558, grad_fn=<MulBackward>)\n",
      "BCE tensor(2919.3496, grad_fn=<BinaryCrossEntropyBackward>)\n",
      "KLD tensor(821.1624, grad_fn=<MulBackward>)\n",
      "BCE tensor(3049.4124, grad_fn=<BinaryCrossEntropyBackward>)\n",
      "KLD tensor(802.0773, grad_fn=<MulBackward>)\n",
      "BCE tensor(2862.3833, grad_fn=<BinaryCrossEntropyBackward>)\n",
      "KLD tensor(819.8619, grad_fn=<MulBackward>)\n"
     ]
    },
    {
     "name": "stderr",
     "output_type": "stream",
     "text": [
      "\n",
      "\n",
      "\n",
      "1591it [00:30, 52.93it/s]\u001b[A\u001b[A\u001b[A\n",
      "\n",
      "\n",
      "1596it [00:30, 52.87it/s]\u001b[A\u001b[A\u001b[A"
     ]
    },
    {
     "name": "stdout",
     "output_type": "stream",
     "text": [
      "BCE tensor(3465.0408, grad_fn=<BinaryCrossEntropyBackward>)\n",
      "KLD tensor(763.5944, grad_fn=<MulBackward>)\n",
      "BCE tensor(3241.5469, grad_fn=<BinaryCrossEntropyBackward>)\n",
      "KLD tensor(815.1910, grad_fn=<MulBackward>)\n",
      "BCE tensor(2707.7009, grad_fn=<BinaryCrossEntropyBackward>)\n",
      "KLD tensor(721.8092, grad_fn=<MulBackward>)\n",
      "BCE tensor(2713.2319, grad_fn=<BinaryCrossEntropyBackward>)\n",
      "KLD tensor(683.8077, grad_fn=<MulBackward>)\n",
      "BCE tensor(2996.4573, grad_fn=<BinaryCrossEntropyBackward>)\n",
      "KLD tensor(766.1831, grad_fn=<MulBackward>)\n",
      "BCE tensor(2661.8149, grad_fn=<BinaryCrossEntropyBackward>)\n",
      "KLD tensor(756.9274, grad_fn=<MulBackward>)\n",
      "BCE tensor(2957.9111, grad_fn=<BinaryCrossEntropyBackward>)\n",
      "KLD tensor(729.1598, grad_fn=<MulBackward>)\n",
      "BCE tensor(3219.3955, grad_fn=<BinaryCrossEntropyBackward>)\n",
      "KLD tensor(771.9807, grad_fn=<MulBackward>)\n",
      "BCE tensor(3003.1765, grad_fn=<BinaryCrossEntropyBackward>)\n",
      "KLD tensor(789.7023, grad_fn=<MulBackward>)\n"
     ]
    },
    {
     "name": "stderr",
     "output_type": "stream",
     "text": [
      "\n",
      "\n",
      "\n",
      "1601it [00:30, 52.84it/s]\u001b[A\u001b[A\u001b[A\n",
      "\n",
      "\n",
      "1606it [00:30, 52.83it/s]\u001b[A\u001b[A\u001b[A"
     ]
    },
    {
     "name": "stdout",
     "output_type": "stream",
     "text": [
      "BCE tensor(2782.8613, grad_fn=<BinaryCrossEntropyBackward>)\n",
      "KLD tensor(778.7310, grad_fn=<MulBackward>)\n",
      "BCE tensor(2978.3816, grad_fn=<BinaryCrossEntropyBackward>)\n",
      "KLD tensor(724.2712, grad_fn=<MulBackward>)\n",
      "BCE tensor(2887.9880, grad_fn=<BinaryCrossEntropyBackward>)\n",
      "KLD tensor(696.2083, grad_fn=<MulBackward>)\n",
      "BCE tensor(3019.8706, grad_fn=<BinaryCrossEntropyBackward>)\n",
      "KLD tensor(709.5509, grad_fn=<MulBackward>)\n",
      "BCE tensor(3032.8323, grad_fn=<BinaryCrossEntropyBackward>)\n",
      "KLD tensor(774.2344, grad_fn=<MulBackward>)\n",
      "BCE tensor(2871.5574, grad_fn=<BinaryCrossEntropyBackward>)\n",
      "KLD tensor(756.3143, grad_fn=<MulBackward>)\n",
      "BCE tensor(2953.1455, grad_fn=<BinaryCrossEntropyBackward>)\n",
      "KLD tensor(781.2043, grad_fn=<MulBackward>)\n",
      "BCE tensor(3055.6189, grad_fn=<BinaryCrossEntropyBackward>)\n",
      "KLD tensor(746.8689, grad_fn=<MulBackward>)\n",
      "BCE tensor(2915.6484, grad_fn=<BinaryCrossEntropyBackward>)\n",
      "KLD tensor(747.3822, grad_fn=<MulBackward>)\n",
      "BCE tensor(2871.4248, grad_fn=<BinaryCrossEntropyBackward>)\n",
      "KLD tensor(768.0921, grad_fn=<MulBackward>)\n"
     ]
    },
    {
     "name": "stderr",
     "output_type": "stream",
     "text": [
      "\n",
      "\n",
      "\n",
      "1611it [00:30, 52.82it/s]\u001b[A\u001b[A\u001b[A\n",
      "\n",
      "\n",
      "1617it [00:30, 52.82it/s]\u001b[A\u001b[A\u001b[A"
     ]
    },
    {
     "name": "stdout",
     "output_type": "stream",
     "text": [
      "BCE tensor(3020.4978, grad_fn=<BinaryCrossEntropyBackward>)\n",
      "KLD tensor(735.0090, grad_fn=<MulBackward>)\n",
      "BCE tensor(3139.5984, grad_fn=<BinaryCrossEntropyBackward>)\n",
      "KLD tensor(758.4064, grad_fn=<MulBackward>)\n",
      "BCE tensor(2892.9807, grad_fn=<BinaryCrossEntropyBackward>)\n",
      "KLD tensor(772.0790, grad_fn=<MulBackward>)\n",
      "BCE tensor(2752.4280, grad_fn=<BinaryCrossEntropyBackward>)\n",
      "KLD tensor(757.1237, grad_fn=<MulBackward>)\n",
      "BCE tensor(3117.4651, grad_fn=<BinaryCrossEntropyBackward>)\n",
      "KLD tensor(784.2142, grad_fn=<MulBackward>)\n",
      "BCE tensor(2763.6272, grad_fn=<BinaryCrossEntropyBackward>)\n",
      "KLD tensor(714.7862, grad_fn=<MulBackward>)\n",
      "BCE tensor(2817.4595, grad_fn=<BinaryCrossEntropyBackward>)\n",
      "KLD tensor(760.5075, grad_fn=<MulBackward>)\n",
      "BCE tensor(2890.7419, grad_fn=<BinaryCrossEntropyBackward>)\n",
      "KLD tensor(769.7003, grad_fn=<MulBackward>)\n",
      "BCE tensor(3092.0161, grad_fn=<BinaryCrossEntropyBackward>)\n",
      "KLD tensor(833.1373, grad_fn=<MulBackward>)\n",
      "BCE tensor(2937.7412, grad_fn=<BinaryCrossEntropyBackward>)\n",
      "KLD tensor(738.9791, grad_fn=<MulBackward>)\n",
      "BCE tensor(2936.0393, grad_fn=<BinaryCrossEntropyBackward>)\n",
      "KLD tensor(755.1738, grad_fn=<MulBackward>)\n"
     ]
    },
    {
     "name": "stderr",
     "output_type": "stream",
     "text": [
      "\n",
      "\n",
      "\n",
      "1623it [00:30, 52.81it/s]\u001b[A\u001b[A\u001b[A\n",
      "\n",
      "\n",
      "1629it [00:30, 52.81it/s]\u001b[A\u001b[A\u001b[A"
     ]
    },
    {
     "name": "stdout",
     "output_type": "stream",
     "text": [
      "BCE tensor(3061.8413, grad_fn=<BinaryCrossEntropyBackward>)\n",
      "KLD tensor(813.7206, grad_fn=<MulBackward>)\n",
      "BCE tensor(3127.9258, grad_fn=<BinaryCrossEntropyBackward>)\n",
      "KLD tensor(776.5228, grad_fn=<MulBackward>)\n",
      "BCE tensor(2992.6599, grad_fn=<BinaryCrossEntropyBackward>)\n",
      "KLD tensor(809.0031, grad_fn=<MulBackward>)\n",
      "BCE tensor(2926.8989, grad_fn=<BinaryCrossEntropyBackward>)\n",
      "KLD tensor(748.2947, grad_fn=<MulBackward>)\n",
      "BCE tensor(2588.7024, grad_fn=<BinaryCrossEntropyBackward>)\n",
      "KLD tensor(698.6534, grad_fn=<MulBackward>)\n",
      "BCE tensor(2885.9839, grad_fn=<BinaryCrossEntropyBackward>)\n",
      "KLD tensor(737.4349, grad_fn=<MulBackward>)\n",
      "BCE tensor(2926.5544, grad_fn=<BinaryCrossEntropyBackward>)\n",
      "KLD tensor(773.1835, grad_fn=<MulBackward>)\n",
      "BCE tensor(3045.5725, grad_fn=<BinaryCrossEntropyBackward>)\n",
      "KLD tensor(773.9105, grad_fn=<MulBackward>)\n",
      "BCE tensor(2792.8352, grad_fn=<BinaryCrossEntropyBackward>)\n",
      "KLD tensor(742.2900, grad_fn=<MulBackward>)\n",
      "BCE tensor(2875.1677, grad_fn=<BinaryCrossEntropyBackward>)\n",
      "KLD tensor(780.2208, grad_fn=<MulBackward>)\n",
      "BCE tensor(2966.8005, grad_fn=<BinaryCrossEntropyBackward>)\n",
      "KLD tensor(779.7477, grad_fn=<MulBackward>)\n"
     ]
    },
    {
     "name": "stderr",
     "output_type": "stream",
     "text": [
      "\n",
      "\n",
      "\n",
      "1635it [00:30, 52.81it/s]\u001b[A\u001b[A\u001b[A\n",
      "\n",
      "\n",
      "1641it [00:31, 52.81it/s]\u001b[A\u001b[A\u001b[A"
     ]
    },
    {
     "name": "stdout",
     "output_type": "stream",
     "text": [
      "BCE tensor(2771.4021, grad_fn=<BinaryCrossEntropyBackward>)\n",
      "KLD tensor(786.7806, grad_fn=<MulBackward>)\n",
      "BCE tensor(2659.0444, grad_fn=<BinaryCrossEntropyBackward>)\n",
      "KLD tensor(713.8539, grad_fn=<MulBackward>)\n",
      "BCE tensor(3052.2371, grad_fn=<BinaryCrossEntropyBackward>)\n",
      "KLD tensor(759.7303, grad_fn=<MulBackward>)\n",
      "BCE tensor(2696.3401, grad_fn=<BinaryCrossEntropyBackward>)\n",
      "KLD tensor(693.6204, grad_fn=<MulBackward>)\n",
      "BCE tensor(2990.8684, grad_fn=<BinaryCrossEntropyBackward>)\n",
      "KLD tensor(741.4457, grad_fn=<MulBackward>)\n",
      "BCE tensor(2872.2593, grad_fn=<BinaryCrossEntropyBackward>)\n",
      "KLD tensor(757.7861, grad_fn=<MulBackward>)\n",
      "BCE tensor(2886.9099, grad_fn=<BinaryCrossEntropyBackward>)\n",
      "KLD tensor(794.0845, grad_fn=<MulBackward>)\n",
      "BCE tensor(2886.2952, grad_fn=<BinaryCrossEntropyBackward>)\n",
      "KLD tensor(771.5665, grad_fn=<MulBackward>)\n",
      "BCE tensor(2637.5356, grad_fn=<BinaryCrossEntropyBackward>)\n",
      "KLD tensor(711.5317, grad_fn=<MulBackward>)\n",
      "BCE tensor(3091.1074, grad_fn=<BinaryCrossEntropyBackward>)\n",
      "KLD tensor(782.2506, grad_fn=<MulBackward>)\n",
      "BCE tensor(2856.5068, grad_fn=<BinaryCrossEntropyBackward>)\n",
      "KLD tensor(746.7143, grad_fn=<MulBackward>)\n"
     ]
    },
    {
     "name": "stderr",
     "output_type": "stream",
     "text": [
      "\n",
      "\n",
      "\n",
      "1647it [00:31, 52.78it/s]\u001b[A\u001b[A\u001b[A"
     ]
    },
    {
     "name": "stdout",
     "output_type": "stream",
     "text": [
      "BCE tensor(3021.9521, grad_fn=<BinaryCrossEntropyBackward>)\n",
      "KLD tensor(830.9561, grad_fn=<MulBackward>)\n",
      "BCE tensor(2888.4771, grad_fn=<BinaryCrossEntropyBackward>)\n",
      "KLD tensor(783.2441, grad_fn=<MulBackward>)\n",
      "BCE tensor(2643.4490, grad_fn=<BinaryCrossEntropyBackward>)\n",
      "KLD tensor(756.1248, grad_fn=<MulBackward>)\n",
      "BCE tensor(2645.4221, grad_fn=<BinaryCrossEntropyBackward>)\n",
      "KLD tensor(758.4349, grad_fn=<MulBackward>)\n",
      "BCE tensor(2899.0422, grad_fn=<BinaryCrossEntropyBackward>)\n",
      "KLD tensor(772.5864, grad_fn=<MulBackward>)\n",
      "BCE tensor(2770.0425, grad_fn=<BinaryCrossEntropyBackward>)\n",
      "KLD tensor(760.6678, grad_fn=<MulBackward>)\n",
      "BCE tensor(2958.6013, grad_fn=<BinaryCrossEntropyBackward>)\n",
      "KLD tensor(788.3807, grad_fn=<MulBackward>)\n",
      "BCE tensor(3264.8655, grad_fn=<BinaryCrossEntropyBackward>)\n",
      "KLD tensor(780.5933, grad_fn=<MulBackward>)\n",
      "BCE tensor(2781.0413, grad_fn=<BinaryCrossEntropyBackward>)\n",
      "KLD tensor(751.9029, grad_fn=<MulBackward>)\n",
      "BCE tensor(2905.5354, grad_fn=<BinaryCrossEntropyBackward>)\n",
      "KLD tensor(733.7123, grad_fn=<MulBackward>)\n"
     ]
    },
    {
     "name": "stderr",
     "output_type": "stream",
     "text": [
      "\n",
      "\n",
      "\n",
      "1653it [00:31, 52.76it/s]\u001b[A\u001b[A\u001b[A\n",
      "\n",
      "\n",
      "1658it [00:31, 52.74it/s]\u001b[A\u001b[A\u001b[A"
     ]
    },
    {
     "name": "stdout",
     "output_type": "stream",
     "text": [
      "BCE tensor(3034.6360, grad_fn=<BinaryCrossEntropyBackward>)\n",
      "KLD tensor(802.8682, grad_fn=<MulBackward>)\n",
      "BCE tensor(2938.7554, grad_fn=<BinaryCrossEntropyBackward>)\n",
      "KLD tensor(787.7759, grad_fn=<MulBackward>)\n",
      "BCE tensor(2995.5869, grad_fn=<BinaryCrossEntropyBackward>)\n",
      "KLD tensor(768.7764, grad_fn=<MulBackward>)\n",
      "BCE tensor(3022.9011, grad_fn=<BinaryCrossEntropyBackward>)\n",
      "KLD tensor(783.1395, grad_fn=<MulBackward>)\n",
      "BCE tensor(2907.4431, grad_fn=<BinaryCrossEntropyBackward>)\n",
      "KLD tensor(740.6049, grad_fn=<MulBackward>)\n",
      "BCE tensor(2904.2844, grad_fn=<BinaryCrossEntropyBackward>)\n",
      "KLD tensor(780.5782, grad_fn=<MulBackward>)\n",
      "BCE tensor(2785.4290, grad_fn=<BinaryCrossEntropyBackward>)\n",
      "KLD tensor(786.4670, grad_fn=<MulBackward>)\n",
      "BCE tensor(2586.1045, grad_fn=<BinaryCrossEntropyBackward>)\n",
      "KLD tensor(742.1877, grad_fn=<MulBackward>)\n",
      "BCE tensor(2896.1597, grad_fn=<BinaryCrossEntropyBackward>)\n",
      "KLD tensor(728.2662, grad_fn=<MulBackward>)\n",
      "BCE tensor(2749.6113, grad_fn=<BinaryCrossEntropyBackward>)\n",
      "KLD tensor(741.1641, grad_fn=<MulBackward>)\n"
     ]
    },
    {
     "name": "stderr",
     "output_type": "stream",
     "text": [
      "\n",
      "\n",
      "\n",
      "1663it [00:31, 52.72it/s]\u001b[A\u001b[A\u001b[A\n",
      "\n",
      "\n",
      "1669it [00:31, 52.71it/s]\u001b[A\u001b[A\u001b[A"
     ]
    },
    {
     "name": "stdout",
     "output_type": "stream",
     "text": [
      "BCE tensor(2844.9590, grad_fn=<BinaryCrossEntropyBackward>)\n",
      "KLD tensor(738.4925, grad_fn=<MulBackward>)\n",
      "BCE tensor(3062.6567, grad_fn=<BinaryCrossEntropyBackward>)\n",
      "KLD tensor(721.3838, grad_fn=<MulBackward>)\n",
      "BCE tensor(2891.1033, grad_fn=<BinaryCrossEntropyBackward>)\n",
      "KLD tensor(724.0418, grad_fn=<MulBackward>)\n",
      "BCE tensor(2912.7598, grad_fn=<BinaryCrossEntropyBackward>)\n",
      "KLD tensor(748.7443, grad_fn=<MulBackward>)\n",
      "BCE tensor(2899.1167, grad_fn=<BinaryCrossEntropyBackward>)\n",
      "KLD tensor(765.8188, grad_fn=<MulBackward>)\n",
      "BCE tensor(2817.8247, grad_fn=<BinaryCrossEntropyBackward>)\n",
      "KLD tensor(779.0914, grad_fn=<MulBackward>)\n",
      "BCE tensor(2917.3435, grad_fn=<BinaryCrossEntropyBackward>)\n",
      "KLD tensor(732.4811, grad_fn=<MulBackward>)\n",
      "BCE tensor(2894.5322, grad_fn=<BinaryCrossEntropyBackward>)\n",
      "KLD tensor(779.5430, grad_fn=<MulBackward>)\n",
      "BCE tensor(3019.7915, grad_fn=<BinaryCrossEntropyBackward>)\n",
      "KLD tensor(722.0456, grad_fn=<MulBackward>)\n",
      "BCE tensor(2708.9016, grad_fn=<BinaryCrossEntropyBackward>)\n",
      "KLD tensor(703.5226, grad_fn=<MulBackward>)\n"
     ]
    },
    {
     "name": "stderr",
     "output_type": "stream",
     "text": [
      "\n",
      "\n",
      "\n",
      "1674it [00:31, 52.69it/s]\u001b[A\u001b[A\u001b[A"
     ]
    },
    {
     "name": "stdout",
     "output_type": "stream",
     "text": [
      "BCE tensor(2800.8318, grad_fn=<BinaryCrossEntropyBackward>)\n",
      "KLD tensor(753.1956, grad_fn=<MulBackward>)\n",
      "BCE tensor(2834.5293, grad_fn=<BinaryCrossEntropyBackward>)\n",
      "KLD tensor(745.8494, grad_fn=<MulBackward>)\n",
      "BCE tensor(3052.3843, grad_fn=<BinaryCrossEntropyBackward>)\n",
      "KLD tensor(777.3524, grad_fn=<MulBackward>)\n",
      "BCE tensor(2964.6248, grad_fn=<BinaryCrossEntropyBackward>)\n",
      "KLD tensor(742.2621, grad_fn=<MulBackward>)\n",
      "BCE tensor(3137.5984, grad_fn=<BinaryCrossEntropyBackward>)\n",
      "KLD tensor(762.5859, grad_fn=<MulBackward>)\n",
      "BCE tensor(2970.3206, grad_fn=<BinaryCrossEntropyBackward>)\n",
      "KLD tensor(796.5943, grad_fn=<MulBackward>)\n"
     ]
    },
    {
     "name": "stderr",
     "output_type": "stream",
     "text": [
      "\n",
      "\n",
      "\n",
      "1679it [00:31, 52.49it/s]\u001b[A\u001b[A\u001b[A\n",
      "\n",
      "\n",
      "1684it [00:32, 52.48it/s]\u001b[A\u001b[A\u001b[A"
     ]
    },
    {
     "name": "stdout",
     "output_type": "stream",
     "text": [
      "BCE tensor(2941.7432, grad_fn=<BinaryCrossEntropyBackward>)\n",
      "KLD tensor(780.1369, grad_fn=<MulBackward>)\n",
      "BCE tensor(3057.6482, grad_fn=<BinaryCrossEntropyBackward>)\n",
      "KLD tensor(810.1579, grad_fn=<MulBackward>)\n",
      "BCE tensor(3140.8547, grad_fn=<BinaryCrossEntropyBackward>)\n",
      "KLD tensor(815.0127, grad_fn=<MulBackward>)\n",
      "BCE tensor(3080.1177, grad_fn=<BinaryCrossEntropyBackward>)\n",
      "KLD tensor(799.0645, grad_fn=<MulBackward>)\n",
      "BCE tensor(3139.9849, grad_fn=<BinaryCrossEntropyBackward>)\n",
      "KLD tensor(797.8790, grad_fn=<MulBackward>)\n",
      "BCE tensor(2564.7266, grad_fn=<BinaryCrossEntropyBackward>)\n",
      "KLD tensor(742.9726, grad_fn=<MulBackward>)\n",
      "BCE tensor(2807.2759, grad_fn=<BinaryCrossEntropyBackward>)\n",
      "KLD tensor(745.8414, grad_fn=<MulBackward>)\n",
      "BCE tensor(2836.3579, grad_fn=<BinaryCrossEntropyBackward>)\n",
      "KLD tensor(767.0291, grad_fn=<MulBackward>)\n",
      "BCE tensor(2886.1633, grad_fn=<BinaryCrossEntropyBackward>)\n",
      "KLD tensor(805.2003, grad_fn=<MulBackward>)\n",
      "BCE tensor(2795.5566, grad_fn=<BinaryCrossEntropyBackward>)\n",
      "KLD tensor(734.8162, grad_fn=<MulBackward>)\n"
     ]
    },
    {
     "name": "stderr",
     "output_type": "stream",
     "text": [
      "\n",
      "\n",
      "\n",
      "1689it [00:32, 52.46it/s]\u001b[A\u001b[A\u001b[A\n",
      "\n",
      "\n",
      "1695it [00:32, 52.46it/s]\u001b[A\u001b[A\u001b[A"
     ]
    },
    {
     "name": "stdout",
     "output_type": "stream",
     "text": [
      "BCE tensor(2712.4287, grad_fn=<BinaryCrossEntropyBackward>)\n",
      "KLD tensor(739.8351, grad_fn=<MulBackward>)\n",
      "BCE tensor(2971.4917, grad_fn=<BinaryCrossEntropyBackward>)\n",
      "KLD tensor(813.1101, grad_fn=<MulBackward>)\n",
      "BCE tensor(2955.2327, grad_fn=<BinaryCrossEntropyBackward>)\n",
      "KLD tensor(826.5732, grad_fn=<MulBackward>)\n",
      "BCE tensor(2999.9685, grad_fn=<BinaryCrossEntropyBackward>)\n",
      "KLD tensor(805.3297, grad_fn=<MulBackward>)\n",
      "BCE tensor(2577.7837, grad_fn=<BinaryCrossEntropyBackward>)\n",
      "KLD tensor(740.0680, grad_fn=<MulBackward>)\n",
      "BCE tensor(2895.3381, grad_fn=<BinaryCrossEntropyBackward>)\n",
      "KLD tensor(792.2614, grad_fn=<MulBackward>)\n",
      "BCE tensor(2833.9956, grad_fn=<BinaryCrossEntropyBackward>)\n",
      "KLD tensor(753.6365, grad_fn=<MulBackward>)\n",
      "BCE tensor(2985.8425, grad_fn=<BinaryCrossEntropyBackward>)\n",
      "KLD tensor(764.3087, grad_fn=<MulBackward>)\n",
      "BCE tensor(2776.2656, grad_fn=<BinaryCrossEntropyBackward>)\n",
      "KLD tensor(747.1763, grad_fn=<MulBackward>)\n",
      "BCE tensor(2912.1628, grad_fn=<BinaryCrossEntropyBackward>)\n",
      "KLD tensor(787.4944, grad_fn=<MulBackward>)\n",
      "BCE tensor(2784.7546, grad_fn=<BinaryCrossEntropyBackward>)\n",
      "KLD tensor(791.0201, grad_fn=<MulBackward>)\n"
     ]
    },
    {
     "name": "stderr",
     "output_type": "stream",
     "text": [
      "\n",
      "\n",
      "\n",
      "1701it [00:32, 52.46it/s]\u001b[A\u001b[A\u001b[A\n",
      "\n",
      "\n",
      "1707it [00:32, 52.47it/s]\u001b[A\u001b[A\u001b[A"
     ]
    },
    {
     "name": "stdout",
     "output_type": "stream",
     "text": [
      "BCE tensor(3091.0156, grad_fn=<BinaryCrossEntropyBackward>)\n",
      "KLD tensor(796.2603, grad_fn=<MulBackward>)\n",
      "BCE tensor(2901.5486, grad_fn=<BinaryCrossEntropyBackward>)\n",
      "KLD tensor(775.1865, grad_fn=<MulBackward>)\n",
      "BCE tensor(2907.1963, grad_fn=<BinaryCrossEntropyBackward>)\n",
      "KLD tensor(799.7548, grad_fn=<MulBackward>)\n",
      "BCE tensor(2830.6343, grad_fn=<BinaryCrossEntropyBackward>)\n",
      "KLD tensor(743.8821, grad_fn=<MulBackward>)\n",
      "BCE tensor(2923.7708, grad_fn=<BinaryCrossEntropyBackward>)\n",
      "KLD tensor(756.4975, grad_fn=<MulBackward>)\n",
      "BCE tensor(2882.7966, grad_fn=<BinaryCrossEntropyBackward>)\n",
      "KLD tensor(717.6652, grad_fn=<MulBackward>)\n",
      "BCE tensor(3435.7859, grad_fn=<BinaryCrossEntropyBackward>)\n",
      "KLD tensor(720.4006, grad_fn=<MulBackward>)\n",
      "BCE tensor(2535.9209, grad_fn=<BinaryCrossEntropyBackward>)\n",
      "KLD tensor(662.4836, grad_fn=<MulBackward>)\n",
      "BCE tensor(2857.7825, grad_fn=<BinaryCrossEntropyBackward>)\n",
      "KLD tensor(725.3495, grad_fn=<MulBackward>)\n",
      "BCE tensor(2971.7515, grad_fn=<BinaryCrossEntropyBackward>)\n",
      "KLD tensor(778.1539, grad_fn=<MulBackward>)\n",
      "BCE tensor(2398.1035, grad_fn=<BinaryCrossEntropyBackward>)\n",
      "KLD tensor(711.3312, grad_fn=<MulBackward>)\n"
     ]
    },
    {
     "name": "stderr",
     "output_type": "stream",
     "text": [
      "\n",
      "\n",
      "\n",
      "1713it [00:32, 52.45it/s]\u001b[A\u001b[A\u001b[A\n",
      "\n",
      "\n",
      "1718it [00:32, 52.44it/s]\u001b[A\u001b[A\u001b[A"
     ]
    },
    {
     "name": "stdout",
     "output_type": "stream",
     "text": [
      "BCE tensor(2898.1602, grad_fn=<BinaryCrossEntropyBackward>)\n",
      "KLD tensor(741.0330, grad_fn=<MulBackward>)\n",
      "BCE tensor(2781.9695, grad_fn=<BinaryCrossEntropyBackward>)\n",
      "KLD tensor(765.3608, grad_fn=<MulBackward>)\n",
      "BCE tensor(2729.0369, grad_fn=<BinaryCrossEntropyBackward>)\n",
      "KLD tensor(759.3341, grad_fn=<MulBackward>)\n",
      "BCE tensor(2793.3816, grad_fn=<BinaryCrossEntropyBackward>)\n",
      "KLD tensor(689.6387, grad_fn=<MulBackward>)\n",
      "BCE tensor(2803.4487, grad_fn=<BinaryCrossEntropyBackward>)\n",
      "KLD tensor(785.6419, grad_fn=<MulBackward>)\n",
      "BCE tensor(3102.8086, grad_fn=<BinaryCrossEntropyBackward>)\n",
      "KLD tensor(769.9579, grad_fn=<MulBackward>)\n",
      "BCE tensor(3054.4065, grad_fn=<BinaryCrossEntropyBackward>)\n",
      "KLD tensor(766.8475, grad_fn=<MulBackward>)\n",
      "BCE tensor(2887.7156, grad_fn=<BinaryCrossEntropyBackward>)\n",
      "KLD tensor(749.9695, grad_fn=<MulBackward>)\n",
      "BCE tensor(2868.9807, grad_fn=<BinaryCrossEntropyBackward>)\n",
      "KLD tensor(768.7018, grad_fn=<MulBackward>)\n",
      "BCE tensor(2981.9856, grad_fn=<BinaryCrossEntropyBackward>)\n",
      "KLD tensor(810.8351, grad_fn=<MulBackward>)\n"
     ]
    },
    {
     "name": "stderr",
     "output_type": "stream",
     "text": [
      "\n",
      "\n",
      "\n",
      "1723it [00:32, 52.43it/s]\u001b[A\u001b[A\u001b[A\n",
      "\n",
      "\n",
      "1729it [00:32, 52.43it/s]\u001b[A\u001b[A\u001b[A"
     ]
    },
    {
     "name": "stdout",
     "output_type": "stream",
     "text": [
      "BCE tensor(2781.2529, grad_fn=<BinaryCrossEntropyBackward>)\n",
      "KLD tensor(730.0616, grad_fn=<MulBackward>)\n",
      "BCE tensor(3001.0718, grad_fn=<BinaryCrossEntropyBackward>)\n",
      "KLD tensor(792.7244, grad_fn=<MulBackward>)\n",
      "BCE tensor(3029.2952, grad_fn=<BinaryCrossEntropyBackward>)\n",
      "KLD tensor(796.3492, grad_fn=<MulBackward>)\n",
      "BCE tensor(2991.0667, grad_fn=<BinaryCrossEntropyBackward>)\n",
      "KLD tensor(795.7450, grad_fn=<MulBackward>)\n",
      "BCE tensor(2712.0061, grad_fn=<BinaryCrossEntropyBackward>)\n",
      "KLD tensor(766.3755, grad_fn=<MulBackward>)\n",
      "BCE tensor(2827.3118, grad_fn=<BinaryCrossEntropyBackward>)\n",
      "KLD tensor(803.7635, grad_fn=<MulBackward>)\n",
      "BCE tensor(3161.7490, grad_fn=<BinaryCrossEntropyBackward>)\n",
      "KLD tensor(815.8672, grad_fn=<MulBackward>)\n",
      "BCE tensor(2534.5261, grad_fn=<BinaryCrossEntropyBackward>)\n",
      "KLD tensor(704.0543, grad_fn=<MulBackward>)\n",
      "BCE tensor(2908.9963, grad_fn=<BinaryCrossEntropyBackward>)\n",
      "KLD tensor(760.8725, grad_fn=<MulBackward>)\n",
      "BCE tensor(2994.7991, grad_fn=<BinaryCrossEntropyBackward>)\n",
      "KLD tensor(774.0286, grad_fn=<MulBackward>)\n",
      "BCE tensor(2767.1912, grad_fn=<BinaryCrossEntropyBackward>)\n",
      "KLD tensor(779.5203, grad_fn=<MulBackward>)\n"
     ]
    },
    {
     "name": "stderr",
     "output_type": "stream",
     "text": [
      "\n",
      "\n",
      "\n",
      "1735it [00:33, 52.42it/s]\u001b[A\u001b[A\u001b[A\n",
      "\n",
      "\n",
      "1741it [00:33, 52.41it/s]\u001b[A\u001b[A\u001b[A"
     ]
    },
    {
     "name": "stdout",
     "output_type": "stream",
     "text": [
      "BCE tensor(2891.0576, grad_fn=<BinaryCrossEntropyBackward>)\n",
      "KLD tensor(746.3600, grad_fn=<MulBackward>)\n",
      "BCE tensor(3155.6987, grad_fn=<BinaryCrossEntropyBackward>)\n",
      "KLD tensor(743.2123, grad_fn=<MulBackward>)\n",
      "BCE tensor(2931.2161, grad_fn=<BinaryCrossEntropyBackward>)\n",
      "KLD tensor(722.8238, grad_fn=<MulBackward>)\n",
      "BCE tensor(3193.8774, grad_fn=<BinaryCrossEntropyBackward>)\n",
      "KLD tensor(761.5547, grad_fn=<MulBackward>)\n",
      "BCE tensor(2724.7893, grad_fn=<BinaryCrossEntropyBackward>)\n",
      "KLD tensor(746.0793, grad_fn=<MulBackward>)\n",
      "BCE tensor(3056.1421, grad_fn=<BinaryCrossEntropyBackward>)\n",
      "KLD tensor(762.6270, grad_fn=<MulBackward>)\n",
      "BCE tensor(2767.8184, grad_fn=<BinaryCrossEntropyBackward>)\n",
      "KLD tensor(725.3579, grad_fn=<MulBackward>)\n",
      "BCE tensor(3093.0225, grad_fn=<BinaryCrossEntropyBackward>)\n",
      "KLD tensor(781.6841, grad_fn=<MulBackward>)\n",
      "BCE tensor(2882.8123, grad_fn=<BinaryCrossEntropyBackward>)\n",
      "KLD tensor(788.5992, grad_fn=<MulBackward>)\n",
      "BCE tensor(2669.9355, grad_fn=<BinaryCrossEntropyBackward>)\n",
      "KLD tensor(751.1842, grad_fn=<MulBackward>)\n"
     ]
    },
    {
     "name": "stderr",
     "output_type": "stream",
     "text": [
      "\n",
      "\n",
      "\n",
      "1747it [00:33, 52.41it/s]\u001b[A\u001b[A\u001b[A"
     ]
    },
    {
     "name": "stdout",
     "output_type": "stream",
     "text": [
      "BCE tensor(2968.9019, grad_fn=<BinaryCrossEntropyBackward>)\n",
      "KLD tensor(776.7479, grad_fn=<MulBackward>)\n",
      "BCE tensor(2950.4939, grad_fn=<BinaryCrossEntropyBackward>)\n",
      "KLD tensor(730.2676, grad_fn=<MulBackward>)\n",
      "BCE tensor(2745.8384, grad_fn=<BinaryCrossEntropyBackward>)\n",
      "KLD tensor(777.1918, grad_fn=<MulBackward>)\n",
      "BCE tensor(2758.7754, grad_fn=<BinaryCrossEntropyBackward>)\n",
      "KLD tensor(759.6193, grad_fn=<MulBackward>)\n",
      "BCE tensor(2773.0024, grad_fn=<BinaryCrossEntropyBackward>)\n",
      "KLD tensor(716.6699, grad_fn=<MulBackward>)\n",
      "BCE tensor(2652.8652, grad_fn=<BinaryCrossEntropyBackward>)\n",
      "KLD tensor(753.6057, grad_fn=<MulBackward>)\n",
      "BCE tensor(3238.1492, grad_fn=<BinaryCrossEntropyBackward>)\n",
      "KLD tensor(729.7682, grad_fn=<MulBackward>)\n",
      "BCE tensor(2786.6228, grad_fn=<BinaryCrossEntropyBackward>)\n",
      "KLD tensor(751.2844, grad_fn=<MulBackward>)\n",
      "BCE tensor(2874.7412, grad_fn=<BinaryCrossEntropyBackward>)\n",
      "KLD tensor(745.3100, grad_fn=<MulBackward>)\n",
      "BCE tensor(2895.7234, grad_fn=<BinaryCrossEntropyBackward>)\n",
      "KLD tensor(768.8724, grad_fn=<MulBackward>)\n",
      "BCE tensor(2954.6333, grad_fn=<BinaryCrossEntropyBackward>)\n",
      "KLD tensor(785.8745, grad_fn=<MulBackward>)\n"
     ]
    },
    {
     "name": "stderr",
     "output_type": "stream",
     "text": [
      "\n",
      "\n",
      "\n",
      "1753it [00:33, 52.41it/s]\u001b[A\u001b[A\u001b[A\n",
      "\n",
      "\n",
      "1759it [00:33, 52.40it/s]\u001b[A\u001b[A\u001b[A"
     ]
    },
    {
     "name": "stdout",
     "output_type": "stream",
     "text": [
      "BCE tensor(3152.9229, grad_fn=<BinaryCrossEntropyBackward>)\n",
      "KLD tensor(782.6260, grad_fn=<MulBackward>)\n",
      "BCE tensor(3064.4441, grad_fn=<BinaryCrossEntropyBackward>)\n",
      "KLD tensor(778.3174, grad_fn=<MulBackward>)\n",
      "BCE tensor(2916.1206, grad_fn=<BinaryCrossEntropyBackward>)\n",
      "KLD tensor(758.7120, grad_fn=<MulBackward>)\n",
      "BCE tensor(2958.1548, grad_fn=<BinaryCrossEntropyBackward>)\n",
      "KLD tensor(775.3951, grad_fn=<MulBackward>)\n",
      "BCE tensor(2532.8025, grad_fn=<BinaryCrossEntropyBackward>)\n",
      "KLD tensor(701.5037, grad_fn=<MulBackward>)\n",
      "BCE tensor(3103.0281, grad_fn=<BinaryCrossEntropyBackward>)\n",
      "KLD tensor(698.7247, grad_fn=<MulBackward>)\n",
      "BCE tensor(2857.9653, grad_fn=<BinaryCrossEntropyBackward>)\n",
      "KLD tensor(767.9963, grad_fn=<MulBackward>)\n",
      "BCE tensor(3079.0090, grad_fn=<BinaryCrossEntropyBackward>)\n",
      "KLD tensor(798.8321, grad_fn=<MulBackward>)\n",
      "BCE tensor(3046.0205, grad_fn=<BinaryCrossEntropyBackward>)\n",
      "KLD tensor(751.9414, grad_fn=<MulBackward>)\n",
      "BCE tensor(3048.9502, grad_fn=<BinaryCrossEntropyBackward>)\n",
      "KLD tensor(825.5552, grad_fn=<MulBackward>)\n",
      "BCE tensor(2528.0681, grad_fn=<BinaryCrossEntropyBackward>)\n",
      "KLD tensor(726.9620, grad_fn=<MulBackward>)\n"
     ]
    },
    {
     "name": "stderr",
     "output_type": "stream",
     "text": [
      "\n",
      "\n",
      "\n",
      "1765it [00:33, 52.39it/s]\u001b[A\u001b[A\u001b[A\n",
      "\n",
      "\n",
      "1771it [00:33, 52.38it/s]\u001b[A\u001b[A\u001b[A"
     ]
    },
    {
     "name": "stdout",
     "output_type": "stream",
     "text": [
      "BCE tensor(2589.8640, grad_fn=<BinaryCrossEntropyBackward>)\n",
      "KLD tensor(740.5784, grad_fn=<MulBackward>)\n",
      "BCE tensor(2724.5862, grad_fn=<BinaryCrossEntropyBackward>)\n",
      "KLD tensor(768.4210, grad_fn=<MulBackward>)\n",
      "BCE tensor(2914.8171, grad_fn=<BinaryCrossEntropyBackward>)\n",
      "KLD tensor(717.9998, grad_fn=<MulBackward>)\n",
      "BCE tensor(2993.3430, grad_fn=<BinaryCrossEntropyBackward>)\n",
      "KLD tensor(791.1760, grad_fn=<MulBackward>)\n",
      "BCE tensor(2813.6284, grad_fn=<BinaryCrossEntropyBackward>)\n",
      "KLD tensor(794.0306, grad_fn=<MulBackward>)\n",
      "BCE tensor(2847.0515, grad_fn=<BinaryCrossEntropyBackward>)\n",
      "KLD tensor(773.4456, grad_fn=<MulBackward>)\n",
      "BCE tensor(2841.9421, grad_fn=<BinaryCrossEntropyBackward>)\n",
      "KLD tensor(763.5825, grad_fn=<MulBackward>)\n",
      "BCE tensor(3043.2383, grad_fn=<BinaryCrossEntropyBackward>)\n",
      "KLD tensor(841.5731, grad_fn=<MulBackward>)\n",
      "BCE tensor(2788.1133, grad_fn=<BinaryCrossEntropyBackward>)\n",
      "KLD tensor(775.0141, grad_fn=<MulBackward>)\n",
      "BCE tensor(2776.6304, grad_fn=<BinaryCrossEntropyBackward>)\n",
      "KLD tensor(751.4958, grad_fn=<MulBackward>)\n"
     ]
    },
    {
     "name": "stderr",
     "output_type": "stream",
     "text": [
      "\n",
      "\n",
      "\n",
      "1777it [00:33, 52.34it/s]\u001b[A\u001b[A\u001b[A"
     ]
    },
    {
     "name": "stdout",
     "output_type": "stream",
     "text": [
      "BCE tensor(2689.9438, grad_fn=<BinaryCrossEntropyBackward>)\n",
      "KLD tensor(719.3746, grad_fn=<MulBackward>)\n",
      "BCE tensor(2862.9453, grad_fn=<BinaryCrossEntropyBackward>)\n",
      "KLD tensor(718.9427, grad_fn=<MulBackward>)\n",
      "BCE tensor(2880.8716, grad_fn=<BinaryCrossEntropyBackward>)\n",
      "KLD tensor(748.7595, grad_fn=<MulBackward>)\n",
      "BCE tensor(2994.2053, grad_fn=<BinaryCrossEntropyBackward>)\n",
      "KLD tensor(845.3248, grad_fn=<MulBackward>)\n",
      "BCE tensor(2829.9187, grad_fn=<BinaryCrossEntropyBackward>)\n",
      "KLD tensor(739.2581, grad_fn=<MulBackward>)\n",
      "BCE tensor(3049.2710, grad_fn=<BinaryCrossEntropyBackward>)\n",
      "KLD tensor(767.5856, grad_fn=<MulBackward>)\n",
      "BCE tensor(2658.3799, grad_fn=<BinaryCrossEntropyBackward>)\n",
      "KLD tensor(747.5791, grad_fn=<MulBackward>)\n",
      "BCE tensor(2652.8975, grad_fn=<BinaryCrossEntropyBackward>)\n",
      "KLD tensor(721.5661, grad_fn=<MulBackward>)\n",
      "BCE tensor(2910.3081, grad_fn=<BinaryCrossEntropyBackward>)\n",
      "KLD tensor(763.2657, grad_fn=<MulBackward>)\n"
     ]
    },
    {
     "name": "stderr",
     "output_type": "stream",
     "text": [
      "\n",
      "\n",
      "\n",
      "1782it [00:34, 52.32it/s]\u001b[A\u001b[A\u001b[A\n",
      "\n",
      "\n",
      "1788it [00:34, 52.31it/s]\u001b[A\u001b[A\u001b[A"
     ]
    },
    {
     "name": "stdout",
     "output_type": "stream",
     "text": [
      "BCE tensor(2966.7664, grad_fn=<BinaryCrossEntropyBackward>)\n",
      "KLD tensor(722.3918, grad_fn=<MulBackward>)\n",
      "BCE tensor(2764.9622, grad_fn=<BinaryCrossEntropyBackward>)\n",
      "KLD tensor(759.3732, grad_fn=<MulBackward>)\n",
      "BCE tensor(3026.8616, grad_fn=<BinaryCrossEntropyBackward>)\n",
      "KLD tensor(743.1571, grad_fn=<MulBackward>)\n",
      "BCE tensor(2820.5964, grad_fn=<BinaryCrossEntropyBackward>)\n",
      "KLD tensor(746.4831, grad_fn=<MulBackward>)\n",
      "BCE tensor(2874.5703, grad_fn=<BinaryCrossEntropyBackward>)\n",
      "KLD tensor(760.4019, grad_fn=<MulBackward>)\n",
      "BCE tensor(2958.9414, grad_fn=<BinaryCrossEntropyBackward>)\n",
      "KLD tensor(771.1682, grad_fn=<MulBackward>)\n",
      "BCE tensor(3187.9038, grad_fn=<BinaryCrossEntropyBackward>)\n",
      "KLD tensor(790.3357, grad_fn=<MulBackward>)\n",
      "BCE tensor(3021.3157, grad_fn=<BinaryCrossEntropyBackward>)\n",
      "KLD tensor(754.8038, grad_fn=<MulBackward>)\n",
      "BCE tensor(2843.8723, grad_fn=<BinaryCrossEntropyBackward>)\n",
      "KLD tensor(739.6228, grad_fn=<MulBackward>)\n"
     ]
    },
    {
     "name": "stderr",
     "output_type": "stream",
     "text": [
      "\n",
      "\n",
      "\n",
      "1793it [00:34, 52.25it/s]\u001b[A\u001b[A\u001b[A\n",
      "\n",
      "\n",
      "1798it [00:34, 52.23it/s]\u001b[A\u001b[A\u001b[A"
     ]
    },
    {
     "name": "stdout",
     "output_type": "stream",
     "text": [
      "BCE tensor(3046.4958, grad_fn=<BinaryCrossEntropyBackward>)\n",
      "KLD tensor(796.5594, grad_fn=<MulBackward>)\n",
      "BCE tensor(2719.5046, grad_fn=<BinaryCrossEntropyBackward>)\n",
      "KLD tensor(755.4709, grad_fn=<MulBackward>)\n",
      "BCE tensor(3135.9919, grad_fn=<BinaryCrossEntropyBackward>)\n",
      "KLD tensor(757.8149, grad_fn=<MulBackward>)\n",
      "BCE tensor(2939.4712, grad_fn=<BinaryCrossEntropyBackward>)\n",
      "KLD tensor(748.8676, grad_fn=<MulBackward>)\n",
      "BCE tensor(3126.0857, grad_fn=<BinaryCrossEntropyBackward>)\n",
      "KLD tensor(789.9681, grad_fn=<MulBackward>)\n",
      "BCE tensor(2865.0735, grad_fn=<BinaryCrossEntropyBackward>)\n",
      "KLD tensor(747.9622, grad_fn=<MulBackward>)\n",
      "BCE tensor(2879.3438, grad_fn=<BinaryCrossEntropyBackward>)\n",
      "KLD tensor(805.6276, grad_fn=<MulBackward>)\n",
      "BCE tensor(2735.7920, grad_fn=<BinaryCrossEntropyBackward>)\n",
      "KLD tensor(740.4760, grad_fn=<MulBackward>)\n",
      "BCE tensor(2939.2405, grad_fn=<BinaryCrossEntropyBackward>)\n",
      "KLD tensor(812.8275, grad_fn=<MulBackward>)\n"
     ]
    },
    {
     "name": "stderr",
     "output_type": "stream",
     "text": [
      "\n",
      "\n",
      "\n",
      "1803it [00:34, 52.21it/s]\u001b[A\u001b[A\u001b[A\n",
      "\n",
      "\n",
      "1808it [00:34, 52.17it/s]\u001b[A\u001b[A\u001b[A"
     ]
    },
    {
     "name": "stdout",
     "output_type": "stream",
     "text": [
      "BCE tensor(2685.9795, grad_fn=<BinaryCrossEntropyBackward>)\n",
      "KLD tensor(758.4778, grad_fn=<MulBackward>)\n",
      "BCE tensor(2701.7585, grad_fn=<BinaryCrossEntropyBackward>)\n",
      "KLD tensor(786.7194, grad_fn=<MulBackward>)\n",
      "BCE tensor(2897.4597, grad_fn=<BinaryCrossEntropyBackward>)\n",
      "KLD tensor(761.1469, grad_fn=<MulBackward>)\n",
      "BCE tensor(3079.0320, grad_fn=<BinaryCrossEntropyBackward>)\n",
      "KLD tensor(775.2659, grad_fn=<MulBackward>)\n",
      "BCE tensor(3002.5002, grad_fn=<BinaryCrossEntropyBackward>)\n",
      "KLD tensor(746.0999, grad_fn=<MulBackward>)\n",
      "BCE tensor(2804.4001, grad_fn=<BinaryCrossEntropyBackward>)\n",
      "KLD tensor(733.1620, grad_fn=<MulBackward>)\n",
      "BCE tensor(2848.6885, grad_fn=<BinaryCrossEntropyBackward>)\n",
      "KLD tensor(737.9861, grad_fn=<MulBackward>)\n",
      "BCE tensor(2735.7617, grad_fn=<BinaryCrossEntropyBackward>)\n",
      "KLD tensor(777.3923, grad_fn=<MulBackward>)\n",
      "BCE tensor(2836.6187, grad_fn=<BinaryCrossEntropyBackward>)\n",
      "KLD tensor(727.5934, grad_fn=<MulBackward>)\n"
     ]
    },
    {
     "name": "stderr",
     "output_type": "stream",
     "text": [
      "\n",
      "\n",
      "\n",
      "1813it [00:34, 52.15it/s]\u001b[A\u001b[A\u001b[A\n",
      "\n",
      "\n",
      "1818it [00:34, 52.14it/s]\u001b[A\u001b[A\u001b[A"
     ]
    },
    {
     "name": "stdout",
     "output_type": "stream",
     "text": [
      "BCE tensor(3183.9211, grad_fn=<BinaryCrossEntropyBackward>)\n",
      "KLD tensor(772.9924, grad_fn=<MulBackward>)\n",
      "BCE tensor(2899.5293, grad_fn=<BinaryCrossEntropyBackward>)\n",
      "KLD tensor(770.3948, grad_fn=<MulBackward>)\n",
      "BCE tensor(2718.0923, grad_fn=<BinaryCrossEntropyBackward>)\n",
      "KLD tensor(732.3871, grad_fn=<MulBackward>)\n",
      "BCE tensor(3026.8025, grad_fn=<BinaryCrossEntropyBackward>)\n",
      "KLD tensor(725.2966, grad_fn=<MulBackward>)\n",
      "BCE tensor(3060.5867, grad_fn=<BinaryCrossEntropyBackward>)\n",
      "KLD tensor(712.0733, grad_fn=<MulBackward>)\n",
      "BCE tensor(2847.6274, grad_fn=<BinaryCrossEntropyBackward>)\n",
      "KLD tensor(723.5411, grad_fn=<MulBackward>)\n",
      "BCE tensor(2890.3372, grad_fn=<BinaryCrossEntropyBackward>)\n",
      "KLD tensor(731.0416, grad_fn=<MulBackward>)\n",
      "BCE tensor(3158.1453, grad_fn=<BinaryCrossEntropyBackward>)\n",
      "KLD tensor(799.6689, grad_fn=<MulBackward>)\n",
      "BCE tensor(2947.0798, grad_fn=<BinaryCrossEntropyBackward>)\n",
      "KLD tensor(758.4319, grad_fn=<MulBackward>)\n",
      "BCE tensor(2937.9780, grad_fn=<BinaryCrossEntropyBackward>)\n",
      "KLD tensor(776.4237, grad_fn=<MulBackward>)\n"
     ]
    },
    {
     "name": "stderr",
     "output_type": "stream",
     "text": [
      "\n",
      "\n",
      "\n",
      "1823it [00:34, 52.12it/s]\u001b[A\u001b[A\u001b[A\n",
      "\n",
      "\n",
      "1828it [00:35, 52.11it/s]\u001b[A\u001b[A\u001b[A"
     ]
    },
    {
     "name": "stdout",
     "output_type": "stream",
     "text": [
      "BCE tensor(2892.9563, grad_fn=<BinaryCrossEntropyBackward>)\n",
      "KLD tensor(770.9833, grad_fn=<MulBackward>)\n",
      "BCE tensor(2862.0112, grad_fn=<BinaryCrossEntropyBackward>)\n",
      "KLD tensor(801.9079, grad_fn=<MulBackward>)\n",
      "BCE tensor(2795.8518, grad_fn=<BinaryCrossEntropyBackward>)\n",
      "KLD tensor(779.6407, grad_fn=<MulBackward>)\n",
      "BCE tensor(2629.0847, grad_fn=<BinaryCrossEntropyBackward>)\n",
      "KLD tensor(815.7961, grad_fn=<MulBackward>)\n",
      "BCE tensor(3215.8333, grad_fn=<BinaryCrossEntropyBackward>)\n",
      "KLD tensor(796.6562, grad_fn=<MulBackward>)\n",
      "BCE tensor(3047.7000, grad_fn=<BinaryCrossEntropyBackward>)\n",
      "KLD tensor(809.5067, grad_fn=<MulBackward>)\n",
      "BCE tensor(2614.3125, grad_fn=<BinaryCrossEntropyBackward>)\n",
      "KLD tensor(768.8904, grad_fn=<MulBackward>)\n",
      "BCE tensor(2815.7712, grad_fn=<BinaryCrossEntropyBackward>)\n",
      "KLD tensor(738.5267, grad_fn=<MulBackward>)\n",
      "BCE tensor(2745.4150, grad_fn=<BinaryCrossEntropyBackward>)\n",
      "KLD tensor(809.6450, grad_fn=<MulBackward>)\n",
      "BCE tensor(3041.6758, grad_fn=<BinaryCrossEntropyBackward>)\n",
      "KLD tensor(804.5109, grad_fn=<MulBackward>)\n"
     ]
    },
    {
     "name": "stderr",
     "output_type": "stream",
     "text": [
      "\n",
      "\n",
      "\n",
      "1834it [00:35, 52.10it/s]\u001b[A\u001b[A\u001b[A\n",
      "\n",
      "\n",
      "1839it [00:35, 52.09it/s]\u001b[A\u001b[A\u001b[A"
     ]
    },
    {
     "name": "stdout",
     "output_type": "stream",
     "text": [
      "BCE tensor(2647.0686, grad_fn=<BinaryCrossEntropyBackward>)\n",
      "KLD tensor(740.5836, grad_fn=<MulBackward>)\n",
      "BCE tensor(2854.2502, grad_fn=<BinaryCrossEntropyBackward>)\n",
      "KLD tensor(738.9912, grad_fn=<MulBackward>)\n",
      "BCE tensor(3027.7424, grad_fn=<BinaryCrossEntropyBackward>)\n",
      "KLD tensor(763.2593, grad_fn=<MulBackward>)\n",
      "BCE tensor(3131.5100, grad_fn=<BinaryCrossEntropyBackward>)\n",
      "KLD tensor(761.0821, grad_fn=<MulBackward>)\n",
      "BCE tensor(2842.9053, grad_fn=<BinaryCrossEntropyBackward>)\n",
      "KLD tensor(770.2958, grad_fn=<MulBackward>)\n",
      "BCE tensor(2733.3357, grad_fn=<BinaryCrossEntropyBackward>)\n",
      "KLD tensor(753.1117, grad_fn=<MulBackward>)\n",
      "BCE tensor(3021.5605, grad_fn=<BinaryCrossEntropyBackward>)\n",
      "KLD tensor(785.1951, grad_fn=<MulBackward>)\n",
      "BCE tensor(2940.9666, grad_fn=<BinaryCrossEntropyBackward>)\n",
      "KLD tensor(761.8413, grad_fn=<MulBackward>)\n",
      "BCE tensor(3043.8511, grad_fn=<BinaryCrossEntropyBackward>)\n",
      "KLD tensor(792.5807, grad_fn=<MulBackward>)\n",
      "BCE tensor(2837.9114, grad_fn=<BinaryCrossEntropyBackward>)\n",
      "KLD tensor(751.5108, grad_fn=<MulBackward>)\n"
     ]
    },
    {
     "name": "stderr",
     "output_type": "stream",
     "text": [
      "\n",
      "\n",
      "\n",
      "1844it [00:35, 52.08it/s]\u001b[A\u001b[A\u001b[A\n",
      "\n",
      "\n",
      "1849it [00:35, 52.07it/s]\u001b[A\u001b[A\u001b[A"
     ]
    },
    {
     "name": "stdout",
     "output_type": "stream",
     "text": [
      "BCE tensor(2990.4067, grad_fn=<BinaryCrossEntropyBackward>)\n",
      "KLD tensor(778.4299, grad_fn=<MulBackward>)\n",
      "BCE tensor(2797.1301, grad_fn=<BinaryCrossEntropyBackward>)\n",
      "KLD tensor(759.9733, grad_fn=<MulBackward>)\n",
      "BCE tensor(2916.6841, grad_fn=<BinaryCrossEntropyBackward>)\n",
      "KLD tensor(743.2745, grad_fn=<MulBackward>)\n",
      "BCE tensor(3208.6406, grad_fn=<BinaryCrossEntropyBackward>)\n",
      "KLD tensor(810.1337, grad_fn=<MulBackward>)\n",
      "BCE tensor(2707.6279, grad_fn=<BinaryCrossEntropyBackward>)\n",
      "KLD tensor(714.5166, grad_fn=<MulBackward>)\n",
      "BCE tensor(2978.1372, grad_fn=<BinaryCrossEntropyBackward>)\n",
      "KLD tensor(760.5346, grad_fn=<MulBackward>)\n",
      "BCE tensor(2914.6289, grad_fn=<BinaryCrossEntropyBackward>)\n",
      "KLD tensor(785.2669, grad_fn=<MulBackward>)\n",
      "BCE tensor(2834.6587, grad_fn=<BinaryCrossEntropyBackward>)\n",
      "KLD tensor(714.4428, grad_fn=<MulBackward>)\n",
      "BCE tensor(2866.0889, grad_fn=<BinaryCrossEntropyBackward>)\n",
      "KLD tensor(706.9196, grad_fn=<MulBackward>)\n",
      "BCE tensor(2765.4153, grad_fn=<BinaryCrossEntropyBackward>)\n",
      "KLD tensor(761.3557, grad_fn=<MulBackward>)\n"
     ]
    },
    {
     "name": "stderr",
     "output_type": "stream",
     "text": [
      "\n",
      "\n",
      "\n",
      "1854it [00:35, 52.05it/s]\u001b[A\u001b[A\u001b[A"
     ]
    },
    {
     "name": "stdout",
     "output_type": "stream",
     "text": [
      "BCE tensor(2800.8547, grad_fn=<BinaryCrossEntropyBackward>)\n",
      "KLD tensor(771.8318, grad_fn=<MulBackward>)\n",
      "BCE tensor(2792.1895, grad_fn=<BinaryCrossEntropyBackward>)\n",
      "KLD tensor(752.6445, grad_fn=<MulBackward>)\n",
      "BCE tensor(2847.9058, grad_fn=<BinaryCrossEntropyBackward>)\n",
      "KLD tensor(735.3134, grad_fn=<MulBackward>)\n",
      "BCE tensor(3186.4285, grad_fn=<BinaryCrossEntropyBackward>)\n",
      "KLD tensor(772.9343, grad_fn=<MulBackward>)\n",
      "BCE tensor(2952.9790, grad_fn=<BinaryCrossEntropyBackward>)\n",
      "KLD tensor(802.4837, grad_fn=<MulBackward>)\n",
      "BCE tensor(2900.7556, grad_fn=<BinaryCrossEntropyBackward>)\n",
      "KLD tensor(780.6511, grad_fn=<MulBackward>)\n",
      "BCE tensor(2743.8879, grad_fn=<BinaryCrossEntropyBackward>)\n",
      "KLD tensor(738.6725, grad_fn=<MulBackward>)\n",
      "BCE tensor(2847.1892, grad_fn=<BinaryCrossEntropyBackward>)\n",
      "KLD tensor(731.4712, grad_fn=<MulBackward>)\n",
      "BCE tensor(2766.0693, grad_fn=<BinaryCrossEntropyBackward>)\n",
      "KLD tensor(757.1865, grad_fn=<MulBackward>)\n",
      "BCE tensor(3008.6787, grad_fn=<BinaryCrossEntropyBackward>)\n",
      "KLD tensor(748.4408, grad_fn=<MulBackward>)\n"
     ]
    },
    {
     "name": "stderr",
     "output_type": "stream",
     "text": [
      "\n",
      "\n",
      "\n",
      "1859it [00:35, 52.02it/s]\u001b[A\u001b[A\u001b[A\n",
      "\n",
      "\n",
      "1864it [00:35, 52.00it/s]\u001b[A\u001b[A\u001b[A"
     ]
    },
    {
     "name": "stdout",
     "output_type": "stream",
     "text": [
      "BCE tensor(2851.5493, grad_fn=<BinaryCrossEntropyBackward>)\n",
      "KLD tensor(722.1784, grad_fn=<MulBackward>)\n",
      "BCE tensor(2804.3545, grad_fn=<BinaryCrossEntropyBackward>)\n",
      "KLD tensor(722.9452, grad_fn=<MulBackward>)\n",
      "BCE tensor(2535.4490, grad_fn=<BinaryCrossEntropyBackward>)\n",
      "KLD tensor(694.0058, grad_fn=<MulBackward>)\n",
      "BCE tensor(2944.1919, grad_fn=<BinaryCrossEntropyBackward>)\n",
      "KLD tensor(766.0719, grad_fn=<MulBackward>)\n",
      "BCE tensor(2977.6526, grad_fn=<BinaryCrossEntropyBackward>)\n",
      "KLD tensor(746.3823, grad_fn=<MulBackward>)\n",
      "BCE tensor(2518.2402, grad_fn=<BinaryCrossEntropyBackward>)\n",
      "KLD tensor(703.2430, grad_fn=<MulBackward>)\n",
      "BCE tensor(3000.1353, grad_fn=<BinaryCrossEntropyBackward>)\n",
      "KLD tensor(809.5668, grad_fn=<MulBackward>)\n",
      "BCE tensor(2934.4780, grad_fn=<BinaryCrossEntropyBackward>)\n",
      "KLD tensor(811.9551, grad_fn=<MulBackward>)\n",
      "BCE tensor(2799.4177, grad_fn=<BinaryCrossEntropyBackward>)\n",
      "KLD tensor(769.5618, grad_fn=<MulBackward>)\n",
      "BCE tensor(2833.6169, grad_fn=<BinaryCrossEntropyBackward>)\n",
      "KLD tensor(786.3682, grad_fn=<MulBackward>)\n"
     ]
    },
    {
     "name": "stderr",
     "output_type": "stream",
     "text": [
      "\n",
      "\n",
      "\n",
      "1869it [00:35, 51.98it/s]\u001b[A\u001b[A\u001b[A\n",
      "\n",
      "\n",
      "1874it [00:36, 51.91it/s]\u001b[A\u001b[A\u001b[A\n",
      "\n",
      "\n",
      "1875it [00:36, 51.90it/s]\u001b[A\u001b[A\u001b[A\n",
      "\n",
      "\n",
      "0it [00:00, ?it/s]\u001b[A\u001b[A\u001b[A"
     ]
    },
    {
     "name": "stdout",
     "output_type": "stream",
     "text": [
      "BCE tensor(2871.0171, grad_fn=<BinaryCrossEntropyBackward>)\n",
      "KLD tensor(757.0242, grad_fn=<MulBackward>)\n",
      "BCE tensor(2910.6038, grad_fn=<BinaryCrossEntropyBackward>)\n",
      "KLD tensor(727.6899, grad_fn=<MulBackward>)\n",
      "BCE tensor(2866.6514, grad_fn=<BinaryCrossEntropyBackward>)\n",
      "KLD tensor(720.4214, grad_fn=<MulBackward>)\n",
      "BCE tensor(2844.0056, grad_fn=<BinaryCrossEntropyBackward>)\n",
      "KLD tensor(792.1893, grad_fn=<MulBackward>)\n",
      "BCE tensor(2957.9221, grad_fn=<BinaryCrossEntropyBackward>)\n",
      "KLD tensor(718.0722, grad_fn=<MulBackward>)\n",
      "BCE tensor(2686.8799, grad_fn=<BinaryCrossEntropyBackward>)\n",
      "KLD tensor(749.8407, grad_fn=<MulBackward>)\n",
      "BCE tensor(3207.7070, grad_fn=<BinaryCrossEntropyBackward>)\n",
      "KLD tensor(825.4829, grad_fn=<MulBackward>)\n"
     ]
    },
    {
     "name": "stderr",
     "output_type": "stream",
     "text": [
      "\n",
      "\n",
      "\n",
      "3it [00:00, 27.72it/s]\u001b[A\u001b[A\u001b[A\n",
      "\n",
      "\n",
      "7it [00:00, 32.63it/s]\u001b[A\u001b[A\u001b[A"
     ]
    },
    {
     "name": "stdout",
     "output_type": "stream",
     "text": [
      "BCE tensor(2662.9524, grad_fn=<BinaryCrossEntropyBackward>)\n",
      "KLD tensor(730.0060, grad_fn=<MulBackward>)\n",
      "BCE tensor(3020.4421, grad_fn=<BinaryCrossEntropyBackward>)\n",
      "KLD tensor(783.4487, grad_fn=<MulBackward>)\n",
      "BCE tensor(2840.6665, grad_fn=<BinaryCrossEntropyBackward>)\n",
      "KLD tensor(762.5890, grad_fn=<MulBackward>)\n",
      "BCE tensor(2875.7825, grad_fn=<BinaryCrossEntropyBackward>)\n",
      "KLD tensor(822.2579, grad_fn=<MulBackward>)\n",
      "BCE tensor(2927.2251, grad_fn=<BinaryCrossEntropyBackward>)\n",
      "KLD tensor(736.9678, grad_fn=<MulBackward>)\n",
      "BCE tensor(3075.4346, grad_fn=<BinaryCrossEntropyBackward>)\n",
      "KLD tensor(750.6850, grad_fn=<MulBackward>)\n",
      "BCE tensor(2829.4744, grad_fn=<BinaryCrossEntropyBackward>)\n",
      "KLD tensor(707.1003, grad_fn=<MulBackward>)\n",
      "BCE tensor(2921.9653, grad_fn=<BinaryCrossEntropyBackward>)\n",
      "KLD tensor(802.7639, grad_fn=<MulBackward>)\n"
     ]
    },
    {
     "name": "stderr",
     "output_type": "stream",
     "text": [
      "\n",
      "\n",
      "\n",
      "12it [00:00, 36.15it/s]\u001b[A\u001b[A\u001b[A\n",
      "\n",
      "\n",
      "17it [00:00, 38.22it/s]\u001b[A\u001b[A\u001b[A"
     ]
    },
    {
     "name": "stdout",
     "output_type": "stream",
     "text": [
      "BCE tensor(2942.5994, grad_fn=<BinaryCrossEntropyBackward>)\n",
      "KLD tensor(783.0850, grad_fn=<MulBackward>)\n",
      "BCE tensor(2769.3975, grad_fn=<BinaryCrossEntropyBackward>)\n",
      "KLD tensor(759.5064, grad_fn=<MulBackward>)\n",
      "BCE tensor(2858.0205, grad_fn=<BinaryCrossEntropyBackward>)\n",
      "KLD tensor(771.1566, grad_fn=<MulBackward>)\n",
      "BCE tensor(2968.2739, grad_fn=<BinaryCrossEntropyBackward>)\n",
      "KLD tensor(801.9492, grad_fn=<MulBackward>)\n",
      "BCE tensor(2861.8838, grad_fn=<BinaryCrossEntropyBackward>)\n",
      "KLD tensor(745.3340, grad_fn=<MulBackward>)\n",
      "BCE tensor(2902.8328, grad_fn=<BinaryCrossEntropyBackward>)\n",
      "KLD tensor(756.1050, grad_fn=<MulBackward>)\n",
      "BCE tensor(3011.9204, grad_fn=<BinaryCrossEntropyBackward>)\n",
      "KLD tensor(743.0515, grad_fn=<MulBackward>)\n",
      "BCE tensor(2939.8420, grad_fn=<BinaryCrossEntropyBackward>)\n",
      "KLD tensor(748.0076, grad_fn=<MulBackward>)\n",
      "BCE tensor(3175.7417, grad_fn=<BinaryCrossEntropyBackward>)\n",
      "KLD tensor(774.7079, grad_fn=<MulBackward>)\n"
     ]
    },
    {
     "name": "stderr",
     "output_type": "stream",
     "text": [
      "\n",
      "\n",
      "\n",
      "22it [00:00, 38.98it/s]\u001b[A\u001b[A\u001b[A\n",
      "\n",
      "\n",
      "27it [00:00, 40.14it/s]\u001b[A\u001b[A\u001b[A"
     ]
    },
    {
     "name": "stdout",
     "output_type": "stream",
     "text": [
      "BCE tensor(2701.9346, grad_fn=<BinaryCrossEntropyBackward>)\n",
      "KLD tensor(726.2758, grad_fn=<MulBackward>)\n",
      "BCE tensor(2863.2732, grad_fn=<BinaryCrossEntropyBackward>)\n",
      "KLD tensor(728.5973, grad_fn=<MulBackward>)\n",
      "BCE tensor(2864.4614, grad_fn=<BinaryCrossEntropyBackward>)\n",
      "KLD tensor(799.2197, grad_fn=<MulBackward>)\n",
      "BCE tensor(2846.4072, grad_fn=<BinaryCrossEntropyBackward>)\n",
      "KLD tensor(739.5032, grad_fn=<MulBackward>)\n",
      "BCE tensor(3040.0679, grad_fn=<BinaryCrossEntropyBackward>)\n",
      "KLD tensor(751.5257, grad_fn=<MulBackward>)\n",
      "BCE tensor(2679.7993, grad_fn=<BinaryCrossEntropyBackward>)\n",
      "KLD tensor(743.0660, grad_fn=<MulBackward>)\n",
      "BCE tensor(2924.4343, grad_fn=<BinaryCrossEntropyBackward>)\n",
      "KLD tensor(791.8329, grad_fn=<MulBackward>)\n",
      "BCE tensor(2599.6365, grad_fn=<BinaryCrossEntropyBackward>)\n",
      "KLD tensor(704.7029, grad_fn=<MulBackward>)\n",
      "BCE tensor(3059.4280, grad_fn=<BinaryCrossEntropyBackward>)\n",
      "KLD tensor(774.2006, grad_fn=<MulBackward>)\n"
     ]
    },
    {
     "name": "stderr",
     "output_type": "stream",
     "text": [
      "\n",
      "\n",
      "\n",
      "32it [00:00, 41.06it/s]\u001b[A\u001b[A\u001b[A\n",
      "\n",
      "\n",
      "37it [00:00, 41.90it/s]"
     ]
    },
    {
     "name": "stdout",
     "output_type": "stream",
     "text": [
      "BCE tensor(3082.0454, grad_fn=<BinaryCrossEntropyBackward>)\n",
      "KLD tensor(808.7977, grad_fn=<MulBackward>)\n",
      "BCE tensor(2757.7561, grad_fn=<BinaryCrossEntropyBackward>)\n",
      "KLD tensor(740.7408, grad_fn=<MulBackward>)\n",
      "BCE tensor(2799.5676, grad_fn=<BinaryCrossEntropyBackward>)\n",
      "KLD tensor(776.8506, grad_fn=<MulBackward>)\n",
      "BCE tensor(2809.7195, grad_fn=<BinaryCrossEntropyBackward>)\n",
      "KLD tensor(776.6701, grad_fn=<MulBackward>)\n",
      "BCE tensor(2862.8777, grad_fn=<BinaryCrossEntropyBackward>)\n",
      "KLD tensor(769.4344, grad_fn=<MulBackward>)\n",
      "BCE tensor(3012.9546, grad_fn=<BinaryCrossEntropyBackward>)\n",
      "KLD tensor(822.6761, grad_fn=<MulBackward>)\n",
      "BCE tensor(2633.6169, grad_fn=<BinaryCrossEntropyBackward>)\n",
      "KLD tensor(782.8007, grad_fn=<MulBackward>)\n",
      "BCE tensor(2777.8831, grad_fn=<BinaryCrossEntropyBackward>)\n",
      "KLD tensor(808.4765, grad_fn=<MulBackward>)\n",
      "BCE tensor(2868.7449, grad_fn=<BinaryCrossEntropyBackward>)\n",
      "KLD tensor(766.6221, grad_fn=<MulBackward>)\n",
      "BCE tensor(3101.6204, grad_fn=<BinaryCrossEntropyBackward>)\n",
      "KLD tensor(785.1794, grad_fn=<MulBackward>)\n"
     ]
    },
    {
     "name": "stderr",
     "output_type": "stream",
     "text": [
      "\u001b[A\u001b[A\u001b[A\n",
      "\n",
      "\n",
      "42it [00:00, 42.43it/s]\u001b[A\u001b[A\u001b[A\n",
      "\n",
      "\n",
      "47it [00:01, 42.97it/s]\u001b[A\u001b[A\u001b[A"
     ]
    },
    {
     "name": "stdout",
     "output_type": "stream",
     "text": [
      "BCE tensor(2602.1772, grad_fn=<BinaryCrossEntropyBackward>)\n",
      "KLD tensor(763.8466, grad_fn=<MulBackward>)\n",
      "BCE tensor(2610.2512, grad_fn=<BinaryCrossEntropyBackward>)\n",
      "KLD tensor(757.2448, grad_fn=<MulBackward>)\n",
      "BCE tensor(3048.7166, grad_fn=<BinaryCrossEntropyBackward>)\n",
      "KLD tensor(778.2825, grad_fn=<MulBackward>)\n",
      "BCE tensor(3225.1331, grad_fn=<BinaryCrossEntropyBackward>)\n",
      "KLD tensor(799.6392, grad_fn=<MulBackward>)\n",
      "BCE tensor(2492.1858, grad_fn=<BinaryCrossEntropyBackward>)\n",
      "KLD tensor(740.6385, grad_fn=<MulBackward>)\n",
      "BCE tensor(2815.4575, grad_fn=<BinaryCrossEntropyBackward>)\n",
      "KLD tensor(723.8054, grad_fn=<MulBackward>)\n",
      "BCE tensor(2941.9448, grad_fn=<BinaryCrossEntropyBackward>)\n",
      "KLD tensor(786.6677, grad_fn=<MulBackward>)\n",
      "BCE tensor(2965.3728, grad_fn=<BinaryCrossEntropyBackward>)\n",
      "KLD tensor(701.2540, grad_fn=<MulBackward>)\n",
      "BCE tensor(2830.1113, grad_fn=<BinaryCrossEntropyBackward>)\n",
      "KLD tensor(739.4009, grad_fn=<MulBackward>)\n",
      "BCE tensor(3109.1089, grad_fn=<BinaryCrossEntropyBackward>)\n",
      "KLD tensor(784.2483, grad_fn=<MulBackward>)\n"
     ]
    },
    {
     "name": "stderr",
     "output_type": "stream",
     "text": [
      "\n",
      "\n",
      "\n",
      "52it [00:01, 43.39it/s]\u001b[A\u001b[A\u001b[A\n",
      "\n",
      "\n",
      "57it [00:01, 43.81it/s]\u001b[A\u001b[A\u001b[A"
     ]
    },
    {
     "name": "stdout",
     "output_type": "stream",
     "text": [
      "BCE tensor(3017.3171, grad_fn=<BinaryCrossEntropyBackward>)\n",
      "KLD tensor(769.8375, grad_fn=<MulBackward>)\n",
      "BCE tensor(2915.4829, grad_fn=<BinaryCrossEntropyBackward>)\n",
      "KLD tensor(759.3323, grad_fn=<MulBackward>)\n",
      "BCE tensor(3065.5942, grad_fn=<BinaryCrossEntropyBackward>)\n",
      "KLD tensor(750.8570, grad_fn=<MulBackward>)\n",
      "BCE tensor(2633.5164, grad_fn=<BinaryCrossEntropyBackward>)\n",
      "KLD tensor(761.0739, grad_fn=<MulBackward>)\n",
      "BCE tensor(2784.2910, grad_fn=<BinaryCrossEntropyBackward>)\n",
      "KLD tensor(746.2820, grad_fn=<MulBackward>)\n",
      "BCE tensor(3061.6443, grad_fn=<BinaryCrossEntropyBackward>)\n",
      "KLD tensor(817.4745, grad_fn=<MulBackward>)\n",
      "BCE tensor(3016.4197, grad_fn=<BinaryCrossEntropyBackward>)\n",
      "KLD tensor(791.2370, grad_fn=<MulBackward>)\n",
      "BCE tensor(3185.4226, grad_fn=<BinaryCrossEntropyBackward>)\n",
      "KLD tensor(808.3166, grad_fn=<MulBackward>)\n",
      "BCE tensor(2925.6831, grad_fn=<BinaryCrossEntropyBackward>)\n",
      "KLD tensor(787.8411, grad_fn=<MulBackward>)\n",
      "BCE tensor(2725.0745, grad_fn=<BinaryCrossEntropyBackward>)\n",
      "KLD tensor(748.9715, grad_fn=<MulBackward>)\n"
     ]
    },
    {
     "name": "stderr",
     "output_type": "stream",
     "text": [
      "\n",
      "\n",
      "\n",
      "62it [00:01, 44.14it/s]\u001b[A\u001b[A\u001b[A\n",
      "\n",
      "\n",
      "67it [00:01, 44.39it/s]\u001b[A\u001b[A\u001b[A"
     ]
    },
    {
     "name": "stdout",
     "output_type": "stream",
     "text": [
      "BCE tensor(2854.1509, grad_fn=<BinaryCrossEntropyBackward>)\n",
      "KLD tensor(771.5745, grad_fn=<MulBackward>)\n",
      "BCE tensor(2763.0156, grad_fn=<BinaryCrossEntropyBackward>)\n",
      "KLD tensor(780.1184, grad_fn=<MulBackward>)\n",
      "BCE tensor(2924.7939, grad_fn=<BinaryCrossEntropyBackward>)\n",
      "KLD tensor(804.4547, grad_fn=<MulBackward>)\n",
      "BCE tensor(2886.4375, grad_fn=<BinaryCrossEntropyBackward>)\n",
      "KLD tensor(798.6719, grad_fn=<MulBackward>)\n",
      "BCE tensor(2939.2976, grad_fn=<BinaryCrossEntropyBackward>)\n",
      "KLD tensor(791.3310, grad_fn=<MulBackward>)\n",
      "BCE tensor(2960.6072, grad_fn=<BinaryCrossEntropyBackward>)\n",
      "KLD tensor(804.4036, grad_fn=<MulBackward>)\n",
      "BCE tensor(2594.7896, grad_fn=<BinaryCrossEntropyBackward>)\n",
      "KLD tensor(730.0191, grad_fn=<MulBackward>)\n",
      "BCE tensor(2934.5757, grad_fn=<BinaryCrossEntropyBackward>)\n",
      "KLD tensor(771.6703, grad_fn=<MulBackward>)\n",
      "BCE tensor(3114.4937, grad_fn=<BinaryCrossEntropyBackward>)\n",
      "KLD tensor(757.5512, grad_fn=<MulBackward>)\n",
      "BCE tensor(2605.0911, grad_fn=<BinaryCrossEntropyBackward>)\n",
      "KLD tensor(763.8165, grad_fn=<MulBackward>)\n"
     ]
    },
    {
     "name": "stderr",
     "output_type": "stream",
     "text": [
      "\n",
      "\n",
      "\n",
      "72it [00:01, 44.57it/s]\u001b[A\u001b[A\u001b[A\n",
      "\n",
      "\n",
      "77it [00:01, 44.81it/s]\u001b[A\u001b[A\u001b[A"
     ]
    },
    {
     "name": "stdout",
     "output_type": "stream",
     "text": [
      "BCE tensor(2902.8953, grad_fn=<BinaryCrossEntropyBackward>)\n",
      "KLD tensor(788.5893, grad_fn=<MulBackward>)\n",
      "BCE tensor(2833.6990, grad_fn=<BinaryCrossEntropyBackward>)\n",
      "KLD tensor(788.5708, grad_fn=<MulBackward>)\n",
      "BCE tensor(2596.1245, grad_fn=<BinaryCrossEntropyBackward>)\n",
      "KLD tensor(738.9669, grad_fn=<MulBackward>)\n",
      "BCE tensor(2586.1841, grad_fn=<BinaryCrossEntropyBackward>)\n",
      "KLD tensor(802.4576, grad_fn=<MulBackward>)\n",
      "BCE tensor(3045.6541, grad_fn=<BinaryCrossEntropyBackward>)\n",
      "KLD tensor(778.7782, grad_fn=<MulBackward>)\n",
      "BCE tensor(2587.5322, grad_fn=<BinaryCrossEntropyBackward>)\n",
      "KLD tensor(724.3497, grad_fn=<MulBackward>)\n",
      "BCE tensor(2748.3401, grad_fn=<BinaryCrossEntropyBackward>)\n",
      "KLD tensor(748.6750, grad_fn=<MulBackward>)\n",
      "BCE tensor(2933.8186, grad_fn=<BinaryCrossEntropyBackward>)\n",
      "KLD tensor(707.4180, grad_fn=<MulBackward>)\n",
      "BCE tensor(2838.9478, grad_fn=<BinaryCrossEntropyBackward>)\n",
      "KLD tensor(747.1701, grad_fn=<MulBackward>)\n",
      "BCE tensor(2921.0229, grad_fn=<BinaryCrossEntropyBackward>)\n",
      "KLD tensor(751.2728, grad_fn=<MulBackward>)\n"
     ]
    },
    {
     "name": "stderr",
     "output_type": "stream",
     "text": [
      "\n",
      "\n",
      "\n",
      "82it [00:01, 44.96it/s]\u001b[A\u001b[A\u001b[A"
     ]
    },
    {
     "name": "stdout",
     "output_type": "stream",
     "text": [
      "BCE tensor(2882.8306, grad_fn=<BinaryCrossEntropyBackward>)\n",
      "KLD tensor(772.2006, grad_fn=<MulBackward>)\n",
      "BCE tensor(2938.1934, grad_fn=<BinaryCrossEntropyBackward>)\n",
      "KLD tensor(738.5715, grad_fn=<MulBackward>)\n",
      "BCE tensor(2799.6382, grad_fn=<BinaryCrossEntropyBackward>)\n",
      "KLD tensor(785.5293, grad_fn=<MulBackward>)\n",
      "BCE tensor(2820.5964, grad_fn=<BinaryCrossEntropyBackward>)\n",
      "KLD tensor(753.0118, grad_fn=<MulBackward>)\n",
      "BCE tensor(2888.8857, grad_fn=<BinaryCrossEntropyBackward>)\n",
      "KLD tensor(787.0234, grad_fn=<MulBackward>)\n",
      "BCE tensor(2722.5693, grad_fn=<BinaryCrossEntropyBackward>)\n",
      "KLD tensor(801.6946, grad_fn=<MulBackward>)\n",
      "BCE tensor(2909.8469, grad_fn=<BinaryCrossEntropyBackward>)\n",
      "KLD tensor(741.3700, grad_fn=<MulBackward>)\n",
      "BCE tensor(3254.8376, grad_fn=<BinaryCrossEntropyBackward>)\n",
      "KLD tensor(773.0153, grad_fn=<MulBackward>)\n",
      "BCE tensor(2957.0125, grad_fn=<BinaryCrossEntropyBackward>)\n",
      "KLD tensor(787.1049, grad_fn=<MulBackward>)\n",
      "BCE tensor(2834.9822, grad_fn=<BinaryCrossEntropyBackward>)\n",
      "KLD tensor(753.1753, grad_fn=<MulBackward>)\n"
     ]
    },
    {
     "name": "stderr",
     "output_type": "stream",
     "text": [
      "\n",
      "\n",
      "\n",
      "87it [00:02, 42.26it/s]\u001b[A\u001b[A\u001b[A\n",
      "\n",
      "\n",
      "91it [00:02, 41.74it/s]\u001b[A\u001b[A\u001b[A\n",
      "\n",
      "\n",
      "96it [00:02, 41.95it/s]\u001b[A\u001b[A\u001b[A"
     ]
    },
    {
     "name": "stdout",
     "output_type": "stream",
     "text": [
      "BCE tensor(3112.3123, grad_fn=<BinaryCrossEntropyBackward>)\n",
      "KLD tensor(778.8638, grad_fn=<MulBackward>)\n",
      "BCE tensor(3045.1365, grad_fn=<BinaryCrossEntropyBackward>)\n",
      "KLD tensor(748.5031, grad_fn=<MulBackward>)\n",
      "BCE tensor(2581.6074, grad_fn=<BinaryCrossEntropyBackward>)\n",
      "KLD tensor(790.8978, grad_fn=<MulBackward>)\n",
      "BCE tensor(3073.1487, grad_fn=<BinaryCrossEntropyBackward>)\n",
      "KLD tensor(762.2513, grad_fn=<MulBackward>)\n",
      "BCE tensor(2830.4641, grad_fn=<BinaryCrossEntropyBackward>)\n",
      "KLD tensor(776.6829, grad_fn=<MulBackward>)\n",
      "BCE tensor(2982.8999, grad_fn=<BinaryCrossEntropyBackward>)\n",
      "KLD tensor(810.5554, grad_fn=<MulBackward>)\n",
      "BCE tensor(2926.2336, grad_fn=<BinaryCrossEntropyBackward>)\n",
      "KLD tensor(807.4789, grad_fn=<MulBackward>)\n",
      "BCE tensor(2695.7634, grad_fn=<BinaryCrossEntropyBackward>)\n",
      "KLD tensor(836.2103, grad_fn=<MulBackward>)\n",
      "BCE tensor(2948.0447, grad_fn=<BinaryCrossEntropyBackward>)\n",
      "KLD tensor(847.1195, grad_fn=<MulBackward>)\n"
     ]
    },
    {
     "name": "stderr",
     "output_type": "stream",
     "text": [
      "\n",
      "\n",
      "\n",
      "101it [00:02, 42.14it/s]\u001b[A\u001b[A\u001b[A\n",
      "\n",
      "\n",
      "106it [00:02, 42.40it/s]"
     ]
    },
    {
     "name": "stdout",
     "output_type": "stream",
     "text": [
      "BCE tensor(2837.3997, grad_fn=<BinaryCrossEntropyBackward>)\n",
      "KLD tensor(832.2932, grad_fn=<MulBackward>)\n",
      "BCE tensor(2921.0374, grad_fn=<BinaryCrossEntropyBackward>)\n",
      "KLD tensor(777.2094, grad_fn=<MulBackward>)\n",
      "BCE tensor(3049.3079, grad_fn=<BinaryCrossEntropyBackward>)\n",
      "KLD tensor(779.9390, grad_fn=<MulBackward>)\n",
      "BCE tensor(3079.3125, grad_fn=<BinaryCrossEntropyBackward>)\n",
      "KLD tensor(801.3409, grad_fn=<MulBackward>)\n",
      "BCE tensor(2733.7344, grad_fn=<BinaryCrossEntropyBackward>)\n",
      "KLD tensor(699.1107, grad_fn=<MulBackward>)\n",
      "BCE tensor(3023.2966, grad_fn=<BinaryCrossEntropyBackward>)\n",
      "KLD tensor(783.4470, grad_fn=<MulBackward>)\n",
      "BCE tensor(2693.5022, grad_fn=<BinaryCrossEntropyBackward>)\n",
      "KLD tensor(754.1962, grad_fn=<MulBackward>)\n",
      "BCE tensor(2984.9390, grad_fn=<BinaryCrossEntropyBackward>)\n",
      "KLD tensor(782.3494, grad_fn=<MulBackward>)\n",
      "BCE tensor(2869.8552, grad_fn=<BinaryCrossEntropyBackward>)\n",
      "KLD tensor(771.7197, grad_fn=<MulBackward>)\n",
      "BCE tensor(2909.2693, grad_fn=<BinaryCrossEntropyBackward>)\n",
      "KLD tensor(737.8630, grad_fn=<MulBackward>)\n"
     ]
    },
    {
     "name": "stderr",
     "output_type": "stream",
     "text": [
      "\u001b[A\u001b[A\u001b[A\n",
      "\n",
      "\n",
      "111it [00:02, 42.63it/s]\u001b[A\u001b[A\u001b[A\n",
      "\n",
      "\n"
     ]
    },
    {
     "name": "stdout",
     "output_type": "stream",
     "text": [
      "BCE tensor(3134.3047, grad_fn=<BinaryCrossEntropyBackward>)\n",
      "KLD tensor(800.4077, grad_fn=<MulBackward>)\n",
      "BCE tensor(2966.6692, grad_fn=<BinaryCrossEntropyBackward>)\n",
      "KLD tensor(765.9404, grad_fn=<MulBackward>)\n",
      "BCE tensor(2467.0398, grad_fn=<BinaryCrossEntropyBackward>)\n",
      "KLD tensor(701.6579, grad_fn=<MulBackward>)\n",
      "BCE tensor(3097.7476, grad_fn=<BinaryCrossEntropyBackward>)\n",
      "KLD tensor(760.4395, grad_fn=<MulBackward>)\n",
      "BCE tensor(2862.0796, grad_fn=<BinaryCrossEntropyBackward>)\n",
      "KLD tensor(771.6408, grad_fn=<MulBackward>)\n",
      "BCE tensor(2689.5823, grad_fn=<BinaryCrossEntropyBackward>)\n",
      "KLD tensor(722.2216, grad_fn=<MulBackward>)\n",
      "BCE tensor(3064.0339, grad_fn=<BinaryCrossEntropyBackward>)\n",
      "KLD tensor(775.5261, grad_fn=<MulBackward>)\n",
      "BCE tensor(2852.1240, grad_fn=<BinaryCrossEntropyBackward>)\n",
      "KLD tensor(801.1096, grad_fn=<MulBackward>)\n",
      "BCE tensor(2990.0237, grad_fn=<BinaryCrossEntropyBackward>)\n",
      "KLD tensor(812.9186, grad_fn=<MulBackward>)\n",
      "BCE tensor(2917.0498, grad_fn=<BinaryCrossEntropyBackward>)\n",
      "KLD tensor(781.0852, grad_fn=<MulBackward>)\n"
     ]
    },
    {
     "name": "stderr",
     "output_type": "stream",
     "text": [
      "116it [00:02, 42.75it/s]\u001b[A\u001b[A\u001b[A\n",
      "\n",
      "\n",
      "121it [00:02, 42.92it/s]\u001b[A\u001b[A\u001b[A\n",
      "\n",
      "\n",
      "126it [00:02, 43.10it/s]"
     ]
    },
    {
     "name": "stdout",
     "output_type": "stream",
     "text": [
      "BCE tensor(2953.2080, grad_fn=<BinaryCrossEntropyBackward>)\n",
      "KLD tensor(767.4630, grad_fn=<MulBackward>)\n",
      "BCE tensor(2815.9783, grad_fn=<BinaryCrossEntropyBackward>)\n",
      "KLD tensor(760.1922, grad_fn=<MulBackward>)\n",
      "BCE tensor(3008.8242, grad_fn=<BinaryCrossEntropyBackward>)\n",
      "KLD tensor(772.4807, grad_fn=<MulBackward>)\n",
      "BCE tensor(3001.0740, grad_fn=<BinaryCrossEntropyBackward>)\n",
      "KLD tensor(739.0999, grad_fn=<MulBackward>)\n",
      "BCE tensor(2967.9375, grad_fn=<BinaryCrossEntropyBackward>)\n",
      "KLD tensor(730.7436, grad_fn=<MulBackward>)\n",
      "BCE tensor(2722.1506, grad_fn=<BinaryCrossEntropyBackward>)\n",
      "KLD tensor(734.4348, grad_fn=<MulBackward>)\n",
      "BCE tensor(3075.3171, grad_fn=<BinaryCrossEntropyBackward>)\n",
      "KLD tensor(789.5326, grad_fn=<MulBackward>)\n",
      "BCE tensor(2868.9360, grad_fn=<BinaryCrossEntropyBackward>)\n",
      "KLD tensor(795.5994, grad_fn=<MulBackward>)\n",
      "BCE tensor(2800.9734, grad_fn=<BinaryCrossEntropyBackward>)\n",
      "KLD tensor(741.2418, grad_fn=<MulBackward>)\n",
      "BCE tensor(3044.6218, grad_fn=<BinaryCrossEntropyBackward>)\n",
      "KLD tensor(810.7376, grad_fn=<MulBackward>)\n"
     ]
    },
    {
     "name": "stderr",
     "output_type": "stream",
     "text": [
      "\u001b[A\u001b[A\u001b[A\n",
      "\n",
      "\n",
      "131it [00:03, 43.21it/s]\u001b[A\u001b[A\u001b[A"
     ]
    },
    {
     "name": "stdout",
     "output_type": "stream",
     "text": [
      "BCE tensor(2802.0879, grad_fn=<BinaryCrossEntropyBackward>)\n",
      "KLD tensor(768.7152, grad_fn=<MulBackward>)\n",
      "BCE tensor(2920.4399, grad_fn=<BinaryCrossEntropyBackward>)\n",
      "KLD tensor(767.3854, grad_fn=<MulBackward>)\n",
      "BCE tensor(2945.3486, grad_fn=<BinaryCrossEntropyBackward>)\n",
      "KLD tensor(756.5881, grad_fn=<MulBackward>)\n",
      "BCE tensor(2811.6582, grad_fn=<BinaryCrossEntropyBackward>)\n",
      "KLD tensor(755.9418, grad_fn=<MulBackward>)\n",
      "BCE tensor(2925.1504, grad_fn=<BinaryCrossEntropyBackward>)\n",
      "KLD tensor(777.8923, grad_fn=<MulBackward>)\n",
      "BCE tensor(2910.3164, grad_fn=<BinaryCrossEntropyBackward>)\n",
      "KLD tensor(763.1164, grad_fn=<MulBackward>)\n",
      "BCE tensor(2871.3152, grad_fn=<BinaryCrossEntropyBackward>)\n",
      "KLD tensor(746.5511, grad_fn=<MulBackward>)\n",
      "BCE tensor(2876.2673, grad_fn=<BinaryCrossEntropyBackward>)\n",
      "KLD tensor(778.9290, grad_fn=<MulBackward>)\n",
      "BCE tensor(2899.8826, grad_fn=<BinaryCrossEntropyBackward>)\n",
      "KLD tensor(760.8658, grad_fn=<MulBackward>)\n",
      "BCE tensor(2868.3723, grad_fn=<BinaryCrossEntropyBackward>)\n",
      "KLD tensor(757.5817, grad_fn=<MulBackward>)\n"
     ]
    },
    {
     "name": "stderr",
     "output_type": "stream",
     "text": [
      "\n",
      "\n",
      "\n",
      "136it [00:03, 43.34it/s]\u001b[A\u001b[A\u001b[A\n",
      "\n",
      "\n",
      "141it [00:03, 43.44it/s]\u001b[A\u001b[A\u001b[A"
     ]
    },
    {
     "name": "stdout",
     "output_type": "stream",
     "text": [
      "BCE tensor(2902.1165, grad_fn=<BinaryCrossEntropyBackward>)\n",
      "KLD tensor(771.0464, grad_fn=<MulBackward>)\n",
      "BCE tensor(3056.1570, grad_fn=<BinaryCrossEntropyBackward>)\n",
      "KLD tensor(803.2568, grad_fn=<MulBackward>)\n",
      "BCE tensor(2778.4131, grad_fn=<BinaryCrossEntropyBackward>)\n",
      "KLD tensor(803.9312, grad_fn=<MulBackward>)\n",
      "BCE tensor(3009.5095, grad_fn=<BinaryCrossEntropyBackward>)\n",
      "KLD tensor(816.5051, grad_fn=<MulBackward>)\n",
      "BCE tensor(2834.9834, grad_fn=<BinaryCrossEntropyBackward>)\n",
      "KLD tensor(775.3499, grad_fn=<MulBackward>)\n",
      "BCE tensor(2722.6887, grad_fn=<BinaryCrossEntropyBackward>)\n",
      "KLD tensor(758.9949, grad_fn=<MulBackward>)\n",
      "BCE tensor(2794.0515, grad_fn=<BinaryCrossEntropyBackward>)\n",
      "KLD tensor(761.3241, grad_fn=<MulBackward>)\n",
      "BCE tensor(2665.6204, grad_fn=<BinaryCrossEntropyBackward>)\n",
      "KLD tensor(722.3852, grad_fn=<MulBackward>)\n",
      "BCE tensor(2916.7429, grad_fn=<BinaryCrossEntropyBackward>)\n",
      "KLD tensor(777.3485, grad_fn=<MulBackward>)\n",
      "BCE tensor(2957.6265, grad_fn=<BinaryCrossEntropyBackward>)\n",
      "KLD tensor(805.5513, grad_fn=<MulBackward>)\n"
     ]
    },
    {
     "name": "stderr",
     "output_type": "stream",
     "text": [
      "\n",
      "\n",
      "\n",
      "146it [00:03, 43.47it/s]\u001b[A\u001b[A\u001b[A\n",
      "\n",
      "\n",
      "151it [00:03, 43.53it/s]\u001b[A\u001b[A\u001b[A"
     ]
    },
    {
     "name": "stdout",
     "output_type": "stream",
     "text": [
      "BCE tensor(2853.9448, grad_fn=<BinaryCrossEntropyBackward>)\n",
      "KLD tensor(774.2849, grad_fn=<MulBackward>)\n",
      "BCE tensor(2760.5095, grad_fn=<BinaryCrossEntropyBackward>)\n",
      "KLD tensor(777.4318, grad_fn=<MulBackward>)\n",
      "BCE tensor(2980.4319, grad_fn=<BinaryCrossEntropyBackward>)\n",
      "KLD tensor(766.0421, grad_fn=<MulBackward>)\n",
      "BCE tensor(2821.5276, grad_fn=<BinaryCrossEntropyBackward>)\n",
      "KLD tensor(747.8348, grad_fn=<MulBackward>)\n",
      "BCE tensor(2729.1875, grad_fn=<BinaryCrossEntropyBackward>)\n",
      "KLD tensor(715.2715, grad_fn=<MulBackward>)\n",
      "BCE tensor(2823.8760, grad_fn=<BinaryCrossEntropyBackward>)\n",
      "KLD tensor(757.4149, grad_fn=<MulBackward>)\n",
      "BCE tensor(2816.3342, grad_fn=<BinaryCrossEntropyBackward>)\n",
      "KLD tensor(729.6121, grad_fn=<MulBackward>)\n",
      "BCE tensor(2602.2725, grad_fn=<BinaryCrossEntropyBackward>)\n",
      "KLD tensor(762.9792, grad_fn=<MulBackward>)\n",
      "BCE tensor(3035.6431, grad_fn=<BinaryCrossEntropyBackward>)\n",
      "KLD tensor(751.4424, grad_fn=<MulBackward>)\n",
      "BCE tensor(2843.3127, grad_fn=<BinaryCrossEntropyBackward>)\n",
      "KLD tensor(798.1336, grad_fn=<MulBackward>)\n"
     ]
    },
    {
     "name": "stderr",
     "output_type": "stream",
     "text": [
      "\n",
      "\n",
      "\n",
      "156it [00:03, 43.63it/s]\u001b[A\u001b[A\u001b[A\n",
      "\n",
      "\n",
      "161it [00:03, 43.75it/s]\u001b[A\u001b[A\u001b[A\n",
      "\n",
      "\n",
      "166it [00:03, 43.86it/s]"
     ]
    },
    {
     "name": "stdout",
     "output_type": "stream",
     "text": [
      "BCE tensor(3055.0105, grad_fn=<BinaryCrossEntropyBackward>)\n",
      "KLD tensor(800.8698, grad_fn=<MulBackward>)\n",
      "BCE tensor(3238.5720, grad_fn=<BinaryCrossEntropyBackward>)\n",
      "KLD tensor(779.2988, grad_fn=<MulBackward>)\n",
      "BCE tensor(2940.0305, grad_fn=<BinaryCrossEntropyBackward>)\n",
      "KLD tensor(767.6782, grad_fn=<MulBackward>)\n",
      "BCE tensor(2963.7375, grad_fn=<BinaryCrossEntropyBackward>)\n",
      "KLD tensor(819.8600, grad_fn=<MulBackward>)\n",
      "BCE tensor(2819.0259, grad_fn=<BinaryCrossEntropyBackward>)\n",
      "KLD tensor(764.7662, grad_fn=<MulBackward>)\n",
      "BCE tensor(2722.3652, grad_fn=<BinaryCrossEntropyBackward>)\n",
      "KLD tensor(742.6559, grad_fn=<MulBackward>)\n",
      "BCE tensor(2570.0681, grad_fn=<BinaryCrossEntropyBackward>)\n",
      "KLD tensor(769.7147, grad_fn=<MulBackward>)\n",
      "BCE tensor(2862.6523, grad_fn=<BinaryCrossEntropyBackward>)\n",
      "KLD tensor(788.3735, grad_fn=<MulBackward>)\n",
      "BCE tensor(2837.9294, grad_fn=<BinaryCrossEntropyBackward>)\n",
      "KLD tensor(775.3009, grad_fn=<MulBackward>)\n",
      "BCE tensor(3006.4629, grad_fn=<BinaryCrossEntropyBackward>)\n",
      "KLD tensor(792.8802, grad_fn=<MulBackward>)\n"
     ]
    },
    {
     "name": "stderr",
     "output_type": "stream",
     "text": [
      "\u001b[A\u001b[A\u001b[A\n",
      "\n",
      "\n",
      "171it [00:03, 43.88it/s]\u001b[A\u001b[A\u001b[A"
     ]
    },
    {
     "name": "stdout",
     "output_type": "stream",
     "text": [
      "BCE tensor(2957.8635, grad_fn=<BinaryCrossEntropyBackward>)\n",
      "KLD tensor(720.3096, grad_fn=<MulBackward>)\n",
      "BCE tensor(2731.5632, grad_fn=<BinaryCrossEntropyBackward>)\n",
      "KLD tensor(771.0274, grad_fn=<MulBackward>)\n",
      "BCE tensor(2883.4929, grad_fn=<BinaryCrossEntropyBackward>)\n",
      "KLD tensor(778.1006, grad_fn=<MulBackward>)\n",
      "BCE tensor(2733.0364, grad_fn=<BinaryCrossEntropyBackward>)\n",
      "KLD tensor(765.3754, grad_fn=<MulBackward>)\n",
      "BCE tensor(2840.0542, grad_fn=<BinaryCrossEntropyBackward>)\n",
      "KLD tensor(797.8651, grad_fn=<MulBackward>)\n",
      "BCE tensor(2914.3972, grad_fn=<BinaryCrossEntropyBackward>)\n",
      "KLD tensor(817.4800, grad_fn=<MulBackward>)\n",
      "BCE tensor(2596.7336, grad_fn=<BinaryCrossEntropyBackward>)\n",
      "KLD tensor(739.9119, grad_fn=<MulBackward>)\n",
      "BCE tensor(2788.7600, grad_fn=<BinaryCrossEntropyBackward>)\n",
      "KLD tensor(742.5117, grad_fn=<MulBackward>)\n",
      "BCE tensor(2781.2896, grad_fn=<BinaryCrossEntropyBackward>)\n",
      "KLD tensor(771.8970, grad_fn=<MulBackward>)\n",
      "BCE tensor(2867.0449, grad_fn=<BinaryCrossEntropyBackward>)\n",
      "KLD tensor(766.7421, grad_fn=<MulBackward>)\n"
     ]
    },
    {
     "name": "stderr",
     "output_type": "stream",
     "text": [
      "\n",
      "\n",
      "\n",
      "176it [00:04, 43.90it/s]\u001b[A\u001b[A\u001b[A\n",
      "\n",
      "\n",
      "181it [00:04, 43.65it/s]\u001b[A\u001b[A\u001b[A"
     ]
    },
    {
     "name": "stdout",
     "output_type": "stream",
     "text": [
      "BCE tensor(2893.7432, grad_fn=<BinaryCrossEntropyBackward>)\n",
      "KLD tensor(780.2654, grad_fn=<MulBackward>)\n",
      "BCE tensor(2682.4177, grad_fn=<BinaryCrossEntropyBackward>)\n",
      "KLD tensor(777.2432, grad_fn=<MulBackward>)\n",
      "BCE tensor(2983.1135, grad_fn=<BinaryCrossEntropyBackward>)\n",
      "KLD tensor(758.7422, grad_fn=<MulBackward>)\n",
      "BCE tensor(3043.0784, grad_fn=<BinaryCrossEntropyBackward>)\n",
      "KLD tensor(762.7541, grad_fn=<MulBackward>)\n",
      "BCE tensor(2742.4358, grad_fn=<BinaryCrossEntropyBackward>)\n",
      "KLD tensor(806.5131, grad_fn=<MulBackward>)\n",
      "BCE tensor(2836.7456, grad_fn=<BinaryCrossEntropyBackward>)\n",
      "KLD tensor(788.3616, grad_fn=<MulBackward>)\n",
      "BCE tensor(2704.8689, grad_fn=<BinaryCrossEntropyBackward>)\n",
      "KLD tensor(734.8128, grad_fn=<MulBackward>)\n",
      "BCE tensor(2885.5276, grad_fn=<BinaryCrossEntropyBackward>)\n",
      "KLD tensor(769.1006, grad_fn=<MulBackward>)\n",
      "BCE tensor(3009.6113, grad_fn=<BinaryCrossEntropyBackward>)\n",
      "KLD tensor(753.3528, grad_fn=<MulBackward>)\n"
     ]
    },
    {
     "name": "stderr",
     "output_type": "stream",
     "text": [
      "\n",
      "\n",
      "\n",
      "186it [00:04, 43.65it/s]\u001b[A\u001b[A\u001b[A\n",
      "\n",
      "\n",
      "191it [00:04, 43.77it/s]\u001b[A\u001b[A\u001b[A"
     ]
    },
    {
     "name": "stdout",
     "output_type": "stream",
     "text": [
      "BCE tensor(2852.6208, grad_fn=<BinaryCrossEntropyBackward>)\n",
      "KLD tensor(755.6182, grad_fn=<MulBackward>)\n",
      "BCE tensor(3071.2446, grad_fn=<BinaryCrossEntropyBackward>)\n",
      "KLD tensor(715.5881, grad_fn=<MulBackward>)\n",
      "BCE tensor(2649.7856, grad_fn=<BinaryCrossEntropyBackward>)\n",
      "KLD tensor(755.0005, grad_fn=<MulBackward>)\n",
      "BCE tensor(2609.6094, grad_fn=<BinaryCrossEntropyBackward>)\n",
      "KLD tensor(721.6704, grad_fn=<MulBackward>)\n",
      "BCE tensor(2804.0264, grad_fn=<BinaryCrossEntropyBackward>)\n",
      "KLD tensor(736.4005, grad_fn=<MulBackward>)\n",
      "BCE tensor(2759.9456, grad_fn=<BinaryCrossEntropyBackward>)\n",
      "KLD tensor(740.2297, grad_fn=<MulBackward>)\n",
      "BCE tensor(3206.5442, grad_fn=<BinaryCrossEntropyBackward>)\n",
      "KLD tensor(764.1110, grad_fn=<MulBackward>)\n",
      "BCE tensor(2735.7134, grad_fn=<BinaryCrossEntropyBackward>)\n",
      "KLD tensor(766.3764, grad_fn=<MulBackward>)\n",
      "BCE tensor(2989.4443, grad_fn=<BinaryCrossEntropyBackward>)\n",
      "KLD tensor(789.4266, grad_fn=<MulBackward>)\n",
      "BCE tensor(2864.3433, grad_fn=<BinaryCrossEntropyBackward>)\n",
      "KLD tensor(763.9983, grad_fn=<MulBackward>)\n"
     ]
    },
    {
     "name": "stderr",
     "output_type": "stream",
     "text": [
      "\n",
      "\n",
      "\n",
      "196it [00:04, 43.89it/s]\u001b[A\u001b[A\u001b[A\n",
      "\n",
      "\n",
      "201it [00:04, 44.01it/s]\u001b[A\u001b[A\u001b[A"
     ]
    },
    {
     "name": "stdout",
     "output_type": "stream",
     "text": [
      "BCE tensor(2909.8469, grad_fn=<BinaryCrossEntropyBackward>)\n",
      "KLD tensor(735.2855, grad_fn=<MulBackward>)\n",
      "BCE tensor(2725.0920, grad_fn=<BinaryCrossEntropyBackward>)\n",
      "KLD tensor(757.7560, grad_fn=<MulBackward>)\n",
      "BCE tensor(3002.5427, grad_fn=<BinaryCrossEntropyBackward>)\n",
      "KLD tensor(804.7254, grad_fn=<MulBackward>)\n",
      "BCE tensor(3079.0950, grad_fn=<BinaryCrossEntropyBackward>)\n",
      "KLD tensor(845.4293, grad_fn=<MulBackward>)\n",
      "BCE tensor(3011.2358, grad_fn=<BinaryCrossEntropyBackward>)\n",
      "KLD tensor(796.9667, grad_fn=<MulBackward>)\n",
      "BCE tensor(2667.4150, grad_fn=<BinaryCrossEntropyBackward>)\n",
      "KLD tensor(851.6207, grad_fn=<MulBackward>)\n",
      "BCE tensor(2700.4600, grad_fn=<BinaryCrossEntropyBackward>)\n",
      "KLD tensor(760.0643, grad_fn=<MulBackward>)\n",
      "BCE tensor(2562.8770, grad_fn=<BinaryCrossEntropyBackward>)\n",
      "KLD tensor(750.3467, grad_fn=<MulBackward>)\n",
      "BCE tensor(2849.1343, grad_fn=<BinaryCrossEntropyBackward>)\n",
      "KLD tensor(743.4060, grad_fn=<MulBackward>)\n",
      "BCE tensor(2768.7561, grad_fn=<BinaryCrossEntropyBackward>)\n",
      "KLD tensor(740.6582, grad_fn=<MulBackward>)\n"
     ]
    },
    {
     "name": "stderr",
     "output_type": "stream",
     "text": [
      "\n",
      "\n",
      "\n",
      "206it [00:04, 44.08it/s]\u001b[A\u001b[A\u001b[A\n",
      "\n",
      "\n",
      "211it [00:04, 44.18it/s]\u001b[A\u001b[A\u001b[A"
     ]
    },
    {
     "name": "stdout",
     "output_type": "stream",
     "text": [
      "BCE tensor(3023.3652, grad_fn=<BinaryCrossEntropyBackward>)\n",
      "KLD tensor(798.3494, grad_fn=<MulBackward>)\n",
      "BCE tensor(2878.3347, grad_fn=<BinaryCrossEntropyBackward>)\n",
      "KLD tensor(801.7444, grad_fn=<MulBackward>)\n",
      "BCE tensor(2852.6406, grad_fn=<BinaryCrossEntropyBackward>)\n",
      "KLD tensor(754.3376, grad_fn=<MulBackward>)\n",
      "BCE tensor(3154.7202, grad_fn=<BinaryCrossEntropyBackward>)\n",
      "KLD tensor(759.6894, grad_fn=<MulBackward>)\n",
      "BCE tensor(3073.4790, grad_fn=<BinaryCrossEntropyBackward>)\n",
      "KLD tensor(798.5420, grad_fn=<MulBackward>)\n",
      "BCE tensor(3109.2966, grad_fn=<BinaryCrossEntropyBackward>)\n",
      "KLD tensor(760.3151, grad_fn=<MulBackward>)\n",
      "BCE tensor(2714.3726, grad_fn=<BinaryCrossEntropyBackward>)\n",
      "KLD tensor(753.4584, grad_fn=<MulBackward>)\n",
      "BCE tensor(2741.5986, grad_fn=<BinaryCrossEntropyBackward>)\n",
      "KLD tensor(702.6576, grad_fn=<MulBackward>)\n",
      "BCE tensor(2887.2239, grad_fn=<BinaryCrossEntropyBackward>)\n",
      "KLD tensor(779.0739, grad_fn=<MulBackward>)\n",
      "BCE tensor(2811.6909, grad_fn=<BinaryCrossEntropyBackward>)\n",
      "KLD tensor(773.5903, grad_fn=<MulBackward>)\n"
     ]
    },
    {
     "name": "stderr",
     "output_type": "stream",
     "text": [
      "\n",
      "\n",
      "\n",
      "216it [00:04, 44.26it/s]\u001b[A\u001b[A\u001b[A\n",
      "\n",
      "\n",
      "221it [00:04, 44.31it/s]\u001b[A\u001b[A\u001b[A"
     ]
    },
    {
     "name": "stdout",
     "output_type": "stream",
     "text": [
      "BCE tensor(2817.0349, grad_fn=<BinaryCrossEntropyBackward>)\n",
      "KLD tensor(792.5693, grad_fn=<MulBackward>)\n",
      "BCE tensor(2800.9011, grad_fn=<BinaryCrossEntropyBackward>)\n",
      "KLD tensor(774.7689, grad_fn=<MulBackward>)\n",
      "BCE tensor(2975.1541, grad_fn=<BinaryCrossEntropyBackward>)\n",
      "KLD tensor(813.5676, grad_fn=<MulBackward>)\n",
      "BCE tensor(3076.8062, grad_fn=<BinaryCrossEntropyBackward>)\n",
      "KLD tensor(801.3315, grad_fn=<MulBackward>)\n",
      "BCE tensor(2838.2178, grad_fn=<BinaryCrossEntropyBackward>)\n",
      "KLD tensor(771.1415, grad_fn=<MulBackward>)\n",
      "BCE tensor(2784.9819, grad_fn=<BinaryCrossEntropyBackward>)\n",
      "KLD tensor(789.2080, grad_fn=<MulBackward>)\n",
      "BCE tensor(3179.4805, grad_fn=<BinaryCrossEntropyBackward>)\n",
      "KLD tensor(797.8605, grad_fn=<MulBackward>)\n",
      "BCE tensor(2798.6213, grad_fn=<BinaryCrossEntropyBackward>)\n",
      "KLD tensor(774.4244, grad_fn=<MulBackward>)\n",
      "BCE tensor(2988.9436, grad_fn=<BinaryCrossEntropyBackward>)\n",
      "KLD tensor(805.2286, grad_fn=<MulBackward>)\n",
      "BCE tensor(2856.2034, grad_fn=<BinaryCrossEntropyBackward>)\n",
      "KLD tensor(771.6553, grad_fn=<MulBackward>)\n"
     ]
    },
    {
     "name": "stderr",
     "output_type": "stream",
     "text": [
      "\n",
      "\n",
      "\n",
      "226it [00:05, 44.32it/s]\u001b[A\u001b[A\u001b[A\n",
      "\n",
      "\n",
      "231it [00:05, 44.34it/s]\u001b[A\u001b[A\u001b[A"
     ]
    },
    {
     "name": "stdout",
     "output_type": "stream",
     "text": [
      "BCE tensor(2854.7646, grad_fn=<BinaryCrossEntropyBackward>)\n",
      "KLD tensor(798.3247, grad_fn=<MulBackward>)\n",
      "BCE tensor(2738.3003, grad_fn=<BinaryCrossEntropyBackward>)\n",
      "KLD tensor(826.6417, grad_fn=<MulBackward>)\n",
      "BCE tensor(2687.8455, grad_fn=<BinaryCrossEntropyBackward>)\n",
      "KLD tensor(754.5023, grad_fn=<MulBackward>)\n",
      "BCE tensor(2783.0381, grad_fn=<BinaryCrossEntropyBackward>)\n",
      "KLD tensor(748.7949, grad_fn=<MulBackward>)\n",
      "BCE tensor(2976.6528, grad_fn=<BinaryCrossEntropyBackward>)\n",
      "KLD tensor(781.2367, grad_fn=<MulBackward>)\n",
      "BCE tensor(2916.0181, grad_fn=<BinaryCrossEntropyBackward>)\n",
      "KLD tensor(809.3807, grad_fn=<MulBackward>)\n",
      "BCE tensor(2706.0193, grad_fn=<BinaryCrossEntropyBackward>)\n",
      "KLD tensor(730.4970, grad_fn=<MulBackward>)\n",
      "BCE tensor(3093.1680, grad_fn=<BinaryCrossEntropyBackward>)\n",
      "KLD tensor(790.3800, grad_fn=<MulBackward>)\n",
      "BCE tensor(3070.8110, grad_fn=<BinaryCrossEntropyBackward>)\n",
      "KLD tensor(785.7336, grad_fn=<MulBackward>)\n",
      "BCE tensor(2994.8054, grad_fn=<BinaryCrossEntropyBackward>)\n",
      "KLD tensor(695.5524, grad_fn=<MulBackward>)\n"
     ]
    },
    {
     "name": "stderr",
     "output_type": "stream",
     "text": [
      "\n",
      "\n",
      "\n",
      "236it [00:05, 44.40it/s]\u001b[A\u001b[A\u001b[A\n",
      "\n",
      "\n",
      "241it [00:05, 44.45it/s]\u001b[A\u001b[A\u001b[A"
     ]
    },
    {
     "name": "stdout",
     "output_type": "stream",
     "text": [
      "BCE tensor(2683.6702, grad_fn=<BinaryCrossEntropyBackward>)\n",
      "KLD tensor(710.8939, grad_fn=<MulBackward>)\n",
      "BCE tensor(2693.9841, grad_fn=<BinaryCrossEntropyBackward>)\n",
      "KLD tensor(723.2568, grad_fn=<MulBackward>)\n",
      "BCE tensor(2625.4934, grad_fn=<BinaryCrossEntropyBackward>)\n",
      "KLD tensor(688.2509, grad_fn=<MulBackward>)\n",
      "BCE tensor(3133.4727, grad_fn=<BinaryCrossEntropyBackward>)\n",
      "KLD tensor(788.8629, grad_fn=<MulBackward>)\n",
      "BCE tensor(2674.0166, grad_fn=<BinaryCrossEntropyBackward>)\n",
      "KLD tensor(746.1911, grad_fn=<MulBackward>)\n",
      "BCE tensor(2731.0459, grad_fn=<BinaryCrossEntropyBackward>)\n",
      "KLD tensor(761.6991, grad_fn=<MulBackward>)\n",
      "BCE tensor(2568.6926, grad_fn=<BinaryCrossEntropyBackward>)\n",
      "KLD tensor(744.0332, grad_fn=<MulBackward>)\n",
      "BCE tensor(2750.8962, grad_fn=<BinaryCrossEntropyBackward>)\n",
      "KLD tensor(773.3427, grad_fn=<MulBackward>)\n",
      "BCE tensor(2937.8567, grad_fn=<BinaryCrossEntropyBackward>)\n",
      "KLD tensor(741.5732, grad_fn=<MulBackward>)\n",
      "BCE tensor(2950.6782, grad_fn=<BinaryCrossEntropyBackward>)\n",
      "KLD tensor(832.0907, grad_fn=<MulBackward>)\n"
     ]
    },
    {
     "name": "stderr",
     "output_type": "stream",
     "text": [
      "\n",
      "\n",
      "\n",
      "246it [00:05, 44.47it/s]\u001b[A\u001b[A\u001b[A\n",
      "\n",
      "\n",
      "251it [00:05, 44.43it/s]\u001b[A\u001b[A\u001b[A"
     ]
    },
    {
     "name": "stdout",
     "output_type": "stream",
     "text": [
      "BCE tensor(2895.7319, grad_fn=<BinaryCrossEntropyBackward>)\n",
      "KLD tensor(778.8040, grad_fn=<MulBackward>)\n",
      "BCE tensor(2775.5811, grad_fn=<BinaryCrossEntropyBackward>)\n",
      "KLD tensor(807.0635, grad_fn=<MulBackward>)\n",
      "BCE tensor(2793.5105, grad_fn=<BinaryCrossEntropyBackward>)\n",
      "KLD tensor(765.8797, grad_fn=<MulBackward>)\n",
      "BCE tensor(2883.3103, grad_fn=<BinaryCrossEntropyBackward>)\n",
      "KLD tensor(784.7382, grad_fn=<MulBackward>)\n",
      "BCE tensor(2970.3391, grad_fn=<BinaryCrossEntropyBackward>)\n",
      "KLD tensor(809.9353, grad_fn=<MulBackward>)\n",
      "BCE tensor(2820.7881, grad_fn=<BinaryCrossEntropyBackward>)\n",
      "KLD tensor(800.7954, grad_fn=<MulBackward>)\n",
      "BCE tensor(2839.8481, grad_fn=<BinaryCrossEntropyBackward>)\n",
      "KLD tensor(794.4330, grad_fn=<MulBackward>)\n",
      "BCE tensor(2621.5469, grad_fn=<BinaryCrossEntropyBackward>)\n",
      "KLD tensor(771.9547, grad_fn=<MulBackward>)\n",
      "BCE tensor(2745.6135, grad_fn=<BinaryCrossEntropyBackward>)\n",
      "KLD tensor(763.9021, grad_fn=<MulBackward>)\n"
     ]
    },
    {
     "name": "stderr",
     "output_type": "stream",
     "text": [
      "\n",
      "\n",
      "\n",
      "256it [00:05, 44.47it/s]\u001b[A\u001b[A\u001b[A\n",
      "\n",
      "\n",
      "261it [00:05, 44.53it/s]\u001b[A\u001b[A\u001b[A"
     ]
    },
    {
     "name": "stdout",
     "output_type": "stream",
     "text": [
      "BCE tensor(2841.7126, grad_fn=<BinaryCrossEntropyBackward>)\n",
      "KLD tensor(786.1849, grad_fn=<MulBackward>)\n",
      "BCE tensor(2740.7327, grad_fn=<BinaryCrossEntropyBackward>)\n",
      "KLD tensor(751.7557, grad_fn=<MulBackward>)\n",
      "BCE tensor(2790.7454, grad_fn=<BinaryCrossEntropyBackward>)\n",
      "KLD tensor(767.9576, grad_fn=<MulBackward>)\n",
      "BCE tensor(2955.8252, grad_fn=<BinaryCrossEntropyBackward>)\n",
      "KLD tensor(772.4329, grad_fn=<MulBackward>)\n",
      "BCE tensor(2833.8127, grad_fn=<BinaryCrossEntropyBackward>)\n",
      "KLD tensor(795.6940, grad_fn=<MulBackward>)\n",
      "BCE tensor(2702.6482, grad_fn=<BinaryCrossEntropyBackward>)\n",
      "KLD tensor(704.3195, grad_fn=<MulBackward>)\n",
      "BCE tensor(2669.4934, grad_fn=<BinaryCrossEntropyBackward>)\n",
      "KLD tensor(790.8586, grad_fn=<MulBackward>)\n",
      "BCE tensor(2874.7764, grad_fn=<BinaryCrossEntropyBackward>)\n",
      "KLD tensor(788.2312, grad_fn=<MulBackward>)\n",
      "BCE tensor(2633.7598, grad_fn=<BinaryCrossEntropyBackward>)\n",
      "KLD tensor(800.5333, grad_fn=<MulBackward>)\n",
      "BCE tensor(2617.6370, grad_fn=<BinaryCrossEntropyBackward>)\n",
      "KLD tensor(763.3829, grad_fn=<MulBackward>)\n"
     ]
    },
    {
     "name": "stderr",
     "output_type": "stream",
     "text": [
      "\n",
      "\n",
      "\n",
      "266it [00:05, 44.60it/s]\u001b[A\u001b[A\u001b[A\n",
      "\n",
      "\n",
      "271it [00:06, 44.61it/s]\u001b[A\u001b[A\u001b[A"
     ]
    },
    {
     "name": "stdout",
     "output_type": "stream",
     "text": [
      "BCE tensor(3045.3647, grad_fn=<BinaryCrossEntropyBackward>)\n",
      "KLD tensor(773.3031, grad_fn=<MulBackward>)\n",
      "BCE tensor(2977.9426, grad_fn=<BinaryCrossEntropyBackward>)\n",
      "KLD tensor(754.0231, grad_fn=<MulBackward>)\n",
      "BCE tensor(2583.5422, grad_fn=<BinaryCrossEntropyBackward>)\n",
      "KLD tensor(708.8035, grad_fn=<MulBackward>)\n",
      "BCE tensor(3021.7490, grad_fn=<BinaryCrossEntropyBackward>)\n",
      "KLD tensor(791.7504, grad_fn=<MulBackward>)\n",
      "BCE tensor(2846.6890, grad_fn=<BinaryCrossEntropyBackward>)\n",
      "KLD tensor(784.9947, grad_fn=<MulBackward>)\n",
      "BCE tensor(2623.6340, grad_fn=<BinaryCrossEntropyBackward>)\n",
      "KLD tensor(765.4720, grad_fn=<MulBackward>)\n",
      "BCE tensor(2780.3455, grad_fn=<BinaryCrossEntropyBackward>)\n",
      "KLD tensor(781.3177, grad_fn=<MulBackward>)\n",
      "BCE tensor(2926.0078, grad_fn=<BinaryCrossEntropyBackward>)\n",
      "KLD tensor(771.1957, grad_fn=<MulBackward>)\n",
      "BCE tensor(3038.4592, grad_fn=<BinaryCrossEntropyBackward>)\n",
      "KLD tensor(791.6331, grad_fn=<MulBackward>)\n"
     ]
    },
    {
     "name": "stderr",
     "output_type": "stream",
     "text": [
      "\n",
      "\n",
      "\n",
      "276it [00:06, 44.22it/s]\u001b[A\u001b[A\u001b[A\n",
      "\n",
      "\n",
      "281it [00:06, 44.19it/s]\u001b[A\u001b[A\u001b[A"
     ]
    },
    {
     "name": "stdout",
     "output_type": "stream",
     "text": [
      "BCE tensor(2884.3391, grad_fn=<BinaryCrossEntropyBackward>)\n",
      "KLD tensor(773.0695, grad_fn=<MulBackward>)\n",
      "BCE tensor(2964.4272, grad_fn=<BinaryCrossEntropyBackward>)\n",
      "KLD tensor(762.7703, grad_fn=<MulBackward>)\n",
      "BCE tensor(2480.1807, grad_fn=<BinaryCrossEntropyBackward>)\n",
      "KLD tensor(741.8652, grad_fn=<MulBackward>)\n",
      "BCE tensor(2863.2336, grad_fn=<BinaryCrossEntropyBackward>)\n",
      "KLD tensor(775.7513, grad_fn=<MulBackward>)\n",
      "BCE tensor(3036.9099, grad_fn=<BinaryCrossEntropyBackward>)\n",
      "KLD tensor(779.2431, grad_fn=<MulBackward>)\n",
      "BCE tensor(2821.3076, grad_fn=<BinaryCrossEntropyBackward>)\n",
      "KLD tensor(784.7037, grad_fn=<MulBackward>)\n",
      "BCE tensor(2840.0337, grad_fn=<BinaryCrossEntropyBackward>)\n",
      "KLD tensor(769.6913, grad_fn=<MulBackward>)\n",
      "BCE tensor(2674.6621, grad_fn=<BinaryCrossEntropyBackward>)\n",
      "KLD tensor(754.5324, grad_fn=<MulBackward>)\n",
      "BCE tensor(2914.8542, grad_fn=<BinaryCrossEntropyBackward>)\n",
      "KLD tensor(733.5735, grad_fn=<MulBackward>)\n"
     ]
    },
    {
     "name": "stderr",
     "output_type": "stream",
     "text": [
      "\n",
      "\n",
      "\n",
      "286it [00:06, 44.26it/s]\u001b[A\u001b[A\u001b[A\n",
      "\n",
      "\n",
      "292it [00:06, 44.38it/s]\u001b[A\u001b[A\u001b[A"
     ]
    },
    {
     "name": "stdout",
     "output_type": "stream",
     "text": [
      "BCE tensor(2934.0332, grad_fn=<BinaryCrossEntropyBackward>)\n",
      "KLD tensor(765.5686, grad_fn=<MulBackward>)\n",
      "BCE tensor(2855.4197, grad_fn=<BinaryCrossEntropyBackward>)\n",
      "KLD tensor(784.5175, grad_fn=<MulBackward>)\n",
      "BCE tensor(2708.6667, grad_fn=<BinaryCrossEntropyBackward>)\n",
      "KLD tensor(754.2676, grad_fn=<MulBackward>)\n",
      "BCE tensor(3064.1172, grad_fn=<BinaryCrossEntropyBackward>)\n",
      "KLD tensor(793.1989, grad_fn=<MulBackward>)\n",
      "BCE tensor(2976.4692, grad_fn=<BinaryCrossEntropyBackward>)\n",
      "KLD tensor(785.4548, grad_fn=<MulBackward>)\n",
      "BCE tensor(2825.3828, grad_fn=<BinaryCrossEntropyBackward>)\n",
      "KLD tensor(758.5697, grad_fn=<MulBackward>)\n",
      "BCE tensor(2944.4832, grad_fn=<BinaryCrossEntropyBackward>)\n",
      "KLD tensor(764.4754, grad_fn=<MulBackward>)\n",
      "BCE tensor(2715.1426, grad_fn=<BinaryCrossEntropyBackward>)\n",
      "KLD tensor(721.2507, grad_fn=<MulBackward>)\n",
      "BCE tensor(2885.8811, grad_fn=<BinaryCrossEntropyBackward>)\n",
      "KLD tensor(797.1331, grad_fn=<MulBackward>)\n",
      "BCE tensor(2917.6077, grad_fn=<BinaryCrossEntropyBackward>)\n",
      "KLD tensor(792.1868, grad_fn=<MulBackward>)\n",
      "BCE tensor(2914.1094, grad_fn=<BinaryCrossEntropyBackward>)\n"
     ]
    },
    {
     "name": "stderr",
     "output_type": "stream",
     "text": [
      "\n",
      "\n",
      "\n",
      "297it [00:06, 44.45it/s]\u001b[A\u001b[A\u001b[A"
     ]
    },
    {
     "name": "stdout",
     "output_type": "stream",
     "text": [
      "KLD tensor(762.3987, grad_fn=<MulBackward>)\n",
      "BCE tensor(2804.6509, grad_fn=<BinaryCrossEntropyBackward>)\n",
      "KLD tensor(815.3677, grad_fn=<MulBackward>)\n",
      "BCE tensor(2889.4497, grad_fn=<BinaryCrossEntropyBackward>)\n",
      "KLD tensor(755.8452, grad_fn=<MulBackward>)\n",
      "BCE tensor(2980.7380, grad_fn=<BinaryCrossEntropyBackward>)\n",
      "KLD tensor(760.5929, grad_fn=<MulBackward>)\n",
      "BCE tensor(2881.2407, grad_fn=<BinaryCrossEntropyBackward>)\n",
      "KLD tensor(784.8796, grad_fn=<MulBackward>)\n",
      "BCE tensor(2782.3486, grad_fn=<BinaryCrossEntropyBackward>)\n",
      "KLD tensor(735.0969, grad_fn=<MulBackward>)\n",
      "BCE tensor(2922.6497, grad_fn=<BinaryCrossEntropyBackward>)\n",
      "KLD tensor(774.9879, grad_fn=<MulBackward>)\n",
      "BCE tensor(3068.3713, grad_fn=<BinaryCrossEntropyBackward>)\n",
      "KLD tensor(775.1393, grad_fn=<MulBackward>)\n",
      "BCE tensor(3087.7886, grad_fn=<BinaryCrossEntropyBackward>)\n",
      "KLD tensor(812.0941, grad_fn=<MulBackward>)\n",
      "BCE tensor(2832.5400, grad_fn=<BinaryCrossEntropyBackward>)\n",
      "KLD tensor(837.8557, grad_fn=<MulBackward>)\n",
      "BCE tensor(2688.7090, grad_fn=<BinaryCrossEntropyBackward>)\n",
      "KLD tensor(807.6078, grad_fn=<MulBackward>)\n"
     ]
    },
    {
     "name": "stderr",
     "output_type": "stream",
     "text": [
      "\n",
      "\n",
      "\n",
      "303it [00:06, 44.57it/s]\u001b[A\u001b[A\u001b[A\n",
      "\n",
      "\n",
      "309it [00:06, 44.68it/s]\u001b[A\u001b[A\u001b[A"
     ]
    },
    {
     "name": "stdout",
     "output_type": "stream",
     "text": [
      "BCE tensor(2961.2012, grad_fn=<BinaryCrossEntropyBackward>)\n",
      "KLD tensor(845.1382, grad_fn=<MulBackward>)\n",
      "BCE tensor(2525.0532, grad_fn=<BinaryCrossEntropyBackward>)\n",
      "KLD tensor(752.4951, grad_fn=<MulBackward>)\n",
      "BCE tensor(3063.9526, grad_fn=<BinaryCrossEntropyBackward>)\n",
      "KLD tensor(806.4383, grad_fn=<MulBackward>)\n",
      "BCE tensor(2831.6379, grad_fn=<BinaryCrossEntropyBackward>)\n",
      "KLD tensor(800.0859, grad_fn=<MulBackward>)\n",
      "BCE tensor(2769.1494, grad_fn=<BinaryCrossEntropyBackward>)\n",
      "KLD tensor(751.9681, grad_fn=<MulBackward>)\n",
      "BCE tensor(2839.1843, grad_fn=<BinaryCrossEntropyBackward>)\n",
      "KLD tensor(768.9575, grad_fn=<MulBackward>)\n",
      "BCE tensor(2818.2388, grad_fn=<BinaryCrossEntropyBackward>)\n",
      "KLD tensor(802.5392, grad_fn=<MulBackward>)\n",
      "BCE tensor(2682.9956, grad_fn=<BinaryCrossEntropyBackward>)\n",
      "KLD tensor(762.4465, grad_fn=<MulBackward>)\n",
      "BCE tensor(2772.0010, grad_fn=<BinaryCrossEntropyBackward>)\n",
      "KLD tensor(758.4653, grad_fn=<MulBackward>)\n",
      "BCE tensor(2646.8469, grad_fn=<BinaryCrossEntropyBackward>)\n",
      "KLD tensor(770.4973, grad_fn=<MulBackward>)\n",
      "BCE tensor(2829.0981, grad_fn=<BinaryCrossEntropyBackward>)\n",
      "KLD tensor(742.8612, grad_fn=<MulBackward>)\n"
     ]
    },
    {
     "name": "stderr",
     "output_type": "stream",
     "text": [
      "\n",
      "\n",
      "\n",
      "314it [00:07, 44.74it/s]\u001b[A\u001b[A\u001b[A\n",
      "\n",
      "\n",
      "319it [00:07, 44.79it/s]\u001b[A\u001b[A\u001b[A\n",
      "\n",
      "\n",
      "324it [00:07, 44.85it/s]\u001b[A\u001b[A\u001b[A"
     ]
    },
    {
     "name": "stdout",
     "output_type": "stream",
     "text": [
      "BCE tensor(2771.3501, grad_fn=<BinaryCrossEntropyBackward>)\n",
      "KLD tensor(766.5380, grad_fn=<MulBackward>)\n",
      "BCE tensor(2855.1157, grad_fn=<BinaryCrossEntropyBackward>)\n",
      "KLD tensor(762.4886, grad_fn=<MulBackward>)\n",
      "BCE tensor(3061.5166, grad_fn=<BinaryCrossEntropyBackward>)\n",
      "KLD tensor(784.1462, grad_fn=<MulBackward>)\n",
      "BCE tensor(2617.6553, grad_fn=<BinaryCrossEntropyBackward>)\n",
      "KLD tensor(749.1736, grad_fn=<MulBackward>)\n",
      "BCE tensor(2906.5725, grad_fn=<BinaryCrossEntropyBackward>)\n",
      "KLD tensor(774.0252, grad_fn=<MulBackward>)\n",
      "BCE tensor(2913.2312, grad_fn=<BinaryCrossEntropyBackward>)\n",
      "KLD tensor(783.0992, grad_fn=<MulBackward>)\n",
      "BCE tensor(2794.1543, grad_fn=<BinaryCrossEntropyBackward>)\n",
      "KLD tensor(753.6191, grad_fn=<MulBackward>)\n",
      "BCE tensor(2792.4080, grad_fn=<BinaryCrossEntropyBackward>)\n",
      "KLD tensor(757.7026, grad_fn=<MulBackward>)\n",
      "BCE tensor(2740.4175, grad_fn=<BinaryCrossEntropyBackward>)\n",
      "KLD tensor(780.3797, grad_fn=<MulBackward>)\n",
      "BCE tensor(2742.6008, grad_fn=<BinaryCrossEntropyBackward>)\n",
      "KLD tensor(789.3538, grad_fn=<MulBackward>)\n"
     ]
    },
    {
     "name": "stderr",
     "output_type": "stream",
     "text": [
      "\n",
      "\n",
      "\n",
      "329it [00:07, 44.89it/s]\u001b[A\u001b[A\u001b[A"
     ]
    },
    {
     "name": "stdout",
     "output_type": "stream",
     "text": [
      "BCE tensor(2818.4294, grad_fn=<BinaryCrossEntropyBackward>)\n",
      "KLD tensor(798.4134, grad_fn=<MulBackward>)\n",
      "BCE tensor(3017.0959, grad_fn=<BinaryCrossEntropyBackward>)\n",
      "KLD tensor(808.3980, grad_fn=<MulBackward>)\n",
      "BCE tensor(2857.5696, grad_fn=<BinaryCrossEntropyBackward>)\n",
      "KLD tensor(767.9578, grad_fn=<MulBackward>)\n",
      "BCE tensor(2950.8118, grad_fn=<BinaryCrossEntropyBackward>)\n",
      "KLD tensor(839.7469, grad_fn=<MulBackward>)\n",
      "BCE tensor(2650.2419, grad_fn=<BinaryCrossEntropyBackward>)\n",
      "KLD tensor(772.8975, grad_fn=<MulBackward>)\n",
      "BCE tensor(2966.8945, grad_fn=<BinaryCrossEntropyBackward>)\n",
      "KLD tensor(795.1106, grad_fn=<MulBackward>)\n",
      "BCE tensor(2966.8391, grad_fn=<BinaryCrossEntropyBackward>)\n",
      "KLD tensor(816.5334, grad_fn=<MulBackward>)\n",
      "BCE tensor(2669.3059, grad_fn=<BinaryCrossEntropyBackward>)\n",
      "KLD tensor(747.7004, grad_fn=<MulBackward>)\n",
      "BCE tensor(2711.0151, grad_fn=<BinaryCrossEntropyBackward>)\n",
      "KLD tensor(776.5216, grad_fn=<MulBackward>)\n",
      "BCE tensor(2898.7097, grad_fn=<BinaryCrossEntropyBackward>)\n",
      "KLD tensor(767.6237, grad_fn=<MulBackward>)\n"
     ]
    },
    {
     "name": "stderr",
     "output_type": "stream",
     "text": [
      "\n",
      "\n",
      "\n",
      "334it [00:07, 44.89it/s]\u001b[A\u001b[A\u001b[A\n",
      "\n",
      "\n",
      "339it [00:07, 44.89it/s]\u001b[A\u001b[A\u001b[A"
     ]
    },
    {
     "name": "stdout",
     "output_type": "stream",
     "text": [
      "BCE tensor(2665.6108, grad_fn=<BinaryCrossEntropyBackward>)\n",
      "KLD tensor(768.3954, grad_fn=<MulBackward>)\n",
      "BCE tensor(2864.6560, grad_fn=<BinaryCrossEntropyBackward>)\n",
      "KLD tensor(786.6994, grad_fn=<MulBackward>)\n",
      "BCE tensor(2930.4438, grad_fn=<BinaryCrossEntropyBackward>)\n",
      "KLD tensor(787.2177, grad_fn=<MulBackward>)\n",
      "BCE tensor(2914.2375, grad_fn=<BinaryCrossEntropyBackward>)\n",
      "KLD tensor(782.0424, grad_fn=<MulBackward>)\n",
      "BCE tensor(2913.9990, grad_fn=<BinaryCrossEntropyBackward>)\n",
      "KLD tensor(779.1240, grad_fn=<MulBackward>)\n",
      "BCE tensor(2520.4651, grad_fn=<BinaryCrossEntropyBackward>)\n",
      "KLD tensor(715.1263, grad_fn=<MulBackward>)\n",
      "BCE tensor(2956.9365, grad_fn=<BinaryCrossEntropyBackward>)\n",
      "KLD tensor(761.4037, grad_fn=<MulBackward>)\n",
      "BCE tensor(2746.9749, grad_fn=<BinaryCrossEntropyBackward>)\n",
      "KLD tensor(766.8483, grad_fn=<MulBackward>)\n",
      "BCE tensor(3061.7957, grad_fn=<BinaryCrossEntropyBackward>)\n",
      "KLD tensor(776.4195, grad_fn=<MulBackward>)\n",
      "BCE tensor(2577.6482, grad_fn=<BinaryCrossEntropyBackward>)\n",
      "KLD tensor(773.4134, grad_fn=<MulBackward>)\n"
     ]
    },
    {
     "name": "stderr",
     "output_type": "stream",
     "text": [
      "\n",
      "\n",
      "\n",
      "344it [00:07, 44.93it/s]\u001b[A\u001b[A\u001b[A\n",
      "\n",
      "\n",
      "349it [00:07, 44.97it/s]\u001b[A\u001b[A\u001b[A\n",
      "\n",
      "\n",
      "354it [00:07, 45.03it/s]\u001b[A\u001b[A\u001b[A"
     ]
    },
    {
     "name": "stdout",
     "output_type": "stream",
     "text": [
      "BCE tensor(2987.5474, grad_fn=<BinaryCrossEntropyBackward>)\n",
      "KLD tensor(817.2028, grad_fn=<MulBackward>)\n",
      "BCE tensor(2863.3516, grad_fn=<BinaryCrossEntropyBackward>)\n",
      "KLD tensor(846.2362, grad_fn=<MulBackward>)\n",
      "BCE tensor(2768.5442, grad_fn=<BinaryCrossEntropyBackward>)\n",
      "KLD tensor(783.5429, grad_fn=<MulBackward>)\n",
      "BCE tensor(2798.2629, grad_fn=<BinaryCrossEntropyBackward>)\n",
      "KLD tensor(797.3439, grad_fn=<MulBackward>)\n",
      "BCE tensor(2682.2266, grad_fn=<BinaryCrossEntropyBackward>)\n",
      "KLD tensor(755.7460, grad_fn=<MulBackward>)\n",
      "BCE tensor(2707.2344, grad_fn=<BinaryCrossEntropyBackward>)\n",
      "KLD tensor(795.8937, grad_fn=<MulBackward>)\n",
      "BCE tensor(2758.3198, grad_fn=<BinaryCrossEntropyBackward>)\n",
      "KLD tensor(770.1174, grad_fn=<MulBackward>)\n",
      "BCE tensor(2875.8142, grad_fn=<BinaryCrossEntropyBackward>)\n",
      "KLD tensor(806.3534, grad_fn=<MulBackward>)\n",
      "BCE tensor(2826.2563, grad_fn=<BinaryCrossEntropyBackward>)\n",
      "KLD tensor(781.5781, grad_fn=<MulBackward>)\n",
      "BCE tensor(2862.2246, grad_fn=<BinaryCrossEntropyBackward>)\n",
      "KLD tensor(811.2853, grad_fn=<MulBackward>)\n"
     ]
    },
    {
     "name": "stderr",
     "output_type": "stream",
     "text": [
      "\n",
      "\n",
      "\n",
      "359it [00:07, 45.06it/s]\u001b[A\u001b[A\u001b[A"
     ]
    },
    {
     "name": "stdout",
     "output_type": "stream",
     "text": [
      "BCE tensor(2813.4202, grad_fn=<BinaryCrossEntropyBackward>)\n",
      "KLD tensor(715.4495, grad_fn=<MulBackward>)\n",
      "BCE tensor(3100.8450, grad_fn=<BinaryCrossEntropyBackward>)\n",
      "KLD tensor(765.6960, grad_fn=<MulBackward>)\n",
      "BCE tensor(2694.9429, grad_fn=<BinaryCrossEntropyBackward>)\n",
      "KLD tensor(727.3901, grad_fn=<MulBackward>)\n",
      "BCE tensor(2954.9141, grad_fn=<BinaryCrossEntropyBackward>)\n",
      "KLD tensor(763.4368, grad_fn=<MulBackward>)\n",
      "BCE tensor(2872.9441, grad_fn=<BinaryCrossEntropyBackward>)\n",
      "KLD tensor(806.3044, grad_fn=<MulBackward>)\n",
      "BCE tensor(2961.0637, grad_fn=<BinaryCrossEntropyBackward>)\n",
      "KLD tensor(817.4374, grad_fn=<MulBackward>)\n",
      "BCE tensor(2806.3499, grad_fn=<BinaryCrossEntropyBackward>)\n",
      "KLD tensor(702.1478, grad_fn=<MulBackward>)\n",
      "BCE tensor(2950.9329, grad_fn=<BinaryCrossEntropyBackward>)\n",
      "KLD tensor(786.0298, grad_fn=<MulBackward>)\n",
      "BCE tensor(2785.1311, grad_fn=<BinaryCrossEntropyBackward>)\n",
      "KLD tensor(786.7617, grad_fn=<MulBackward>)\n",
      "BCE tensor(2749.1169, grad_fn=<BinaryCrossEntropyBackward>)\n",
      "KLD tensor(752.6532, grad_fn=<MulBackward>)\n"
     ]
    },
    {
     "name": "stderr",
     "output_type": "stream",
     "text": [
      "\n",
      "\n",
      "\n",
      "364it [00:08, 45.07it/s]\u001b[A\u001b[A\u001b[A\n",
      "\n",
      "\n",
      "369it [00:08, 45.07it/s]\u001b[A\u001b[A\u001b[A"
     ]
    },
    {
     "name": "stdout",
     "output_type": "stream",
     "text": [
      "BCE tensor(2700.0137, grad_fn=<BinaryCrossEntropyBackward>)\n",
      "KLD tensor(797.3264, grad_fn=<MulBackward>)\n",
      "BCE tensor(2957.1890, grad_fn=<BinaryCrossEntropyBackward>)\n",
      "KLD tensor(762.2620, grad_fn=<MulBackward>)\n",
      "BCE tensor(3260.3625, grad_fn=<BinaryCrossEntropyBackward>)\n",
      "KLD tensor(756.0863, grad_fn=<MulBackward>)\n",
      "BCE tensor(3103.7566, grad_fn=<BinaryCrossEntropyBackward>)\n",
      "KLD tensor(776.3562, grad_fn=<MulBackward>)\n",
      "BCE tensor(2717.8311, grad_fn=<BinaryCrossEntropyBackward>)\n",
      "KLD tensor(768.5677, grad_fn=<MulBackward>)\n",
      "BCE tensor(2662.7944, grad_fn=<BinaryCrossEntropyBackward>)\n",
      "KLD tensor(772.1646, grad_fn=<MulBackward>)\n",
      "BCE tensor(3042.9980, grad_fn=<BinaryCrossEntropyBackward>)\n",
      "KLD tensor(819.5739, grad_fn=<MulBackward>)\n",
      "BCE tensor(2816.0442, grad_fn=<BinaryCrossEntropyBackward>)\n",
      "KLD tensor(782.8408, grad_fn=<MulBackward>)\n",
      "BCE tensor(2826.4204, grad_fn=<BinaryCrossEntropyBackward>)\n",
      "KLD tensor(803.3594, grad_fn=<MulBackward>)\n"
     ]
    },
    {
     "name": "stderr",
     "output_type": "stream",
     "text": [
      "\n",
      "\n",
      "\n",
      "374it [00:08, 44.94it/s]\u001b[A\u001b[A\u001b[A\n",
      "\n",
      "\n",
      "379it [00:08, 44.76it/s]\u001b[A\u001b[A\u001b[A"
     ]
    },
    {
     "name": "stdout",
     "output_type": "stream",
     "text": [
      "BCE tensor(2647.1890, grad_fn=<BinaryCrossEntropyBackward>)\n",
      "KLD tensor(808.7971, grad_fn=<MulBackward>)\n",
      "BCE tensor(2845.3396, grad_fn=<BinaryCrossEntropyBackward>)\n",
      "KLD tensor(772.7439, grad_fn=<MulBackward>)\n",
      "BCE tensor(3038.8694, grad_fn=<BinaryCrossEntropyBackward>)\n",
      "KLD tensor(781.1661, grad_fn=<MulBackward>)\n",
      "BCE tensor(2812.7979, grad_fn=<BinaryCrossEntropyBackward>)\n",
      "KLD tensor(758.2404, grad_fn=<MulBackward>)\n",
      "BCE tensor(2964.4829, grad_fn=<BinaryCrossEntropyBackward>)\n",
      "KLD tensor(754.2650, grad_fn=<MulBackward>)\n",
      "BCE tensor(2667.7310, grad_fn=<BinaryCrossEntropyBackward>)\n",
      "KLD tensor(747.5797, grad_fn=<MulBackward>)\n",
      "BCE tensor(2798.8220, grad_fn=<BinaryCrossEntropyBackward>)\n",
      "KLD tensor(809.7188, grad_fn=<MulBackward>)\n"
     ]
    },
    {
     "name": "stderr",
     "output_type": "stream",
     "text": [
      "\n",
      "\n",
      "\n",
      "384it [00:08, 44.78it/s]\u001b[A\u001b[A\u001b[A\n",
      "\n",
      "\n",
      "389it [00:08, 44.77it/s]\u001b[A\u001b[A\u001b[A"
     ]
    },
    {
     "name": "stdout",
     "output_type": "stream",
     "text": [
      "BCE tensor(2636.7764, grad_fn=<BinaryCrossEntropyBackward>)\n",
      "KLD tensor(762.4985, grad_fn=<MulBackward>)\n",
      "BCE tensor(2663.9265, grad_fn=<BinaryCrossEntropyBackward>)\n",
      "KLD tensor(792.7337, grad_fn=<MulBackward>)\n",
      "BCE tensor(2793.3303, grad_fn=<BinaryCrossEntropyBackward>)\n",
      "KLD tensor(789.9647, grad_fn=<MulBackward>)\n",
      "BCE tensor(2941.0850, grad_fn=<BinaryCrossEntropyBackward>)\n",
      "KLD tensor(746.7675, grad_fn=<MulBackward>)\n",
      "BCE tensor(3176.8428, grad_fn=<BinaryCrossEntropyBackward>)\n",
      "KLD tensor(783.7027, grad_fn=<MulBackward>)\n",
      "BCE tensor(3013.1704, grad_fn=<BinaryCrossEntropyBackward>)\n",
      "KLD tensor(798.3113, grad_fn=<MulBackward>)\n",
      "BCE tensor(2874.8098, grad_fn=<BinaryCrossEntropyBackward>)\n",
      "KLD tensor(760.0025, grad_fn=<MulBackward>)\n",
      "BCE tensor(2940.4238, grad_fn=<BinaryCrossEntropyBackward>)\n",
      "KLD tensor(780.4749, grad_fn=<MulBackward>)\n",
      "BCE tensor(2950.4585, grad_fn=<BinaryCrossEntropyBackward>)\n",
      "KLD tensor(762.9756, grad_fn=<MulBackward>)\n",
      "BCE tensor(2606.1892, grad_fn=<BinaryCrossEntropyBackward>)"
     ]
    },
    {
     "name": "stderr",
     "output_type": "stream",
     "text": [
      "\n",
      "\n",
      "\n",
      "394it [00:08, 44.73it/s]\u001b[A\u001b[A\u001b[A"
     ]
    },
    {
     "name": "stdout",
     "output_type": "stream",
     "text": [
      "\n",
      "KLD tensor(753.4227, grad_fn=<MulBackward>)\n",
      "BCE tensor(3116.0835, grad_fn=<BinaryCrossEntropyBackward>)\n",
      "KLD tensor(792.1440, grad_fn=<MulBackward>)\n",
      "BCE tensor(2784.5239, grad_fn=<BinaryCrossEntropyBackward>)\n",
      "KLD tensor(730.8551, grad_fn=<MulBackward>)\n",
      "BCE tensor(2967.2932, grad_fn=<BinaryCrossEntropyBackward>)\n",
      "KLD tensor(729.6451, grad_fn=<MulBackward>)\n",
      "BCE tensor(2702.0796, grad_fn=<BinaryCrossEntropyBackward>)\n",
      "KLD tensor(750.2073, grad_fn=<MulBackward>)\n",
      "BCE tensor(2939.6160, grad_fn=<BinaryCrossEntropyBackward>)\n",
      "KLD tensor(764.0538, grad_fn=<MulBackward>)\n",
      "BCE tensor(2819.5642, grad_fn=<BinaryCrossEntropyBackward>)\n",
      "KLD tensor(779.6302, grad_fn=<MulBackward>)\n",
      "BCE tensor(2858.2209, grad_fn=<BinaryCrossEntropyBackward>)\n",
      "KLD tensor(703.6168, grad_fn=<MulBackward>)\n",
      "BCE tensor(2954.2717, grad_fn=<BinaryCrossEntropyBackward>)\n",
      "KLD tensor(806.0624, grad_fn=<MulBackward>)\n"
     ]
    },
    {
     "name": "stderr",
     "output_type": "stream",
     "text": [
      "\n",
      "\n",
      "\n",
      "399it [00:08, 44.70it/s]\u001b[A\u001b[A\u001b[A\n",
      "\n",
      "\n",
      "404it [00:09, 44.70it/s]\u001b[A\u001b[A\u001b[A"
     ]
    },
    {
     "name": "stdout",
     "output_type": "stream",
     "text": [
      "BCE tensor(2792.5352, grad_fn=<BinaryCrossEntropyBackward>)\n",
      "KLD tensor(737.7235, grad_fn=<MulBackward>)\n",
      "BCE tensor(2587.4055, grad_fn=<BinaryCrossEntropyBackward>)\n",
      "KLD tensor(744.4240, grad_fn=<MulBackward>)\n",
      "BCE tensor(2916.6865, grad_fn=<BinaryCrossEntropyBackward>)\n",
      "KLD tensor(771.6138, grad_fn=<MulBackward>)\n",
      "BCE tensor(3060.2549, grad_fn=<BinaryCrossEntropyBackward>)\n",
      "KLD tensor(791.6055, grad_fn=<MulBackward>)\n",
      "BCE tensor(2852.6191, grad_fn=<BinaryCrossEntropyBackward>)\n",
      "KLD tensor(799.0170, grad_fn=<MulBackward>)\n",
      "BCE tensor(2911.8669, grad_fn=<BinaryCrossEntropyBackward>)\n",
      "KLD tensor(782.8856, grad_fn=<MulBackward>)\n",
      "BCE tensor(2932.8289, grad_fn=<BinaryCrossEntropyBackward>)\n",
      "KLD tensor(753.9743, grad_fn=<MulBackward>)\n",
      "BCE tensor(2813.2336, grad_fn=<BinaryCrossEntropyBackward>)\n",
      "KLD tensor(736.5309, grad_fn=<MulBackward>)\n",
      "BCE tensor(2917.5322, grad_fn=<BinaryCrossEntropyBackward>)\n",
      "KLD tensor(760.9033, grad_fn=<MulBackward>)\n",
      "BCE tensor(3122.2664, grad_fn=<BinaryCrossEntropyBackward>)\n",
      "KLD tensor(787.4594, grad_fn=<MulBackward>)\n"
     ]
    },
    {
     "name": "stderr",
     "output_type": "stream",
     "text": [
      "\n",
      "\n",
      "\n",
      "409it [00:09, 44.76it/s]\u001b[A\u001b[A\u001b[A\n",
      "\n",
      "\n",
      "414it [00:09, 44.79it/s]\u001b[A\u001b[A\u001b[A"
     ]
    },
    {
     "name": "stdout",
     "output_type": "stream",
     "text": [
      "BCE tensor(3144.1431, grad_fn=<BinaryCrossEntropyBackward>)\n",
      "KLD tensor(758.6686, grad_fn=<MulBackward>)\n",
      "BCE tensor(2856.0400, grad_fn=<BinaryCrossEntropyBackward>)\n",
      "KLD tensor(753.5208, grad_fn=<MulBackward>)\n",
      "BCE tensor(2850.6116, grad_fn=<BinaryCrossEntropyBackward>)\n",
      "KLD tensor(765.1504, grad_fn=<MulBackward>)\n",
      "BCE tensor(2729.3533, grad_fn=<BinaryCrossEntropyBackward>)\n",
      "KLD tensor(776.8287, grad_fn=<MulBackward>)\n",
      "BCE tensor(2781.3384, grad_fn=<BinaryCrossEntropyBackward>)\n",
      "KLD tensor(795.5544, grad_fn=<MulBackward>)\n",
      "BCE tensor(2924.1743, grad_fn=<BinaryCrossEntropyBackward>)\n",
      "KLD tensor(793.0640, grad_fn=<MulBackward>)\n",
      "BCE tensor(3021.9622, grad_fn=<BinaryCrossEntropyBackward>)\n",
      "KLD tensor(833.0136, grad_fn=<MulBackward>)\n",
      "BCE tensor(2969.5959, grad_fn=<BinaryCrossEntropyBackward>)\n",
      "KLD tensor(839.8347, grad_fn=<MulBackward>)\n",
      "BCE tensor(2570.4490, grad_fn=<BinaryCrossEntropyBackward>)\n",
      "KLD tensor(802.6382, grad_fn=<MulBackward>)\n",
      "BCE tensor(2720.6689, grad_fn=<BinaryCrossEntropyBackward>)\n",
      "KLD tensor(784.0873, grad_fn=<MulBackward>)\n"
     ]
    },
    {
     "name": "stderr",
     "output_type": "stream",
     "text": [
      "\n",
      "\n",
      "\n",
      "419it [00:09, 44.82it/s]\u001b[A\u001b[A\u001b[A\n",
      "\n",
      "\n",
      "424it [00:09, 44.87it/s]\u001b[A\u001b[A\u001b[A"
     ]
    },
    {
     "name": "stdout",
     "output_type": "stream",
     "text": [
      "BCE tensor(2809.1279, grad_fn=<BinaryCrossEntropyBackward>)\n",
      "KLD tensor(812.9388, grad_fn=<MulBackward>)\n",
      "BCE tensor(2655.4709, grad_fn=<BinaryCrossEntropyBackward>)\n",
      "KLD tensor(765.1509, grad_fn=<MulBackward>)\n",
      "BCE tensor(2768.6328, grad_fn=<BinaryCrossEntropyBackward>)\n",
      "KLD tensor(801.1066, grad_fn=<MulBackward>)\n",
      "BCE tensor(2931.6052, grad_fn=<BinaryCrossEntropyBackward>)\n",
      "KLD tensor(801.2874, grad_fn=<MulBackward>)\n",
      "BCE tensor(2837.2266, grad_fn=<BinaryCrossEntropyBackward>)\n",
      "KLD tensor(765.2225, grad_fn=<MulBackward>)\n",
      "BCE tensor(2900.4661, grad_fn=<BinaryCrossEntropyBackward>)\n",
      "KLD tensor(779.9470, grad_fn=<MulBackward>)\n",
      "BCE tensor(2830.9941, grad_fn=<BinaryCrossEntropyBackward>)\n",
      "KLD tensor(791.2329, grad_fn=<MulBackward>)\n",
      "BCE tensor(2773.5381, grad_fn=<BinaryCrossEntropyBackward>)\n",
      "KLD tensor(800.8192, grad_fn=<MulBackward>)\n",
      "BCE tensor(2884.7476, grad_fn=<BinaryCrossEntropyBackward>)\n",
      "KLD tensor(773.9474, grad_fn=<MulBackward>)\n",
      "BCE tensor(2963.1228, grad_fn=<BinaryCrossEntropyBackward>)\n",
      "KLD tensor(757.0690, grad_fn=<MulBackward>)\n"
     ]
    },
    {
     "name": "stderr",
     "output_type": "stream",
     "text": [
      "\n",
      "\n",
      "\n",
      "429it [00:09, 44.90it/s]\u001b[A\u001b[A\u001b[A\n",
      "\n",
      "\n",
      "434it [00:09, 44.93it/s]\u001b[A\u001b[A\u001b[A"
     ]
    },
    {
     "name": "stdout",
     "output_type": "stream",
     "text": [
      "BCE tensor(3001.2573, grad_fn=<BinaryCrossEntropyBackward>)\n",
      "KLD tensor(832.5642, grad_fn=<MulBackward>)\n",
      "BCE tensor(3104.2844, grad_fn=<BinaryCrossEntropyBackward>)\n",
      "KLD tensor(753.9899, grad_fn=<MulBackward>)\n",
      "BCE tensor(2781.0845, grad_fn=<BinaryCrossEntropyBackward>)\n",
      "KLD tensor(746.8948, grad_fn=<MulBackward>)\n",
      "BCE tensor(2917.9944, grad_fn=<BinaryCrossEntropyBackward>)\n",
      "KLD tensor(771.9640, grad_fn=<MulBackward>)\n",
      "BCE tensor(2776.5930, grad_fn=<BinaryCrossEntropyBackward>)\n",
      "KLD tensor(771.0557, grad_fn=<MulBackward>)\n",
      "BCE tensor(2896.4717, grad_fn=<BinaryCrossEntropyBackward>)\n",
      "KLD tensor(728.5762, grad_fn=<MulBackward>)\n",
      "BCE tensor(3116.0149, grad_fn=<BinaryCrossEntropyBackward>)\n",
      "KLD tensor(800.9841, grad_fn=<MulBackward>)\n",
      "BCE tensor(2798.3306, grad_fn=<BinaryCrossEntropyBackward>)\n",
      "KLD tensor(804.8954, grad_fn=<MulBackward>)\n",
      "BCE tensor(2477.4028, grad_fn=<BinaryCrossEntropyBackward>)\n",
      "KLD tensor(802.5687, grad_fn=<MulBackward>)\n",
      "BCE tensor(2847.5967, grad_fn=<BinaryCrossEntropyBackward>)\n",
      "KLD tensor(791.4048, grad_fn=<MulBackward>)\n"
     ]
    },
    {
     "name": "stderr",
     "output_type": "stream",
     "text": [
      "\n",
      "\n",
      "\n",
      "439it [00:09, 44.94it/s]\u001b[A\u001b[A\u001b[A\n",
      "\n",
      "\n",
      "\u001b[A\u001b[A\u001b[A"
     ]
    },
    {
     "name": "stdout",
     "output_type": "stream",
     "text": [
      "BCE tensor(2848.8379, grad_fn=<BinaryCrossEntropyBackward>)\n",
      "KLD tensor(827.4611, grad_fn=<MulBackward>)\n",
      "BCE tensor(2617.1614, grad_fn=<BinaryCrossEntropyBackward>)\n",
      "KLD tensor(771.6077, grad_fn=<MulBackward>)\n",
      "BCE tensor(3002.7507, grad_fn=<BinaryCrossEntropyBackward>)\n",
      "KLD tensor(763.3350, grad_fn=<MulBackward>)\n",
      "BCE tensor(2876.3555, grad_fn=<BinaryCrossEntropyBackward>)\n",
      "KLD tensor(769.1252, grad_fn=<MulBackward>)\n"
     ]
    },
    {
     "ename": "KeyboardInterrupt",
     "evalue": "",
     "output_type": "error",
     "traceback": [
      "\u001b[0;31m---------------------------------------------------------------------------\u001b[0m",
      "\u001b[0;31mKeyboardInterrupt\u001b[0m                         Traceback (most recent call last)",
      "\u001b[0;32m<ipython-input-59-03340edc8699>\u001b[0m in \u001b[0;36m<module>\u001b[0;34m()\u001b[0m\n\u001b[1;32m     29\u001b[0m         \u001b[0mwriter\u001b[0m\u001b[0;34m.\u001b[0m\u001b[0madd_scalar\u001b[0m\u001b[0;34m(\u001b[0m\u001b[0;34m'loss'\u001b[0m\u001b[0;34m,\u001b[0m \u001b[0mloss\u001b[0m\u001b[0;34m,\u001b[0m \u001b[0mglobal_step\u001b[0m\u001b[0;34m=\u001b[0m\u001b[0;34m(\u001b[0m\u001b[0mepoch\u001b[0m\u001b[0;34m+\u001b[0m\u001b[0;36m1\u001b[0m\u001b[0;34m)\u001b[0m\u001b[0;34m*\u001b[0m\u001b[0mbatch_idx\u001b[0m\u001b[0;34m)\u001b[0m\u001b[0;34m\u001b[0m\u001b[0m\n\u001b[1;32m     30\u001b[0m \u001b[0;34m\u001b[0m\u001b[0m\n\u001b[0;32m---> 31\u001b[0;31m         \u001b[0mopt\u001b[0m\u001b[0;34m.\u001b[0m\u001b[0mstep\u001b[0m\u001b[0;34m(\u001b[0m\u001b[0;34m)\u001b[0m\u001b[0;34m\u001b[0m\u001b[0m\n\u001b[0m\u001b[1;32m     32\u001b[0m         \u001b[0;32mif\u001b[0m \u001b[0mbatch_idx\u001b[0m \u001b[0;34m%\u001b[0m \u001b[0;36m500\u001b[0m \u001b[0;34m==\u001b[0m \u001b[0;36m0\u001b[0m\u001b[0;34m:\u001b[0m\u001b[0;34m\u001b[0m\u001b[0m\n\u001b[1;32m     33\u001b[0m             \u001b[0;32mimport\u001b[0m \u001b[0mtorchvision\u001b[0m\u001b[0;34m.\u001b[0m\u001b[0mutils\u001b[0m \u001b[0;32mas\u001b[0m \u001b[0mvutils\u001b[0m\u001b[0;34m\u001b[0m\u001b[0m\n",
      "\u001b[0;32m~/anaconda3/lib/python3.6/site-packages/torch/optim/adam.py\u001b[0m in \u001b[0;36mstep\u001b[0;34m(self, closure)\u001b[0m\n\u001b[1;32m    104\u001b[0m                 \u001b[0mstep_size\u001b[0m \u001b[0;34m=\u001b[0m \u001b[0mgroup\u001b[0m\u001b[0;34m[\u001b[0m\u001b[0;34m'lr'\u001b[0m\u001b[0;34m]\u001b[0m \u001b[0;34m*\u001b[0m \u001b[0mmath\u001b[0m\u001b[0;34m.\u001b[0m\u001b[0msqrt\u001b[0m\u001b[0;34m(\u001b[0m\u001b[0mbias_correction2\u001b[0m\u001b[0;34m)\u001b[0m \u001b[0;34m/\u001b[0m \u001b[0mbias_correction1\u001b[0m\u001b[0;34m\u001b[0m\u001b[0m\n\u001b[1;32m    105\u001b[0m \u001b[0;34m\u001b[0m\u001b[0m\n\u001b[0;32m--> 106\u001b[0;31m                 \u001b[0mp\u001b[0m\u001b[0;34m.\u001b[0m\u001b[0mdata\u001b[0m\u001b[0;34m.\u001b[0m\u001b[0maddcdiv_\u001b[0m\u001b[0;34m(\u001b[0m\u001b[0;34m-\u001b[0m\u001b[0mstep_size\u001b[0m\u001b[0;34m,\u001b[0m \u001b[0mexp_avg\u001b[0m\u001b[0;34m,\u001b[0m \u001b[0mdenom\u001b[0m\u001b[0;34m)\u001b[0m\u001b[0;34m\u001b[0m\u001b[0m\n\u001b[0m\u001b[1;32m    107\u001b[0m \u001b[0;34m\u001b[0m\u001b[0m\n\u001b[1;32m    108\u001b[0m         \u001b[0;32mreturn\u001b[0m \u001b[0mloss\u001b[0m\u001b[0;34m\u001b[0m\u001b[0m\n",
      "\u001b[0;31mKeyboardInterrupt\u001b[0m: "
     ]
    }
   ],
   "source": [
    "# fixed_noise = torch.randn([32, 20, 1, 1])\n",
    "fixed_noise = torch.randn([32, 20])\n",
    "device = torch.device(\"cuda:0\" if torch.cuda.is_available() else \"cpu\")\n",
    "opt = optim.Adam(list(Q.parameters()) + list(D.parameters()), lr=1e-3)\n",
    "from tensorboardX import SummaryWriter\n",
    "writer = SummaryWriter(log_dir=\"mnist\")\n",
    "for epoch in range(5):\n",
    "    for batch_idx, X in tqdm(enumerate(mnist_loader)):\n",
    "        X = X[0]\n",
    "        X = X.to(device, dtype=torch.float32)\n",
    "        batch_size = X.shape[0]\n",
    "    \n",
    "#         import ipdb; ipdb.set_trace()\n",
    "        X = X.view(-1, 784)\n",
    "        z_mus, z_sigmas = Q(X)\n",
    "        \n",
    "        z = sample_noise(z_mus, z_sigmas) # Should be 32x100... \n",
    "        \n",
    "        Q.zero_grad()       \n",
    "        Q_loss = KL_divergence_gaussians(z_mus, z_sigmas)\n",
    "\n",
    "        D.zero_grad()\n",
    "#         import ipdb; ipdb.set_trace()\n",
    "        D_loss = F.binary_cross_entropy(D(z), X, reduction='sum')\n",
    "        loss = D_loss + Q_loss\n",
    "        print(\"BCE \" + str(D_loss))\n",
    "        print(\"KLD \" + str(Q_loss))\n",
    "        loss.backward()\n",
    "        writer.add_scalar('loss', loss, global_step=(epoch+1)*batch_idx)\n",
    "\n",
    "        opt.step()\n",
    "        if batch_idx % 500 == 0:\n",
    "            import torchvision.utils as vutils\n",
    "            gen_img = D(fixed_noise).view(-1, 1, 28, 28)\n",
    "            vutils.save_image(gen_img.detach(), F\"images/fake_samples-{epoch}-{batch_idx}.png\", normalize=True)\n",
    "            vutils.save_image(X.view(-1, 1, 28, 28), F\"images/true_samples-{epoch}-{batch_idx}.png\", normalize=True)\n",
    "#             import ipdb; ipdb.set_trace()\n",
    "            vutils.save_image(D(Q(X)[0]).view(-1, 1, 28, 28) , F\"images/recon_samples-{epoch}-{batch_idx}.png\", normalize=True)"
   ]
  },
  {
   "cell_type": "markdown",
   "metadata": {},
   "source": [
    "# Notes\n",
    "- Make sure the BCE loss is \"SUM\" reduction. MSE doesn't train... Just because of weighting?"
   ]
  },
  {
   "cell_type": "code",
   "execution_count": null,
   "metadata": {
    "collapsed": true
   },
   "outputs": [],
   "source": []
  }
 ],
 "metadata": {
  "kernelspec": {
   "display_name": "Python 3",
   "language": "python",
   "name": "python3"
  },
  "language_info": {
   "codemirror_mode": {
    "name": "ipython",
    "version": 3
   },
   "file_extension": ".py",
   "mimetype": "text/x-python",
   "name": "python",
   "nbconvert_exporter": "python",
   "pygments_lexer": "ipython3",
   "version": "3.6.3"
  }
 },
 "nbformat": 4,
 "nbformat_minor": 2
}
